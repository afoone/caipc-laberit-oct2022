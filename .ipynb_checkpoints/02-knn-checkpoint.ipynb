{
 "cells": [
  {
   "cell_type": "code",
   "execution_count": 1,
   "id": "64a7e3f3",
   "metadata": {},
   "outputs": [],
   "source": [
    "import pandas as pd\n",
    "import numpy as np"
   ]
  },
  {
   "cell_type": "code",
   "execution_count": null,
   "id": "3862532d",
   "metadata": {},
   "outputs": [],
   "source": []
  },
  {
   "cell_type": "code",
   "execution_count": 2,
   "id": "ab898908",
   "metadata": {},
   "outputs": [],
   "source": [
    "madrid = pd.read_csv('data/airbnb-madrid.csv')"
   ]
  },
  {
   "cell_type": "code",
   "execution_count": 3,
   "id": "2e4f89d3",
   "metadata": {},
   "outputs": [
    {
     "data": {
      "text/html": [
       "<div>\n",
       "<style scoped>\n",
       "    .dataframe tbody tr th:only-of-type {\n",
       "        vertical-align: middle;\n",
       "    }\n",
       "\n",
       "    .dataframe tbody tr th {\n",
       "        vertical-align: top;\n",
       "    }\n",
       "\n",
       "    .dataframe thead th {\n",
       "        text-align: right;\n",
       "    }\n",
       "</style>\n",
       "<table border=\"1\" class=\"dataframe\">\n",
       "  <thead>\n",
       "    <tr style=\"text-align: right;\">\n",
       "      <th></th>\n",
       "      <th>id</th>\n",
       "      <th>listing_url</th>\n",
       "      <th>scrape_id</th>\n",
       "      <th>last_scraped</th>\n",
       "      <th>source</th>\n",
       "      <th>name</th>\n",
       "      <th>description</th>\n",
       "      <th>neighborhood_overview</th>\n",
       "      <th>picture_url</th>\n",
       "      <th>host_id</th>\n",
       "      <th>...</th>\n",
       "      <th>review_scores_communication</th>\n",
       "      <th>review_scores_location</th>\n",
       "      <th>review_scores_value</th>\n",
       "      <th>license</th>\n",
       "      <th>instant_bookable</th>\n",
       "      <th>calculated_host_listings_count</th>\n",
       "      <th>calculated_host_listings_count_entire_homes</th>\n",
       "      <th>calculated_host_listings_count_private_rooms</th>\n",
       "      <th>calculated_host_listings_count_shared_rooms</th>\n",
       "      <th>reviews_per_month</th>\n",
       "    </tr>\n",
       "  </thead>\n",
       "  <tbody>\n",
       "    <tr>\n",
       "      <th>0</th>\n",
       "      <td>6369</td>\n",
       "      <td>https://www.airbnb.com/rooms/6369</td>\n",
       "      <td>20220911230855</td>\n",
       "      <td>2022-09-12</td>\n",
       "      <td>city scrape</td>\n",
       "      <td>Rooftop terrace room ,  ensuite bathroom</td>\n",
       "      <td>Excellent connection with the AIRPORT and EXHI...</td>\n",
       "      <td>NaN</td>\n",
       "      <td>https://a0.muscache.com/pictures/683224/4cc318...</td>\n",
       "      <td>13660</td>\n",
       "      <td>...</td>\n",
       "      <td>4.85</td>\n",
       "      <td>4.82</td>\n",
       "      <td>4.85</td>\n",
       "      <td>NaN</td>\n",
       "      <td>f</td>\n",
       "      <td>1</td>\n",
       "      <td>0</td>\n",
       "      <td>1</td>\n",
       "      <td>0</td>\n",
       "      <td>0.65</td>\n",
       "    </tr>\n",
       "    <tr>\n",
       "      <th>1</th>\n",
       "      <td>21853</td>\n",
       "      <td>https://www.airbnb.com/rooms/21853</td>\n",
       "      <td>20220911230855</td>\n",
       "      <td>2022-09-12</td>\n",
       "      <td>city scrape</td>\n",
       "      <td>Bright and airy room</td>\n",
       "      <td>We have a quiet and sunny room with a good vie...</td>\n",
       "      <td>We live in a leafy neighbourhood with plenty o...</td>\n",
       "      <td>https://a0.muscache.com/pictures/68483181/87bc...</td>\n",
       "      <td>83531</td>\n",
       "      <td>...</td>\n",
       "      <td>4.82</td>\n",
       "      <td>4.21</td>\n",
       "      <td>4.67</td>\n",
       "      <td>NaN</td>\n",
       "      <td>f</td>\n",
       "      <td>2</td>\n",
       "      <td>0</td>\n",
       "      <td>2</td>\n",
       "      <td>0</td>\n",
       "      <td>0.34</td>\n",
       "    </tr>\n",
       "    <tr>\n",
       "      <th>2</th>\n",
       "      <td>24805</td>\n",
       "      <td>https://www.airbnb.com/rooms/24805</td>\n",
       "      <td>20220911230855</td>\n",
       "      <td>2022-09-12</td>\n",
       "      <td>city scrape</td>\n",
       "      <td>Gran Via Studio Madrid</td>\n",
       "      <td>Studio located 50 meters from Gran Via, next t...</td>\n",
       "      <td>The area is next to the Gran Via, so people li...</td>\n",
       "      <td>https://a0.muscache.com/pictures/miso/Hosting-...</td>\n",
       "      <td>346366726</td>\n",
       "      <td>...</td>\n",
       "      <td>5.00</td>\n",
       "      <td>5.00</td>\n",
       "      <td>4.83</td>\n",
       "      <td>NaN</td>\n",
       "      <td>f</td>\n",
       "      <td>1</td>\n",
       "      <td>1</td>\n",
       "      <td>0</td>\n",
       "      <td>0</td>\n",
       "      <td>0.25</td>\n",
       "    </tr>\n",
       "    <tr>\n",
       "      <th>3</th>\n",
       "      <td>26825</td>\n",
       "      <td>https://www.airbnb.com/rooms/26825</td>\n",
       "      <td>20220911230855</td>\n",
       "      <td>2022-09-12</td>\n",
       "      <td>city scrape</td>\n",
       "      <td>Single Room whith private Bathroom</td>\n",
       "      <td>Nice and cozy roon for one person with a priva...</td>\n",
       "      <td>Es un barrio muy tranquilo, en una zona de Mad...</td>\n",
       "      <td>https://a0.muscache.com/pictures/149358/218d5b...</td>\n",
       "      <td>114340</td>\n",
       "      <td>...</td>\n",
       "      <td>4.73</td>\n",
       "      <td>4.73</td>\n",
       "      <td>4.74</td>\n",
       "      <td>NaN</td>\n",
       "      <td>f</td>\n",
       "      <td>1</td>\n",
       "      <td>0</td>\n",
       "      <td>1</td>\n",
       "      <td>0</td>\n",
       "      <td>1.10</td>\n",
       "    </tr>\n",
       "    <tr>\n",
       "      <th>4</th>\n",
       "      <td>363476</td>\n",
       "      <td>https://www.airbnb.com/rooms/363476</td>\n",
       "      <td>20220911230855</td>\n",
       "      <td>2022-09-12</td>\n",
       "      <td>city scrape</td>\n",
       "      <td>PUERTA DEL SOL-QUIET DOWNTOWN</td>\n",
       "      <td>&lt;b&gt;The space&lt;/b&gt;&lt;br /&gt;We want to welcome this ...</td>\n",
       "      <td>NaN</td>\n",
       "      <td>https://a0.muscache.com/pictures/4264879/ee070...</td>\n",
       "      <td>1836617</td>\n",
       "      <td>...</td>\n",
       "      <td>4.79</td>\n",
       "      <td>4.97</td>\n",
       "      <td>4.52</td>\n",
       "      <td>NaN</td>\n",
       "      <td>f</td>\n",
       "      <td>1</td>\n",
       "      <td>0</td>\n",
       "      <td>1</td>\n",
       "      <td>0</td>\n",
       "      <td>3.74</td>\n",
       "    </tr>\n",
       "  </tbody>\n",
       "</table>\n",
       "<p>5 rows × 75 columns</p>\n",
       "</div>"
      ],
      "text/plain": [
       "       id                          listing_url       scrape_id last_scraped  \\\n",
       "0    6369    https://www.airbnb.com/rooms/6369  20220911230855   2022-09-12   \n",
       "1   21853   https://www.airbnb.com/rooms/21853  20220911230855   2022-09-12   \n",
       "2   24805   https://www.airbnb.com/rooms/24805  20220911230855   2022-09-12   \n",
       "3   26825   https://www.airbnb.com/rooms/26825  20220911230855   2022-09-12   \n",
       "4  363476  https://www.airbnb.com/rooms/363476  20220911230855   2022-09-12   \n",
       "\n",
       "        source                                      name  \\\n",
       "0  city scrape  Rooftop terrace room ,  ensuite bathroom   \n",
       "1  city scrape                      Bright and airy room   \n",
       "2  city scrape                    Gran Via Studio Madrid   \n",
       "3  city scrape        Single Room whith private Bathroom   \n",
       "4  city scrape             PUERTA DEL SOL-QUIET DOWNTOWN   \n",
       "\n",
       "                                         description  \\\n",
       "0  Excellent connection with the AIRPORT and EXHI...   \n",
       "1  We have a quiet and sunny room with a good vie...   \n",
       "2  Studio located 50 meters from Gran Via, next t...   \n",
       "3  Nice and cozy roon for one person with a priva...   \n",
       "4  <b>The space</b><br />We want to welcome this ...   \n",
       "\n",
       "                               neighborhood_overview  \\\n",
       "0                                                NaN   \n",
       "1  We live in a leafy neighbourhood with plenty o...   \n",
       "2  The area is next to the Gran Via, so people li...   \n",
       "3  Es un barrio muy tranquilo, en una zona de Mad...   \n",
       "4                                                NaN   \n",
       "\n",
       "                                         picture_url    host_id  ...  \\\n",
       "0  https://a0.muscache.com/pictures/683224/4cc318...      13660  ...   \n",
       "1  https://a0.muscache.com/pictures/68483181/87bc...      83531  ...   \n",
       "2  https://a0.muscache.com/pictures/miso/Hosting-...  346366726  ...   \n",
       "3  https://a0.muscache.com/pictures/149358/218d5b...     114340  ...   \n",
       "4  https://a0.muscache.com/pictures/4264879/ee070...    1836617  ...   \n",
       "\n",
       "  review_scores_communication review_scores_location review_scores_value  \\\n",
       "0                        4.85                   4.82                4.85   \n",
       "1                        4.82                   4.21                4.67   \n",
       "2                        5.00                   5.00                4.83   \n",
       "3                        4.73                   4.73                4.74   \n",
       "4                        4.79                   4.97                4.52   \n",
       "\n",
       "  license instant_bookable calculated_host_listings_count  \\\n",
       "0     NaN                f                              1   \n",
       "1     NaN                f                              2   \n",
       "2     NaN                f                              1   \n",
       "3     NaN                f                              1   \n",
       "4     NaN                f                              1   \n",
       "\n",
       "  calculated_host_listings_count_entire_homes  \\\n",
       "0                                           0   \n",
       "1                                           0   \n",
       "2                                           1   \n",
       "3                                           0   \n",
       "4                                           0   \n",
       "\n",
       "  calculated_host_listings_count_private_rooms  \\\n",
       "0                                            1   \n",
       "1                                            2   \n",
       "2                                            0   \n",
       "3                                            1   \n",
       "4                                            1   \n",
       "\n",
       "  calculated_host_listings_count_shared_rooms reviews_per_month  \n",
       "0                                           0              0.65  \n",
       "1                                           0              0.34  \n",
       "2                                           0              0.25  \n",
       "3                                           0              1.10  \n",
       "4                                           0              3.74  \n",
       "\n",
       "[5 rows x 75 columns]"
      ]
     },
     "execution_count": 3,
     "metadata": {},
     "output_type": "execute_result"
    }
   ],
   "source": [
    "madrid.head()"
   ]
  },
  {
   "cell_type": "code",
   "execution_count": 4,
   "id": "9dd0bd0c",
   "metadata": {},
   "outputs": [
    {
     "data": {
      "text/plain": [
       "(20681, 75)"
      ]
     },
     "execution_count": 4,
     "metadata": {},
     "output_type": "execute_result"
    }
   ],
   "source": [
    "madrid.shape"
   ]
  },
  {
   "cell_type": "code",
   "execution_count": 5,
   "id": "76ef4a31",
   "metadata": {},
   "outputs": [
    {
     "data": {
      "text/plain": [
       "Index(['id', 'listing_url', 'scrape_id', 'last_scraped', 'source', 'name',\n",
       "       'description', 'neighborhood_overview', 'picture_url', 'host_id',\n",
       "       'host_url', 'host_name', 'host_since', 'host_location', 'host_about',\n",
       "       'host_response_time', 'host_response_rate', 'host_acceptance_rate',\n",
       "       'host_is_superhost', 'host_thumbnail_url', 'host_picture_url',\n",
       "       'host_neighbourhood', 'host_listings_count',\n",
       "       'host_total_listings_count', 'host_verifications',\n",
       "       'host_has_profile_pic', 'host_identity_verified', 'neighbourhood',\n",
       "       'neighbourhood_cleansed', 'neighbourhood_group_cleansed', 'latitude',\n",
       "       'longitude', 'property_type', 'room_type', 'accommodates', 'bathrooms',\n",
       "       'bathrooms_text', 'bedrooms', 'beds', 'amenities', 'price',\n",
       "       'minimum_nights', 'maximum_nights', 'minimum_minimum_nights',\n",
       "       'maximum_minimum_nights', 'minimum_maximum_nights',\n",
       "       'maximum_maximum_nights', 'minimum_nights_avg_ntm',\n",
       "       'maximum_nights_avg_ntm', 'calendar_updated', 'has_availability',\n",
       "       'availability_30', 'availability_60', 'availability_90',\n",
       "       'availability_365', 'calendar_last_scraped', 'number_of_reviews',\n",
       "       'number_of_reviews_ltm', 'number_of_reviews_l30d', 'first_review',\n",
       "       'last_review', 'review_scores_rating', 'review_scores_accuracy',\n",
       "       'review_scores_cleanliness', 'review_scores_checkin',\n",
       "       'review_scores_communication', 'review_scores_location',\n",
       "       'review_scores_value', 'license', 'instant_bookable',\n",
       "       'calculated_host_listings_count',\n",
       "       'calculated_host_listings_count_entire_homes',\n",
       "       'calculated_host_listings_count_private_rooms',\n",
       "       'calculated_host_listings_count_shared_rooms', 'reviews_per_month'],\n",
       "      dtype='object')"
      ]
     },
     "execution_count": 5,
     "metadata": {},
     "output_type": "execute_result"
    }
   ],
   "source": [
    "madrid.columns"
   ]
  },
  {
   "cell_type": "code",
   "execution_count": 6,
   "id": "006a5adf",
   "metadata": {},
   "outputs": [
    {
     "data": {
      "text/plain": [
       "0         $77.00\n",
       "1         $31.00\n",
       "2         $92.00\n",
       "3         $26.00\n",
       "4         $49.00\n",
       "          ...   \n",
       "20676     $85.00\n",
       "20677     $75.00\n",
       "20678     $50.00\n",
       "20679    $165.00\n",
       "20680    $109.00\n",
       "Name: price, Length: 20681, dtype: object"
      ]
     },
     "execution_count": 6,
     "metadata": {},
     "output_type": "execute_result"
    }
   ],
   "source": [
    "madrid['price']"
   ]
  },
  {
   "cell_type": "code",
   "execution_count": 7,
   "id": "6b1c9145",
   "metadata": {},
   "outputs": [
    {
     "data": {
      "text/plain": [
       "0        [\"Coffee maker\", \"Dishwasher\", \"Cleaning produ...\n",
       "1        [\"Wifi\", \"Coffee maker\", \"Bed linens\", \"Washer...\n",
       "2        [\"Wifi\", \"Coffee maker\", \"Washer\", \"Cleaning b...\n",
       "3        [\"Wifi\", \"Hot water\", \"Long term stays allowed...\n",
       "4        [\"Portable air conditioning\", \"Wifi\", \"Hot wat...\n",
       "                               ...                        \n",
       "20676    [\"Wifi\", \"Coffee maker\", \"Dishwasher\", \"Cleani...\n",
       "20677    [\"Wifi\", \"Coffee maker\", \"Bed linens\", \"Washer...\n",
       "20678    [\"Wifi\", \"Long term stays allowed\", \"Elevator\"...\n",
       "20679    [\"Free parking garage on premises \\u2013 1 spa...\n",
       "20680    [\"Wifi\", \"Long term stays allowed\", \"Security ...\n",
       "Name: amenities, Length: 20681, dtype: object"
      ]
     },
     "execution_count": 7,
     "metadata": {},
     "output_type": "execute_result"
    }
   ],
   "source": [
    "madrid['amenities']"
   ]
  },
  {
   "cell_type": "code",
   "execution_count": 8,
   "id": "5cc7fd60",
   "metadata": {},
   "outputs": [
    {
     "data": {
      "text/plain": [
       "0        2\n",
       "1        1\n",
       "2        3\n",
       "3        1\n",
       "4        2\n",
       "        ..\n",
       "20676    5\n",
       "20677    6\n",
       "20678    1\n",
       "20679    4\n",
       "20680    4\n",
       "Name: accommodates, Length: 20681, dtype: int64"
      ]
     },
     "execution_count": 8,
     "metadata": {},
     "output_type": "execute_result"
    }
   ],
   "source": [
    "madrid['accommodates']"
   ]
  },
  {
   "cell_type": "code",
   "execution_count": 9,
   "id": "6f388248",
   "metadata": {},
   "outputs": [
    {
     "data": {
      "text/plain": [
       "id                                                                           6369\n",
       "listing_url                                     https://www.airbnb.com/rooms/6369\n",
       "scrape_id                                                          20220911230855\n",
       "last_scraped                                                           2022-09-12\n",
       "source                                                                city scrape\n",
       "                                                              ...                \n",
       "calculated_host_listings_count                                                  1\n",
       "calculated_host_listings_count_entire_homes                                     0\n",
       "calculated_host_listings_count_private_rooms                                    1\n",
       "calculated_host_listings_count_shared_rooms                                     0\n",
       "reviews_per_month                                                            0.65\n",
       "Name: 0, Length: 75, dtype: object"
      ]
     },
     "execution_count": 9,
     "metadata": {},
     "output_type": "execute_result"
    }
   ],
   "source": [
    "madrid.iloc[0]"
   ]
  },
  {
   "cell_type": "markdown",
   "id": "ef100f04",
   "metadata": {},
   "source": [
    "## Objetivo\n",
    "\n",
    "Calcular el precio que debería tener nuestro apartamento en Madrid: Plaza Castilla, 2 habitaciones, 4 personas\n",
    "KNN:\n",
    "- Encontrar alojamientos similares \n",
    "  - Primero lo haremos por el número de inquilinos\n",
    "- Cogeremos los k primeros de la lista, ordenada por similitud\n",
    "- Calcularemos la media de los k primeros"
   ]
  },
  {
   "cell_type": "markdown",
   "id": "23caa227",
   "metadata": {},
   "source": [
    "Para saber si son similares - lo hacemos por la distancia euclidea"
   ]
  },
  {
   "cell_type": "code",
   "execution_count": 10,
   "id": "a4a80237",
   "metadata": {},
   "outputs": [],
   "source": [
    "nuestra_capacidad = 4\n",
    "first_element = madrid.iloc[0]\n",
    "distancia_con_el_primer_elemento = np.abs(nuestra_capacidad- first_element['accommodates'])"
   ]
  },
  {
   "cell_type": "code",
   "execution_count": 11,
   "id": "4ae81957",
   "metadata": {},
   "outputs": [
    {
     "data": {
      "text/plain": [
       "2"
      ]
     },
     "execution_count": 11,
     "metadata": {},
     "output_type": "execute_result"
    }
   ],
   "source": [
    "distancia_con_el_primer_elemento"
   ]
  },
  {
   "cell_type": "code",
   "execution_count": 12,
   "id": "77409f73",
   "metadata": {},
   "outputs": [
    {
     "data": {
      "text/plain": [
       "2"
      ]
     },
     "execution_count": 12,
     "metadata": {},
     "output_type": "execute_result"
    }
   ],
   "source": [
    "first_element['accommodates']"
   ]
  },
  {
   "cell_type": "code",
   "execution_count": 13,
   "id": "1194a53a",
   "metadata": {},
   "outputs": [],
   "source": [
    "todas_las_distancias = madrid['accommodates'].apply(\n",
    "    lambda x: np.abs(nuestra_capacidad - x)\n",
    ")"
   ]
  },
  {
   "cell_type": "code",
   "execution_count": 14,
   "id": "d11129ae",
   "metadata": {},
   "outputs": [
    {
     "data": {
      "text/plain": [
       "0        2\n",
       "1        3\n",
       "2        1\n",
       "3        3\n",
       "4        2\n",
       "        ..\n",
       "20676    1\n",
       "20677    2\n",
       "20678    3\n",
       "20679    0\n",
       "20680    0\n",
       "Name: accommodates, Length: 20681, dtype: int64"
      ]
     },
     "execution_count": 14,
     "metadata": {},
     "output_type": "execute_result"
    }
   ],
   "source": [
    "todas_las_distancias"
   ]
  },
  {
   "cell_type": "code",
   "execution_count": 15,
   "id": "6f573b3d",
   "metadata": {},
   "outputs": [],
   "source": [
    "madrid['distancia'] = todas_las_distancias"
   ]
  },
  {
   "cell_type": "code",
   "execution_count": 16,
   "id": "64d34e4c",
   "metadata": {},
   "outputs": [
    {
     "data": {
      "text/html": [
       "<div>\n",
       "<style scoped>\n",
       "    .dataframe tbody tr th:only-of-type {\n",
       "        vertical-align: middle;\n",
       "    }\n",
       "\n",
       "    .dataframe tbody tr th {\n",
       "        vertical-align: top;\n",
       "    }\n",
       "\n",
       "    .dataframe thead th {\n",
       "        text-align: right;\n",
       "    }\n",
       "</style>\n",
       "<table border=\"1\" class=\"dataframe\">\n",
       "  <thead>\n",
       "    <tr style=\"text-align: right;\">\n",
       "      <th></th>\n",
       "      <th>description</th>\n",
       "      <th>distancia</th>\n",
       "    </tr>\n",
       "  </thead>\n",
       "  <tbody>\n",
       "    <tr>\n",
       "      <th>0</th>\n",
       "      <td>Excellent connection with the AIRPORT and EXHI...</td>\n",
       "      <td>2</td>\n",
       "    </tr>\n",
       "    <tr>\n",
       "      <th>1</th>\n",
       "      <td>We have a quiet and sunny room with a good vie...</td>\n",
       "      <td>3</td>\n",
       "    </tr>\n",
       "    <tr>\n",
       "      <th>2</th>\n",
       "      <td>Studio located 50 meters from Gran Via, next t...</td>\n",
       "      <td>1</td>\n",
       "    </tr>\n",
       "    <tr>\n",
       "      <th>3</th>\n",
       "      <td>Nice and cozy roon for one person with a priva...</td>\n",
       "      <td>3</td>\n",
       "    </tr>\n",
       "    <tr>\n",
       "      <th>4</th>\n",
       "      <td>&lt;b&gt;The space&lt;/b&gt;&lt;br /&gt;We want to welcome this ...</td>\n",
       "      <td>2</td>\n",
       "    </tr>\n",
       "    <tr>\n",
       "      <th>...</th>\n",
       "      <td>...</td>\n",
       "      <td>...</td>\n",
       "    </tr>\n",
       "    <tr>\n",
       "      <th>20676</th>\n",
       "      <td>Disfruta de la sencillez de este alojamiento t...</td>\n",
       "      <td>1</td>\n",
       "    </tr>\n",
       "    <tr>\n",
       "      <th>20677</th>\n",
       "      <td>Espectacular piso compartido decoracion modern...</td>\n",
       "      <td>2</td>\n",
       "    </tr>\n",
       "    <tr>\n",
       "      <th>20678</th>\n",
       "      <td>The house is located in the center of Getafe ,...</td>\n",
       "      <td>3</td>\n",
       "    </tr>\n",
       "    <tr>\n",
       "      <th>20679</th>\n",
       "      <td>Precioso Duplex de 2 habitaciones listo para r...</td>\n",
       "      <td>0</td>\n",
       "    </tr>\n",
       "    <tr>\n",
       "      <th>20680</th>\n",
       "      <td>Relájate y desconecta en este alojamiento tran...</td>\n",
       "      <td>0</td>\n",
       "    </tr>\n",
       "  </tbody>\n",
       "</table>\n",
       "<p>20681 rows × 2 columns</p>\n",
       "</div>"
      ],
      "text/plain": [
       "                                             description  distancia\n",
       "0      Excellent connection with the AIRPORT and EXHI...          2\n",
       "1      We have a quiet and sunny room with a good vie...          3\n",
       "2      Studio located 50 meters from Gran Via, next t...          1\n",
       "3      Nice and cozy roon for one person with a priva...          3\n",
       "4      <b>The space</b><br />We want to welcome this ...          2\n",
       "...                                                  ...        ...\n",
       "20676  Disfruta de la sencillez de este alojamiento t...          1\n",
       "20677  Espectacular piso compartido decoracion modern...          2\n",
       "20678  The house is located in the center of Getafe ,...          3\n",
       "20679  Precioso Duplex de 2 habitaciones listo para r...          0\n",
       "20680  Relájate y desconecta en este alojamiento tran...          0\n",
       "\n",
       "[20681 rows x 2 columns]"
      ]
     },
     "execution_count": 16,
     "metadata": {},
     "output_type": "execute_result"
    }
   ],
   "source": [
    "madrid[['description', 'distancia']]"
   ]
  },
  {
   "cell_type": "code",
   "execution_count": 17,
   "id": "743a97ee",
   "metadata": {},
   "outputs": [
    {
     "data": {
      "text/plain": [
       "2     8872\n",
       "0     4631\n",
       "3     3631\n",
       "1     2876\n",
       "4      372\n",
       "6      117\n",
       "5       57\n",
       "8       41\n",
       "12      30\n",
       "7       21\n",
       "10      14\n",
       "9       11\n",
       "11       8\n",
       "Name: distancia, dtype: int64"
      ]
     },
     "execution_count": 17,
     "metadata": {},
     "output_type": "execute_result"
    }
   ],
   "source": [
    "madrid['distancia'].value_counts()"
   ]
  },
  {
   "cell_type": "code",
   "execution_count": 18,
   "id": "4ea73242",
   "metadata": {},
   "outputs": [],
   "source": [
    "import matplotlib as plt"
   ]
  },
  {
   "cell_type": "code",
   "execution_count": 19,
   "id": "0e39a70e",
   "metadata": {},
   "outputs": [
    {
     "data": {
      "text/plain": [
       "<AxesSubplot: ylabel='Frequency'>"
      ]
     },
     "execution_count": 19,
     "metadata": {},
     "output_type": "execute_result"
    },
    {
     "data": {
      "image/png": "[encoded data removed]",
      "text/plain": [
       "<Figure size 640x480 with 1 Axes>"
      ]
     },
     "metadata": {},
     "output_type": "display_data"
    }
   ],
   "source": [
    "madrid['accommodates'].plot(kind='hist', bins=20)"
   ]
  },
  {
   "cell_type": "code",
   "execution_count": 20,
   "id": "97dcd527",
   "metadata": {},
   "outputs": [
    {
     "data": {
      "text/html": [
       "<div>\n",
       "<style scoped>\n",
       "    .dataframe tbody tr th:only-of-type {\n",
       "        vertical-align: middle;\n",
       "    }\n",
       "\n",
       "    .dataframe tbody tr th {\n",
       "        vertical-align: top;\n",
       "    }\n",
       "\n",
       "    .dataframe thead th {\n",
       "        text-align: right;\n",
       "    }\n",
       "</style>\n",
       "<table border=\"1\" class=\"dataframe\">\n",
       "  <thead>\n",
       "    <tr style=\"text-align: right;\">\n",
       "      <th></th>\n",
       "      <th>description</th>\n",
       "      <th>accommodates</th>\n",
       "      <th>distancia</th>\n",
       "      <th>price</th>\n",
       "    </tr>\n",
       "  </thead>\n",
       "  <tbody>\n",
       "    <tr>\n",
       "      <th>20680</th>\n",
       "      <td>Relájate y desconecta en este alojamiento tran...</td>\n",
       "      <td>4</td>\n",
       "      <td>0</td>\n",
       "      <td>$109.00</td>\n",
       "    </tr>\n",
       "    <tr>\n",
       "      <th>4889</th>\n",
       "      <td>Brand new apartment with good lighting and all...</td>\n",
       "      <td>4</td>\n",
       "      <td>0</td>\n",
       "      <td>$99.00</td>\n",
       "    </tr>\n",
       "    <tr>\n",
       "      <th>4887</th>\n",
       "      <td>Located in one of the most emblematic areas of...</td>\n",
       "      <td>4</td>\n",
       "      <td>0</td>\n",
       "      <td>$91.00</td>\n",
       "    </tr>\n",
       "    <tr>\n",
       "      <th>4885</th>\n",
       "      <td>PARA QUE SEA EFECTIVA LA RESERVA TIENE QUE SER...</td>\n",
       "      <td>4</td>\n",
       "      <td>0</td>\n",
       "      <td>$136.00</td>\n",
       "    </tr>\n",
       "    <tr>\n",
       "      <th>16691</th>\n",
       "      <td>Elegant 2 bedroom apartment with two bathrooms...</td>\n",
       "      <td>4</td>\n",
       "      <td>0</td>\n",
       "      <td>$109.00</td>\n",
       "    </tr>\n",
       "  </tbody>\n",
       "</table>\n",
       "</div>"
      ],
      "text/plain": [
       "                                             description  accommodates  \\\n",
       "20680  Relájate y desconecta en este alojamiento tran...             4   \n",
       "4889   Brand new apartment with good lighting and all...             4   \n",
       "4887   Located in one of the most emblematic areas of...             4   \n",
       "4885   PARA QUE SEA EFECTIVA LA RESERVA TIENE QUE SER...             4   \n",
       "16691  Elegant 2 bedroom apartment with two bathrooms...             4   \n",
       "\n",
       "       distancia    price  \n",
       "20680          0  $109.00  \n",
       "4889           0   $99.00  \n",
       "4887           0   $91.00  \n",
       "4885           0  $136.00  \n",
       "16691          0  $109.00  "
      ]
     },
     "execution_count": 20,
     "metadata": {},
     "output_type": "execute_result"
    }
   ],
   "source": [
    "madrid[['description', 'accommodates', 'distancia', 'price']].sort_values('distancia').head()"
   ]
  },
  {
   "cell_type": "code",
   "execution_count": 21,
   "id": "c9294cd7",
   "metadata": {},
   "outputs": [
    {
     "data": {
      "text/html": [
       "<div>\n",
       "<style scoped>\n",
       "    .dataframe tbody tr th:only-of-type {\n",
       "        vertical-align: middle;\n",
       "    }\n",
       "\n",
       "    .dataframe tbody tr th {\n",
       "        vertical-align: top;\n",
       "    }\n",
       "\n",
       "    .dataframe thead th {\n",
       "        text-align: right;\n",
       "    }\n",
       "</style>\n",
       "<table border=\"1\" class=\"dataframe\">\n",
       "  <thead>\n",
       "    <tr style=\"text-align: right;\">\n",
       "      <th></th>\n",
       "      <th>description</th>\n",
       "      <th>accommodates</th>\n",
       "      <th>distancia</th>\n",
       "      <th>price</th>\n",
       "    </tr>\n",
       "  </thead>\n",
       "  <tbody>\n",
       "    <tr>\n",
       "      <th>20680</th>\n",
       "      <td>Relájate y desconecta en este alojamiento tran...</td>\n",
       "      <td>4</td>\n",
       "      <td>0</td>\n",
       "      <td>$109.00</td>\n",
       "    </tr>\n",
       "    <tr>\n",
       "      <th>4889</th>\n",
       "      <td>Brand new apartment with good lighting and all...</td>\n",
       "      <td>4</td>\n",
       "      <td>0</td>\n",
       "      <td>$99.00</td>\n",
       "    </tr>\n",
       "    <tr>\n",
       "      <th>4887</th>\n",
       "      <td>Located in one of the most emblematic areas of...</td>\n",
       "      <td>4</td>\n",
       "      <td>0</td>\n",
       "      <td>$91.00</td>\n",
       "    </tr>\n",
       "    <tr>\n",
       "      <th>4885</th>\n",
       "      <td>PARA QUE SEA EFECTIVA LA RESERVA TIENE QUE SER...</td>\n",
       "      <td>4</td>\n",
       "      <td>0</td>\n",
       "      <td>$136.00</td>\n",
       "    </tr>\n",
       "    <tr>\n",
       "      <th>16691</th>\n",
       "      <td>Elegant 2 bedroom apartment with two bathrooms...</td>\n",
       "      <td>4</td>\n",
       "      <td>0</td>\n",
       "      <td>$109.00</td>\n",
       "    </tr>\n",
       "  </tbody>\n",
       "</table>\n",
       "</div>"
      ],
      "text/plain": [
       "                                             description  accommodates  \\\n",
       "20680  Relájate y desconecta en este alojamiento tran...             4   \n",
       "4889   Brand new apartment with good lighting and all...             4   \n",
       "4887   Located in one of the most emblematic areas of...             4   \n",
       "4885   PARA QUE SEA EFECTIVA LA RESERVA TIENE QUE SER...             4   \n",
       "16691  Elegant 2 bedroom apartment with two bathrooms...             4   \n",
       "\n",
       "       distancia    price  \n",
       "20680          0  $109.00  \n",
       "4889           0   $99.00  \n",
       "4887           0   $91.00  \n",
       "4885           0  $136.00  \n",
       "16691          0  $109.00  "
      ]
     },
     "execution_count": 21,
     "metadata": {},
     "output_type": "execute_result"
    }
   ],
   "source": [
    "madrid[['description', 'accommodates', 'distancia', 'price']].sort_values('distancia').head()"
   ]
  },
  {
   "cell_type": "markdown",
   "id": "eab0b005",
   "metadata": {},
   "source": [
    "Hemos introducido un sesgo porque el orden con el que venían podía no ser aleatorio\n",
    "Tenemos que barajar\n",
    "\n",
    "Esto se hace con `np.random.permutation`"
   ]
  },
  {
   "cell_type": "code",
   "execution_count": 22,
   "id": "3b7bbe70",
   "metadata": {},
   "outputs": [
    {
     "data": {
      "text/plain": [
       "array([0, 2, 1, 3])"
      ]
     },
     "execution_count": 22,
     "metadata": {},
     "output_type": "execute_result"
    }
   ],
   "source": [
    "np.random.permutation(4)"
   ]
  },
  {
   "cell_type": "code",
   "execution_count": 23,
   "id": "feb4f329",
   "metadata": {},
   "outputs": [
    {
     "data": {
      "text/plain": [
       "array([ 2, 14, 17, 18, 37, 30, 33, 11, 23, 22, 24, 32, 15,  8, 38,  6,  3,\n",
       "       21, 27, 29,  1,  4,  7, 13, 34, 16, 43, 25, 26, 40, 35, 31, 10, 20,\n",
       "        9, 12, 39, 28,  5, 44, 36, 42,  0, 41, 19])"
      ]
     },
     "execution_count": 23,
     "metadata": {},
     "output_type": "execute_result"
    }
   ],
   "source": [
    "np.random.permutation(45)"
   ]
  },
  {
   "cell_type": "code",
   "execution_count": 24,
   "id": "2ea94c4e",
   "metadata": {},
   "outputs": [
    {
     "data": {
      "text/plain": [
       "20681"
      ]
     },
     "execution_count": 24,
     "metadata": {},
     "output_type": "execute_result"
    }
   ],
   "source": [
    "len(madrid)"
   ]
  },
  {
   "cell_type": "code",
   "execution_count": 25,
   "id": "40b1cd8e",
   "metadata": {},
   "outputs": [
    {
     "data": {
      "text/plain": [
       "(20681, 76)"
      ]
     },
     "execution_count": 25,
     "metadata": {},
     "output_type": "execute_result"
    }
   ],
   "source": [
    "madrid.shape"
   ]
  },
  {
   "cell_type": "code",
   "execution_count": 26,
   "id": "5d465595",
   "metadata": {},
   "outputs": [
    {
     "data": {
      "text/plain": [
       "20681"
      ]
     },
     "execution_count": 26,
     "metadata": {},
     "output_type": "execute_result"
    }
   ],
   "source": [
    "madrid.shape[0]"
   ]
  },
  {
   "cell_type": "code",
   "execution_count": 27,
   "id": "5ed197ee",
   "metadata": {},
   "outputs": [],
   "source": [
    "np.random.seed(788)"
   ]
  },
  {
   "cell_type": "code",
   "execution_count": 28,
   "id": "67a5ead7",
   "metadata": {},
   "outputs": [],
   "source": [
    "madrid = madrid.iloc[\n",
    "    np.random.permutation(\n",
    "        len(madrid)\n",
    "    )\n",
    "]"
   ]
  },
  {
   "cell_type": "code",
   "execution_count": 29,
   "id": "c8b1c86a",
   "metadata": {},
   "outputs": [
    {
     "data": {
      "text/html": [
       "<div>\n",
       "<style scoped>\n",
       "    .dataframe tbody tr th:only-of-type {\n",
       "        vertical-align: middle;\n",
       "    }\n",
       "\n",
       "    .dataframe tbody tr th {\n",
       "        vertical-align: top;\n",
       "    }\n",
       "\n",
       "    .dataframe thead th {\n",
       "        text-align: right;\n",
       "    }\n",
       "</style>\n",
       "<table border=\"1\" class=\"dataframe\">\n",
       "  <thead>\n",
       "    <tr style=\"text-align: right;\">\n",
       "      <th></th>\n",
       "      <th>id</th>\n",
       "      <th>listing_url</th>\n",
       "      <th>scrape_id</th>\n",
       "      <th>last_scraped</th>\n",
       "      <th>source</th>\n",
       "      <th>name</th>\n",
       "      <th>description</th>\n",
       "      <th>neighborhood_overview</th>\n",
       "      <th>picture_url</th>\n",
       "      <th>host_id</th>\n",
       "      <th>...</th>\n",
       "      <th>review_scores_location</th>\n",
       "      <th>review_scores_value</th>\n",
       "      <th>license</th>\n",
       "      <th>instant_bookable</th>\n",
       "      <th>calculated_host_listings_count</th>\n",
       "      <th>calculated_host_listings_count_entire_homes</th>\n",
       "      <th>calculated_host_listings_count_private_rooms</th>\n",
       "      <th>calculated_host_listings_count_shared_rooms</th>\n",
       "      <th>reviews_per_month</th>\n",
       "      <th>distancia</th>\n",
       "    </tr>\n",
       "  </thead>\n",
       "  <tbody>\n",
       "    <tr>\n",
       "      <th>7455</th>\n",
       "      <td>31659379</td>\n",
       "      <td>https://www.airbnb.com/rooms/31659379</td>\n",
       "      <td>20220911230855</td>\n",
       "      <td>2022-09-12</td>\n",
       "      <td>city scrape</td>\n",
       "      <td>Atocha Suite - Madflats Collection</td>\n",
       "      <td>The apartment in Madrid has 1 bedrooms and has...</td>\n",
       "      <td>NaN</td>\n",
       "      <td>https://a0.muscache.com/pictures/cb484f8b-e1be...</td>\n",
       "      <td>112373304</td>\n",
       "      <td>...</td>\n",
       "      <td>5.00</td>\n",
       "      <td>5.00</td>\n",
       "      <td>NaN</td>\n",
       "      <td>t</td>\n",
       "      <td>61</td>\n",
       "      <td>61</td>\n",
       "      <td>0</td>\n",
       "      <td>0</td>\n",
       "      <td>0.19</td>\n",
       "      <td>0</td>\n",
       "    </tr>\n",
       "    <tr>\n",
       "      <th>6650</th>\n",
       "      <td>28483456</td>\n",
       "      <td>https://www.airbnb.com/rooms/28483456</td>\n",
       "      <td>20220911230855</td>\n",
       "      <td>2022-09-12</td>\n",
       "      <td>city scrape</td>\n",
       "      <td>Attic near Retiro Park</td>\n",
       "      <td>Nice attic apartment with great views of south...</td>\n",
       "      <td>NaN</td>\n",
       "      <td>https://a0.muscache.com/pictures/17e68e99-4f01...</td>\n",
       "      <td>215001670</td>\n",
       "      <td>...</td>\n",
       "      <td>4.92</td>\n",
       "      <td>4.83</td>\n",
       "      <td>VT-6223</td>\n",
       "      <td>f</td>\n",
       "      <td>1</td>\n",
       "      <td>1</td>\n",
       "      <td>0</td>\n",
       "      <td>0</td>\n",
       "      <td>0.50</td>\n",
       "      <td>0</td>\n",
       "    </tr>\n",
       "    <tr>\n",
       "      <th>19312</th>\n",
       "      <td>680205447932328530</td>\n",
       "      <td>https://www.airbnb.com/rooms/680205447932328530</td>\n",
       "      <td>20220911230855</td>\n",
       "      <td>2022-09-12</td>\n",
       "      <td>city scrape</td>\n",
       "      <td>Bright and Modern - 2Bedrooms 1Bathroom - Cham...</td>\n",
       "      <td>Bright apartment located in the center of Madr...</td>\n",
       "      <td>Chamberi is the Madrid neighborhood where ever...</td>\n",
       "      <td>https://a0.muscache.com/pictures/miso/Hosting-...</td>\n",
       "      <td>471814528</td>\n",
       "      <td>...</td>\n",
       "      <td>5.00</td>\n",
       "      <td>5.00</td>\n",
       "      <td>NaN</td>\n",
       "      <td>f</td>\n",
       "      <td>1</td>\n",
       "      <td>1</td>\n",
       "      <td>0</td>\n",
       "      <td>0</td>\n",
       "      <td>1.00</td>\n",
       "      <td>0</td>\n",
       "    </tr>\n",
       "    <tr>\n",
       "      <th>9617</th>\n",
       "      <td>37253602</td>\n",
       "      <td>https://www.airbnb.com/rooms/37253602</td>\n",
       "      <td>20220911230855</td>\n",
       "      <td>2022-09-12</td>\n",
       "      <td>previous scrape</td>\n",
       "      <td>beautiful double room with wifi and terrace</td>\n",
       "      <td>The flat is composed of a beautiful bedroom, o...</td>\n",
       "      <td>The neighborhood is quiet and the flat is righ...</td>\n",
       "      <td>https://a0.muscache.com/pictures/ade39840-7626...</td>\n",
       "      <td>280466577</td>\n",
       "      <td>...</td>\n",
       "      <td>NaN</td>\n",
       "      <td>NaN</td>\n",
       "      <td>NaN</td>\n",
       "      <td>t</td>\n",
       "      <td>1</td>\n",
       "      <td>0</td>\n",
       "      <td>1</td>\n",
       "      <td>0</td>\n",
       "      <td>NaN</td>\n",
       "      <td>2</td>\n",
       "    </tr>\n",
       "    <tr>\n",
       "      <th>19427</th>\n",
       "      <td>681752189550335194</td>\n",
       "      <td>https://www.airbnb.com/rooms/681752189550335194</td>\n",
       "      <td>20220911230855</td>\n",
       "      <td>2022-09-12</td>\n",
       "      <td>city scrape</td>\n",
       "      <td>Apartamento en Carabanchel, Madrid.</td>\n",
       "      <td>Ideal y luminoso apartamento con 2 habitacione...</td>\n",
       "      <td>NaN</td>\n",
       "      <td>https://a0.muscache.com/pictures/miso/Hosting-...</td>\n",
       "      <td>352848869</td>\n",
       "      <td>...</td>\n",
       "      <td>4.86</td>\n",
       "      <td>4.57</td>\n",
       "      <td>NaN</td>\n",
       "      <td>f</td>\n",
       "      <td>1</td>\n",
       "      <td>1</td>\n",
       "      <td>0</td>\n",
       "      <td>0</td>\n",
       "      <td>5.00</td>\n",
       "      <td>0</td>\n",
       "    </tr>\n",
       "  </tbody>\n",
       "</table>\n",
       "<p>5 rows × 76 columns</p>\n",
       "</div>"
      ],
      "text/plain": [
       "                       id                                      listing_url  \\\n",
       "7455             31659379            https://www.airbnb.com/rooms/31659379   \n",
       "6650             28483456            https://www.airbnb.com/rooms/28483456   \n",
       "19312  680205447932328530  https://www.airbnb.com/rooms/680205447932328530   \n",
       "9617             37253602            https://www.airbnb.com/rooms/37253602   \n",
       "19427  681752189550335194  https://www.airbnb.com/rooms/681752189550335194   \n",
       "\n",
       "            scrape_id last_scraped           source  \\\n",
       "7455   20220911230855   2022-09-12      city scrape   \n",
       "6650   20220911230855   2022-09-12      city scrape   \n",
       "19312  20220911230855   2022-09-12      city scrape   \n",
       "9617   20220911230855   2022-09-12  previous scrape   \n",
       "19427  20220911230855   2022-09-12      city scrape   \n",
       "\n",
       "                                                    name  \\\n",
       "7455                  Atocha Suite - Madflats Collection   \n",
       "6650                              Attic near Retiro Park   \n",
       "19312  Bright and Modern - 2Bedrooms 1Bathroom - Cham...   \n",
       "9617         beautiful double room with wifi and terrace   \n",
       "19427                Apartamento en Carabanchel, Madrid.   \n",
       "\n",
       "                                             description  \\\n",
       "7455   The apartment in Madrid has 1 bedrooms and has...   \n",
       "6650   Nice attic apartment with great views of south...   \n",
       "19312  Bright apartment located in the center of Madr...   \n",
       "9617   The flat is composed of a beautiful bedroom, o...   \n",
       "19427  Ideal y luminoso apartamento con 2 habitacione...   \n",
       "\n",
       "                                   neighborhood_overview  \\\n",
       "7455                                                 NaN   \n",
       "6650                                                 NaN   \n",
       "19312  Chamberi is the Madrid neighborhood where ever...   \n",
       "9617   The neighborhood is quiet and the flat is righ...   \n",
       "19427                                                NaN   \n",
       "\n",
       "                                             picture_url    host_id  ...  \\\n",
       "7455   https://a0.muscache.com/pictures/cb484f8b-e1be...  112373304  ...   \n",
       "6650   https://a0.muscache.com/pictures/17e68e99-4f01...  215001670  ...   \n",
       "19312  https://a0.muscache.com/pictures/miso/Hosting-...  471814528  ...   \n",
       "9617   https://a0.muscache.com/pictures/ade39840-7626...  280466577  ...   \n",
       "19427  https://a0.muscache.com/pictures/miso/Hosting-...  352848869  ...   \n",
       "\n",
       "      review_scores_location review_scores_value  license instant_bookable  \\\n",
       "7455                    5.00                5.00      NaN                t   \n",
       "6650                    4.92                4.83  VT-6223                f   \n",
       "19312                   5.00                5.00      NaN                f   \n",
       "9617                     NaN                 NaN      NaN                t   \n",
       "19427                   4.86                4.57      NaN                f   \n",
       "\n",
       "      calculated_host_listings_count  \\\n",
       "7455                              61   \n",
       "6650                               1   \n",
       "19312                              1   \n",
       "9617                               1   \n",
       "19427                              1   \n",
       "\n",
       "      calculated_host_listings_count_entire_homes  \\\n",
       "7455                                           61   \n",
       "6650                                            1   \n",
       "19312                                           1   \n",
       "9617                                            0   \n",
       "19427                                           1   \n",
       "\n",
       "      calculated_host_listings_count_private_rooms  \\\n",
       "7455                                             0   \n",
       "6650                                             0   \n",
       "19312                                            0   \n",
       "9617                                             1   \n",
       "19427                                            0   \n",
       "\n",
       "      calculated_host_listings_count_shared_rooms reviews_per_month distancia  \n",
       "7455                                            0              0.19         0  \n",
       "6650                                            0              0.50         0  \n",
       "19312                                           0              1.00         0  \n",
       "9617                                            0               NaN         2  \n",
       "19427                                           0              5.00         0  \n",
       "\n",
       "[5 rows x 76 columns]"
      ]
     },
     "execution_count": 29,
     "metadata": {},
     "output_type": "execute_result"
    }
   ],
   "source": [
    "madrid.head()"
   ]
  },
  {
   "cell_type": "code",
   "execution_count": 30,
   "id": "a3045bda",
   "metadata": {},
   "outputs": [
    {
     "data": {
      "text/html": [
       "<div>\n",
       "<style scoped>\n",
       "    .dataframe tbody tr th:only-of-type {\n",
       "        vertical-align: middle;\n",
       "    }\n",
       "\n",
       "    .dataframe tbody tr th {\n",
       "        vertical-align: top;\n",
       "    }\n",
       "\n",
       "    .dataframe thead th {\n",
       "        text-align: right;\n",
       "    }\n",
       "</style>\n",
       "<table border=\"1\" class=\"dataframe\">\n",
       "  <thead>\n",
       "    <tr style=\"text-align: right;\">\n",
       "      <th></th>\n",
       "      <th>description</th>\n",
       "      <th>accommodates</th>\n",
       "      <th>distancia</th>\n",
       "      <th>price</th>\n",
       "    </tr>\n",
       "  </thead>\n",
       "  <tbody>\n",
       "    <tr>\n",
       "      <th>7455</th>\n",
       "      <td>The apartment in Madrid has 1 bedrooms and has...</td>\n",
       "      <td>4</td>\n",
       "      <td>0</td>\n",
       "      <td>$61.00</td>\n",
       "    </tr>\n",
       "    <tr>\n",
       "      <th>646</th>\n",
       "      <td>Cozy and sunny studio. Living room with sofa a...</td>\n",
       "      <td>4</td>\n",
       "      <td>0</td>\n",
       "      <td>$113.00</td>\n",
       "    </tr>\n",
       "    <tr>\n",
       "      <th>10531</th>\n",
       "      <td>Ideally located in Madrid’s diverse and lively...</td>\n",
       "      <td>4</td>\n",
       "      <td>0</td>\n",
       "      <td>$181.00</td>\n",
       "    </tr>\n",
       "    <tr>\n",
       "      <th>12707</th>\n",
       "      <td>Only 50 m from Calle Alcalá in the Salamanca n...</td>\n",
       "      <td>4</td>\n",
       "      <td>0</td>\n",
       "      <td>$226.00</td>\n",
       "    </tr>\n",
       "    <tr>\n",
       "      <th>8838</th>\n",
       "      <td>house/flat for Uefa Champions League final fro...</td>\n",
       "      <td>4</td>\n",
       "      <td>0</td>\n",
       "      <td>$2,000.00</td>\n",
       "    </tr>\n",
       "  </tbody>\n",
       "</table>\n",
       "</div>"
      ],
      "text/plain": [
       "                                             description  accommodates  \\\n",
       "7455   The apartment in Madrid has 1 bedrooms and has...             4   \n",
       "646    Cozy and sunny studio. Living room with sofa a...             4   \n",
       "10531  Ideally located in Madrid’s diverse and lively...             4   \n",
       "12707  Only 50 m from Calle Alcalá in the Salamanca n...             4   \n",
       "8838   house/flat for Uefa Champions League final fro...             4   \n",
       "\n",
       "       distancia      price  \n",
       "7455           0     $61.00  \n",
       "646            0    $113.00  \n",
       "10531          0    $181.00  \n",
       "12707          0    $226.00  \n",
       "8838           0  $2,000.00  "
      ]
     },
     "execution_count": 30,
     "metadata": {},
     "output_type": "execute_result"
    }
   ],
   "source": [
    "madrid[['description', 'accommodates', 'distancia', 'price']].sort_values('distancia').iloc[0:5]"
   ]
  },
  {
   "cell_type": "code",
   "execution_count": null,
   "id": "4e8bab79",
   "metadata": {},
   "outputs": [],
   "source": []
  }
 ],
 "metadata": {
  "kernelspec": {
   "display_name": "Python 3 (ipykernel)",
   "language": "python",
   "name": "python3"
  },
  "language_info": {
   "codemirror_mode": {
    "name": "ipython",
    "version": 3
   },
   "file_extension": ".py",
   "mimetype": "text/x-python",
   "name": "python",
   "nbconvert_exporter": "python",
   "pygments_lexer": "ipython3",
   "version": "3.9.13"
  }
 },
 "nbformat": 4,
 "nbformat_minor": 5
}
