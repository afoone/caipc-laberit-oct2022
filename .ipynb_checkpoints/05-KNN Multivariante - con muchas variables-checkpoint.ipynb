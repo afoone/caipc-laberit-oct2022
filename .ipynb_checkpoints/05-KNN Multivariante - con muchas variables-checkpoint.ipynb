{
 "cells": [
  {
   "cell_type": "markdown",
   "id": "f2506b93",
   "metadata": {},
   "source": [
    "hasta ahora hemos intentado predecir con una variable (`accommodates` y `bedrooms`)\n",
    "\n",
    "hay variables que influyen en el precio\n",
    "\n",
    "Hay varias formas de intentar mejorar la precisión\n",
    "1. Cambiar el valor de k\n",
    "2. Cambiar las variables (incrementar el número de atributos, p.ej, `accommodates`, `bedrooms`, `bathrooms`\n",
    "\n",
    "\n",
    "Ahora lo que vamos a hacer es añadir columnas al modelo. Tenemos que tener cuidados con las variables que no van a funcionar con la ecuación de distancia:\n",
    "\n",
    "- Valores no numéricos (categóricos) - la distancia quiere números\n",
    "- Valores nulos: la distancia no permite nulos\n",
    "- Valores no ordinales: numéricos pero que no representan un orden (ej.lat y la long) "
   ]
  },
  {
   "cell_type": "code",
   "execution_count": 1,
   "id": "dc4095dc",
   "metadata": {},
   "outputs": [],
   "source": [
    "import pandas as pd\n",
    "import numpy as np\n",
    "import math\n"
   ]
  },
  {
   "cell_type": "code",
   "execution_count": 2,
   "id": "a606ec66",
   "metadata": {},
   "outputs": [],
   "source": [
    "madrid = pd.read_csv('data/airbnb-madrid.csv')\n",
    "# corrección de datos\n",
    "madrid['price'] = madrid['price'].apply(lambda x: x.replace('$', '').replace(',', '')).astype(float)\n",
    "np.random.seed(3943)\n",
    "madrid = madrid.iloc[\n",
    "    np.random.permutation(madrid.shape[0])\n",
    "]\n",
    "\n",
    "\n",
    "# elimino outliers (o los que no juegan en la misma liga)\n",
    "madrid = madrid[madrid['price']<300]"
   ]
  },
  {
   "cell_type": "code",
   "execution_count": 3,
   "id": "592dcdf8",
   "metadata": {},
   "outputs": [
    {
     "data": {
      "text/plain": [
       "(19130, 75)"
      ]
     },
     "execution_count": 3,
     "metadata": {},
     "output_type": "execute_result"
    }
   ],
   "source": [
    "madrid.shape"
   ]
  },
  {
   "cell_type": "code",
   "execution_count": null,
   "id": "6d720f2b",
   "metadata": {},
   "outputs": [],
   "source": []
  },
  {
   "cell_type": "code",
   "execution_count": null,
   "id": "96ca6fba",
   "metadata": {},
   "outputs": [],
   "source": []
  },
  {
   "cell_type": "code",
   "execution_count": null,
   "id": "265351ad",
   "metadata": {},
   "outputs": [],
   "source": []
  },
  {
   "cell_type": "code",
   "execution_count": null,
   "id": "5c420447",
   "metadata": {},
   "outputs": [],
   "source": []
  },
  {
   "cell_type": "code",
   "execution_count": null,
   "id": "ddfee530",
   "metadata": {},
   "outputs": [],
   "source": []
  },
  {
   "cell_type": "code",
   "execution_count": 4,
   "id": "23e8623a",
   "metadata": {},
   "outputs": [
    {
     "name": "stdout",
     "output_type": "stream",
     "text": [
      "<class 'pandas.core.frame.DataFrame'>\n",
      "Int64Index: 19130 entries, 682 to 15043\n",
      "Data columns (total 75 columns):\n",
      " #   Column                                        Non-Null Count  Dtype  \n",
      "---  ------                                        --------------  -----  \n",
      " 0   id                                            19130 non-null  int64  \n",
      " 1   listing_url                                   19130 non-null  object \n",
      " 2   scrape_id                                     19130 non-null  int64  \n",
      " 3   last_scraped                                  19130 non-null  object \n",
      " 4   source                                        19130 non-null  object \n",
      " 5   name                                          19126 non-null  object \n",
      " 6   description                                   18518 non-null  object \n",
      " 7   neighborhood_overview                         10750 non-null  object \n",
      " 8   picture_url                                   19129 non-null  object \n",
      " 9   host_id                                       19130 non-null  int64  \n",
      " 10  host_url                                      19130 non-null  object \n",
      " 11  host_name                                     19127 non-null  object \n",
      " 12  host_since                                    19127 non-null  object \n",
      " 13  host_location                                 14349 non-null  object \n",
      " 14  host_about                                    9339 non-null   object \n",
      " 15  host_response_time                            14873 non-null  object \n",
      " 16  host_response_rate                            14873 non-null  object \n",
      " 17  host_acceptance_rate                          15398 non-null  object \n",
      " 18  host_is_superhost                             19125 non-null  object \n",
      " 19  host_thumbnail_url                            19127 non-null  object \n",
      " 20  host_picture_url                              19127 non-null  object \n",
      " 21  host_neighbourhood                            9702 non-null   object \n",
      " 22  host_listings_count                           19127 non-null  float64\n",
      " 23  host_total_listings_count                     19127 non-null  float64\n",
      " 24  host_verifications                            19130 non-null  object \n",
      " 25  host_has_profile_pic                          19127 non-null  object \n",
      " 26  host_identity_verified                        19127 non-null  object \n",
      " 27  neighbourhood                                 10750 non-null  object \n",
      " 28  neighbourhood_cleansed                        19130 non-null  object \n",
      " 29  neighbourhood_group_cleansed                  19130 non-null  object \n",
      " 30  latitude                                      19130 non-null  float64\n",
      " 31  longitude                                     19130 non-null  float64\n",
      " 32  property_type                                 19130 non-null  object \n",
      " 33  room_type                                     19130 non-null  object \n",
      " 34  accommodates                                  19130 non-null  int64  \n",
      " 35  bathrooms                                     0 non-null      float64\n",
      " 36  bathrooms_text                                19108 non-null  object \n",
      " 37  bedrooms                                      17742 non-null  float64\n",
      " 38  beds                                          18797 non-null  float64\n",
      " 39  amenities                                     19130 non-null  object \n",
      " 40  price                                         19130 non-null  float64\n",
      " 41  minimum_nights                                19130 non-null  int64  \n",
      " 42  maximum_nights                                19130 non-null  int64  \n",
      " 43  minimum_minimum_nights                        19130 non-null  int64  \n",
      " 44  maximum_minimum_nights                        19130 non-null  int64  \n",
      " 45  minimum_maximum_nights                        19130 non-null  int64  \n",
      " 46  maximum_maximum_nights                        19130 non-null  int64  \n",
      " 47  minimum_nights_avg_ntm                        19130 non-null  float64\n",
      " 48  maximum_nights_avg_ntm                        19130 non-null  float64\n",
      " 49  calendar_updated                              0 non-null      float64\n",
      " 50  has_availability                              19130 non-null  object \n",
      " 51  availability_30                               19130 non-null  int64  \n",
      " 52  availability_60                               19130 non-null  int64  \n",
      " 53  availability_90                               19130 non-null  int64  \n",
      " 54  availability_365                              19130 non-null  int64  \n",
      " 55  calendar_last_scraped                         19130 non-null  object \n",
      " 56  number_of_reviews                             19130 non-null  int64  \n",
      " 57  number_of_reviews_ltm                         19130 non-null  int64  \n",
      " 58  number_of_reviews_l30d                        19130 non-null  int64  \n",
      " 59  first_review                                  15449 non-null  object \n",
      " 60  last_review                                   15449 non-null  object \n",
      " 61  review_scores_rating                          15449 non-null  float64\n",
      " 62  review_scores_accuracy                        15318 non-null  float64\n",
      " 63  review_scores_cleanliness                     15320 non-null  float64\n",
      " 64  review_scores_checkin                         15319 non-null  float64\n",
      " 65  review_scores_communication                   15319 non-null  float64\n",
      " 66  review_scores_location                        15316 non-null  float64\n",
      " 67  review_scores_value                           15315 non-null  float64\n",
      " 68  license                                       2454 non-null   object \n",
      " 69  instant_bookable                              19130 non-null  object \n",
      " 70  calculated_host_listings_count                19130 non-null  int64  \n",
      " 71  calculated_host_listings_count_entire_homes   19130 non-null  int64  \n",
      " 72  calculated_host_listings_count_private_rooms  19130 non-null  int64  \n",
      " 73  calculated_host_listings_count_shared_rooms   19130 non-null  int64  \n",
      " 74  reviews_per_month                             15449 non-null  float64\n",
      "dtypes: float64(19), int64(21), object(35)\n",
      "memory usage: 11.1+ MB\n"
     ]
    }
   ],
   "source": [
    "madrid.info()"
   ]
  },
  {
   "cell_type": "code",
   "execution_count": 5,
   "id": "2429d70b",
   "metadata": {},
   "outputs": [
    {
     "data": {
      "text/html": [
       "<div>\n",
       "<style scoped>\n",
       "    .dataframe tbody tr th:only-of-type {\n",
       "        vertical-align: middle;\n",
       "    }\n",
       "\n",
       "    .dataframe tbody tr th {\n",
       "        vertical-align: top;\n",
       "    }\n",
       "\n",
       "    .dataframe thead th {\n",
       "        text-align: right;\n",
       "    }\n",
       "</style>\n",
       "<table border=\"1\" class=\"dataframe\">\n",
       "  <thead>\n",
       "    <tr style=\"text-align: right;\">\n",
       "      <th></th>\n",
       "      <th>bathrooms</th>\n",
       "      <th>bathrooms_text</th>\n",
       "    </tr>\n",
       "  </thead>\n",
       "  <tbody>\n",
       "    <tr>\n",
       "      <th>682</th>\n",
       "      <td>NaN</td>\n",
       "      <td>1 bath</td>\n",
       "    </tr>\n",
       "    <tr>\n",
       "      <th>11870</th>\n",
       "      <td>NaN</td>\n",
       "      <td>1 bath</td>\n",
       "    </tr>\n",
       "    <tr>\n",
       "      <th>3526</th>\n",
       "      <td>NaN</td>\n",
       "      <td>2 baths</td>\n",
       "    </tr>\n",
       "    <tr>\n",
       "      <th>13270</th>\n",
       "      <td>NaN</td>\n",
       "      <td>1 bath</td>\n",
       "    </tr>\n",
       "    <tr>\n",
       "      <th>15946</th>\n",
       "      <td>NaN</td>\n",
       "      <td>1 bath</td>\n",
       "    </tr>\n",
       "    <tr>\n",
       "      <th>...</th>\n",
       "      <td>...</td>\n",
       "      <td>...</td>\n",
       "    </tr>\n",
       "    <tr>\n",
       "      <th>3351</th>\n",
       "      <td>NaN</td>\n",
       "      <td>1 bath</td>\n",
       "    </tr>\n",
       "    <tr>\n",
       "      <th>970</th>\n",
       "      <td>NaN</td>\n",
       "      <td>1.5 shared baths</td>\n",
       "    </tr>\n",
       "    <tr>\n",
       "      <th>4766</th>\n",
       "      <td>NaN</td>\n",
       "      <td>1.5 shared baths</td>\n",
       "    </tr>\n",
       "    <tr>\n",
       "      <th>4563</th>\n",
       "      <td>NaN</td>\n",
       "      <td>1 shared bath</td>\n",
       "    </tr>\n",
       "    <tr>\n",
       "      <th>15043</th>\n",
       "      <td>NaN</td>\n",
       "      <td>3 shared baths</td>\n",
       "    </tr>\n",
       "  </tbody>\n",
       "</table>\n",
       "<p>19130 rows × 2 columns</p>\n",
       "</div>"
      ],
      "text/plain": [
       "       bathrooms    bathrooms_text\n",
       "682          NaN            1 bath\n",
       "11870        NaN            1 bath\n",
       "3526         NaN           2 baths\n",
       "13270        NaN            1 bath\n",
       "15946        NaN            1 bath\n",
       "...          ...               ...\n",
       "3351         NaN            1 bath\n",
       "970          NaN  1.5 shared baths\n",
       "4766         NaN  1.5 shared baths\n",
       "4563         NaN     1 shared bath\n",
       "15043        NaN    3 shared baths\n",
       "\n",
       "[19130 rows x 2 columns]"
      ]
     },
     "execution_count": 5,
     "metadata": {},
     "output_type": "execute_result"
    }
   ],
   "source": [
    "madrid[\n",
    "    ['bathrooms', 'bathrooms_text']\n",
    "]"
   ]
  },
  {
   "cell_type": "code",
   "execution_count": 6,
   "id": "1673f7ed",
   "metadata": {},
   "outputs": [
    {
     "name": "stdout",
     "output_type": "stream",
     "text": [
      "<class 'pandas.core.series.Series'>\n",
      "Int64Index: 19130 entries, 682 to 15043\n",
      "Series name: bathrooms_text\n",
      "Non-Null Count  Dtype \n",
      "--------------  ----- \n",
      "19108 non-null  object\n",
      "dtypes: object(1)\n",
      "memory usage: 298.9+ KB\n"
     ]
    }
   ],
   "source": [
    "madrid['bathrooms_text'].info()"
   ]
  },
  {
   "cell_type": "code",
   "execution_count": 7,
   "id": "a8ef37b4",
   "metadata": {},
   "outputs": [
    {
     "data": {
      "text/html": [
       "<div>\n",
       "<style scoped>\n",
       "    .dataframe tbody tr th:only-of-type {\n",
       "        vertical-align: middle;\n",
       "    }\n",
       "\n",
       "    .dataframe tbody tr th {\n",
       "        vertical-align: top;\n",
       "    }\n",
       "\n",
       "    .dataframe thead th {\n",
       "        text-align: right;\n",
       "    }\n",
       "</style>\n",
       "<table border=\"1\" class=\"dataframe\">\n",
       "  <thead>\n",
       "    <tr style=\"text-align: right;\">\n",
       "      <th></th>\n",
       "      <th>id</th>\n",
       "      <th>listing_url</th>\n",
       "      <th>scrape_id</th>\n",
       "      <th>last_scraped</th>\n",
       "      <th>source</th>\n",
       "      <th>name</th>\n",
       "      <th>description</th>\n",
       "      <th>neighborhood_overview</th>\n",
       "      <th>picture_url</th>\n",
       "      <th>host_id</th>\n",
       "      <th>...</th>\n",
       "      <th>review_scores_communication</th>\n",
       "      <th>review_scores_location</th>\n",
       "      <th>review_scores_value</th>\n",
       "      <th>license</th>\n",
       "      <th>instant_bookable</th>\n",
       "      <th>calculated_host_listings_count</th>\n",
       "      <th>calculated_host_listings_count_entire_homes</th>\n",
       "      <th>calculated_host_listings_count_private_rooms</th>\n",
       "      <th>calculated_host_listings_count_shared_rooms</th>\n",
       "      <th>reviews_per_month</th>\n",
       "    </tr>\n",
       "  </thead>\n",
       "  <tbody>\n",
       "    <tr>\n",
       "      <th>682</th>\n",
       "      <td>3389625</td>\n",
       "      <td>https://www.airbnb.com/rooms/3389625</td>\n",
       "      <td>20220911230855</td>\n",
       "      <td>2022-09-12</td>\n",
       "      <td>city scrape</td>\n",
       "      <td>APT CALME DANS LE CENTRE HISTORIQUE</td>\n",
       "      <td>Located in the heart of the typical Madrid, wa...</td>\n",
       "      <td>The most tipical neighborhood in Madrid where ...</td>\n",
       "      <td>https://a0.muscache.com/pictures/89933321/7c4f...</td>\n",
       "      <td>4794809</td>\n",
       "      <td>...</td>\n",
       "      <td>4.97</td>\n",
       "      <td>4.85</td>\n",
       "      <td>4.84</td>\n",
       "      <td>06/014204.9/17</td>\n",
       "      <td>f</td>\n",
       "      <td>1</td>\n",
       "      <td>1</td>\n",
       "      <td>0</td>\n",
       "      <td>0</td>\n",
       "      <td>2.23</td>\n",
       "    </tr>\n",
       "    <tr>\n",
       "      <th>11870</th>\n",
       "      <td>44149063</td>\n",
       "      <td>https://www.airbnb.com/rooms/44149063</td>\n",
       "      <td>20220911230855</td>\n",
       "      <td>2022-09-12</td>\n",
       "      <td>city scrape</td>\n",
       "      <td>A Renovated Apartment in the Downtown_3</td>\n",
       "      <td>This is a sweet, clean apartment, with elegant...</td>\n",
       "      <td>The apartment is in the downtown, there are a ...</td>\n",
       "      <td>https://a0.muscache.com/pictures/806691c6-6db0...</td>\n",
       "      <td>341778007</td>\n",
       "      <td>...</td>\n",
       "      <td>4.62</td>\n",
       "      <td>4.92</td>\n",
       "      <td>4.48</td>\n",
       "      <td>NaN</td>\n",
       "      <td>t</td>\n",
       "      <td>7</td>\n",
       "      <td>7</td>\n",
       "      <td>0</td>\n",
       "      <td>0</td>\n",
       "      <td>3.90</td>\n",
       "    </tr>\n",
       "    <tr>\n",
       "      <th>3526</th>\n",
       "      <td>18154095</td>\n",
       "      <td>https://www.airbnb.com/rooms/18154095</td>\n",
       "      <td>20220911230855</td>\n",
       "      <td>2022-09-12</td>\n",
       "      <td>city scrape</td>\n",
       "      <td>Flamingo Madrid Apartment</td>\n",
       "      <td>Premium Location ( walking distance from Madri...</td>\n",
       "      <td>Madrid's most central and fancy residential ne...</td>\n",
       "      <td>https://a0.muscache.com/pictures/28bdb3d1-97c3...</td>\n",
       "      <td>5144517</td>\n",
       "      <td>...</td>\n",
       "      <td>4.31</td>\n",
       "      <td>4.93</td>\n",
       "      <td>4.03</td>\n",
       "      <td>NaN</td>\n",
       "      <td>t</td>\n",
       "      <td>8</td>\n",
       "      <td>8</td>\n",
       "      <td>0</td>\n",
       "      <td>0</td>\n",
       "      <td>0.46</td>\n",
       "    </tr>\n",
       "    <tr>\n",
       "      <th>13270</th>\n",
       "      <td>49645907</td>\n",
       "      <td>https://www.airbnb.com/rooms/49645907</td>\n",
       "      <td>20220911230855</td>\n",
       "      <td>2022-09-12</td>\n",
       "      <td>city scrape</td>\n",
       "      <td>ADELFAS 03 RESIDENTIAL ONE BEDROOM</td>\n",
       "      <td>Our apartment is located in a modern building ...</td>\n",
       "      <td>The Pacific neighborhood occupies the entire s...</td>\n",
       "      <td>https://a0.muscache.com/pictures/ad0f6fcc-2ff7...</td>\n",
       "      <td>392790154</td>\n",
       "      <td>...</td>\n",
       "      <td>4.50</td>\n",
       "      <td>4.00</td>\n",
       "      <td>3.00</td>\n",
       "      <td>NaN</td>\n",
       "      <td>t</td>\n",
       "      <td>48</td>\n",
       "      <td>48</td>\n",
       "      <td>0</td>\n",
       "      <td>0</td>\n",
       "      <td>0.23</td>\n",
       "    </tr>\n",
       "    <tr>\n",
       "      <th>15946</th>\n",
       "      <td>555230367661086584</td>\n",
       "      <td>https://www.airbnb.com/rooms/555230367661086584</td>\n",
       "      <td>20220911230855</td>\n",
       "      <td>2022-09-12</td>\n",
       "      <td>city scrape</td>\n",
       "      <td>BLUE SPACE DELUXE</td>\n",
       "      <td>Precioso y lujoso apartamento de un dormitorio...</td>\n",
       "      <td>NaN</td>\n",
       "      <td>https://a0.muscache.com/pictures/miso/Hosting-...</td>\n",
       "      <td>52530675</td>\n",
       "      <td>...</td>\n",
       "      <td>4.83</td>\n",
       "      <td>3.83</td>\n",
       "      <td>4.50</td>\n",
       "      <td>NaN</td>\n",
       "      <td>f</td>\n",
       "      <td>44</td>\n",
       "      <td>44</td>\n",
       "      <td>0</td>\n",
       "      <td>0</td>\n",
       "      <td>0.91</td>\n",
       "    </tr>\n",
       "    <tr>\n",
       "      <th>...</th>\n",
       "      <td>...</td>\n",
       "      <td>...</td>\n",
       "      <td>...</td>\n",
       "      <td>...</td>\n",
       "      <td>...</td>\n",
       "      <td>...</td>\n",
       "      <td>...</td>\n",
       "      <td>...</td>\n",
       "      <td>...</td>\n",
       "      <td>...</td>\n",
       "      <td>...</td>\n",
       "      <td>...</td>\n",
       "      <td>...</td>\n",
       "      <td>...</td>\n",
       "      <td>...</td>\n",
       "      <td>...</td>\n",
       "      <td>...</td>\n",
       "      <td>...</td>\n",
       "      <td>...</td>\n",
       "      <td>...</td>\n",
       "      <td>...</td>\n",
       "    </tr>\n",
       "    <tr>\n",
       "      <th>3351</th>\n",
       "      <td>17853779</td>\n",
       "      <td>https://www.airbnb.com/rooms/17853779</td>\n",
       "      <td>20220911230855</td>\n",
       "      <td>2022-09-12</td>\n",
       "      <td>previous scrape</td>\n",
       "      <td>Vallehermoso</td>\n",
       "      <td>Very quiet house, very close to the city cente...</td>\n",
       "      <td>NaN</td>\n",
       "      <td>https://a0.muscache.com/pictures/da5e9279-c7de...</td>\n",
       "      <td>53928475</td>\n",
       "      <td>...</td>\n",
       "      <td>4.92</td>\n",
       "      <td>4.79</td>\n",
       "      <td>4.83</td>\n",
       "      <td>NaN</td>\n",
       "      <td>f</td>\n",
       "      <td>1</td>\n",
       "      <td>0</td>\n",
       "      <td>1</td>\n",
       "      <td>0</td>\n",
       "      <td>0.38</td>\n",
       "    </tr>\n",
       "    <tr>\n",
       "      <th>970</th>\n",
       "      <td>5350676</td>\n",
       "      <td>https://www.airbnb.com/rooms/5350676</td>\n",
       "      <td>20220911230855</td>\n",
       "      <td>2022-09-12</td>\n",
       "      <td>city scrape</td>\n",
       "      <td>Luminosa y tranquila hab individual</td>\n",
       "      <td>Alquilo habitación sencilla en piso acogedor e...</td>\n",
       "      <td>NaN</td>\n",
       "      <td>https://a0.muscache.com/pictures/1cc85ba2-91c7...</td>\n",
       "      <td>3360175</td>\n",
       "      <td>...</td>\n",
       "      <td>4.90</td>\n",
       "      <td>4.63</td>\n",
       "      <td>4.58</td>\n",
       "      <td>NaN</td>\n",
       "      <td>f</td>\n",
       "      <td>4</td>\n",
       "      <td>0</td>\n",
       "      <td>4</td>\n",
       "      <td>0</td>\n",
       "      <td>0.78</td>\n",
       "    </tr>\n",
       "    <tr>\n",
       "      <th>4766</th>\n",
       "      <td>21723324</td>\n",
       "      <td>https://www.airbnb.com/rooms/21723324</td>\n",
       "      <td>20220911230855</td>\n",
       "      <td>2022-09-12</td>\n",
       "      <td>previous scrape</td>\n",
       "      <td>Habitación doble luminosa en Marqués de Vadillo</td>\n",
       "      <td>Amplia habitación en amplio piso compartido. T...</td>\n",
       "      <td>NaN</td>\n",
       "      <td>https://a0.muscache.com/pictures/9ec4fb08-db4f...</td>\n",
       "      <td>29642251</td>\n",
       "      <td>...</td>\n",
       "      <td>4.70</td>\n",
       "      <td>4.30</td>\n",
       "      <td>4.50</td>\n",
       "      <td>NaN</td>\n",
       "      <td>f</td>\n",
       "      <td>2</td>\n",
       "      <td>0</td>\n",
       "      <td>2</td>\n",
       "      <td>0</td>\n",
       "      <td>0.17</td>\n",
       "    </tr>\n",
       "    <tr>\n",
       "      <th>4563</th>\n",
       "      <td>20810915</td>\n",
       "      <td>https://www.airbnb.com/rooms/20810915</td>\n",
       "      <td>20220911230855</td>\n",
       "      <td>2022-09-12</td>\n",
       "      <td>previous scrape</td>\n",
       "      <td>Cama doble colchon viscolastico, piso centrico</td>\n",
       "      <td>Cama doble, armario, cajonera, estantería. Cas...</td>\n",
       "      <td>NaN</td>\n",
       "      <td>https://a0.muscache.com/pictures/2a784d05-6df9...</td>\n",
       "      <td>149233829</td>\n",
       "      <td>...</td>\n",
       "      <td>NaN</td>\n",
       "      <td>NaN</td>\n",
       "      <td>NaN</td>\n",
       "      <td>NaN</td>\n",
       "      <td>t</td>\n",
       "      <td>1</td>\n",
       "      <td>0</td>\n",
       "      <td>1</td>\n",
       "      <td>0</td>\n",
       "      <td>0.02</td>\n",
       "    </tr>\n",
       "    <tr>\n",
       "      <th>15043</th>\n",
       "      <td>53514578</td>\n",
       "      <td>https://www.airbnb.com/rooms/53514578</td>\n",
       "      <td>20220911230855</td>\n",
       "      <td>2022-09-12</td>\n",
       "      <td>city scrape</td>\n",
       "      <td>Habitación privada 1 ó2. Centro. Gran %meses</td>\n",
       "      <td>Residencia con 7 habitaciones. Hay amplia coci...</td>\n",
       "      <td>NaN</td>\n",
       "      <td>https://a0.muscache.com/pictures/2dc18eb5-94c3...</td>\n",
       "      <td>24687655</td>\n",
       "      <td>...</td>\n",
       "      <td>4.52</td>\n",
       "      <td>4.97</td>\n",
       "      <td>4.61</td>\n",
       "      <td>NaN</td>\n",
       "      <td>f</td>\n",
       "      <td>7</td>\n",
       "      <td>1</td>\n",
       "      <td>6</td>\n",
       "      <td>0</td>\n",
       "      <td>3.85</td>\n",
       "    </tr>\n",
       "  </tbody>\n",
       "</table>\n",
       "<p>19130 rows × 75 columns</p>\n",
       "</div>"
      ],
      "text/plain": [
       "                       id                                      listing_url  \\\n",
       "682               3389625             https://www.airbnb.com/rooms/3389625   \n",
       "11870            44149063            https://www.airbnb.com/rooms/44149063   \n",
       "3526             18154095            https://www.airbnb.com/rooms/18154095   \n",
       "13270            49645907            https://www.airbnb.com/rooms/49645907   \n",
       "15946  555230367661086584  https://www.airbnb.com/rooms/555230367661086584   \n",
       "...                   ...                                              ...   \n",
       "3351             17853779            https://www.airbnb.com/rooms/17853779   \n",
       "970               5350676             https://www.airbnb.com/rooms/5350676   \n",
       "4766             21723324            https://www.airbnb.com/rooms/21723324   \n",
       "4563             20810915            https://www.airbnb.com/rooms/20810915   \n",
       "15043            53514578            https://www.airbnb.com/rooms/53514578   \n",
       "\n",
       "            scrape_id last_scraped           source  \\\n",
       "682    20220911230855   2022-09-12      city scrape   \n",
       "11870  20220911230855   2022-09-12      city scrape   \n",
       "3526   20220911230855   2022-09-12      city scrape   \n",
       "13270  20220911230855   2022-09-12      city scrape   \n",
       "15946  20220911230855   2022-09-12      city scrape   \n",
       "...               ...          ...              ...   \n",
       "3351   20220911230855   2022-09-12  previous scrape   \n",
       "970    20220911230855   2022-09-12      city scrape   \n",
       "4766   20220911230855   2022-09-12  previous scrape   \n",
       "4563   20220911230855   2022-09-12  previous scrape   \n",
       "15043  20220911230855   2022-09-12      city scrape   \n",
       "\n",
       "                                                  name  \\\n",
       "682                APT CALME DANS LE CENTRE HISTORIQUE   \n",
       "11870          A Renovated Apartment in the Downtown_3   \n",
       "3526                         Flamingo Madrid Apartment   \n",
       "13270               ADELFAS 03 RESIDENTIAL ONE BEDROOM   \n",
       "15946                                BLUE SPACE DELUXE   \n",
       "...                                                ...   \n",
       "3351                                      Vallehermoso   \n",
       "970                Luminosa y tranquila hab individual   \n",
       "4766   Habitación doble luminosa en Marqués de Vadillo   \n",
       "4563    Cama doble colchon viscolastico, piso centrico   \n",
       "15043     Habitación privada 1 ó2. Centro. Gran %meses   \n",
       "\n",
       "                                             description  \\\n",
       "682    Located in the heart of the typical Madrid, wa...   \n",
       "11870  This is a sweet, clean apartment, with elegant...   \n",
       "3526   Premium Location ( walking distance from Madri...   \n",
       "13270  Our apartment is located in a modern building ...   \n",
       "15946  Precioso y lujoso apartamento de un dormitorio...   \n",
       "...                                                  ...   \n",
       "3351   Very quiet house, very close to the city cente...   \n",
       "970    Alquilo habitación sencilla en piso acogedor e...   \n",
       "4766   Amplia habitación en amplio piso compartido. T...   \n",
       "4563   Cama doble, armario, cajonera, estantería. Cas...   \n",
       "15043  Residencia con 7 habitaciones. Hay amplia coci...   \n",
       "\n",
       "                                   neighborhood_overview  \\\n",
       "682    The most tipical neighborhood in Madrid where ...   \n",
       "11870  The apartment is in the downtown, there are a ...   \n",
       "3526   Madrid's most central and fancy residential ne...   \n",
       "13270  The Pacific neighborhood occupies the entire s...   \n",
       "15946                                                NaN   \n",
       "...                                                  ...   \n",
       "3351                                                 NaN   \n",
       "970                                                  NaN   \n",
       "4766                                                 NaN   \n",
       "4563                                                 NaN   \n",
       "15043                                                NaN   \n",
       "\n",
       "                                             picture_url    host_id  ...  \\\n",
       "682    https://a0.muscache.com/pictures/89933321/7c4f...    4794809  ...   \n",
       "11870  https://a0.muscache.com/pictures/806691c6-6db0...  341778007  ...   \n",
       "3526   https://a0.muscache.com/pictures/28bdb3d1-97c3...    5144517  ...   \n",
       "13270  https://a0.muscache.com/pictures/ad0f6fcc-2ff7...  392790154  ...   \n",
       "15946  https://a0.muscache.com/pictures/miso/Hosting-...   52530675  ...   \n",
       "...                                                  ...        ...  ...   \n",
       "3351   https://a0.muscache.com/pictures/da5e9279-c7de...   53928475  ...   \n",
       "970    https://a0.muscache.com/pictures/1cc85ba2-91c7...    3360175  ...   \n",
       "4766   https://a0.muscache.com/pictures/9ec4fb08-db4f...   29642251  ...   \n",
       "4563   https://a0.muscache.com/pictures/2a784d05-6df9...  149233829  ...   \n",
       "15043  https://a0.muscache.com/pictures/2dc18eb5-94c3...   24687655  ...   \n",
       "\n",
       "      review_scores_communication review_scores_location review_scores_value  \\\n",
       "682                          4.97                   4.85                4.84   \n",
       "11870                        4.62                   4.92                4.48   \n",
       "3526                         4.31                   4.93                4.03   \n",
       "13270                        4.50                   4.00                3.00   \n",
       "15946                        4.83                   3.83                4.50   \n",
       "...                           ...                    ...                 ...   \n",
       "3351                         4.92                   4.79                4.83   \n",
       "970                          4.90                   4.63                4.58   \n",
       "4766                         4.70                   4.30                4.50   \n",
       "4563                          NaN                    NaN                 NaN   \n",
       "15043                        4.52                   4.97                4.61   \n",
       "\n",
       "              license instant_bookable calculated_host_listings_count  \\\n",
       "682    06/014204.9/17                f                              1   \n",
       "11870             NaN                t                              7   \n",
       "3526              NaN                t                              8   \n",
       "13270             NaN                t                             48   \n",
       "15946             NaN                f                             44   \n",
       "...               ...              ...                            ...   \n",
       "3351              NaN                f                              1   \n",
       "970               NaN                f                              4   \n",
       "4766              NaN                f                              2   \n",
       "4563              NaN                t                              1   \n",
       "15043             NaN                f                              7   \n",
       "\n",
       "      calculated_host_listings_count_entire_homes  \\\n",
       "682                                             1   \n",
       "11870                                           7   \n",
       "3526                                            8   \n",
       "13270                                          48   \n",
       "15946                                          44   \n",
       "...                                           ...   \n",
       "3351                                            0   \n",
       "970                                             0   \n",
       "4766                                            0   \n",
       "4563                                            0   \n",
       "15043                                           1   \n",
       "\n",
       "      calculated_host_listings_count_private_rooms  \\\n",
       "682                                              0   \n",
       "11870                                            0   \n",
       "3526                                             0   \n",
       "13270                                            0   \n",
       "15946                                            0   \n",
       "...                                            ...   \n",
       "3351                                             1   \n",
       "970                                              4   \n",
       "4766                                             2   \n",
       "4563                                             1   \n",
       "15043                                            6   \n",
       "\n",
       "      calculated_host_listings_count_shared_rooms reviews_per_month  \n",
       "682                                             0              2.23  \n",
       "11870                                           0              3.90  \n",
       "3526                                            0              0.46  \n",
       "13270                                           0              0.23  \n",
       "15946                                           0              0.91  \n",
       "...                                           ...               ...  \n",
       "3351                                            0              0.38  \n",
       "970                                             0              0.78  \n",
       "4766                                            0              0.17  \n",
       "4563                                            0              0.02  \n",
       "15043                                           0              3.85  \n",
       "\n",
       "[19130 rows x 75 columns]"
      ]
     },
     "execution_count": 7,
     "metadata": {},
     "output_type": "execute_result"
    }
   ],
   "source": [
    "madrid"
   ]
  },
  {
   "cell_type": "code",
   "execution_count": 8,
   "id": "7a0fcfb4",
   "metadata": {},
   "outputs": [
    {
     "data": {
      "text/plain": [
       "'single  batch'"
      ]
     },
     "execution_count": 8,
     "metadata": {},
     "output_type": "execute_result"
    }
   ],
   "source": [
    "def convert_half_in_number(x):\n",
    "    if ('half' in str(x).lower()):\n",
    "        return '0.5'\n",
    "    else:\n",
    "        return x\n",
    "    \n",
    "convert_half_in_number(\"single  batch\")"
   ]
  },
  {
   "cell_type": "code",
   "execution_count": 9,
   "id": "8084d653",
   "metadata": {},
   "outputs": [
    {
     "data": {
      "text/plain": [
       "682                1 bath\n",
       "11870              1 bath\n",
       "3526              2 baths\n",
       "13270              1 bath\n",
       "15946              1 bath\n",
       "               ...       \n",
       "3351               1 bath\n",
       "970      1.5 shared baths\n",
       "4766     1.5 shared baths\n",
       "4563        1 shared bath\n",
       "15043      3 shared baths\n",
       "Name: bathrooms_text, Length: 19130, dtype: object"
      ]
     },
     "execution_count": 9,
     "metadata": {},
     "output_type": "execute_result"
    }
   ],
   "source": [
    "madrid['bathrooms_text'].apply(\n",
    "    convert_half_in_number\n",
    ")"
   ]
  },
  {
   "cell_type": "code",
   "execution_count": 10,
   "id": "ccbfd676",
   "metadata": {},
   "outputs": [],
   "source": [
    "import re\n",
    "\n",
    "def extract_number(x):\n",
    "    return re.search(\"[0-9|.]*\", str(x)).group(0)"
   ]
  },
  {
   "cell_type": "code",
   "execution_count": 11,
   "id": "115df33b",
   "metadata": {},
   "outputs": [],
   "source": [
    "madrid['bathrooms'] = madrid['bathrooms_text'].apply(\n",
    "    convert_half_in_number\n",
    ").apply(extract_number).apply(lambda x: '0' if str(x) == '' else x).astype('float')"
   ]
  },
  {
   "cell_type": "code",
   "execution_count": null,
   "id": "6d3d9505",
   "metadata": {},
   "outputs": [],
   "source": []
  },
  {
   "cell_type": "code",
   "execution_count": null,
   "id": "b9eeb7c4",
   "metadata": {},
   "outputs": [],
   "source": []
  },
  {
   "cell_type": "code",
   "execution_count": 12,
   "id": "9d5f63fa",
   "metadata": {},
   "outputs": [
    {
     "data": {
      "text/plain": [
       "count    19130.000000\n",
       "mean         1.258730\n",
       "std          0.595462\n",
       "min          0.000000\n",
       "25%          1.000000\n",
       "50%          1.000000\n",
       "75%          1.500000\n",
       "max         20.000000\n",
       "Name: bathrooms, dtype: float64"
      ]
     },
     "execution_count": 12,
     "metadata": {},
     "output_type": "execute_result"
    }
   ],
   "source": [
    "madrid['bathrooms'].describe()"
   ]
  },
  {
   "cell_type": "code",
   "execution_count": 13,
   "id": "05fc9312",
   "metadata": {},
   "outputs": [
    {
     "data": {
      "text/plain": [
       "count    19130.000000\n",
       "mean        40.295661\n",
       "std         75.359670\n",
       "min          0.000000\n",
       "25%          1.000000\n",
       "50%          9.000000\n",
       "75%         43.000000\n",
       "max        845.000000\n",
       "Name: number_of_reviews, dtype: float64"
      ]
     },
     "execution_count": 13,
     "metadata": {},
     "output_type": "execute_result"
    }
   ],
   "source": [
    "madrid['number_of_reviews'].describe()"
   ]
  },
  {
   "cell_type": "markdown",
   "id": "36dac71d",
   "metadata": {},
   "source": [
    "Distribución normal estándar : Media 0 y Desviación típica 1\n",
    "\n",
    "Normalizar es:\n",
    " - restar a cada valor la media de la columna\n",
    " - dividir cada valor por la desviación típica\n",
    " "
   ]
  },
  {
   "cell_type": "code",
   "execution_count": 14,
   "id": "c393f1e7",
   "metadata": {},
   "outputs": [
    {
     "data": {
      "text/plain": [
       "2.977051751176163"
      ]
     },
     "execution_count": 14,
     "metadata": {},
     "output_type": "execute_result"
    }
   ],
   "source": [
    "madrid['accommodates'].mean()"
   ]
  },
  {
   "cell_type": "code",
   "execution_count": 15,
   "id": "d4951ded",
   "metadata": {},
   "outputs": [
    {
     "data": {
      "text/plain": [
       "1.7447999066793247"
      ]
     },
     "execution_count": 15,
     "metadata": {},
     "output_type": "execute_result"
    }
   ],
   "source": [
    "madrid['accommodates'].std()"
   ]
  },
  {
   "cell_type": "code",
   "execution_count": 16,
   "id": "660c06ac",
   "metadata": {},
   "outputs": [],
   "source": [
    "accommodates_normalized = (madrid['accommodates']-madrid['accommodates'].mean())/madrid['accommodates'].std()"
   ]
  },
  {
   "cell_type": "code",
   "execution_count": 17,
   "id": "12a80f7d",
   "metadata": {},
   "outputs": [
    {
     "data": {
      "text/plain": [
       "682      4\n",
       "11870    4\n",
       "3526     4\n",
       "13270    4\n",
       "15946    4\n",
       "        ..\n",
       "3351     1\n",
       "970      1\n",
       "4766     2\n",
       "4563     2\n",
       "15043    2\n",
       "Name: accommodates, Length: 19130, dtype: int64"
      ]
     },
     "execution_count": 17,
     "metadata": {},
     "output_type": "execute_result"
    }
   ],
   "source": [
    "madrid['accommodates']"
   ]
  },
  {
   "cell_type": "code",
   "execution_count": 18,
   "id": "75e1f092",
   "metadata": {},
   "outputs": [
    {
     "data": {
      "text/plain": [
       "1.0288569670964336e-16"
      ]
     },
     "execution_count": 18,
     "metadata": {},
     "output_type": "execute_result"
    }
   ],
   "source": [
    "accommodates_normalized.mean()"
   ]
  },
  {
   "cell_type": "code",
   "execution_count": 19,
   "id": "8628b9d9",
   "metadata": {},
   "outputs": [
    {
     "data": {
      "text/plain": [
       "1.0"
      ]
     },
     "execution_count": 19,
     "metadata": {},
     "output_type": "execute_result"
    }
   ],
   "source": [
    "accommodates_normalized.std()\n"
   ]
  },
  {
   "cell_type": "code",
   "execution_count": 20,
   "id": "de37216f",
   "metadata": {},
   "outputs": [
    {
     "data": {
      "text/plain": [
       "682      0.586284\n",
       "11870    0.586284\n",
       "3526     0.586284\n",
       "13270    0.586284\n",
       "15946    0.586284\n",
       "Name: accommodates, dtype: float64"
      ]
     },
     "execution_count": 20,
     "metadata": {},
     "output_type": "execute_result"
    }
   ],
   "source": [
    "accommodates_normalized.head()"
   ]
  },
  {
   "cell_type": "code",
   "execution_count": 21,
   "id": "1759287e",
   "metadata": {},
   "outputs": [
    {
     "data": {
      "text/plain": [
       "Index(['id', 'listing_url', 'scrape_id', 'last_scraped', 'source', 'name',\n",
       "       'description', 'neighborhood_overview', 'picture_url', 'host_id',\n",
       "       'host_url', 'host_name', 'host_since', 'host_location', 'host_about',\n",
       "       'host_response_time', 'host_response_rate', 'host_acceptance_rate',\n",
       "       'host_is_superhost', 'host_thumbnail_url', 'host_picture_url',\n",
       "       'host_neighbourhood', 'host_listings_count',\n",
       "       'host_total_listings_count', 'host_verifications',\n",
       "       'host_has_profile_pic', 'host_identity_verified', 'neighbourhood',\n",
       "       'neighbourhood_cleansed', 'neighbourhood_group_cleansed', 'latitude',\n",
       "       'longitude', 'property_type', 'room_type', 'accommodates', 'bathrooms',\n",
       "       'bathrooms_text', 'bedrooms', 'beds', 'amenities', 'price',\n",
       "       'minimum_nights', 'maximum_nights', 'minimum_minimum_nights',\n",
       "       'maximum_minimum_nights', 'minimum_maximum_nights',\n",
       "       'maximum_maximum_nights', 'minimum_nights_avg_ntm',\n",
       "       'maximum_nights_avg_ntm', 'calendar_updated', 'has_availability',\n",
       "       'availability_30', 'availability_60', 'availability_90',\n",
       "       'availability_365', 'calendar_last_scraped', 'number_of_reviews',\n",
       "       'number_of_reviews_ltm', 'number_of_reviews_l30d', 'first_review',\n",
       "       'last_review', 'review_scores_rating', 'review_scores_accuracy',\n",
       "       'review_scores_cleanliness', 'review_scores_checkin',\n",
       "       'review_scores_communication', 'review_scores_location',\n",
       "       'review_scores_value', 'license', 'instant_bookable',\n",
       "       'calculated_host_listings_count',\n",
       "       'calculated_host_listings_count_entire_homes',\n",
       "       'calculated_host_listings_count_private_rooms',\n",
       "       'calculated_host_listings_count_shared_rooms', 'reviews_per_month'],\n",
       "      dtype='object')"
      ]
     },
     "execution_count": 21,
     "metadata": {},
     "output_type": "execute_result"
    }
   ],
   "source": [
    "madrid.columns"
   ]
  },
  {
   "cell_type": "code",
   "execution_count": 22,
   "id": "bde9801c",
   "metadata": {},
   "outputs": [],
   "source": [
    "df = madrid[['accommodates', 'bathrooms', 'bedrooms', 'price']].copy()"
   ]
  },
  {
   "cell_type": "code",
   "execution_count": 23,
   "id": "a86fdee5",
   "metadata": {},
   "outputs": [
    {
     "data": {
      "text/html": [
       "<div>\n",
       "<style scoped>\n",
       "    .dataframe tbody tr th:only-of-type {\n",
       "        vertical-align: middle;\n",
       "    }\n",
       "\n",
       "    .dataframe tbody tr th {\n",
       "        vertical-align: top;\n",
       "    }\n",
       "\n",
       "    .dataframe thead th {\n",
       "        text-align: right;\n",
       "    }\n",
       "</style>\n",
       "<table border=\"1\" class=\"dataframe\">\n",
       "  <thead>\n",
       "    <tr style=\"text-align: right;\">\n",
       "      <th></th>\n",
       "      <th>accommodates</th>\n",
       "      <th>bathrooms</th>\n",
       "      <th>bedrooms</th>\n",
       "      <th>price</th>\n",
       "    </tr>\n",
       "  </thead>\n",
       "  <tbody>\n",
       "    <tr>\n",
       "      <th>682</th>\n",
       "      <td>4</td>\n",
       "      <td>1.0</td>\n",
       "      <td>1.0</td>\n",
       "      <td>95.0</td>\n",
       "    </tr>\n",
       "    <tr>\n",
       "      <th>11870</th>\n",
       "      <td>4</td>\n",
       "      <td>1.0</td>\n",
       "      <td>1.0</td>\n",
       "      <td>76.0</td>\n",
       "    </tr>\n",
       "    <tr>\n",
       "      <th>3526</th>\n",
       "      <td>4</td>\n",
       "      <td>2.0</td>\n",
       "      <td>2.0</td>\n",
       "      <td>161.0</td>\n",
       "    </tr>\n",
       "    <tr>\n",
       "      <th>13270</th>\n",
       "      <td>4</td>\n",
       "      <td>1.0</td>\n",
       "      <td>1.0</td>\n",
       "      <td>108.0</td>\n",
       "    </tr>\n",
       "    <tr>\n",
       "      <th>15946</th>\n",
       "      <td>4</td>\n",
       "      <td>1.0</td>\n",
       "      <td>1.0</td>\n",
       "      <td>79.0</td>\n",
       "    </tr>\n",
       "  </tbody>\n",
       "</table>\n",
       "</div>"
      ],
      "text/plain": [
       "       accommodates  bathrooms  bedrooms  price\n",
       "682               4        1.0       1.0   95.0\n",
       "11870             4        1.0       1.0   76.0\n",
       "3526              4        2.0       2.0  161.0\n",
       "13270             4        1.0       1.0  108.0\n",
       "15946             4        1.0       1.0   79.0"
      ]
     },
     "execution_count": 23,
     "metadata": {},
     "output_type": "execute_result"
    }
   ],
   "source": [
    "df.head()"
   ]
  },
  {
   "cell_type": "code",
   "execution_count": 24,
   "id": "8fbc5deb",
   "metadata": {},
   "outputs": [],
   "source": [
    "df = df[df['bedrooms'].isna() == False]"
   ]
  },
  {
   "cell_type": "code",
   "execution_count": 25,
   "id": "d75d862f",
   "metadata": {},
   "outputs": [
    {
     "data": {
      "text/html": [
       "<div>\n",
       "<style scoped>\n",
       "    .dataframe tbody tr th:only-of-type {\n",
       "        vertical-align: middle;\n",
       "    }\n",
       "\n",
       "    .dataframe tbody tr th {\n",
       "        vertical-align: top;\n",
       "    }\n",
       "\n",
       "    .dataframe thead th {\n",
       "        text-align: right;\n",
       "    }\n",
       "</style>\n",
       "<table border=\"1\" class=\"dataframe\">\n",
       "  <thead>\n",
       "    <tr style=\"text-align: right;\">\n",
       "      <th></th>\n",
       "      <th>accommodates</th>\n",
       "      <th>bathrooms</th>\n",
       "      <th>bedrooms</th>\n",
       "      <th>price</th>\n",
       "    </tr>\n",
       "  </thead>\n",
       "  <tbody>\n",
       "    <tr>\n",
       "      <th>682</th>\n",
       "      <td>4</td>\n",
       "      <td>1.0</td>\n",
       "      <td>1.0</td>\n",
       "      <td>95.0</td>\n",
       "    </tr>\n",
       "    <tr>\n",
       "      <th>11870</th>\n",
       "      <td>4</td>\n",
       "      <td>1.0</td>\n",
       "      <td>1.0</td>\n",
       "      <td>76.0</td>\n",
       "    </tr>\n",
       "    <tr>\n",
       "      <th>3526</th>\n",
       "      <td>4</td>\n",
       "      <td>2.0</td>\n",
       "      <td>2.0</td>\n",
       "      <td>161.0</td>\n",
       "    </tr>\n",
       "    <tr>\n",
       "      <th>13270</th>\n",
       "      <td>4</td>\n",
       "      <td>1.0</td>\n",
       "      <td>1.0</td>\n",
       "      <td>108.0</td>\n",
       "    </tr>\n",
       "    <tr>\n",
       "      <th>15946</th>\n",
       "      <td>4</td>\n",
       "      <td>1.0</td>\n",
       "      <td>1.0</td>\n",
       "      <td>79.0</td>\n",
       "    </tr>\n",
       "    <tr>\n",
       "      <th>...</th>\n",
       "      <td>...</td>\n",
       "      <td>...</td>\n",
       "      <td>...</td>\n",
       "      <td>...</td>\n",
       "    </tr>\n",
       "    <tr>\n",
       "      <th>3351</th>\n",
       "      <td>1</td>\n",
       "      <td>1.0</td>\n",
       "      <td>1.0</td>\n",
       "      <td>25.0</td>\n",
       "    </tr>\n",
       "    <tr>\n",
       "      <th>970</th>\n",
       "      <td>1</td>\n",
       "      <td>1.5</td>\n",
       "      <td>1.0</td>\n",
       "      <td>20.0</td>\n",
       "    </tr>\n",
       "    <tr>\n",
       "      <th>4766</th>\n",
       "      <td>2</td>\n",
       "      <td>1.5</td>\n",
       "      <td>1.0</td>\n",
       "      <td>20.0</td>\n",
       "    </tr>\n",
       "    <tr>\n",
       "      <th>4563</th>\n",
       "      <td>2</td>\n",
       "      <td>1.0</td>\n",
       "      <td>1.0</td>\n",
       "      <td>32.0</td>\n",
       "    </tr>\n",
       "    <tr>\n",
       "      <th>15043</th>\n",
       "      <td>2</td>\n",
       "      <td>3.0</td>\n",
       "      <td>1.0</td>\n",
       "      <td>29.0</td>\n",
       "    </tr>\n",
       "  </tbody>\n",
       "</table>\n",
       "<p>17742 rows × 4 columns</p>\n",
       "</div>"
      ],
      "text/plain": [
       "       accommodates  bathrooms  bedrooms  price\n",
       "682               4        1.0       1.0   95.0\n",
       "11870             4        1.0       1.0   76.0\n",
       "3526              4        2.0       2.0  161.0\n",
       "13270             4        1.0       1.0  108.0\n",
       "15946             4        1.0       1.0   79.0\n",
       "...             ...        ...       ...    ...\n",
       "3351              1        1.0       1.0   25.0\n",
       "970               1        1.5       1.0   20.0\n",
       "4766              2        1.5       1.0   20.0\n",
       "4563              2        1.0       1.0   32.0\n",
       "15043             2        3.0       1.0   29.0\n",
       "\n",
       "[17742 rows x 4 columns]"
      ]
     },
     "execution_count": 25,
     "metadata": {},
     "output_type": "execute_result"
    }
   ],
   "source": [
    "df"
   ]
  },
  {
   "cell_type": "code",
   "execution_count": 26,
   "id": "0b36fff1",
   "metadata": {},
   "outputs": [
    {
     "data": {
      "text/plain": [
       "0"
      ]
     },
     "execution_count": 26,
     "metadata": {},
     "output_type": "execute_result"
    }
   ],
   "source": [
    "df['bedrooms'].isna().sum()"
   ]
  },
  {
   "cell_type": "code",
   "execution_count": 27,
   "id": "6bd7e929",
   "metadata": {},
   "outputs": [],
   "source": [
    "target = df['price']"
   ]
  },
  {
   "cell_type": "code",
   "execution_count": 28,
   "id": "06b559fa",
   "metadata": {},
   "outputs": [
    {
     "data": {
      "text/plain": [
       "682       95.0\n",
       "11870     76.0\n",
       "3526     161.0\n",
       "13270    108.0\n",
       "15946     79.0\n",
       "Name: price, dtype: float64"
      ]
     },
     "execution_count": 28,
     "metadata": {},
     "output_type": "execute_result"
    }
   ],
   "source": [
    "target.head()"
   ]
  },
  {
   "cell_type": "code",
   "execution_count": 29,
   "id": "b87ccf3c",
   "metadata": {},
   "outputs": [],
   "source": [
    "df = (df- df.mean())/df.std()"
   ]
  },
  {
   "cell_type": "code",
   "execution_count": 30,
   "id": "ac1e4a00",
   "metadata": {},
   "outputs": [
    {
     "data": {
      "text/html": [
       "<div>\n",
       "<style scoped>\n",
       "    .dataframe tbody tr th:only-of-type {\n",
       "        vertical-align: middle;\n",
       "    }\n",
       "\n",
       "    .dataframe tbody tr th {\n",
       "        vertical-align: top;\n",
       "    }\n",
       "\n",
       "    .dataframe thead th {\n",
       "        text-align: right;\n",
       "    }\n",
       "</style>\n",
       "<table border=\"1\" class=\"dataframe\">\n",
       "  <thead>\n",
       "    <tr style=\"text-align: right;\">\n",
       "      <th></th>\n",
       "      <th>accommodates</th>\n",
       "      <th>bathrooms</th>\n",
       "      <th>bedrooms</th>\n",
       "      <th>price</th>\n",
       "    </tr>\n",
       "  </thead>\n",
       "  <tbody>\n",
       "    <tr>\n",
       "      <th>682</th>\n",
       "      <td>0.549637</td>\n",
       "      <td>-0.455273</td>\n",
       "      <td>-0.502651</td>\n",
       "      <td>0.074486</td>\n",
       "    </tr>\n",
       "    <tr>\n",
       "      <th>11870</th>\n",
       "      <td>0.549637</td>\n",
       "      <td>-0.455273</td>\n",
       "      <td>-0.502651</td>\n",
       "      <td>-0.234200</td>\n",
       "    </tr>\n",
       "    <tr>\n",
       "      <th>3526</th>\n",
       "      <td>0.549637</td>\n",
       "      <td>1.186654</td>\n",
       "      <td>0.713334</td>\n",
       "      <td>1.146762</td>\n",
       "    </tr>\n",
       "    <tr>\n",
       "      <th>13270</th>\n",
       "      <td>0.549637</td>\n",
       "      <td>-0.455273</td>\n",
       "      <td>-0.502651</td>\n",
       "      <td>0.285692</td>\n",
       "    </tr>\n",
       "    <tr>\n",
       "      <th>15946</th>\n",
       "      <td>0.549637</td>\n",
       "      <td>-0.455273</td>\n",
       "      <td>-0.502651</td>\n",
       "      <td>-0.185460</td>\n",
       "    </tr>\n",
       "    <tr>\n",
       "      <th>...</th>\n",
       "      <td>...</td>\n",
       "      <td>...</td>\n",
       "      <td>...</td>\n",
       "      <td>...</td>\n",
       "    </tr>\n",
       "    <tr>\n",
       "      <th>3351</th>\n",
       "      <td>-1.133135</td>\n",
       "      <td>-0.455273</td>\n",
       "      <td>-0.502651</td>\n",
       "      <td>-1.062777</td>\n",
       "    </tr>\n",
       "    <tr>\n",
       "      <th>970</th>\n",
       "      <td>-1.133135</td>\n",
       "      <td>0.365690</td>\n",
       "      <td>-0.502651</td>\n",
       "      <td>-1.144010</td>\n",
       "    </tr>\n",
       "    <tr>\n",
       "      <th>4766</th>\n",
       "      <td>-0.572211</td>\n",
       "      <td>0.365690</td>\n",
       "      <td>-0.502651</td>\n",
       "      <td>-1.144010</td>\n",
       "    </tr>\n",
       "    <tr>\n",
       "      <th>4563</th>\n",
       "      <td>-0.572211</td>\n",
       "      <td>-0.455273</td>\n",
       "      <td>-0.502651</td>\n",
       "      <td>-0.949051</td>\n",
       "    </tr>\n",
       "    <tr>\n",
       "      <th>15043</th>\n",
       "      <td>-0.572211</td>\n",
       "      <td>2.828581</td>\n",
       "      <td>-0.502651</td>\n",
       "      <td>-0.997791</td>\n",
       "    </tr>\n",
       "  </tbody>\n",
       "</table>\n",
       "<p>17742 rows × 4 columns</p>\n",
       "</div>"
      ],
      "text/plain": [
       "       accommodates  bathrooms  bedrooms     price\n",
       "682        0.549637  -0.455273 -0.502651  0.074486\n",
       "11870      0.549637  -0.455273 -0.502651 -0.234200\n",
       "3526       0.549637   1.186654  0.713334  1.146762\n",
       "13270      0.549637  -0.455273 -0.502651  0.285692\n",
       "15946      0.549637  -0.455273 -0.502651 -0.185460\n",
       "...             ...        ...       ...       ...\n",
       "3351      -1.133135  -0.455273 -0.502651 -1.062777\n",
       "970       -1.133135   0.365690 -0.502651 -1.144010\n",
       "4766      -0.572211   0.365690 -0.502651 -1.144010\n",
       "4563      -0.572211  -0.455273 -0.502651 -0.949051\n",
       "15043     -0.572211   2.828581 -0.502651 -0.997791\n",
       "\n",
       "[17742 rows x 4 columns]"
      ]
     },
     "execution_count": 30,
     "metadata": {},
     "output_type": "execute_result"
    }
   ],
   "source": [
    "df"
   ]
  },
  {
   "cell_type": "code",
   "execution_count": 31,
   "id": "fb5e0780",
   "metadata": {},
   "outputs": [],
   "source": [
    "df['price'] = target"
   ]
  },
  {
   "cell_type": "code",
   "execution_count": 32,
   "id": "c39c3b2e",
   "metadata": {},
   "outputs": [
    {
     "data": {
      "text/html": [
       "<div>\n",
       "<style scoped>\n",
       "    .dataframe tbody tr th:only-of-type {\n",
       "        vertical-align: middle;\n",
       "    }\n",
       "\n",
       "    .dataframe tbody tr th {\n",
       "        vertical-align: top;\n",
       "    }\n",
       "\n",
       "    .dataframe thead th {\n",
       "        text-align: right;\n",
       "    }\n",
       "</style>\n",
       "<table border=\"1\" class=\"dataframe\">\n",
       "  <thead>\n",
       "    <tr style=\"text-align: right;\">\n",
       "      <th></th>\n",
       "      <th>accommodates</th>\n",
       "      <th>bathrooms</th>\n",
       "      <th>bedrooms</th>\n",
       "      <th>price</th>\n",
       "    </tr>\n",
       "  </thead>\n",
       "  <tbody>\n",
       "    <tr>\n",
       "      <th>682</th>\n",
       "      <td>0.549637</td>\n",
       "      <td>-0.455273</td>\n",
       "      <td>-0.502651</td>\n",
       "      <td>95.0</td>\n",
       "    </tr>\n",
       "    <tr>\n",
       "      <th>11870</th>\n",
       "      <td>0.549637</td>\n",
       "      <td>-0.455273</td>\n",
       "      <td>-0.502651</td>\n",
       "      <td>76.0</td>\n",
       "    </tr>\n",
       "    <tr>\n",
       "      <th>3526</th>\n",
       "      <td>0.549637</td>\n",
       "      <td>1.186654</td>\n",
       "      <td>0.713334</td>\n",
       "      <td>161.0</td>\n",
       "    </tr>\n",
       "    <tr>\n",
       "      <th>13270</th>\n",
       "      <td>0.549637</td>\n",
       "      <td>-0.455273</td>\n",
       "      <td>-0.502651</td>\n",
       "      <td>108.0</td>\n",
       "    </tr>\n",
       "    <tr>\n",
       "      <th>15946</th>\n",
       "      <td>0.549637</td>\n",
       "      <td>-0.455273</td>\n",
       "      <td>-0.502651</td>\n",
       "      <td>79.0</td>\n",
       "    </tr>\n",
       "  </tbody>\n",
       "</table>\n",
       "</div>"
      ],
      "text/plain": [
       "       accommodates  bathrooms  bedrooms  price\n",
       "682        0.549637  -0.455273 -0.502651   95.0\n",
       "11870      0.549637  -0.455273 -0.502651   76.0\n",
       "3526       0.549637   1.186654  0.713334  161.0\n",
       "13270      0.549637  -0.455273 -0.502651  108.0\n",
       "15946      0.549637  -0.455273 -0.502651   79.0"
      ]
     },
     "execution_count": 32,
     "metadata": {},
     "output_type": "execute_result"
    }
   ],
   "source": [
    "df.head()"
   ]
  },
  {
   "cell_type": "code",
   "execution_count": 33,
   "id": "16efc532",
   "metadata": {},
   "outputs": [],
   "source": [
    "# instalar el paquete scipy\n",
    "# en el entorno: pip install scipy\n",
    "from scipy.spatial import distance"
   ]
  },
  {
   "cell_type": "code",
   "execution_count": 34,
   "id": "4b54de72",
   "metadata": {},
   "outputs": [
    {
     "data": {
      "text/plain": [
       "1.0"
      ]
     },
     "execution_count": 34,
     "metadata": {},
     "output_type": "execute_result"
    }
   ],
   "source": [
    "distance.euclidean([3], [2])"
   ]
  },
  {
   "cell_type": "code",
   "execution_count": 35,
   "id": "a15091f4",
   "metadata": {},
   "outputs": [
    {
     "data": {
      "text/plain": [
       "3.605551275463989"
      ]
     },
     "execution_count": 35,
     "metadata": {},
     "output_type": "execute_result"
    }
   ],
   "source": [
    "distance.euclidean([1,2], [4,0])"
   ]
  },
  {
   "cell_type": "code",
   "execution_count": 36,
   "id": "36ae4677",
   "metadata": {},
   "outputs": [
    {
     "data": {
      "text/plain": [
       "7.937253933193772"
      ]
     },
     "execution_count": 36,
     "metadata": {},
     "output_type": "execute_result"
    }
   ],
   "source": [
    "distance.euclidean([1,2,7,5], [7,3,8,0])"
   ]
  },
  {
   "cell_type": "code",
   "execution_count": 37,
   "id": "0235df32",
   "metadata": {},
   "outputs": [
    {
     "data": {
      "text/plain": [
       "2.8012506720042434"
      ]
     },
     "execution_count": 37,
     "metadata": {},
     "output_type": "execute_result"
    }
   ],
   "source": [
    "distance.euclidean(\n",
    "    df[['accommodates','bathrooms', 'bedrooms']].iloc[0],\n",
    "    df[['accommodates','bathrooms', 'bedrooms']].iloc[55]\n",
    ")"
   ]
  },
  {
   "cell_type": "markdown",
   "id": "b850d8c3",
   "metadata": {},
   "source": [
    "# SCIKIT - Learn\n",
    "\n",
    "Tiene casi todos los algoritmos de aprendizaje automático, si bien no está especializada en Redes neuronales (*deep learning*)\n",
    "\n",
    "La librería se llama `sklearn`, se instala con `pip install sklearn`\n",
    "\n"
   ]
  },
  {
   "cell_type": "code",
   "execution_count": null,
   "id": "9468f908",
   "metadata": {},
   "outputs": [],
   "source": []
  },
  {
   "cell_type": "markdown",
   "id": "310ca65b",
   "metadata": {},
   "source": [
    "Flujo de trabajo: \n",
    "- Instalar el algoritmo que queremos usar. Cada uno es una clase de Python. Tenemos que identificar qué algoritmo queremos\n",
    "- Crear una instancia del algoritmo\n",
    "- Ajustamos el modelo a los datos de entrenamiento (*fit*), 'crea la función predictora)\n",
    "- Hacemos predicciones con el modelo\n",
    "- Evaluamos la predicción\n"
   ]
  },
  {
   "cell_type": "code",
   "execution_count": null,
   "id": "2e7f7d2d",
   "metadata": {},
   "outputs": [],
   "source": []
  },
  {
   "cell_type": "markdown",
   "id": "e270b2af",
   "metadata": {},
   "source": [
    "### 1. Instalar el algoritmo que queremos \n",
    "- Tenemos que importarlo\n",
    "- ¿Cuál es? https://scikit-learn.org/stable/modules/generated/sklearn.neighbors.KNeighborsRegressor.html#sklearn.neighbors.KNeighborsRegressor, porque queremos un valor numérico\n",
    "    "
   ]
  },
  {
   "cell_type": "code",
   "execution_count": 38,
   "id": "8a05ca11",
   "metadata": {},
   "outputs": [],
   "source": [
    "from sklearn.neighbors import KNeighborsRegressor"
   ]
  },
  {
   "cell_type": "code",
   "execution_count": 39,
   "id": "29fa6238",
   "metadata": {},
   "outputs": [],
   "source": [
    "# creo la instancia del algoritmo\n",
    "knn = KNeighborsRegressor()"
   ]
  },
  {
   "cell_type": "code",
   "execution_count": 40,
   "id": "202238a4",
   "metadata": {},
   "outputs": [
    {
     "data": {
      "text/html": [
       "<style>#sk-container-id-1 {color: black;background-color: white;}#sk-container-id-1 pre{padding: 0;}#sk-container-id-1 div.sk-toggleable {background-color: white;}#sk-container-id-1 label.sk-toggleable__label {cursor: pointer;display: block;width: 100%;margin-bottom: 0;padding: 0.3em;box-sizing: border-box;text-align: center;}#sk-container-id-1 label.sk-toggleable__label-arrow:before {content: \"▸\";float: left;margin-right: 0.25em;color: #696969;}#sk-container-id-1 label.sk-toggleable__label-arrow:hover:before {color: black;}#sk-container-id-1 div.sk-estimator:hover label.sk-toggleable__label-arrow:before {color: black;}#sk-container-id-1 div.sk-toggleable__content {max-height: 0;max-width: 0;overflow: hidden;text-align: left;background-color: #f0f8ff;}#sk-container-id-1 div.sk-toggleable__content pre {margin: 0.2em;color: black;border-radius: 0.25em;background-color: #f0f8ff;}#sk-container-id-1 input.sk-toggleable__control:checked~div.sk-toggleable__content {max-height: 200px;max-width: 100%;overflow: auto;}#sk-container-id-1 input.sk-toggleable__control:checked~label.sk-toggleable__label-arrow:before {content: \"▾\";}#sk-container-id-1 div.sk-estimator input.sk-toggleable__control:checked~label.sk-toggleable__label {background-color: #d4ebff;}#sk-container-id-1 div.sk-label input.sk-toggleable__control:checked~label.sk-toggleable__label {background-color: #d4ebff;}#sk-container-id-1 input.sk-hidden--visually {border: 0;clip: rect(1px 1px 1px 1px);clip: rect(1px, 1px, 1px, 1px);height: 1px;margin: -1px;overflow: hidden;padding: 0;position: absolute;width: 1px;}#sk-container-id-1 div.sk-estimator {font-family: monospace;background-color: #f0f8ff;border: 1px dotted black;border-radius: 0.25em;box-sizing: border-box;margin-bottom: 0.5em;}#sk-container-id-1 div.sk-estimator:hover {background-color: #d4ebff;}#sk-container-id-1 div.sk-parallel-item::after {content: \"\";width: 100%;border-bottom: 1px solid gray;flex-grow: 1;}#sk-container-id-1 div.sk-label:hover label.sk-toggleable__label {background-color: #d4ebff;}#sk-container-id-1 div.sk-serial::before {content: \"\";position: absolute;border-left: 1px solid gray;box-sizing: border-box;top: 0;bottom: 0;left: 50%;z-index: 0;}#sk-container-id-1 div.sk-serial {display: flex;flex-direction: column;align-items: center;background-color: white;padding-right: 0.2em;padding-left: 0.2em;position: relative;}#sk-container-id-1 div.sk-item {position: relative;z-index: 1;}#sk-container-id-1 div.sk-parallel {display: flex;align-items: stretch;justify-content: center;background-color: white;position: relative;}#sk-container-id-1 div.sk-item::before, #sk-container-id-1 div.sk-parallel-item::before {content: \"\";position: absolute;border-left: 1px solid gray;box-sizing: border-box;top: 0;bottom: 0;left: 50%;z-index: -1;}#sk-container-id-1 div.sk-parallel-item {display: flex;flex-direction: column;z-index: 1;position: relative;background-color: white;}#sk-container-id-1 div.sk-parallel-item:first-child::after {align-self: flex-end;width: 50%;}#sk-container-id-1 div.sk-parallel-item:last-child::after {align-self: flex-start;width: 50%;}#sk-container-id-1 div.sk-parallel-item:only-child::after {width: 0;}#sk-container-id-1 div.sk-dashed-wrapped {border: 1px dashed gray;margin: 0 0.4em 0.5em 0.4em;box-sizing: border-box;padding-bottom: 0.4em;background-color: white;}#sk-container-id-1 div.sk-label label {font-family: monospace;font-weight: bold;display: inline-block;line-height: 1.2em;}#sk-container-id-1 div.sk-label-container {text-align: center;}#sk-container-id-1 div.sk-container {/* jupyter's `normalize.less` sets `[hidden] { display: none; }` but bootstrap.min.css set `[hidden] { display: none !important; }` so we also need the `!important` here to be able to override the default hidden behavior on the sphinx rendered scikit-learn.org. See: https://github.com/scikit-learn/scikit-learn/issues/21755 */display: inline-block !important;position: relative;}#sk-container-id-1 div.sk-text-repr-fallback {display: none;}</style><div id=\"sk-container-id-1\" class=\"sk-top-container\"><div class=\"sk-text-repr-fallback\"><pre>KNeighborsRegressor()</pre><b>In a Jupyter environment, please rerun this cell to show the HTML representation or trust the notebook. <br />On GitHub, the HTML representation is unable to render, please try loading this page with nbviewer.org.</b></div><div class=\"sk-container\" hidden><div class=\"sk-item\"><div class=\"sk-estimator sk-toggleable\"><input class=\"sk-toggleable__control sk-hidden--visually\" id=\"sk-estimator-id-1\" type=\"checkbox\" checked><label for=\"sk-estimator-id-1\" class=\"sk-toggleable__label sk-toggleable__label-arrow\">KNeighborsRegressor</label><div class=\"sk-toggleable__content\"><pre>KNeighborsRegressor()</pre></div></div></div></div></div>"
      ],
      "text/plain": [
       "KNeighborsRegressor()"
      ]
     },
     "execution_count": 40,
     "metadata": {},
     "output_type": "execute_result"
    }
   ],
   "source": [
    "knn\n"
   ]
  },
  {
   "cell_type": "markdown",
   "id": "fcff3c78",
   "metadata": {},
   "source": [
    "Documentación:\n",
    "\n",
    "```python\n",
    "class sklearn.neighbors.KNeighborsRegressor(n_neighbors=5, *, weights='uniform', algorithm='auto', leaf_size=30, p=2, metric='minkowski', metric_params=None, n_jobs=None)[source]\n",
    "```\n",
    "\n",
    "- n_neighbors=5, el número de vecinos, i.e. k\n",
    "- p = algoritmo de distancia (2 es euclidiana)\n",
    "- weights: 'uniform' es la media, es el peso que tiene cada vecino en el resultado\n",
    "- algorithm, el algoritmo que se usa para comparar las distancias, es el algoritmo que 'elige' donde buscar a los vecinos. 'brute', miramos todos para ver cual está más cercano, los demás optimizan el cálculo, que no el resultado"
   ]
  },
  {
   "cell_type": "code",
   "execution_count": 41,
   "id": "f290ba52",
   "metadata": {},
   "outputs": [],
   "source": [
    "knn = KNeighborsRegressor(n_neighbors=5, algorithm='brute') # se compararán todos y con un k=5"
   ]
  },
  {
   "cell_type": "code",
   "execution_count": 42,
   "id": "17aa7618",
   "metadata": {},
   "outputs": [],
   "source": [
    "split_position = math.trunc(df.shape[0]*0.8)"
   ]
  },
  {
   "cell_type": "code",
   "execution_count": null,
   "id": "5ef0beea",
   "metadata": {},
   "outputs": [],
   "source": []
  },
  {
   "cell_type": "code",
   "execution_count": 43,
   "id": "43917828",
   "metadata": {},
   "outputs": [
    {
     "data": {
      "text/plain": [
       "14193"
      ]
     },
     "execution_count": 43,
     "metadata": {},
     "output_type": "execute_result"
    }
   ],
   "source": [
    "split_position"
   ]
  },
  {
   "cell_type": "code",
   "execution_count": 44,
   "id": "64933cfe",
   "metadata": {},
   "outputs": [],
   "source": [
    "train = df.iloc[:split_position].copy()\n",
    "test = df.iloc[split_position:].copy()"
   ]
  },
  {
   "cell_type": "code",
   "execution_count": null,
   "id": "788b8bf5",
   "metadata": {},
   "outputs": [],
   "source": []
  },
  {
   "cell_type": "code",
   "execution_count": 45,
   "id": "30e94534",
   "metadata": {},
   "outputs": [
    {
     "data": {
      "text/plain": [
       "(14193, 4)"
      ]
     },
     "execution_count": 45,
     "metadata": {},
     "output_type": "execute_result"
    }
   ],
   "source": [
    "train.shape"
   ]
  },
  {
   "cell_type": "code",
   "execution_count": 46,
   "id": "3927d387",
   "metadata": {},
   "outputs": [
    {
     "data": {
      "text/html": [
       "<style>#sk-container-id-2 {color: black;background-color: white;}#sk-container-id-2 pre{padding: 0;}#sk-container-id-2 div.sk-toggleable {background-color: white;}#sk-container-id-2 label.sk-toggleable__label {cursor: pointer;display: block;width: 100%;margin-bottom: 0;padding: 0.3em;box-sizing: border-box;text-align: center;}#sk-container-id-2 label.sk-toggleable__label-arrow:before {content: \"▸\";float: left;margin-right: 0.25em;color: #696969;}#sk-container-id-2 label.sk-toggleable__label-arrow:hover:before {color: black;}#sk-container-id-2 div.sk-estimator:hover label.sk-toggleable__label-arrow:before {color: black;}#sk-container-id-2 div.sk-toggleable__content {max-height: 0;max-width: 0;overflow: hidden;text-align: left;background-color: #f0f8ff;}#sk-container-id-2 div.sk-toggleable__content pre {margin: 0.2em;color: black;border-radius: 0.25em;background-color: #f0f8ff;}#sk-container-id-2 input.sk-toggleable__control:checked~div.sk-toggleable__content {max-height: 200px;max-width: 100%;overflow: auto;}#sk-container-id-2 input.sk-toggleable__control:checked~label.sk-toggleable__label-arrow:before {content: \"▾\";}#sk-container-id-2 div.sk-estimator input.sk-toggleable__control:checked~label.sk-toggleable__label {background-color: #d4ebff;}#sk-container-id-2 div.sk-label input.sk-toggleable__control:checked~label.sk-toggleable__label {background-color: #d4ebff;}#sk-container-id-2 input.sk-hidden--visually {border: 0;clip: rect(1px 1px 1px 1px);clip: rect(1px, 1px, 1px, 1px);height: 1px;margin: -1px;overflow: hidden;padding: 0;position: absolute;width: 1px;}#sk-container-id-2 div.sk-estimator {font-family: monospace;background-color: #f0f8ff;border: 1px dotted black;border-radius: 0.25em;box-sizing: border-box;margin-bottom: 0.5em;}#sk-container-id-2 div.sk-estimator:hover {background-color: #d4ebff;}#sk-container-id-2 div.sk-parallel-item::after {content: \"\";width: 100%;border-bottom: 1px solid gray;flex-grow: 1;}#sk-container-id-2 div.sk-label:hover label.sk-toggleable__label {background-color: #d4ebff;}#sk-container-id-2 div.sk-serial::before {content: \"\";position: absolute;border-left: 1px solid gray;box-sizing: border-box;top: 0;bottom: 0;left: 50%;z-index: 0;}#sk-container-id-2 div.sk-serial {display: flex;flex-direction: column;align-items: center;background-color: white;padding-right: 0.2em;padding-left: 0.2em;position: relative;}#sk-container-id-2 div.sk-item {position: relative;z-index: 1;}#sk-container-id-2 div.sk-parallel {display: flex;align-items: stretch;justify-content: center;background-color: white;position: relative;}#sk-container-id-2 div.sk-item::before, #sk-container-id-2 div.sk-parallel-item::before {content: \"\";position: absolute;border-left: 1px solid gray;box-sizing: border-box;top: 0;bottom: 0;left: 50%;z-index: -1;}#sk-container-id-2 div.sk-parallel-item {display: flex;flex-direction: column;z-index: 1;position: relative;background-color: white;}#sk-container-id-2 div.sk-parallel-item:first-child::after {align-self: flex-end;width: 50%;}#sk-container-id-2 div.sk-parallel-item:last-child::after {align-self: flex-start;width: 50%;}#sk-container-id-2 div.sk-parallel-item:only-child::after {width: 0;}#sk-container-id-2 div.sk-dashed-wrapped {border: 1px dashed gray;margin: 0 0.4em 0.5em 0.4em;box-sizing: border-box;padding-bottom: 0.4em;background-color: white;}#sk-container-id-2 div.sk-label label {font-family: monospace;font-weight: bold;display: inline-block;line-height: 1.2em;}#sk-container-id-2 div.sk-label-container {text-align: center;}#sk-container-id-2 div.sk-container {/* jupyter's `normalize.less` sets `[hidden] { display: none; }` but bootstrap.min.css set `[hidden] { display: none !important; }` so we also need the `!important` here to be able to override the default hidden behavior on the sphinx rendered scikit-learn.org. See: https://github.com/scikit-learn/scikit-learn/issues/21755 */display: inline-block !important;position: relative;}#sk-container-id-2 div.sk-text-repr-fallback {display: none;}</style><div id=\"sk-container-id-2\" class=\"sk-top-container\"><div class=\"sk-text-repr-fallback\"><pre>KNeighborsRegressor(algorithm=&#x27;brute&#x27;)</pre><b>In a Jupyter environment, please rerun this cell to show the HTML representation or trust the notebook. <br />On GitHub, the HTML representation is unable to render, please try loading this page with nbviewer.org.</b></div><div class=\"sk-container\" hidden><div class=\"sk-item\"><div class=\"sk-estimator sk-toggleable\"><input class=\"sk-toggleable__control sk-hidden--visually\" id=\"sk-estimator-id-2\" type=\"checkbox\" checked><label for=\"sk-estimator-id-2\" class=\"sk-toggleable__label sk-toggleable__label-arrow\">KNeighborsRegressor</label><div class=\"sk-toggleable__content\"><pre>KNeighborsRegressor(algorithm=&#x27;brute&#x27;)</pre></div></div></div></div></div>"
      ],
      "text/plain": [
       "KNeighborsRegressor(algorithm='brute')"
      ]
     },
     "execution_count": 46,
     "metadata": {},
     "output_type": "execute_result"
    }
   ],
   "source": [
    "knn.fit(\n",
    "    train[['accommodates','bathrooms', 'bedrooms']],\n",
    "    train['price']\n",
    ")"
   ]
  },
  {
   "cell_type": "markdown",
   "id": "d319c630",
   "metadata": {},
   "source": [
    "Al llamar a `fit()` sklearn almacena los datos dentro de la instancia de knn. Si le pasamos algún valor erroneo para el algoritmo (nulos, no numéricos) nos dará el error en el momento del *fit* "
   ]
  },
  {
   "cell_type": "code",
   "execution_count": 47,
   "id": "24125d88",
   "metadata": {},
   "outputs": [],
   "source": [
    "# predecimos con predict\n",
    "\n",
    "predicciones = knn.predict(test[['accommodates','bathrooms', 'bedrooms']])"
   ]
  },
  {
   "cell_type": "code",
   "execution_count": 48,
   "id": "130faa50",
   "metadata": {},
   "outputs": [
    {
     "data": {
      "text/plain": [
       "array([213.4, 177.8,  92.4, ...,  60.4,  78.6,  38.4])"
      ]
     },
     "execution_count": 48,
     "metadata": {},
     "output_type": "execute_result"
    }
   ],
   "source": [
    "predicciones"
   ]
  },
  {
   "cell_type": "code",
   "execution_count": 49,
   "id": "a488ec2a",
   "metadata": {},
   "outputs": [],
   "source": [
    "test['predicted_price'] = predicciones.copy()"
   ]
  },
  {
   "cell_type": "code",
   "execution_count": 50,
   "id": "646eda5a",
   "metadata": {},
   "outputs": [
    {
     "data": {
      "text/html": [
       "<div>\n",
       "<style scoped>\n",
       "    .dataframe tbody tr th:only-of-type {\n",
       "        vertical-align: middle;\n",
       "    }\n",
       "\n",
       "    .dataframe tbody tr th {\n",
       "        vertical-align: top;\n",
       "    }\n",
       "\n",
       "    .dataframe thead th {\n",
       "        text-align: right;\n",
       "    }\n",
       "</style>\n",
       "<table border=\"1\" class=\"dataframe\">\n",
       "  <thead>\n",
       "    <tr style=\"text-align: right;\">\n",
       "      <th></th>\n",
       "      <th>accommodates</th>\n",
       "      <th>bathrooms</th>\n",
       "      <th>bedrooms</th>\n",
       "      <th>price</th>\n",
       "      <th>predicted_price</th>\n",
       "    </tr>\n",
       "  </thead>\n",
       "  <tbody>\n",
       "    <tr>\n",
       "      <th>3351</th>\n",
       "      <td>-1.133135</td>\n",
       "      <td>-0.455273</td>\n",
       "      <td>-0.502651</td>\n",
       "      <td>25.0</td>\n",
       "      <td>37.0</td>\n",
       "    </tr>\n",
       "    <tr>\n",
       "      <th>970</th>\n",
       "      <td>-1.133135</td>\n",
       "      <td>0.365690</td>\n",
       "      <td>-0.502651</td>\n",
       "      <td>20.0</td>\n",
       "      <td>29.8</td>\n",
       "    </tr>\n",
       "    <tr>\n",
       "      <th>4766</th>\n",
       "      <td>-0.572211</td>\n",
       "      <td>0.365690</td>\n",
       "      <td>-0.502651</td>\n",
       "      <td>20.0</td>\n",
       "      <td>60.4</td>\n",
       "    </tr>\n",
       "    <tr>\n",
       "      <th>4563</th>\n",
       "      <td>-0.572211</td>\n",
       "      <td>-0.455273</td>\n",
       "      <td>-0.502651</td>\n",
       "      <td>32.0</td>\n",
       "      <td>78.6</td>\n",
       "    </tr>\n",
       "    <tr>\n",
       "      <th>15043</th>\n",
       "      <td>-0.572211</td>\n",
       "      <td>2.828581</td>\n",
       "      <td>-0.502651</td>\n",
       "      <td>29.0</td>\n",
       "      <td>38.4</td>\n",
       "    </tr>\n",
       "  </tbody>\n",
       "</table>\n",
       "</div>"
      ],
      "text/plain": [
       "       accommodates  bathrooms  bedrooms  price  predicted_price\n",
       "3351      -1.133135  -0.455273 -0.502651   25.0             37.0\n",
       "970       -1.133135   0.365690 -0.502651   20.0             29.8\n",
       "4766      -0.572211   0.365690 -0.502651   20.0             60.4\n",
       "4563      -0.572211  -0.455273 -0.502651   32.0             78.6\n",
       "15043     -0.572211   2.828581 -0.502651   29.0             38.4"
      ]
     },
     "execution_count": 50,
     "metadata": {},
     "output_type": "execute_result"
    }
   ],
   "source": [
    "test.tail()"
   ]
  },
  {
   "cell_type": "markdown",
   "id": "7dab2e64",
   "metadata": {},
   "source": [
    "Vamos a calcular el MSE con sklearn"
   ]
  },
  {
   "cell_type": "code",
   "execution_count": 51,
   "id": "207bbbad",
   "metadata": {},
   "outputs": [],
   "source": [
    "from sklearn.metrics import mean_squared_error"
   ]
  },
  {
   "cell_type": "code",
   "execution_count": 52,
   "id": "170a8c69",
   "metadata": {},
   "outputs": [],
   "source": [
    "mse = mean_squared_error(test['price'], test['predicted_price'] )"
   ]
  },
  {
   "cell_type": "code",
   "execution_count": 53,
   "id": "a7145a32",
   "metadata": {},
   "outputs": [
    {
     "data": {
      "text/plain": [
       "2481.853998309383"
      ]
     },
     "execution_count": 53,
     "metadata": {},
     "output_type": "execute_result"
    }
   ],
   "source": [
    "mse"
   ]
  },
  {
   "cell_type": "code",
   "execution_count": 54,
   "id": "7c082888",
   "metadata": {},
   "outputs": [],
   "source": [
    "rmse = mse**0.5"
   ]
  },
  {
   "cell_type": "code",
   "execution_count": 55,
   "id": "30605885",
   "metadata": {},
   "outputs": [
    {
     "data": {
      "text/plain": [
       "49.81820950525403"
      ]
     },
     "execution_count": 55,
     "metadata": {},
     "output_type": "execute_result"
    }
   ],
   "source": [
    "rmse"
   ]
  },
  {
   "cell_type": "markdown",
   "id": "84c37575",
   "metadata": {},
   "source": [
    "# ¿Y si incorporamos la posición?"
   ]
  },
  {
   "cell_type": "markdown",
   "id": "3e9fb934",
   "metadata": {},
   "source": [
    "Con valores de lat, long, podemos calcular la distancia al centro\n",
    "\n"
   ]
  },
  {
   "cell_type": "code",
   "execution_count": 59,
   "id": "5e9ee67d",
   "metadata": {},
   "outputs": [
    {
     "data": {
      "text/html": [
       "<div>\n",
       "<style scoped>\n",
       "    .dataframe tbody tr th:only-of-type {\n",
       "        vertical-align: middle;\n",
       "    }\n",
       "\n",
       "    .dataframe tbody tr th {\n",
       "        vertical-align: top;\n",
       "    }\n",
       "\n",
       "    .dataframe thead th {\n",
       "        text-align: right;\n",
       "    }\n",
       "</style>\n",
       "<table border=\"1\" class=\"dataframe\">\n",
       "  <thead>\n",
       "    <tr style=\"text-align: right;\">\n",
       "      <th></th>\n",
       "      <th>latitude</th>\n",
       "      <th>longitude</th>\n",
       "    </tr>\n",
       "  </thead>\n",
       "  <tbody>\n",
       "    <tr>\n",
       "      <th>682</th>\n",
       "      <td>40.40945</td>\n",
       "      <td>-3.70965</td>\n",
       "    </tr>\n",
       "    <tr>\n",
       "      <th>11870</th>\n",
       "      <td>40.41662</td>\n",
       "      <td>-3.70406</td>\n",
       "    </tr>\n",
       "    <tr>\n",
       "      <th>3526</th>\n",
       "      <td>40.42671</td>\n",
       "      <td>-3.69040</td>\n",
       "    </tr>\n",
       "    <tr>\n",
       "      <th>13270</th>\n",
       "      <td>40.40112</td>\n",
       "      <td>-3.66967</td>\n",
       "    </tr>\n",
       "    <tr>\n",
       "      <th>15946</th>\n",
       "      <td>40.37992</td>\n",
       "      <td>-3.69413</td>\n",
       "    </tr>\n",
       "    <tr>\n",
       "      <th>...</th>\n",
       "      <td>...</td>\n",
       "      <td>...</td>\n",
       "    </tr>\n",
       "    <tr>\n",
       "      <th>3351</th>\n",
       "      <td>40.43522</td>\n",
       "      <td>-3.70723</td>\n",
       "    </tr>\n",
       "    <tr>\n",
       "      <th>970</th>\n",
       "      <td>40.42700</td>\n",
       "      <td>-3.63119</td>\n",
       "    </tr>\n",
       "    <tr>\n",
       "      <th>4766</th>\n",
       "      <td>40.39059</td>\n",
       "      <td>-3.71294</td>\n",
       "    </tr>\n",
       "    <tr>\n",
       "      <th>4563</th>\n",
       "      <td>40.39789</td>\n",
       "      <td>-3.70153</td>\n",
       "    </tr>\n",
       "    <tr>\n",
       "      <th>15043</th>\n",
       "      <td>40.41259</td>\n",
       "      <td>-3.70584</td>\n",
       "    </tr>\n",
       "  </tbody>\n",
       "</table>\n",
       "<p>19130 rows × 2 columns</p>\n",
       "</div>"
      ],
      "text/plain": [
       "       latitude  longitude\n",
       "682    40.40945   -3.70965\n",
       "11870  40.41662   -3.70406\n",
       "3526   40.42671   -3.69040\n",
       "13270  40.40112   -3.66967\n",
       "15946  40.37992   -3.69413\n",
       "...         ...        ...\n",
       "3351   40.43522   -3.70723\n",
       "970    40.42700   -3.63119\n",
       "4766   40.39059   -3.71294\n",
       "4563   40.39789   -3.70153\n",
       "15043  40.41259   -3.70584\n",
       "\n",
       "[19130 rows x 2 columns]"
      ]
     },
     "execution_count": 59,
     "metadata": {},
     "output_type": "execute_result"
    }
   ],
   "source": [
    "madrid[['latitude', 'longitude']]"
   ]
  },
  {
   "cell_type": "code",
   "execution_count": 63,
   "id": "3583d9f9",
   "metadata": {},
   "outputs": [
    {
     "data": {
      "text/plain": [
       "2123.3335776464714"
      ]
     },
     "execution_count": 63,
     "metadata": {},
     "output_type": "execute_result"
    }
   ],
   "source": [
    "## haversine distance\n",
    " # pip install haversine\n",
    "from haversine import haversine, Unit\n",
    "\n",
    "# puerta de alcalá\n",
    "center = (40.419991, -3.688737)\n",
    "first = (madrid.iloc[0]['latitude'], madrid.iloc[0]['longitude'])\n",
    "\n",
    "haversine(center, first, Unit.METERS)\n"
   ]
  },
  {
   "cell_type": "code",
   "execution_count": 72,
   "id": "ef7aacfa",
   "metadata": {},
   "outputs": [],
   "source": [
    "def calcula_distancia(punto):\n",
    "    return haversine(punto, center, Unit.METERS)\n",
    "\n",
    "madrid['distance'] = madrid[['latitude', 'longitude']].apply(calcula_distancia, axis=1)"
   ]
  },
  {
   "cell_type": "code",
   "execution_count": 74,
   "id": "5c478dfa",
   "metadata": {},
   "outputs": [],
   "source": [
    "df = madrid[['accommodates', 'distance', 'price']]"
   ]
  },
  {
   "cell_type": "code",
   "execution_count": 75,
   "id": "d29ece36",
   "metadata": {},
   "outputs": [],
   "source": [
    "target = df['price'].copy()\n"
   ]
  },
  {
   "cell_type": "code",
   "execution_count": 76,
   "id": "d02ac7e2",
   "metadata": {},
   "outputs": [],
   "source": [
    "df = (df - df.mean())/df.std()"
   ]
  },
  {
   "cell_type": "code",
   "execution_count": 77,
   "id": "7e669988",
   "metadata": {},
   "outputs": [
    {
     "data": {
      "text/html": [
       "<div>\n",
       "<style scoped>\n",
       "    .dataframe tbody tr th:only-of-type {\n",
       "        vertical-align: middle;\n",
       "    }\n",
       "\n",
       "    .dataframe tbody tr th {\n",
       "        vertical-align: top;\n",
       "    }\n",
       "\n",
       "    .dataframe thead th {\n",
       "        text-align: right;\n",
       "    }\n",
       "</style>\n",
       "<table border=\"1\" class=\"dataframe\">\n",
       "  <thead>\n",
       "    <tr style=\"text-align: right;\">\n",
       "      <th></th>\n",
       "      <th>accommodates</th>\n",
       "      <th>distance</th>\n",
       "      <th>price</th>\n",
       "    </tr>\n",
       "  </thead>\n",
       "  <tbody>\n",
       "    <tr>\n",
       "      <th>682</th>\n",
       "      <td>0.586284</td>\n",
       "      <td>-0.336567</td>\n",
       "      <td>0.086201</td>\n",
       "    </tr>\n",
       "    <tr>\n",
       "      <th>11870</th>\n",
       "      <td>0.586284</td>\n",
       "      <td>-0.654523</td>\n",
       "      <td>-0.228800</td>\n",
       "    </tr>\n",
       "    <tr>\n",
       "      <th>3526</th>\n",
       "      <td>0.586284</td>\n",
       "      <td>-0.897181</td>\n",
       "      <td>1.180414</td>\n",
       "    </tr>\n",
       "    <tr>\n",
       "      <th>13270</th>\n",
       "      <td>0.586284</td>\n",
       "      <td>-0.120989</td>\n",
       "      <td>0.301728</td>\n",
       "    </tr>\n",
       "    <tr>\n",
       "      <th>15946</th>\n",
       "      <td>0.586284</td>\n",
       "      <td>0.632309</td>\n",
       "      <td>-0.179063</td>\n",
       "    </tr>\n",
       "    <tr>\n",
       "      <th>...</th>\n",
       "      <td>...</td>\n",
       "      <td>...</td>\n",
       "      <td>...</td>\n",
       "    </tr>\n",
       "    <tr>\n",
       "      <th>3351</th>\n",
       "      <td>-1.133111</td>\n",
       "      <td>-0.261420</td>\n",
       "      <td>-1.074329</td>\n",
       "    </tr>\n",
       "    <tr>\n",
       "      <th>970</th>\n",
       "      <td>-1.133111</td>\n",
       "      <td>0.819137</td>\n",
       "      <td>-1.157224</td>\n",
       "    </tr>\n",
       "    <tr>\n",
       "      <th>4766</th>\n",
       "      <td>-0.559979</td>\n",
       "      <td>0.377072</td>\n",
       "      <td>-1.157224</td>\n",
       "    </tr>\n",
       "    <tr>\n",
       "      <th>4563</th>\n",
       "      <td>-0.559979</td>\n",
       "      <td>-0.105297</td>\n",
       "      <td>-0.958276</td>\n",
       "    </tr>\n",
       "    <tr>\n",
       "      <th>15043</th>\n",
       "      <td>-0.559979</td>\n",
       "      <td>-0.524889</td>\n",
       "      <td>-1.008013</td>\n",
       "    </tr>\n",
       "  </tbody>\n",
       "</table>\n",
       "<p>19130 rows × 3 columns</p>\n",
       "</div>"
      ],
      "text/plain": [
       "       accommodates  distance     price\n",
       "682        0.586284 -0.336567  0.086201\n",
       "11870      0.586284 -0.654523 -0.228800\n",
       "3526       0.586284 -0.897181  1.180414\n",
       "13270      0.586284 -0.120989  0.301728\n",
       "15946      0.586284  0.632309 -0.179063\n",
       "...             ...       ...       ...\n",
       "3351      -1.133111 -0.261420 -1.074329\n",
       "970       -1.133111  0.819137 -1.157224\n",
       "4766      -0.559979  0.377072 -1.157224\n",
       "4563      -0.559979 -0.105297 -0.958276\n",
       "15043     -0.559979 -0.524889 -1.008013\n",
       "\n",
       "[19130 rows x 3 columns]"
      ]
     },
     "execution_count": 77,
     "metadata": {},
     "output_type": "execute_result"
    }
   ],
   "source": [
    "df"
   ]
  },
  {
   "cell_type": "code",
   "execution_count": 89,
   "id": "6fbe10a3",
   "metadata": {},
   "outputs": [],
   "source": [
    "df['price'] = target"
   ]
  },
  {
   "cell_type": "code",
   "execution_count": null,
   "id": "147a0e96",
   "metadata": {},
   "outputs": [],
   "source": []
  },
  {
   "cell_type": "code",
   "execution_count": 90,
   "id": "cc31a6b0",
   "metadata": {},
   "outputs": [],
   "source": [
    "train = df.iloc[:split_position].copy()\n",
    "test = df.iloc[split_position:].copy()"
   ]
  },
  {
   "cell_type": "code",
   "execution_count": null,
   "id": "ce87226d",
   "metadata": {},
   "outputs": [],
   "source": []
  },
  {
   "cell_type": "code",
   "execution_count": 91,
   "id": "aa7b753c",
   "metadata": {},
   "outputs": [
    {
     "data": {
      "text/html": [
       "<div>\n",
       "<style scoped>\n",
       "    .dataframe tbody tr th:only-of-type {\n",
       "        vertical-align: middle;\n",
       "    }\n",
       "\n",
       "    .dataframe tbody tr th {\n",
       "        vertical-align: top;\n",
       "    }\n",
       "\n",
       "    .dataframe thead th {\n",
       "        text-align: right;\n",
       "    }\n",
       "</style>\n",
       "<table border=\"1\" class=\"dataframe\">\n",
       "  <thead>\n",
       "    <tr style=\"text-align: right;\">\n",
       "      <th></th>\n",
       "      <th>accommodates</th>\n",
       "      <th>distance</th>\n",
       "      <th>price</th>\n",
       "    </tr>\n",
       "  </thead>\n",
       "  <tbody>\n",
       "    <tr>\n",
       "      <th>682</th>\n",
       "      <td>0.586284</td>\n",
       "      <td>-0.336567</td>\n",
       "      <td>95.0</td>\n",
       "    </tr>\n",
       "    <tr>\n",
       "      <th>11870</th>\n",
       "      <td>0.586284</td>\n",
       "      <td>-0.654523</td>\n",
       "      <td>76.0</td>\n",
       "    </tr>\n",
       "    <tr>\n",
       "      <th>3526</th>\n",
       "      <td>0.586284</td>\n",
       "      <td>-0.897181</td>\n",
       "      <td>161.0</td>\n",
       "    </tr>\n",
       "    <tr>\n",
       "      <th>13270</th>\n",
       "      <td>0.586284</td>\n",
       "      <td>-0.120989</td>\n",
       "      <td>108.0</td>\n",
       "    </tr>\n",
       "    <tr>\n",
       "      <th>15946</th>\n",
       "      <td>0.586284</td>\n",
       "      <td>0.632309</td>\n",
       "      <td>79.0</td>\n",
       "    </tr>\n",
       "    <tr>\n",
       "      <th>...</th>\n",
       "      <td>...</td>\n",
       "      <td>...</td>\n",
       "      <td>...</td>\n",
       "    </tr>\n",
       "    <tr>\n",
       "      <th>12905</th>\n",
       "      <td>-0.559979</td>\n",
       "      <td>0.696678</td>\n",
       "      <td>80.0</td>\n",
       "    </tr>\n",
       "    <tr>\n",
       "      <th>6056</th>\n",
       "      <td>0.586284</td>\n",
       "      <td>-0.733281</td>\n",
       "      <td>155.0</td>\n",
       "    </tr>\n",
       "    <tr>\n",
       "      <th>19445</th>\n",
       "      <td>-0.559979</td>\n",
       "      <td>-0.017507</td>\n",
       "      <td>120.0</td>\n",
       "    </tr>\n",
       "    <tr>\n",
       "      <th>2641</th>\n",
       "      <td>-1.133111</td>\n",
       "      <td>-0.503937</td>\n",
       "      <td>21.0</td>\n",
       "    </tr>\n",
       "    <tr>\n",
       "      <th>4363</th>\n",
       "      <td>-1.133111</td>\n",
       "      <td>-0.002363</td>\n",
       "      <td>8.0</td>\n",
       "    </tr>\n",
       "  </tbody>\n",
       "</table>\n",
       "<p>14193 rows × 3 columns</p>\n",
       "</div>"
      ],
      "text/plain": [
       "       accommodates  distance  price\n",
       "682        0.586284 -0.336567   95.0\n",
       "11870      0.586284 -0.654523   76.0\n",
       "3526       0.586284 -0.897181  161.0\n",
       "13270      0.586284 -0.120989  108.0\n",
       "15946      0.586284  0.632309   79.0\n",
       "...             ...       ...    ...\n",
       "12905     -0.559979  0.696678   80.0\n",
       "6056       0.586284 -0.733281  155.0\n",
       "19445     -0.559979 -0.017507  120.0\n",
       "2641      -1.133111 -0.503937   21.0\n",
       "4363      -1.133111 -0.002363    8.0\n",
       "\n",
       "[14193 rows x 3 columns]"
      ]
     },
     "execution_count": 91,
     "metadata": {},
     "output_type": "execute_result"
    }
   ],
   "source": [
    "train"
   ]
  },
  {
   "cell_type": "code",
   "execution_count": null,
   "id": "887ef074",
   "metadata": {},
   "outputs": [],
   "source": []
  },
  {
   "cell_type": "code",
   "execution_count": 92,
   "id": "791e9022",
   "metadata": {},
   "outputs": [],
   "source": [
    "X = train[['accommodates', 'distance']]\n",
    "y = train['price']"
   ]
  },
  {
   "cell_type": "code",
   "execution_count": null,
   "id": "eccd0fd7",
   "metadata": {},
   "outputs": [],
   "source": []
  },
  {
   "cell_type": "code",
   "execution_count": 93,
   "id": "3433afcc",
   "metadata": {},
   "outputs": [],
   "source": [
    "knn_2 = KNeighborsRegressor(n_neighbors=5, algorithm='brute') # se compararán todos y con un k=5"
   ]
  },
  {
   "cell_type": "code",
   "execution_count": null,
   "id": "d240c455",
   "metadata": {},
   "outputs": [],
   "source": []
  },
  {
   "cell_type": "code",
   "execution_count": 94,
   "id": "973a64b2",
   "metadata": {},
   "outputs": [
    {
     "data": {
      "text/html": [
       "<style>#sk-container-id-3 {color: black;background-color: white;}#sk-container-id-3 pre{padding: 0;}#sk-container-id-3 div.sk-toggleable {background-color: white;}#sk-container-id-3 label.sk-toggleable__label {cursor: pointer;display: block;width: 100%;margin-bottom: 0;padding: 0.3em;box-sizing: border-box;text-align: center;}#sk-container-id-3 label.sk-toggleable__label-arrow:before {content: \"▸\";float: left;margin-right: 0.25em;color: #696969;}#sk-container-id-3 label.sk-toggleable__label-arrow:hover:before {color: black;}#sk-container-id-3 div.sk-estimator:hover label.sk-toggleable__label-arrow:before {color: black;}#sk-container-id-3 div.sk-toggleable__content {max-height: 0;max-width: 0;overflow: hidden;text-align: left;background-color: #f0f8ff;}#sk-container-id-3 div.sk-toggleable__content pre {margin: 0.2em;color: black;border-radius: 0.25em;background-color: #f0f8ff;}#sk-container-id-3 input.sk-toggleable__control:checked~div.sk-toggleable__content {max-height: 200px;max-width: 100%;overflow: auto;}#sk-container-id-3 input.sk-toggleable__control:checked~label.sk-toggleable__label-arrow:before {content: \"▾\";}#sk-container-id-3 div.sk-estimator input.sk-toggleable__control:checked~label.sk-toggleable__label {background-color: #d4ebff;}#sk-container-id-3 div.sk-label input.sk-toggleable__control:checked~label.sk-toggleable__label {background-color: #d4ebff;}#sk-container-id-3 input.sk-hidden--visually {border: 0;clip: rect(1px 1px 1px 1px);clip: rect(1px, 1px, 1px, 1px);height: 1px;margin: -1px;overflow: hidden;padding: 0;position: absolute;width: 1px;}#sk-container-id-3 div.sk-estimator {font-family: monospace;background-color: #f0f8ff;border: 1px dotted black;border-radius: 0.25em;box-sizing: border-box;margin-bottom: 0.5em;}#sk-container-id-3 div.sk-estimator:hover {background-color: #d4ebff;}#sk-container-id-3 div.sk-parallel-item::after {content: \"\";width: 100%;border-bottom: 1px solid gray;flex-grow: 1;}#sk-container-id-3 div.sk-label:hover label.sk-toggleable__label {background-color: #d4ebff;}#sk-container-id-3 div.sk-serial::before {content: \"\";position: absolute;border-left: 1px solid gray;box-sizing: border-box;top: 0;bottom: 0;left: 50%;z-index: 0;}#sk-container-id-3 div.sk-serial {display: flex;flex-direction: column;align-items: center;background-color: white;padding-right: 0.2em;padding-left: 0.2em;position: relative;}#sk-container-id-3 div.sk-item {position: relative;z-index: 1;}#sk-container-id-3 div.sk-parallel {display: flex;align-items: stretch;justify-content: center;background-color: white;position: relative;}#sk-container-id-3 div.sk-item::before, #sk-container-id-3 div.sk-parallel-item::before {content: \"\";position: absolute;border-left: 1px solid gray;box-sizing: border-box;top: 0;bottom: 0;left: 50%;z-index: -1;}#sk-container-id-3 div.sk-parallel-item {display: flex;flex-direction: column;z-index: 1;position: relative;background-color: white;}#sk-container-id-3 div.sk-parallel-item:first-child::after {align-self: flex-end;width: 50%;}#sk-container-id-3 div.sk-parallel-item:last-child::after {align-self: flex-start;width: 50%;}#sk-container-id-3 div.sk-parallel-item:only-child::after {width: 0;}#sk-container-id-3 div.sk-dashed-wrapped {border: 1px dashed gray;margin: 0 0.4em 0.5em 0.4em;box-sizing: border-box;padding-bottom: 0.4em;background-color: white;}#sk-container-id-3 div.sk-label label {font-family: monospace;font-weight: bold;display: inline-block;line-height: 1.2em;}#sk-container-id-3 div.sk-label-container {text-align: center;}#sk-container-id-3 div.sk-container {/* jupyter's `normalize.less` sets `[hidden] { display: none; }` but bootstrap.min.css set `[hidden] { display: none !important; }` so we also need the `!important` here to be able to override the default hidden behavior on the sphinx rendered scikit-learn.org. See: https://github.com/scikit-learn/scikit-learn/issues/21755 */display: inline-block !important;position: relative;}#sk-container-id-3 div.sk-text-repr-fallback {display: none;}</style><div id=\"sk-container-id-3\" class=\"sk-top-container\"><div class=\"sk-text-repr-fallback\"><pre>KNeighborsRegressor(algorithm=&#x27;brute&#x27;)</pre><b>In a Jupyter environment, please rerun this cell to show the HTML representation or trust the notebook. <br />On GitHub, the HTML representation is unable to render, please try loading this page with nbviewer.org.</b></div><div class=\"sk-container\" hidden><div class=\"sk-item\"><div class=\"sk-estimator sk-toggleable\"><input class=\"sk-toggleable__control sk-hidden--visually\" id=\"sk-estimator-id-3\" type=\"checkbox\" checked><label for=\"sk-estimator-id-3\" class=\"sk-toggleable__label sk-toggleable__label-arrow\">KNeighborsRegressor</label><div class=\"sk-toggleable__content\"><pre>KNeighborsRegressor(algorithm=&#x27;brute&#x27;)</pre></div></div></div></div></div>"
      ],
      "text/plain": [
       "KNeighborsRegressor(algorithm='brute')"
      ]
     },
     "execution_count": 94,
     "metadata": {},
     "output_type": "execute_result"
    }
   ],
   "source": [
    "knn_2.fit(X, y)"
   ]
  },
  {
   "cell_type": "code",
   "execution_count": 96,
   "id": "0c27f4bd",
   "metadata": {},
   "outputs": [],
   "source": [
    "test['predicted']  = knn_2.predict(test[['accommodates', 'distance']])"
   ]
  },
  {
   "cell_type": "code",
   "execution_count": 98,
   "id": "0b1375aa",
   "metadata": {},
   "outputs": [
    {
     "data": {
      "text/html": [
       "<div>\n",
       "<style scoped>\n",
       "    .dataframe tbody tr th:only-of-type {\n",
       "        vertical-align: middle;\n",
       "    }\n",
       "\n",
       "    .dataframe tbody tr th {\n",
       "        vertical-align: top;\n",
       "    }\n",
       "\n",
       "    .dataframe thead th {\n",
       "        text-align: right;\n",
       "    }\n",
       "</style>\n",
       "<table border=\"1\" class=\"dataframe\">\n",
       "  <thead>\n",
       "    <tr style=\"text-align: right;\">\n",
       "      <th></th>\n",
       "      <th>accommodates</th>\n",
       "      <th>distance</th>\n",
       "      <th>price</th>\n",
       "      <th>predicted</th>\n",
       "    </tr>\n",
       "  </thead>\n",
       "  <tbody>\n",
       "    <tr>\n",
       "      <th>834</th>\n",
       "      <td>-0.559979</td>\n",
       "      <td>-0.391980</td>\n",
       "      <td>49.0</td>\n",
       "      <td>75.6</td>\n",
       "    </tr>\n",
       "    <tr>\n",
       "      <th>9654</th>\n",
       "      <td>-0.559979</td>\n",
       "      <td>-0.711395</td>\n",
       "      <td>198.0</td>\n",
       "      <td>103.6</td>\n",
       "    </tr>\n",
       "    <tr>\n",
       "      <th>6340</th>\n",
       "      <td>2.305679</td>\n",
       "      <td>-0.524096</td>\n",
       "      <td>80.0</td>\n",
       "      <td>156.0</td>\n",
       "    </tr>\n",
       "    <tr>\n",
       "      <th>459</th>\n",
       "      <td>-0.559979</td>\n",
       "      <td>-0.208089</td>\n",
       "      <td>100.0</td>\n",
       "      <td>41.8</td>\n",
       "    </tr>\n",
       "    <tr>\n",
       "      <th>11680</th>\n",
       "      <td>-0.559979</td>\n",
       "      <td>-0.727322</td>\n",
       "      <td>250.0</td>\n",
       "      <td>131.2</td>\n",
       "    </tr>\n",
       "  </tbody>\n",
       "</table>\n",
       "</div>"
      ],
      "text/plain": [
       "       accommodates  distance  price  predicted\n",
       "834       -0.559979 -0.391980   49.0       75.6\n",
       "9654      -0.559979 -0.711395  198.0      103.6\n",
       "6340       2.305679 -0.524096   80.0      156.0\n",
       "459       -0.559979 -0.208089  100.0       41.8\n",
       "11680     -0.559979 -0.727322  250.0      131.2"
      ]
     },
     "execution_count": 98,
     "metadata": {},
     "output_type": "execute_result"
    }
   ],
   "source": [
    "test.head()"
   ]
  },
  {
   "cell_type": "code",
   "execution_count": 100,
   "id": "55286b3e",
   "metadata": {},
   "outputs": [
    {
     "data": {
      "text/plain": [
       "50.632019124909306"
      ]
     },
     "execution_count": 100,
     "metadata": {},
     "output_type": "execute_result"
    }
   ],
   "source": [
    "mean_squared_error(test['price'], test['predicted'])**0.5"
   ]
  },
  {
   "cell_type": "code",
   "execution_count": null,
   "id": "437219d5",
   "metadata": {},
   "outputs": [],
   "source": []
  },
  {
   "cell_type": "code",
   "execution_count": null,
   "id": "c6f659d3",
   "metadata": {},
   "outputs": [],
   "source": []
  },
  {
   "cell_type": "code",
   "execution_count": null,
   "id": "ce3acbe2",
   "metadata": {},
   "outputs": [],
   "source": []
  },
  {
   "cell_type": "code",
   "execution_count": null,
   "id": "850b6f11",
   "metadata": {},
   "outputs": [],
   "source": []
  },
  {
   "cell_type": "code",
   "execution_count": null,
   "id": "b5ef9f70",
   "metadata": {},
   "outputs": [],
   "source": []
  },
  {
   "cell_type": "code",
   "execution_count": null,
   "id": "8dc6543d",
   "metadata": {},
   "outputs": [],
   "source": []
  },
  {
   "cell_type": "code",
   "execution_count": null,
   "id": "f8da7908",
   "metadata": {},
   "outputs": [],
   "source": []
  },
  {
   "cell_type": "code",
   "execution_count": null,
   "id": "bb91a690",
   "metadata": {},
   "outputs": [],
   "source": []
  },
  {
   "cell_type": "code",
   "execution_count": null,
   "id": "d2e7c120",
   "metadata": {},
   "outputs": [],
   "source": []
  },
  {
   "cell_type": "code",
   "execution_count": 62,
   "id": "062b4d1b",
   "metadata": {},
   "outputs": [
    {
     "data": {
      "text/plain": [
       "(40.40945, -3.70965)"
      ]
     },
     "execution_count": 62,
     "metadata": {},
     "output_type": "execute_result"
    }
   ],
   "source": []
  },
  {
   "cell_type": "code",
   "execution_count": null,
   "id": "f52353b2",
   "metadata": {},
   "outputs": [],
   "source": []
  },
  {
   "cell_type": "code",
   "execution_count": null,
   "id": "e09c9adc",
   "metadata": {},
   "outputs": [],
   "source": []
  },
  {
   "cell_type": "code",
   "execution_count": null,
   "id": "6904f767",
   "metadata": {},
   "outputs": [],
   "source": []
  },
  {
   "cell_type": "code",
   "execution_count": null,
   "id": "e69bb82f",
   "metadata": {},
   "outputs": [],
   "source": []
  },
  {
   "cell_type": "code",
   "execution_count": null,
   "id": "eef06ad8",
   "metadata": {},
   "outputs": [],
   "source": []
  },
  {
   "cell_type": "code",
   "execution_count": null,
   "id": "c7b1c7bb",
   "metadata": {},
   "outputs": [],
   "source": []
  },
  {
   "cell_type": "code",
   "execution_count": null,
   "id": "e9b2c602",
   "metadata": {},
   "outputs": [],
   "source": []
  },
  {
   "cell_type": "code",
   "execution_count": null,
   "id": "8a07a3de",
   "metadata": {},
   "outputs": [],
   "source": []
  },
  {
   "cell_type": "code",
   "execution_count": null,
   "id": "96ba2785",
   "metadata": {},
   "outputs": [],
   "source": []
  },
  {
   "cell_type": "code",
   "execution_count": null,
   "id": "4418a96d",
   "metadata": {},
   "outputs": [],
   "source": []
  },
  {
   "cell_type": "code",
   "execution_count": null,
   "id": "0945a113",
   "metadata": {},
   "outputs": [],
   "source": []
  },
  {
   "cell_type": "code",
   "execution_count": null,
   "id": "57bb7826",
   "metadata": {},
   "outputs": [],
   "source": []
  },
  {
   "cell_type": "code",
   "execution_count": null,
   "id": "c46102f0",
   "metadata": {},
   "outputs": [],
   "source": []
  },
  {
   "cell_type": "code",
   "execution_count": null,
   "id": "07239215",
   "metadata": {},
   "outputs": [],
   "source": []
  },
  {
   "cell_type": "code",
   "execution_count": null,
   "id": "73ab29e2",
   "metadata": {},
   "outputs": [],
   "source": []
  },
  {
   "cell_type": "code",
   "execution_count": null,
   "id": "e0aa934a",
   "metadata": {},
   "outputs": [],
   "source": []
  },
  {
   "cell_type": "code",
   "execution_count": null,
   "id": "c35157ba",
   "metadata": {},
   "outputs": [],
   "source": []
  },
  {
   "cell_type": "code",
   "execution_count": 56,
   "id": "6f201c3b",
   "metadata": {},
   "outputs": [
    {
     "data": {
      "text/html": [
       "<div>\n",
       "<style scoped>\n",
       "    .dataframe tbody tr th:only-of-type {\n",
       "        vertical-align: middle;\n",
       "    }\n",
       "\n",
       "    .dataframe tbody tr th {\n",
       "        vertical-align: top;\n",
       "    }\n",
       "\n",
       "    .dataframe thead th {\n",
       "        text-align: right;\n",
       "    }\n",
       "</style>\n",
       "<table border=\"1\" class=\"dataframe\">\n",
       "  <thead>\n",
       "    <tr style=\"text-align: right;\">\n",
       "      <th></th>\n",
       "      <th>accommodates</th>\n",
       "      <th>bathrooms</th>\n",
       "      <th>bedrooms</th>\n",
       "      <th>price</th>\n",
       "    </tr>\n",
       "  </thead>\n",
       "  <tbody>\n",
       "    <tr>\n",
       "      <th>682</th>\n",
       "      <td>0.549637</td>\n",
       "      <td>-0.455273</td>\n",
       "      <td>-0.502651</td>\n",
       "      <td>95.0</td>\n",
       "    </tr>\n",
       "    <tr>\n",
       "      <th>11870</th>\n",
       "      <td>0.549637</td>\n",
       "      <td>-0.455273</td>\n",
       "      <td>-0.502651</td>\n",
       "      <td>76.0</td>\n",
       "    </tr>\n",
       "    <tr>\n",
       "      <th>3526</th>\n",
       "      <td>0.549637</td>\n",
       "      <td>1.186654</td>\n",
       "      <td>0.713334</td>\n",
       "      <td>161.0</td>\n",
       "    </tr>\n",
       "    <tr>\n",
       "      <th>13270</th>\n",
       "      <td>0.549637</td>\n",
       "      <td>-0.455273</td>\n",
       "      <td>-0.502651</td>\n",
       "      <td>108.0</td>\n",
       "    </tr>\n",
       "    <tr>\n",
       "      <th>15946</th>\n",
       "      <td>0.549637</td>\n",
       "      <td>-0.455273</td>\n",
       "      <td>-0.502651</td>\n",
       "      <td>79.0</td>\n",
       "    </tr>\n",
       "  </tbody>\n",
       "</table>\n",
       "</div>"
      ],
      "text/plain": [
       "       accommodates  bathrooms  bedrooms  price\n",
       "682        0.549637  -0.455273 -0.502651   95.0\n",
       "11870      0.549637  -0.455273 -0.502651   76.0\n",
       "3526       0.549637   1.186654  0.713334  161.0\n",
       "13270      0.549637  -0.455273 -0.502651  108.0\n",
       "15946      0.549637  -0.455273 -0.502651   79.0"
      ]
     },
     "execution_count": 56,
     "metadata": {},
     "output_type": "execute_result"
    }
   ],
   "source": [
    "df.head()"
   ]
  },
  {
   "cell_type": "code",
   "execution_count": null,
   "id": "ed34ea01",
   "metadata": {},
   "outputs": [],
   "source": []
  },
  {
   "cell_type": "code",
   "execution_count": null,
   "id": "d1f3d4a4",
   "metadata": {},
   "outputs": [],
   "source": []
  },
  {
   "cell_type": "code",
   "execution_count": null,
   "id": "2e10d46e",
   "metadata": {},
   "outputs": [],
   "source": []
  },
  {
   "cell_type": "code",
   "execution_count": null,
   "id": "49020d07",
   "metadata": {},
   "outputs": [],
   "source": []
  },
  {
   "cell_type": "code",
   "execution_count": null,
   "id": "7a76e501",
   "metadata": {},
   "outputs": [],
   "source": []
  },
  {
   "cell_type": "code",
   "execution_count": null,
   "id": "7f9eb436",
   "metadata": {},
   "outputs": [],
   "source": []
  },
  {
   "cell_type": "code",
   "execution_count": null,
   "id": "75546df3",
   "metadata": {},
   "outputs": [],
   "source": []
  },
  {
   "cell_type": "code",
   "execution_count": null,
   "id": "9bd3af37",
   "metadata": {},
   "outputs": [],
   "source": []
  },
  {
   "cell_type": "code",
   "execution_count": null,
   "id": "d4ec5fd0",
   "metadata": {},
   "outputs": [],
   "source": []
  },
  {
   "cell_type": "code",
   "execution_count": null,
   "id": "a13f039d",
   "metadata": {},
   "outputs": [],
   "source": []
  },
  {
   "cell_type": "code",
   "execution_count": null,
   "id": "558330e8",
   "metadata": {},
   "outputs": [],
   "source": []
  },
  {
   "cell_type": "code",
   "execution_count": null,
   "id": "75f24793",
   "metadata": {},
   "outputs": [],
   "source": []
  },
  {
   "cell_type": "code",
   "execution_count": null,
   "id": "548b3bb7",
   "metadata": {},
   "outputs": [],
   "source": []
  }
 ],
 "metadata": {
  "kernelspec": {
   "display_name": "Python 3 (ipykernel)",
   "language": "python",
   "name": "python3"
  },
  "language_info": {
   "codemirror_mode": {
    "name": "ipython",
    "version": 3
   },
   "file_extension": ".py",
   "mimetype": "text/x-python",
   "name": "python",
   "nbconvert_exporter": "python",
   "pygments_lexer": "ipython3",
   "version": "3.9.13"
  }
 },
 "nbformat": 4,
 "nbformat_minor": 5
}
