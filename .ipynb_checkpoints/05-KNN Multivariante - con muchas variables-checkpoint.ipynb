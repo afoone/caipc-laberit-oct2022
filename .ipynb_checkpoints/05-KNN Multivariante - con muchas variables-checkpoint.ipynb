{
 "cells": [
  {
   "cell_type": "markdown",
   "id": "8af96fdc",
   "metadata": {},
   "source": [
    "hasta ahora hemos intentado predecir con una variable (`accommodates` y `bedrooms`)\n",
    "\n",
    "hay variables que influyen en el precio\n",
    "\n",
    "Hay varias formas de intentar mejorar la precisión\n",
    "1. Cambiar el valor de k\n",
    "2. Cambiar las variables (incrementar el número de atributos, p.ej, `accommodates`, `bedrooms`, `bathrooms`\n",
    "\n",
    "\n",
    "Ahora lo que vamos a hacer es añadir columnas al modelo. Tenemos que tener cuidados con las variables que no van a funcionar con la ecuación de distancia:\n",
    "\n",
    "- Valores no numéricos (categóricos) - la distancia quiere números\n",
    "- Valores nulos: la distancia no permite nulos\n",
    "- Valores no ordinales: numéricos pero que no representan un orden (ej.lat y la long) "
   ]
  },
  {
   "cell_type": "code",
   "execution_count": 1,
   "id": "9c8dca7e",
   "metadata": {},
   "outputs": [],
   "source": [
    "import pandas as pd\n",
    "import numpy as np\n",
    "import math\n"
   ]
  },
  {
   "cell_type": "code",
   "execution_count": 2,
   "id": "9c61dae0",
   "metadata": {},
   "outputs": [],
   "source": [
    "madrid = pd.read_csv('data/airbnb-madrid.csv')\n",
    "# corrección de datos\n",
    "madrid['price'] = madrid['price'].apply(lambda x: x.replace('$', '').replace(',', '')).astype(float)\n",
    "np.random.seed(3943)\n",
    "madrid = madrid.iloc[\n",
    "    np.random.permutation(madrid.shape[0])\n",
    "]\n"
   ]
  },
  {
   "cell_type": "code",
   "execution_count": 3,
   "id": "15812ad6",
   "metadata": {},
   "outputs": [
    {
     "name": "stdout",
     "output_type": "stream",
     "text": [
      "<class 'pandas.core.frame.DataFrame'>\n",
      "Int64Index: 20681 entries, 682 to 15043\n",
      "Data columns (total 75 columns):\n",
      " #   Column                                        Non-Null Count  Dtype  \n",
      "---  ------                                        --------------  -----  \n",
      " 0   id                                            20681 non-null  int64  \n",
      " 1   listing_url                                   20681 non-null  object \n",
      " 2   scrape_id                                     20681 non-null  int64  \n",
      " 3   last_scraped                                  20681 non-null  object \n",
      " 4   source                                        20681 non-null  object \n",
      " 5   name                                          20677 non-null  object \n",
      " 6   description                                   19971 non-null  object \n",
      " 7   neighborhood_overview                         11472 non-null  object \n",
      " 8   picture_url                                   20680 non-null  object \n",
      " 9   host_id                                       20681 non-null  int64  \n",
      " 10  host_url                                      20681 non-null  object \n",
      " 11  host_name                                     20678 non-null  object \n",
      " 12  host_since                                    20678 non-null  object \n",
      " 13  host_location                                 15376 non-null  object \n",
      " 14  host_about                                    9974 non-null   object \n",
      " 15  host_response_time                            15792 non-null  object \n",
      " 16  host_response_rate                            15792 non-null  object \n",
      " 17  host_acceptance_rate                          16280 non-null  object \n",
      " 18  host_is_superhost                             20676 non-null  object \n",
      " 19  host_thumbnail_url                            20678 non-null  object \n",
      " 20  host_picture_url                              20678 non-null  object \n",
      " 21  host_neighbourhood                            10596 non-null  object \n",
      " 22  host_listings_count                           20678 non-null  float64\n",
      " 23  host_total_listings_count                     20678 non-null  float64\n",
      " 24  host_verifications                            20681 non-null  object \n",
      " 25  host_has_profile_pic                          20678 non-null  object \n",
      " 26  host_identity_verified                        20678 non-null  object \n",
      " 27  neighbourhood                                 11472 non-null  object \n",
      " 28  neighbourhood_cleansed                        20681 non-null  object \n",
      " 29  neighbourhood_group_cleansed                  20681 non-null  object \n",
      " 30  latitude                                      20681 non-null  float64\n",
      " 31  longitude                                     20681 non-null  float64\n",
      " 32  property_type                                 20681 non-null  object \n",
      " 33  room_type                                     20681 non-null  object \n",
      " 34  accommodates                                  20681 non-null  int64  \n",
      " 35  bathrooms                                     0 non-null      float64\n",
      " 36  bathrooms_text                                20657 non-null  object \n",
      " 37  bedrooms                                      19227 non-null  float64\n",
      " 38  beds                                          20331 non-null  float64\n",
      " 39  amenities                                     20681 non-null  object \n",
      " 40  price                                         20681 non-null  float64\n",
      " 41  minimum_nights                                20681 non-null  int64  \n",
      " 42  maximum_nights                                20681 non-null  int64  \n",
      " 43  minimum_minimum_nights                        20681 non-null  int64  \n",
      " 44  maximum_minimum_nights                        20681 non-null  int64  \n",
      " 45  minimum_maximum_nights                        20681 non-null  int64  \n",
      " 46  maximum_maximum_nights                        20681 non-null  int64  \n",
      " 47  minimum_nights_avg_ntm                        20681 non-null  float64\n",
      " 48  maximum_nights_avg_ntm                        20681 non-null  float64\n",
      " 49  calendar_updated                              0 non-null      float64\n",
      " 50  has_availability                              20681 non-null  object \n",
      " 51  availability_30                               20681 non-null  int64  \n",
      " 52  availability_60                               20681 non-null  int64  \n",
      " 53  availability_90                               20681 non-null  int64  \n",
      " 54  availability_365                              20681 non-null  int64  \n",
      " 55  calendar_last_scraped                         20681 non-null  object \n",
      " 56  number_of_reviews                             20681 non-null  int64  \n",
      " 57  number_of_reviews_ltm                         20681 non-null  int64  \n",
      " 58  number_of_reviews_l30d                        20681 non-null  int64  \n",
      " 59  first_review                                  16219 non-null  object \n",
      " 60  last_review                                   16219 non-null  object \n",
      " 61  review_scores_rating                          16219 non-null  float64\n",
      " 62  review_scores_accuracy                        16069 non-null  float64\n",
      " 63  review_scores_cleanliness                     16071 non-null  float64\n",
      " 64  review_scores_checkin                         16070 non-null  float64\n",
      " 65  review_scores_communication                   16070 non-null  float64\n",
      " 66  review_scores_location                        16067 non-null  float64\n",
      " 67  review_scores_value                           16066 non-null  float64\n",
      " 68  license                                       2755 non-null   object \n",
      " 69  instant_bookable                              20681 non-null  object \n",
      " 70  calculated_host_listings_count                20681 non-null  int64  \n",
      " 71  calculated_host_listings_count_entire_homes   20681 non-null  int64  \n",
      " 72  calculated_host_listings_count_private_rooms  20681 non-null  int64  \n",
      " 73  calculated_host_listings_count_shared_rooms   20681 non-null  int64  \n",
      " 74  reviews_per_month                             16219 non-null  float64\n",
      "dtypes: float64(19), int64(21), object(35)\n",
      "memory usage: 12.0+ MB\n"
     ]
    }
   ],
   "source": [
    "madrid.info()"
   ]
  },
  {
   "cell_type": "code",
   "execution_count": 4,
   "id": "3c3bac9b",
   "metadata": {},
   "outputs": [
    {
     "data": {
      "text/html": [
       "<div>\n",
       "<style scoped>\n",
       "    .dataframe tbody tr th:only-of-type {\n",
       "        vertical-align: middle;\n",
       "    }\n",
       "\n",
       "    .dataframe tbody tr th {\n",
       "        vertical-align: top;\n",
       "    }\n",
       "\n",
       "    .dataframe thead th {\n",
       "        text-align: right;\n",
       "    }\n",
       "</style>\n",
       "<table border=\"1\" class=\"dataframe\">\n",
       "  <thead>\n",
       "    <tr style=\"text-align: right;\">\n",
       "      <th></th>\n",
       "      <th>bathrooms</th>\n",
       "      <th>bathrooms_text</th>\n",
       "    </tr>\n",
       "  </thead>\n",
       "  <tbody>\n",
       "    <tr>\n",
       "      <th>682</th>\n",
       "      <td>NaN</td>\n",
       "      <td>1 bath</td>\n",
       "    </tr>\n",
       "    <tr>\n",
       "      <th>11870</th>\n",
       "      <td>NaN</td>\n",
       "      <td>1 bath</td>\n",
       "    </tr>\n",
       "    <tr>\n",
       "      <th>3526</th>\n",
       "      <td>NaN</td>\n",
       "      <td>2 baths</td>\n",
       "    </tr>\n",
       "    <tr>\n",
       "      <th>13270</th>\n",
       "      <td>NaN</td>\n",
       "      <td>1 bath</td>\n",
       "    </tr>\n",
       "    <tr>\n",
       "      <th>15946</th>\n",
       "      <td>NaN</td>\n",
       "      <td>1 bath</td>\n",
       "    </tr>\n",
       "    <tr>\n",
       "      <th>...</th>\n",
       "      <td>...</td>\n",
       "      <td>...</td>\n",
       "    </tr>\n",
       "    <tr>\n",
       "      <th>3351</th>\n",
       "      <td>NaN</td>\n",
       "      <td>1 bath</td>\n",
       "    </tr>\n",
       "    <tr>\n",
       "      <th>970</th>\n",
       "      <td>NaN</td>\n",
       "      <td>1.5 shared baths</td>\n",
       "    </tr>\n",
       "    <tr>\n",
       "      <th>4766</th>\n",
       "      <td>NaN</td>\n",
       "      <td>1.5 shared baths</td>\n",
       "    </tr>\n",
       "    <tr>\n",
       "      <th>4563</th>\n",
       "      <td>NaN</td>\n",
       "      <td>1 shared bath</td>\n",
       "    </tr>\n",
       "    <tr>\n",
       "      <th>15043</th>\n",
       "      <td>NaN</td>\n",
       "      <td>3 shared baths</td>\n",
       "    </tr>\n",
       "  </tbody>\n",
       "</table>\n",
       "<p>20681 rows × 2 columns</p>\n",
       "</div>"
      ],
      "text/plain": [
       "       bathrooms    bathrooms_text\n",
       "682          NaN            1 bath\n",
       "11870        NaN            1 bath\n",
       "3526         NaN           2 baths\n",
       "13270        NaN            1 bath\n",
       "15946        NaN            1 bath\n",
       "...          ...               ...\n",
       "3351         NaN            1 bath\n",
       "970          NaN  1.5 shared baths\n",
       "4766         NaN  1.5 shared baths\n",
       "4563         NaN     1 shared bath\n",
       "15043        NaN    3 shared baths\n",
       "\n",
       "[20681 rows x 2 columns]"
      ]
     },
     "execution_count": 4,
     "metadata": {},
     "output_type": "execute_result"
    }
   ],
   "source": [
    "madrid[\n",
    "    ['bathrooms', 'bathrooms_text']\n",
    "]"
   ]
  },
  {
   "cell_type": "code",
   "execution_count": 13,
   "id": "1b0c60f9",
   "metadata": {},
   "outputs": [
    {
     "name": "stdout",
     "output_type": "stream",
     "text": [
      "<class 'pandas.core.series.Series'>\n",
      "Int64Index: 20681 entries, 682 to 15043\n",
      "Series name: bathrooms_text\n",
      "Non-Null Count  Dtype \n",
      "--------------  ----- \n",
      "20657 non-null  object\n",
      "dtypes: object(1)\n",
      "memory usage: 323.1+ KB\n"
     ]
    }
   ],
   "source": [
    "madrid['bathrooms_text'].info()"
   ]
  },
  {
   "cell_type": "code",
   "execution_count": null,
   "id": "f75c8184",
   "metadata": {},
   "outputs": [],
   "source": []
  },
  {
   "cell_type": "code",
   "execution_count": 10,
   "id": "013fc5d9",
   "metadata": {},
   "outputs": [
    {
     "data": {
      "text/plain": [
       "'single  batch'"
      ]
     },
     "execution_count": 10,
     "metadata": {},
     "output_type": "execute_result"
    }
   ],
   "source": [
    "def convert_half_in_number(x):\n",
    "    if ('half' in str(x)):\n",
    "        return '0.5'\n",
    "    else:\n",
    "        return x\n",
    "    \n",
    "convert_half_in_number(\"single  batch\")"
   ]
  },
  {
   "cell_type": "code",
   "execution_count": 12,
   "id": "7d915b0a",
   "metadata": {},
   "outputs": [
    {
     "ename": "TypeError",
     "evalue": "argument of type 'float' is not iterable",
     "output_type": "error",
     "traceback": [
      "\u001b[0;31m---------------------------------------------------------------------------\u001b[0m",
      "\u001b[0;31mTypeError\u001b[0m                                 Traceback (most recent call last)",
      "Cell \u001b[0;32mIn [12], line 1\u001b[0m\n\u001b[0;32m----> 1\u001b[0m madrid[\u001b[38;5;124m'\u001b[39m\u001b[38;5;124mbathrooms_text\u001b[39m\u001b[38;5;124m'\u001b[39m]\u001b[38;5;241m.\u001b[39mapply(\n\u001b[1;32m      2\u001b[0m     convert_half_in_number\n\u001b[1;32m      3\u001b[0m )\n",
      "File \u001b[0;32m~/miniforge3/envs/caipcoctubre/lib/python3.9/site-packages/pandas/core/series.py:4774\u001b[0m, in \u001b[0;36mSeries.apply\u001b[0;34m(self, func, convert_dtype, args, **kwargs)\u001b[0m\n\u001b[1;32m   4664\u001b[0m \u001b[38;5;28;01mdef\u001b[39;00m \u001b[38;5;21mapply\u001b[39m(\n\u001b[1;32m   4665\u001b[0m     \u001b[38;5;28mself\u001b[39m,\n\u001b[1;32m   4666\u001b[0m     func: AggFuncType,\n\u001b[0;32m   (...)\u001b[0m\n\u001b[1;32m   4669\u001b[0m     \u001b[38;5;241m*\u001b[39m\u001b[38;5;241m*\u001b[39mkwargs,\n\u001b[1;32m   4670\u001b[0m ) \u001b[38;5;241m-\u001b[39m\u001b[38;5;241m>\u001b[39m DataFrame \u001b[38;5;241m|\u001b[39m Series:\n\u001b[1;32m   4671\u001b[0m     \u001b[38;5;124;03m\"\"\"\u001b[39;00m\n\u001b[1;32m   4672\u001b[0m \u001b[38;5;124;03m    Invoke function on values of Series.\u001b[39;00m\n\u001b[1;32m   4673\u001b[0m \n\u001b[0;32m   (...)\u001b[0m\n\u001b[1;32m   4772\u001b[0m \u001b[38;5;124;03m    dtype: float64\u001b[39;00m\n\u001b[1;32m   4773\u001b[0m \u001b[38;5;124;03m    \"\"\"\u001b[39;00m\n\u001b[0;32m-> 4774\u001b[0m     \u001b[38;5;28;01mreturn\u001b[39;00m \u001b[43mSeriesApply\u001b[49m\u001b[43m(\u001b[49m\u001b[38;5;28;43mself\u001b[39;49m\u001b[43m,\u001b[49m\u001b[43m \u001b[49m\u001b[43mfunc\u001b[49m\u001b[43m,\u001b[49m\u001b[43m \u001b[49m\u001b[43mconvert_dtype\u001b[49m\u001b[43m,\u001b[49m\u001b[43m \u001b[49m\u001b[43margs\u001b[49m\u001b[43m,\u001b[49m\u001b[43m \u001b[49m\u001b[43mkwargs\u001b[49m\u001b[43m)\u001b[49m\u001b[38;5;241;43m.\u001b[39;49m\u001b[43mapply\u001b[49m\u001b[43m(\u001b[49m\u001b[43m)\u001b[49m\n",
      "File \u001b[0;32m~/miniforge3/envs/caipcoctubre/lib/python3.9/site-packages/pandas/core/apply.py:1100\u001b[0m, in \u001b[0;36mSeriesApply.apply\u001b[0;34m(self)\u001b[0m\n\u001b[1;32m   1097\u001b[0m     \u001b[38;5;28;01mreturn\u001b[39;00m \u001b[38;5;28mself\u001b[39m\u001b[38;5;241m.\u001b[39mapply_str()\n\u001b[1;32m   1099\u001b[0m \u001b[38;5;66;03m# self.f is Callable\u001b[39;00m\n\u001b[0;32m-> 1100\u001b[0m \u001b[38;5;28;01mreturn\u001b[39;00m \u001b[38;5;28;43mself\u001b[39;49m\u001b[38;5;241;43m.\u001b[39;49m\u001b[43mapply_standard\u001b[49m\u001b[43m(\u001b[49m\u001b[43m)\u001b[49m\n",
      "File \u001b[0;32m~/miniforge3/envs/caipcoctubre/lib/python3.9/site-packages/pandas/core/apply.py:1151\u001b[0m, in \u001b[0;36mSeriesApply.apply_standard\u001b[0;34m(self)\u001b[0m\n\u001b[1;32m   1149\u001b[0m     \u001b[38;5;28;01melse\u001b[39;00m:\n\u001b[1;32m   1150\u001b[0m         values \u001b[38;5;241m=\u001b[39m obj\u001b[38;5;241m.\u001b[39mastype(\u001b[38;5;28mobject\u001b[39m)\u001b[38;5;241m.\u001b[39m_values\n\u001b[0;32m-> 1151\u001b[0m         mapped \u001b[38;5;241m=\u001b[39m \u001b[43mlib\u001b[49m\u001b[38;5;241;43m.\u001b[39;49m\u001b[43mmap_infer\u001b[49m\u001b[43m(\u001b[49m\n\u001b[1;32m   1152\u001b[0m \u001b[43m            \u001b[49m\u001b[43mvalues\u001b[49m\u001b[43m,\u001b[49m\n\u001b[1;32m   1153\u001b[0m \u001b[43m            \u001b[49m\u001b[43mf\u001b[49m\u001b[43m,\u001b[49m\n\u001b[1;32m   1154\u001b[0m \u001b[43m            \u001b[49m\u001b[43mconvert\u001b[49m\u001b[38;5;241;43m=\u001b[39;49m\u001b[38;5;28;43mself\u001b[39;49m\u001b[38;5;241;43m.\u001b[39;49m\u001b[43mconvert_dtype\u001b[49m\u001b[43m,\u001b[49m\n\u001b[1;32m   1155\u001b[0m \u001b[43m        \u001b[49m\u001b[43m)\u001b[49m\n\u001b[1;32m   1157\u001b[0m \u001b[38;5;28;01mif\u001b[39;00m \u001b[38;5;28mlen\u001b[39m(mapped) \u001b[38;5;129;01mand\u001b[39;00m \u001b[38;5;28misinstance\u001b[39m(mapped[\u001b[38;5;241m0\u001b[39m], ABCSeries):\n\u001b[1;32m   1158\u001b[0m     \u001b[38;5;66;03m# GH#43986 Need to do list(mapped) in order to get treated as nested\u001b[39;00m\n\u001b[1;32m   1159\u001b[0m     \u001b[38;5;66;03m#  See also GH#25959 regarding EA support\u001b[39;00m\n\u001b[1;32m   1160\u001b[0m     \u001b[38;5;28;01mreturn\u001b[39;00m obj\u001b[38;5;241m.\u001b[39m_constructor_expanddim(\u001b[38;5;28mlist\u001b[39m(mapped), index\u001b[38;5;241m=\u001b[39mobj\u001b[38;5;241m.\u001b[39mindex)\n",
      "File \u001b[0;32m~/miniforge3/envs/caipcoctubre/lib/python3.9/site-packages/pandas/_libs/lib.pyx:2919\u001b[0m, in \u001b[0;36mpandas._libs.lib.map_infer\u001b[0;34m()\u001b[0m\n",
      "Cell \u001b[0;32mIn [10], line 2\u001b[0m, in \u001b[0;36mconvert_half_in_number\u001b[0;34m(x)\u001b[0m\n\u001b[1;32m      1\u001b[0m \u001b[38;5;28;01mdef\u001b[39;00m \u001b[38;5;21mconvert_half_in_number\u001b[39m(x):\n\u001b[0;32m----> 2\u001b[0m     \u001b[38;5;28;01mif\u001b[39;00m (\u001b[38;5;124;43m'\u001b[39;49m\u001b[38;5;124;43mhalf\u001b[39;49m\u001b[38;5;124;43m'\u001b[39;49m\u001b[43m \u001b[49m\u001b[38;5;129;43;01min\u001b[39;49;00m\u001b[43m \u001b[49m\u001b[43mx\u001b[49m):\n\u001b[1;32m      3\u001b[0m         \u001b[38;5;28;01mreturn\u001b[39;00m \u001b[38;5;124m'\u001b[39m\u001b[38;5;124m0.5\u001b[39m\u001b[38;5;124m'\u001b[39m\n\u001b[1;32m      4\u001b[0m     \u001b[38;5;28;01melse\u001b[39;00m:\n",
      "\u001b[0;31mTypeError\u001b[0m: argument of type 'float' is not iterable"
     ]
    }
   ],
   "source": [
    "madrid['bathrooms_text'].apply(\n",
    "    convert_half_in_number\n",
    ")"
   ]
  },
  {
   "cell_type": "code",
   "execution_count": null,
   "id": "c7b733d7",
   "metadata": {},
   "outputs": [],
   "source": []
  },
  {
   "cell_type": "code",
   "execution_count": null,
   "id": "eba130b8",
   "metadata": {},
   "outputs": [],
   "source": []
  },
  {
   "cell_type": "code",
   "execution_count": null,
   "id": "17d75d22",
   "metadata": {},
   "outputs": [],
   "source": []
  },
  {
   "cell_type": "code",
   "execution_count": null,
   "id": "bd234d51",
   "metadata": {},
   "outputs": [],
   "source": []
  }
 ],
 "metadata": {
  "kernelspec": {
   "display_name": "Python 3 (ipykernel)",
   "language": "python",
   "name": "python3"
  },
  "language_info": {
   "codemirror_mode": {
    "name": "ipython",
    "version": 3
   },
   "file_extension": ".py",
   "mimetype": "text/x-python",
   "name": "python",
   "nbconvert_exporter": "python",
   "pygments_lexer": "ipython3",
   "version": "3.9.13"
  }
 },
 "nbformat": 4,
 "nbformat_minor": 5
}
