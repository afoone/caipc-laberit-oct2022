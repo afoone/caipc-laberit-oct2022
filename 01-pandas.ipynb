{
 "cells": [
  {
   "cell_type": "markdown",
   "id": "7dc26d71",
   "metadata": {},
   "source": [
    "# Introducción a Pandas\n",
    "\n",
    "Esta es una introducción al paquete *pandas*, de uso común en la ciencia de datos, significa *panel data*, que es un término de econometría para conjuntos de datos de intervalos temporales\n"
   ]
  },
  {
   "cell_type": "code",
   "execution_count": 2,
   "id": "9b267b49",
   "metadata": {},
   "outputs": [],
   "source": [
    "variable_python = \"Alfonso\""
   ]
  },
  {
   "cell_type": "code",
   "execution_count": 3,
   "id": "510201e7",
   "metadata": {},
   "outputs": [
    {
     "name": "stdout",
     "output_type": "stream",
     "text": [
      "Alfonso\n"
     ]
    }
   ],
   "source": [
    "print(variable_python)"
   ]
  },
  {
   "cell_type": "markdown",
   "id": "f7b71fd1",
   "metadata": {},
   "source": [
    "Case:\n",
    "\n",
    "```python\n",
    "TitleCase: dotnet\n",
    "camelCase: java\n",
    "snake_case: python\n",
    "kebap-case: css\n",
    "```\n",
    "    \n",
    "en python se usa el snake_case\n",
    "    "
   ]
  },
  {
   "cell_type": "code",
   "execution_count": 8,
   "id": "785e8d87",
   "metadata": {},
   "outputs": [],
   "source": [
    "# esto es un comentario\n",
    "# y lo siguiente es una función:\n",
    "def hola_mundo():\n",
    "    return \"hola mundo\"\n",
    "\n"
   ]
  },
  {
   "cell_type": "code",
   "execution_count": 6,
   "id": "3a9c3e16",
   "metadata": {},
   "outputs": [
    {
     "data": {
      "text/plain": [
       "'hola mundo'"
      ]
     },
     "execution_count": 6,
     "metadata": {},
     "output_type": "execute_result"
    }
   ],
   "source": [
    "hola_mundo()"
   ]
  },
  {
   "cell_type": "markdown",
   "id": "58d16f1c",
   "metadata": {},
   "source": [
    "# Instalar Pandas\n",
    "\n",
    "```bash\n",
    "pip install pandas\n",
    "```\n",
    "ó\n",
    "```\n",
    "conda install pandas\n",
    "```"
   ]
  },
  {
   "cell_type": "code",
   "execution_count": 9,
   "id": "14aa9b6d",
   "metadata": {},
   "outputs": [],
   "source": [
    "import pandas as pd\n",
    "import numpy as np"
   ]
  },
  {
   "cell_type": "markdown",
   "id": "511e6530",
   "metadata": {},
   "source": [
    "# Series y Dataframes\n",
    "\n"
   ]
  }
 ],
 "metadata": {
  "kernelspec": {
   "display_name": "Python 3 (ipykernel)",
   "language": "python",
   "name": "python3"
  },
  "language_info": {
   "codemirror_mode": {
    "name": "ipython",
    "version": 3
   },
   "file_extension": ".py",
   "mimetype": "text/x-python",
   "name": "python",
   "nbconvert_exporter": "python",
   "pygments_lexer": "ipython3",
   "version": "3.9.13"
  }
 },
 "nbformat": 4,
 "nbformat_minor": 5
}
