{
 "cells": [
  {
   "cell_type": "code",
   "execution_count": 1,
   "id": "1c7a4ee5",
   "metadata": {},
   "outputs": [],
   "source": [
    "import pandas as pd\n",
    "import numpy as np"
   ]
  },
  {
   "cell_type": "code",
   "execution_count": null,
   "id": "9f159652",
   "metadata": {},
   "outputs": [],
   "source": []
  },
  {
   "cell_type": "code",
   "execution_count": 2,
   "id": "7279d4d5",
   "metadata": {},
   "outputs": [],
   "source": [
    "madrid = pd.read_csv('data/airbnb-madrid.csv')"
   ]
  },
  {
   "cell_type": "code",
   "execution_count": 3,
   "id": "21b5c99e",
   "metadata": {},
   "outputs": [
    {
     "data": {
      "text/html": [
       "<div>\n",
       "<style scoped>\n",
       "    .dataframe tbody tr th:only-of-type {\n",
       "        vertical-align: middle;\n",
       "    }\n",
       "\n",
       "    .dataframe tbody tr th {\n",
       "        vertical-align: top;\n",
       "    }\n",
       "\n",
       "    .dataframe thead th {\n",
       "        text-align: right;\n",
       "    }\n",
       "</style>\n",
       "<table border=\"1\" class=\"dataframe\">\n",
       "  <thead>\n",
       "    <tr style=\"text-align: right;\">\n",
       "      <th></th>\n",
       "      <th>id</th>\n",
       "      <th>listing_url</th>\n",
       "      <th>scrape_id</th>\n",
       "      <th>last_scraped</th>\n",
       "      <th>source</th>\n",
       "      <th>name</th>\n",
       "      <th>description</th>\n",
       "      <th>neighborhood_overview</th>\n",
       "      <th>picture_url</th>\n",
       "      <th>host_id</th>\n",
       "      <th>...</th>\n",
       "      <th>review_scores_communication</th>\n",
       "      <th>review_scores_location</th>\n",
       "      <th>review_scores_value</th>\n",
       "      <th>license</th>\n",
       "      <th>instant_bookable</th>\n",
       "      <th>calculated_host_listings_count</th>\n",
       "      <th>calculated_host_listings_count_entire_homes</th>\n",
       "      <th>calculated_host_listings_count_private_rooms</th>\n",
       "      <th>calculated_host_listings_count_shared_rooms</th>\n",
       "      <th>reviews_per_month</th>\n",
       "    </tr>\n",
       "  </thead>\n",
       "  <tbody>\n",
       "    <tr>\n",
       "      <th>0</th>\n",
       "      <td>6369</td>\n",
       "      <td>https://www.airbnb.com/rooms/6369</td>\n",
       "      <td>20220911230855</td>\n",
       "      <td>2022-09-12</td>\n",
       "      <td>city scrape</td>\n",
       "      <td>Rooftop terrace room ,  ensuite bathroom</td>\n",
       "      <td>Excellent connection with the AIRPORT and EXHI...</td>\n",
       "      <td>NaN</td>\n",
       "      <td>https://a0.muscache.com/pictures/683224/4cc318...</td>\n",
       "      <td>13660</td>\n",
       "      <td>...</td>\n",
       "      <td>4.85</td>\n",
       "      <td>4.82</td>\n",
       "      <td>4.85</td>\n",
       "      <td>NaN</td>\n",
       "      <td>f</td>\n",
       "      <td>1</td>\n",
       "      <td>0</td>\n",
       "      <td>1</td>\n",
       "      <td>0</td>\n",
       "      <td>0.65</td>\n",
       "    </tr>\n",
       "    <tr>\n",
       "      <th>1</th>\n",
       "      <td>21853</td>\n",
       "      <td>https://www.airbnb.com/rooms/21853</td>\n",
       "      <td>20220911230855</td>\n",
       "      <td>2022-09-12</td>\n",
       "      <td>city scrape</td>\n",
       "      <td>Bright and airy room</td>\n",
       "      <td>We have a quiet and sunny room with a good vie...</td>\n",
       "      <td>We live in a leafy neighbourhood with plenty o...</td>\n",
       "      <td>https://a0.muscache.com/pictures/68483181/87bc...</td>\n",
       "      <td>83531</td>\n",
       "      <td>...</td>\n",
       "      <td>4.82</td>\n",
       "      <td>4.21</td>\n",
       "      <td>4.67</td>\n",
       "      <td>NaN</td>\n",
       "      <td>f</td>\n",
       "      <td>2</td>\n",
       "      <td>0</td>\n",
       "      <td>2</td>\n",
       "      <td>0</td>\n",
       "      <td>0.34</td>\n",
       "    </tr>\n",
       "    <tr>\n",
       "      <th>2</th>\n",
       "      <td>24805</td>\n",
       "      <td>https://www.airbnb.com/rooms/24805</td>\n",
       "      <td>20220911230855</td>\n",
       "      <td>2022-09-12</td>\n",
       "      <td>city scrape</td>\n",
       "      <td>Gran Via Studio Madrid</td>\n",
       "      <td>Studio located 50 meters from Gran Via, next t...</td>\n",
       "      <td>The area is next to the Gran Via, so people li...</td>\n",
       "      <td>https://a0.muscache.com/pictures/miso/Hosting-...</td>\n",
       "      <td>346366726</td>\n",
       "      <td>...</td>\n",
       "      <td>5.00</td>\n",
       "      <td>5.00</td>\n",
       "      <td>4.83</td>\n",
       "      <td>NaN</td>\n",
       "      <td>f</td>\n",
       "      <td>1</td>\n",
       "      <td>1</td>\n",
       "      <td>0</td>\n",
       "      <td>0</td>\n",
       "      <td>0.25</td>\n",
       "    </tr>\n",
       "    <tr>\n",
       "      <th>3</th>\n",
       "      <td>26825</td>\n",
       "      <td>https://www.airbnb.com/rooms/26825</td>\n",
       "      <td>20220911230855</td>\n",
       "      <td>2022-09-12</td>\n",
       "      <td>city scrape</td>\n",
       "      <td>Single Room whith private Bathroom</td>\n",
       "      <td>Nice and cozy roon for one person with a priva...</td>\n",
       "      <td>Es un barrio muy tranquilo, en una zona de Mad...</td>\n",
       "      <td>https://a0.muscache.com/pictures/149358/218d5b...</td>\n",
       "      <td>114340</td>\n",
       "      <td>...</td>\n",
       "      <td>4.73</td>\n",
       "      <td>4.73</td>\n",
       "      <td>4.74</td>\n",
       "      <td>NaN</td>\n",
       "      <td>f</td>\n",
       "      <td>1</td>\n",
       "      <td>0</td>\n",
       "      <td>1</td>\n",
       "      <td>0</td>\n",
       "      <td>1.10</td>\n",
       "    </tr>\n",
       "    <tr>\n",
       "      <th>4</th>\n",
       "      <td>363476</td>\n",
       "      <td>https://www.airbnb.com/rooms/363476</td>\n",
       "      <td>20220911230855</td>\n",
       "      <td>2022-09-12</td>\n",
       "      <td>city scrape</td>\n",
       "      <td>PUERTA DEL SOL-QUIET DOWNTOWN</td>\n",
       "      <td>&lt;b&gt;The space&lt;/b&gt;&lt;br /&gt;We want to welcome this ...</td>\n",
       "      <td>NaN</td>\n",
       "      <td>https://a0.muscache.com/pictures/4264879/ee070...</td>\n",
       "      <td>1836617</td>\n",
       "      <td>...</td>\n",
       "      <td>4.79</td>\n",
       "      <td>4.97</td>\n",
       "      <td>4.52</td>\n",
       "      <td>NaN</td>\n",
       "      <td>f</td>\n",
       "      <td>1</td>\n",
       "      <td>0</td>\n",
       "      <td>1</td>\n",
       "      <td>0</td>\n",
       "      <td>3.74</td>\n",
       "    </tr>\n",
       "  </tbody>\n",
       "</table>\n",
       "<p>5 rows × 75 columns</p>\n",
       "</div>"
      ],
      "text/plain": [
       "       id                          listing_url       scrape_id last_scraped  \\\n",
       "0    6369    https://www.airbnb.com/rooms/6369  20220911230855   2022-09-12   \n",
       "1   21853   https://www.airbnb.com/rooms/21853  20220911230855   2022-09-12   \n",
       "2   24805   https://www.airbnb.com/rooms/24805  20220911230855   2022-09-12   \n",
       "3   26825   https://www.airbnb.com/rooms/26825  20220911230855   2022-09-12   \n",
       "4  363476  https://www.airbnb.com/rooms/363476  20220911230855   2022-09-12   \n",
       "\n",
       "        source                                      name  \\\n",
       "0  city scrape  Rooftop terrace room ,  ensuite bathroom   \n",
       "1  city scrape                      Bright and airy room   \n",
       "2  city scrape                    Gran Via Studio Madrid   \n",
       "3  city scrape        Single Room whith private Bathroom   \n",
       "4  city scrape             PUERTA DEL SOL-QUIET DOWNTOWN   \n",
       "\n",
       "                                         description  \\\n",
       "0  Excellent connection with the AIRPORT and EXHI...   \n",
       "1  We have a quiet and sunny room with a good vie...   \n",
       "2  Studio located 50 meters from Gran Via, next t...   \n",
       "3  Nice and cozy roon for one person with a priva...   \n",
       "4  <b>The space</b><br />We want to welcome this ...   \n",
       "\n",
       "                               neighborhood_overview  \\\n",
       "0                                                NaN   \n",
       "1  We live in a leafy neighbourhood with plenty o...   \n",
       "2  The area is next to the Gran Via, so people li...   \n",
       "3  Es un barrio muy tranquilo, en una zona de Mad...   \n",
       "4                                                NaN   \n",
       "\n",
       "                                         picture_url    host_id  ...  \\\n",
       "0  https://a0.muscache.com/pictures/683224/4cc318...      13660  ...   \n",
       "1  https://a0.muscache.com/pictures/68483181/87bc...      83531  ...   \n",
       "2  https://a0.muscache.com/pictures/miso/Hosting-...  346366726  ...   \n",
       "3  https://a0.muscache.com/pictures/149358/218d5b...     114340  ...   \n",
       "4  https://a0.muscache.com/pictures/4264879/ee070...    1836617  ...   \n",
       "\n",
       "  review_scores_communication review_scores_location review_scores_value  \\\n",
       "0                        4.85                   4.82                4.85   \n",
       "1                        4.82                   4.21                4.67   \n",
       "2                        5.00                   5.00                4.83   \n",
       "3                        4.73                   4.73                4.74   \n",
       "4                        4.79                   4.97                4.52   \n",
       "\n",
       "  license instant_bookable calculated_host_listings_count  \\\n",
       "0     NaN                f                              1   \n",
       "1     NaN                f                              2   \n",
       "2     NaN                f                              1   \n",
       "3     NaN                f                              1   \n",
       "4     NaN                f                              1   \n",
       "\n",
       "  calculated_host_listings_count_entire_homes  \\\n",
       "0                                           0   \n",
       "1                                           0   \n",
       "2                                           1   \n",
       "3                                           0   \n",
       "4                                           0   \n",
       "\n",
       "  calculated_host_listings_count_private_rooms  \\\n",
       "0                                            1   \n",
       "1                                            2   \n",
       "2                                            0   \n",
       "3                                            1   \n",
       "4                                            1   \n",
       "\n",
       "  calculated_host_listings_count_shared_rooms reviews_per_month  \n",
       "0                                           0              0.65  \n",
       "1                                           0              0.34  \n",
       "2                                           0              0.25  \n",
       "3                                           0              1.10  \n",
       "4                                           0              3.74  \n",
       "\n",
       "[5 rows x 75 columns]"
      ]
     },
     "execution_count": 3,
     "metadata": {},
     "output_type": "execute_result"
    }
   ],
   "source": [
    "madrid.head()"
   ]
  },
  {
   "cell_type": "code",
   "execution_count": 4,
   "id": "c4235ea6",
   "metadata": {},
   "outputs": [
    {
     "data": {
      "text/plain": [
       "(20681, 75)"
      ]
     },
     "execution_count": 4,
     "metadata": {},
     "output_type": "execute_result"
    }
   ],
   "source": [
    "madrid.shape"
   ]
  },
  {
   "cell_type": "code",
   "execution_count": 5,
   "id": "d745007f",
   "metadata": {},
   "outputs": [
    {
     "data": {
      "text/plain": [
       "Index(['id', 'listing_url', 'scrape_id', 'last_scraped', 'source', 'name',\n",
       "       'description', 'neighborhood_overview', 'picture_url', 'host_id',\n",
       "       'host_url', 'host_name', 'host_since', 'host_location', 'host_about',\n",
       "       'host_response_time', 'host_response_rate', 'host_acceptance_rate',\n",
       "       'host_is_superhost', 'host_thumbnail_url', 'host_picture_url',\n",
       "       'host_neighbourhood', 'host_listings_count',\n",
       "       'host_total_listings_count', 'host_verifications',\n",
       "       'host_has_profile_pic', 'host_identity_verified', 'neighbourhood',\n",
       "       'neighbourhood_cleansed', 'neighbourhood_group_cleansed', 'latitude',\n",
       "       'longitude', 'property_type', 'room_type', 'accommodates', 'bathrooms',\n",
       "       'bathrooms_text', 'bedrooms', 'beds', 'amenities', 'price',\n",
       "       'minimum_nights', 'maximum_nights', 'minimum_minimum_nights',\n",
       "       'maximum_minimum_nights', 'minimum_maximum_nights',\n",
       "       'maximum_maximum_nights', 'minimum_nights_avg_ntm',\n",
       "       'maximum_nights_avg_ntm', 'calendar_updated', 'has_availability',\n",
       "       'availability_30', 'availability_60', 'availability_90',\n",
       "       'availability_365', 'calendar_last_scraped', 'number_of_reviews',\n",
       "       'number_of_reviews_ltm', 'number_of_reviews_l30d', 'first_review',\n",
       "       'last_review', 'review_scores_rating', 'review_scores_accuracy',\n",
       "       'review_scores_cleanliness', 'review_scores_checkin',\n",
       "       'review_scores_communication', 'review_scores_location',\n",
       "       'review_scores_value', 'license', 'instant_bookable',\n",
       "       'calculated_host_listings_count',\n",
       "       'calculated_host_listings_count_entire_homes',\n",
       "       'calculated_host_listings_count_private_rooms',\n",
       "       'calculated_host_listings_count_shared_rooms', 'reviews_per_month'],\n",
       "      dtype='object')"
      ]
     },
     "execution_count": 5,
     "metadata": {},
     "output_type": "execute_result"
    }
   ],
   "source": [
    "madrid.columns"
   ]
  },
  {
   "cell_type": "code",
   "execution_count": 6,
   "id": "7177aa6b",
   "metadata": {},
   "outputs": [
    {
     "data": {
      "text/plain": [
       "0         $77.00\n",
       "1         $31.00\n",
       "2         $92.00\n",
       "3         $26.00\n",
       "4         $49.00\n",
       "          ...   \n",
       "20676     $85.00\n",
       "20677     $75.00\n",
       "20678     $50.00\n",
       "20679    $165.00\n",
       "20680    $109.00\n",
       "Name: price, Length: 20681, dtype: object"
      ]
     },
     "execution_count": 6,
     "metadata": {},
     "output_type": "execute_result"
    }
   ],
   "source": [
    "madrid['price']"
   ]
  },
  {
   "cell_type": "code",
   "execution_count": 7,
   "id": "ae38929f",
   "metadata": {},
   "outputs": [
    {
     "data": {
      "text/plain": [
       "0        [\"Coffee maker\", \"Dishwasher\", \"Cleaning produ...\n",
       "1        [\"Wifi\", \"Coffee maker\", \"Bed linens\", \"Washer...\n",
       "2        [\"Wifi\", \"Coffee maker\", \"Washer\", \"Cleaning b...\n",
       "3        [\"Wifi\", \"Hot water\", \"Long term stays allowed...\n",
       "4        [\"Portable air conditioning\", \"Wifi\", \"Hot wat...\n",
       "                               ...                        \n",
       "20676    [\"Wifi\", \"Coffee maker\", \"Dishwasher\", \"Cleani...\n",
       "20677    [\"Wifi\", \"Coffee maker\", \"Bed linens\", \"Washer...\n",
       "20678    [\"Wifi\", \"Long term stays allowed\", \"Elevator\"...\n",
       "20679    [\"Free parking garage on premises \\u2013 1 spa...\n",
       "20680    [\"Wifi\", \"Long term stays allowed\", \"Security ...\n",
       "Name: amenities, Length: 20681, dtype: object"
      ]
     },
     "execution_count": 7,
     "metadata": {},
     "output_type": "execute_result"
    }
   ],
   "source": [
    "madrid['amenities']"
   ]
  },
  {
   "cell_type": "code",
   "execution_count": 8,
   "id": "18b3c451",
   "metadata": {},
   "outputs": [
    {
     "data": {
      "text/plain": [
       "0        2\n",
       "1        1\n",
       "2        3\n",
       "3        1\n",
       "4        2\n",
       "        ..\n",
       "20676    5\n",
       "20677    6\n",
       "20678    1\n",
       "20679    4\n",
       "20680    4\n",
       "Name: accommodates, Length: 20681, dtype: int64"
      ]
     },
     "execution_count": 8,
     "metadata": {},
     "output_type": "execute_result"
    }
   ],
   "source": [
    "madrid['accommodates']"
   ]
  },
  {
   "cell_type": "code",
   "execution_count": 9,
   "id": "b03ee43b",
   "metadata": {},
   "outputs": [
    {
     "data": {
      "text/plain": [
       "id                                                                           6369\n",
       "listing_url                                     https://www.airbnb.com/rooms/6369\n",
       "scrape_id                                                          20220911230855\n",
       "last_scraped                                                           2022-09-12\n",
       "source                                                                city scrape\n",
       "                                                              ...                \n",
       "calculated_host_listings_count                                                  1\n",
       "calculated_host_listings_count_entire_homes                                     0\n",
       "calculated_host_listings_count_private_rooms                                    1\n",
       "calculated_host_listings_count_shared_rooms                                     0\n",
       "reviews_per_month                                                            0.65\n",
       "Name: 0, Length: 75, dtype: object"
      ]
     },
     "execution_count": 9,
     "metadata": {},
     "output_type": "execute_result"
    }
   ],
   "source": [
    "madrid.iloc[0]"
   ]
  },
  {
   "cell_type": "markdown",
   "id": "a237cfb1",
   "metadata": {},
   "source": [
    "## Objetivo\n",
    "\n",
    "Calcular el precio que debería tener nuestro apartamento en Madrid: Plaza Castilla, 2 habitaciones, 4 personas\n",
    "KNN:\n",
    "- Encontrar alojamientos similares \n",
    "  - Primero lo haremos por el número de inquilinos\n",
    "- Cogeremos los k primeros de la lista, ordenada por similitud\n",
    "- Calcularemos la media de los k primeros"
   ]
  },
  {
   "cell_type": "markdown",
   "id": "45bc4cec",
   "metadata": {},
   "source": [
    "Para saber si son similares - lo hacemos por la distancia euclidea"
   ]
  },
  {
   "cell_type": "code",
   "execution_count": 10,
   "id": "7a7fe5bd",
   "metadata": {},
   "outputs": [],
   "source": [
    "nuestra_capacidad = 4\n",
    "first_element = madrid.iloc[0]\n",
    "distancia_con_el_primer_elemento = np.abs(nuestra_capacidad- first_element['accommodates'])"
   ]
  },
  {
   "cell_type": "code",
   "execution_count": 11,
   "id": "4e1b6bde",
   "metadata": {},
   "outputs": [
    {
     "data": {
      "text/plain": [
       "2"
      ]
     },
     "execution_count": 11,
     "metadata": {},
     "output_type": "execute_result"
    }
   ],
   "source": [
    "distancia_con_el_primer_elemento"
   ]
  },
  {
   "cell_type": "code",
   "execution_count": 12,
   "id": "ca69aa70",
   "metadata": {},
   "outputs": [
    {
     "data": {
      "text/plain": [
       "2"
      ]
     },
     "execution_count": 12,
     "metadata": {},
     "output_type": "execute_result"
    }
   ],
   "source": [
    "first_element['accommodates']"
   ]
  },
  {
   "cell_type": "code",
   "execution_count": 13,
   "id": "713ea07d",
   "metadata": {},
   "outputs": [],
   "source": [
    "todas_las_distancias = madrid['accommodates'].apply(\n",
    "    lambda x: np.abs(nuestra_capacidad - x)\n",
    ")"
   ]
  },
  {
   "cell_type": "code",
   "execution_count": 14,
   "id": "fbd32f36",
   "metadata": {},
   "outputs": [
    {
     "data": {
      "text/plain": [
       "0        2\n",
       "1        3\n",
       "2        1\n",
       "3        3\n",
       "4        2\n",
       "        ..\n",
       "20676    1\n",
       "20677    2\n",
       "20678    3\n",
       "20679    0\n",
       "20680    0\n",
       "Name: accommodates, Length: 20681, dtype: int64"
      ]
     },
     "execution_count": 14,
     "metadata": {},
     "output_type": "execute_result"
    }
   ],
   "source": [
    "todas_las_distancias"
   ]
  },
  {
   "cell_type": "code",
   "execution_count": 15,
   "id": "50d768c9",
   "metadata": {},
   "outputs": [],
   "source": [
    "madrid['distancia'] = todas_las_distancias"
   ]
  },
  {
   "cell_type": "code",
   "execution_count": 16,
   "id": "7abe75bd",
   "metadata": {},
   "outputs": [
    {
     "data": {
      "text/html": [
       "<div>\n",
       "<style scoped>\n",
       "    .dataframe tbody tr th:only-of-type {\n",
       "        vertical-align: middle;\n",
       "    }\n",
       "\n",
       "    .dataframe tbody tr th {\n",
       "        vertical-align: top;\n",
       "    }\n",
       "\n",
       "    .dataframe thead th {\n",
       "        text-align: right;\n",
       "    }\n",
       "</style>\n",
       "<table border=\"1\" class=\"dataframe\">\n",
       "  <thead>\n",
       "    <tr style=\"text-align: right;\">\n",
       "      <th></th>\n",
       "      <th>description</th>\n",
       "      <th>distancia</th>\n",
       "    </tr>\n",
       "  </thead>\n",
       "  <tbody>\n",
       "    <tr>\n",
       "      <th>0</th>\n",
       "      <td>Excellent connection with the AIRPORT and EXHI...</td>\n",
       "      <td>2</td>\n",
       "    </tr>\n",
       "    <tr>\n",
       "      <th>1</th>\n",
       "      <td>We have a quiet and sunny room with a good vie...</td>\n",
       "      <td>3</td>\n",
       "    </tr>\n",
       "    <tr>\n",
       "      <th>2</th>\n",
       "      <td>Studio located 50 meters from Gran Via, next t...</td>\n",
       "      <td>1</td>\n",
       "    </tr>\n",
       "    <tr>\n",
       "      <th>3</th>\n",
       "      <td>Nice and cozy roon for one person with a priva...</td>\n",
       "      <td>3</td>\n",
       "    </tr>\n",
       "    <tr>\n",
       "      <th>4</th>\n",
       "      <td>&lt;b&gt;The space&lt;/b&gt;&lt;br /&gt;We want to welcome this ...</td>\n",
       "      <td>2</td>\n",
       "    </tr>\n",
       "    <tr>\n",
       "      <th>...</th>\n",
       "      <td>...</td>\n",
       "      <td>...</td>\n",
       "    </tr>\n",
       "    <tr>\n",
       "      <th>20676</th>\n",
       "      <td>Disfruta de la sencillez de este alojamiento t...</td>\n",
       "      <td>1</td>\n",
       "    </tr>\n",
       "    <tr>\n",
       "      <th>20677</th>\n",
       "      <td>Espectacular piso compartido decoracion modern...</td>\n",
       "      <td>2</td>\n",
       "    </tr>\n",
       "    <tr>\n",
       "      <th>20678</th>\n",
       "      <td>The house is located in the center of Getafe ,...</td>\n",
       "      <td>3</td>\n",
       "    </tr>\n",
       "    <tr>\n",
       "      <th>20679</th>\n",
       "      <td>Precioso Duplex de 2 habitaciones listo para r...</td>\n",
       "      <td>0</td>\n",
       "    </tr>\n",
       "    <tr>\n",
       "      <th>20680</th>\n",
       "      <td>Relájate y desconecta en este alojamiento tran...</td>\n",
       "      <td>0</td>\n",
       "    </tr>\n",
       "  </tbody>\n",
       "</table>\n",
       "<p>20681 rows × 2 columns</p>\n",
       "</div>"
      ],
      "text/plain": [
       "                                             description  distancia\n",
       "0      Excellent connection with the AIRPORT and EXHI...          2\n",
       "1      We have a quiet and sunny room with a good vie...          3\n",
       "2      Studio located 50 meters from Gran Via, next t...          1\n",
       "3      Nice and cozy roon for one person with a priva...          3\n",
       "4      <b>The space</b><br />We want to welcome this ...          2\n",
       "...                                                  ...        ...\n",
       "20676  Disfruta de la sencillez de este alojamiento t...          1\n",
       "20677  Espectacular piso compartido decoracion modern...          2\n",
       "20678  The house is located in the center of Getafe ,...          3\n",
       "20679  Precioso Duplex de 2 habitaciones listo para r...          0\n",
       "20680  Relájate y desconecta en este alojamiento tran...          0\n",
       "\n",
       "[20681 rows x 2 columns]"
      ]
     },
     "execution_count": 16,
     "metadata": {},
     "output_type": "execute_result"
    }
   ],
   "source": [
    "madrid[['description', 'distancia']]"
   ]
  },
  {
   "cell_type": "code",
   "execution_count": 17,
   "id": "90e4a571",
   "metadata": {},
   "outputs": [
    {
     "data": {
      "text/plain": [
       "2     8872\n",
       "0     4631\n",
       "3     3631\n",
       "1     2876\n",
       "4      372\n",
       "6      117\n",
       "5       57\n",
       "8       41\n",
       "12      30\n",
       "7       21\n",
       "10      14\n",
       "9       11\n",
       "11       8\n",
       "Name: distancia, dtype: int64"
      ]
     },
     "execution_count": 17,
     "metadata": {},
     "output_type": "execute_result"
    }
   ],
   "source": [
    "madrid['distancia'].value_counts()"
   ]
  },
  {
   "cell_type": "code",
   "execution_count": 18,
   "id": "9efdc7a6",
   "metadata": {},
   "outputs": [],
   "source": [
    "import matplotlib as plt"
   ]
  },
  {
   "cell_type": "code",
   "execution_count": 19,
   "id": "d75e1a1f",
   "metadata": {},
   "outputs": [
    {
     "data": {
      "text/plain": [
       "<AxesSubplot: ylabel='Frequency'>"
      ]
     },
     "execution_count": 19,
     "metadata": {},
     "output_type": "execute_result"
    },
    {
     "data": {
      "image/png": "[encoded data removed]",
      "text/plain": [
       "<Figure size 640x480 with 1 Axes>"
      ]
     },
     "metadata": {},
     "output_type": "display_data"
    }
   ],
   "source": [
    "madrid['accommodates'].plot(kind='hist', bins=20)"
   ]
  },
  {
   "cell_type": "code",
   "execution_count": 20,
   "id": "8f390fce",
   "metadata": {},
   "outputs": [
    {
     "data": {
      "text/html": [
       "<div>\n",
       "<style scoped>\n",
       "    .dataframe tbody tr th:only-of-type {\n",
       "        vertical-align: middle;\n",
       "    }\n",
       "\n",
       "    .dataframe tbody tr th {\n",
       "        vertical-align: top;\n",
       "    }\n",
       "\n",
       "    .dataframe thead th {\n",
       "        text-align: right;\n",
       "    }\n",
       "</style>\n",
       "<table border=\"1\" class=\"dataframe\">\n",
       "  <thead>\n",
       "    <tr style=\"text-align: right;\">\n",
       "      <th></th>\n",
       "      <th>description</th>\n",
       "      <th>accommodates</th>\n",
       "      <th>distancia</th>\n",
       "      <th>price</th>\n",
       "    </tr>\n",
       "  </thead>\n",
       "  <tbody>\n",
       "    <tr>\n",
       "      <th>20680</th>\n",
       "      <td>Relájate y desconecta en este alojamiento tran...</td>\n",
       "      <td>4</td>\n",
       "      <td>0</td>\n",
       "      <td>$109.00</td>\n",
       "    </tr>\n",
       "    <tr>\n",
       "      <th>4889</th>\n",
       "      <td>Brand new apartment with good lighting and all...</td>\n",
       "      <td>4</td>\n",
       "      <td>0</td>\n",
       "      <td>$99.00</td>\n",
       "    </tr>\n",
       "    <tr>\n",
       "      <th>4887</th>\n",
       "      <td>Located in one of the most emblematic areas of...</td>\n",
       "      <td>4</td>\n",
       "      <td>0</td>\n",
       "      <td>$91.00</td>\n",
       "    </tr>\n",
       "    <tr>\n",
       "      <th>4885</th>\n",
       "      <td>PARA QUE SEA EFECTIVA LA RESERVA TIENE QUE SER...</td>\n",
       "      <td>4</td>\n",
       "      <td>0</td>\n",
       "      <td>$136.00</td>\n",
       "    </tr>\n",
       "    <tr>\n",
       "      <th>16691</th>\n",
       "      <td>Elegant 2 bedroom apartment with two bathrooms...</td>\n",
       "      <td>4</td>\n",
       "      <td>0</td>\n",
       "      <td>$109.00</td>\n",
       "    </tr>\n",
       "  </tbody>\n",
       "</table>\n",
       "</div>"
      ],
      "text/plain": [
       "                                             description  accommodates  \\\n",
       "20680  Relájate y desconecta en este alojamiento tran...             4   \n",
       "4889   Brand new apartment with good lighting and all...             4   \n",
       "4887   Located in one of the most emblematic areas of...             4   \n",
       "4885   PARA QUE SEA EFECTIVA LA RESERVA TIENE QUE SER...             4   \n",
       "16691  Elegant 2 bedroom apartment with two bathrooms...             4   \n",
       "\n",
       "       distancia    price  \n",
       "20680          0  $109.00  \n",
       "4889           0   $99.00  \n",
       "4887           0   $91.00  \n",
       "4885           0  $136.00  \n",
       "16691          0  $109.00  "
      ]
     },
     "execution_count": 20,
     "metadata": {},
     "output_type": "execute_result"
    }
   ],
   "source": [
    "madrid[['description', 'accommodates', 'distancia', 'price']].sort_values('distancia').head()"
   ]
  },
  {
   "cell_type": "code",
   "execution_count": 21,
   "id": "f97ca136",
   "metadata": {},
   "outputs": [
    {
     "data": {
      "text/html": [
       "<div>\n",
       "<style scoped>\n",
       "    .dataframe tbody tr th:only-of-type {\n",
       "        vertical-align: middle;\n",
       "    }\n",
       "\n",
       "    .dataframe tbody tr th {\n",
       "        vertical-align: top;\n",
       "    }\n",
       "\n",
       "    .dataframe thead th {\n",
       "        text-align: right;\n",
       "    }\n",
       "</style>\n",
       "<table border=\"1\" class=\"dataframe\">\n",
       "  <thead>\n",
       "    <tr style=\"text-align: right;\">\n",
       "      <th></th>\n",
       "      <th>description</th>\n",
       "      <th>accommodates</th>\n",
       "      <th>distancia</th>\n",
       "      <th>price</th>\n",
       "    </tr>\n",
       "  </thead>\n",
       "  <tbody>\n",
       "    <tr>\n",
       "      <th>20680</th>\n",
       "      <td>Relájate y desconecta en este alojamiento tran...</td>\n",
       "      <td>4</td>\n",
       "      <td>0</td>\n",
       "      <td>$109.00</td>\n",
       "    </tr>\n",
       "    <tr>\n",
       "      <th>4889</th>\n",
       "      <td>Brand new apartment with good lighting and all...</td>\n",
       "      <td>4</td>\n",
       "      <td>0</td>\n",
       "      <td>$99.00</td>\n",
       "    </tr>\n",
       "    <tr>\n",
       "      <th>4887</th>\n",
       "      <td>Located in one of the most emblematic areas of...</td>\n",
       "      <td>4</td>\n",
       "      <td>0</td>\n",
       "      <td>$91.00</td>\n",
       "    </tr>\n",
       "    <tr>\n",
       "      <th>4885</th>\n",
       "      <td>PARA QUE SEA EFECTIVA LA RESERVA TIENE QUE SER...</td>\n",
       "      <td>4</td>\n",
       "      <td>0</td>\n",
       "      <td>$136.00</td>\n",
       "    </tr>\n",
       "    <tr>\n",
       "      <th>16691</th>\n",
       "      <td>Elegant 2 bedroom apartment with two bathrooms...</td>\n",
       "      <td>4</td>\n",
       "      <td>0</td>\n",
       "      <td>$109.00</td>\n",
       "    </tr>\n",
       "  </tbody>\n",
       "</table>\n",
       "</div>"
      ],
      "text/plain": [
       "                                             description  accommodates  \\\n",
       "20680  Relájate y desconecta en este alojamiento tran...             4   \n",
       "4889   Brand new apartment with good lighting and all...             4   \n",
       "4887   Located in one of the most emblematic areas of...             4   \n",
       "4885   PARA QUE SEA EFECTIVA LA RESERVA TIENE QUE SER...             4   \n",
       "16691  Elegant 2 bedroom apartment with two bathrooms...             4   \n",
       "\n",
       "       distancia    price  \n",
       "20680          0  $109.00  \n",
       "4889           0   $99.00  \n",
       "4887           0   $91.00  \n",
       "4885           0  $136.00  \n",
       "16691          0  $109.00  "
      ]
     },
     "execution_count": 21,
     "metadata": {},
     "output_type": "execute_result"
    }
   ],
   "source": [
    "madrid[['description', 'accommodates', 'distancia', 'price']].sort_values('distancia').head()"
   ]
  },
  {
   "cell_type": "markdown",
   "id": "29dcb864",
   "metadata": {},
   "source": [
    "Hemos introducido un sesgo porque el orden con el que venían podía no ser aleatorio\n",
    "Tenemos que barajar\n",
    "\n",
    "Esto se hace con `np.random.permutation`"
   ]
  },
  {
   "cell_type": "code",
   "execution_count": 22,
   "id": "dd506417",
   "metadata": {},
   "outputs": [
    {
     "data": {
      "text/plain": [
       "array([2, 3, 0, 1])"
      ]
     },
     "execution_count": 22,
     "metadata": {},
     "output_type": "execute_result"
    }
   ],
   "source": [
    "np.random.permutation(4)"
   ]
  },
  {
   "cell_type": "code",
   "execution_count": 23,
   "id": "52047db1",
   "metadata": {},
   "outputs": [
    {
     "data": {
      "text/plain": [
       "array([ 8, 17, 36, 29,  0, 11, 10, 26, 14,  2, 32, 24, 41, 23, 39, 43,  3,\n",
       "       22, 13, 25,  6, 37, 20, 12, 28,  7, 15, 44,  4, 38, 34, 40, 18, 19,\n",
       "       21, 33, 27, 16, 30, 42, 35, 31,  5,  9,  1])"
      ]
     },
     "execution_count": 23,
     "metadata": {},
     "output_type": "execute_result"
    }
   ],
   "source": [
    "np.random.permutation(45)"
   ]
  },
  {
   "cell_type": "code",
   "execution_count": 24,
   "id": "b360617c",
   "metadata": {},
   "outputs": [
    {
     "data": {
      "text/plain": [
       "20681"
      ]
     },
     "execution_count": 24,
     "metadata": {},
     "output_type": "execute_result"
    }
   ],
   "source": [
    "len(madrid)"
   ]
  },
  {
   "cell_type": "code",
   "execution_count": 25,
   "id": "020688d4",
   "metadata": {},
   "outputs": [
    {
     "data": {
      "text/plain": [
       "(20681, 76)"
      ]
     },
     "execution_count": 25,
     "metadata": {},
     "output_type": "execute_result"
    }
   ],
   "source": [
    "madrid.shape"
   ]
  },
  {
   "cell_type": "code",
   "execution_count": 26,
   "id": "6d55ff0d",
   "metadata": {},
   "outputs": [
    {
     "data": {
      "text/plain": [
       "20681"
      ]
     },
     "execution_count": 26,
     "metadata": {},
     "output_type": "execute_result"
    }
   ],
   "source": [
    "madrid.shape[0]"
   ]
  },
  {
   "cell_type": "code",
   "execution_count": 27,
   "id": "c9c2e718",
   "metadata": {},
   "outputs": [],
   "source": [
    "np.random.seed(788)"
   ]
  },
  {
   "cell_type": "code",
   "execution_count": 28,
   "id": "3ce90172",
   "metadata": {},
   "outputs": [],
   "source": [
    "madrid = madrid.iloc[\n",
    "    np.random.permutation(\n",
    "        len(madrid)\n",
    "    )\n",
    "]"
   ]
  },
  {
   "cell_type": "code",
   "execution_count": 29,
   "id": "a2fb444f",
   "metadata": {},
   "outputs": [
    {
     "data": {
      "text/html": [
       "<div>\n",
       "<style scoped>\n",
       "    .dataframe tbody tr th:only-of-type {\n",
       "        vertical-align: middle;\n",
       "    }\n",
       "\n",
       "    .dataframe tbody tr th {\n",
       "        vertical-align: top;\n",
       "    }\n",
       "\n",
       "    .dataframe thead th {\n",
       "        text-align: right;\n",
       "    }\n",
       "</style>\n",
       "<table border=\"1\" class=\"dataframe\">\n",
       "  <thead>\n",
       "    <tr style=\"text-align: right;\">\n",
       "      <th></th>\n",
       "      <th>id</th>\n",
       "      <th>listing_url</th>\n",
       "      <th>scrape_id</th>\n",
       "      <th>last_scraped</th>\n",
       "      <th>source</th>\n",
       "      <th>name</th>\n",
       "      <th>description</th>\n",
       "      <th>neighborhood_overview</th>\n",
       "      <th>picture_url</th>\n",
       "      <th>host_id</th>\n",
       "      <th>...</th>\n",
       "      <th>review_scores_location</th>\n",
       "      <th>review_scores_value</th>\n",
       "      <th>license</th>\n",
       "      <th>instant_bookable</th>\n",
       "      <th>calculated_host_listings_count</th>\n",
       "      <th>calculated_host_listings_count_entire_homes</th>\n",
       "      <th>calculated_host_listings_count_private_rooms</th>\n",
       "      <th>calculated_host_listings_count_shared_rooms</th>\n",
       "      <th>reviews_per_month</th>\n",
       "      <th>distancia</th>\n",
       "    </tr>\n",
       "  </thead>\n",
       "  <tbody>\n",
       "    <tr>\n",
       "      <th>14079</th>\n",
       "      <td>51477663</td>\n",
       "      <td>https://www.airbnb.com/rooms/51477663</td>\n",
       "      <td>20220911230855</td>\n",
       "      <td>2022-09-12</td>\n",
       "      <td>city scrape</td>\n",
       "      <td>Confortable Habitación en zona del Retiro.</td>\n",
       "      <td>Disfruta de la sencillez de este alojamiento t...</td>\n",
       "      <td>Barrio tranquilo y comunicado con supermercado...</td>\n",
       "      <td>https://a0.muscache.com/pictures/0ca7707f-38af...</td>\n",
       "      <td>111405751</td>\n",
       "      <td>...</td>\n",
       "      <td>4.74</td>\n",
       "      <td>4.6</td>\n",
       "      <td>NaN</td>\n",
       "      <td>f</td>\n",
       "      <td>2</td>\n",
       "      <td>0</td>\n",
       "      <td>2</td>\n",
       "      <td>0</td>\n",
       "      <td>8.02</td>\n",
       "      <td>2</td>\n",
       "    </tr>\n",
       "    <tr>\n",
       "      <th>7381</th>\n",
       "      <td>31559404</td>\n",
       "      <td>https://www.airbnb.com/rooms/31559404</td>\n",
       "      <td>20220911230855</td>\n",
       "      <td>2022-09-12</td>\n",
       "      <td>city scrape</td>\n",
       "      <td>HABITACION  CON CAMA DOBLE. SILLA Y ESCRITORIO...</td>\n",
       "      <td>Is a 2 bedroom, furnished, with maximum capaci...</td>\n",
       "      <td>NaN</td>\n",
       "      <td>https://a0.muscache.com/pictures/37497124/aee3...</td>\n",
       "      <td>498646</td>\n",
       "      <td>...</td>\n",
       "      <td>NaN</td>\n",
       "      <td>NaN</td>\n",
       "      <td>NaN</td>\n",
       "      <td>t</td>\n",
       "      <td>4</td>\n",
       "      <td>1</td>\n",
       "      <td>3</td>\n",
       "      <td>0</td>\n",
       "      <td>NaN</td>\n",
       "      <td>3</td>\n",
       "    </tr>\n",
       "    <tr>\n",
       "      <th>13621</th>\n",
       "      <td>50416327</td>\n",
       "      <td>https://www.airbnb.com/rooms/50416327</td>\n",
       "      <td>20220911230855</td>\n",
       "      <td>2022-09-12</td>\n",
       "      <td>previous scrape</td>\n",
       "      <td>Room for students girls until 30 years old</td>\n",
       "      <td>Shared house with students or recently graduat...</td>\n",
       "      <td>The neighbourhood of Moratalaz is one of the b...</td>\n",
       "      <td>https://a0.muscache.com/pictures/4988d6e1-73d7...</td>\n",
       "      <td>16944831</td>\n",
       "      <td>...</td>\n",
       "      <td>NaN</td>\n",
       "      <td>NaN</td>\n",
       "      <td>NaN</td>\n",
       "      <td>f</td>\n",
       "      <td>17</td>\n",
       "      <td>0</td>\n",
       "      <td>17</td>\n",
       "      <td>0</td>\n",
       "      <td>NaN</td>\n",
       "      <td>3</td>\n",
       "    </tr>\n",
       "    <tr>\n",
       "      <th>14855</th>\n",
       "      <td>53126020</td>\n",
       "      <td>https://www.airbnb.com/rooms/53126020</td>\n",
       "      <td>20220911230855</td>\n",
       "      <td>2022-09-12</td>\n",
       "      <td>previous scrape</td>\n",
       "      <td>NAKA - Two bedroom apartment in Velazquez</td>\n",
       "      <td>Our mission is to empower individuals to immer...</td>\n",
       "      <td>NaN</td>\n",
       "      <td>https://a0.muscache.com/pictures/prohost-api/H...</td>\n",
       "      <td>346367515</td>\n",
       "      <td>...</td>\n",
       "      <td>5.00</td>\n",
       "      <td>5.0</td>\n",
       "      <td>NaN</td>\n",
       "      <td>t</td>\n",
       "      <td>95</td>\n",
       "      <td>95</td>\n",
       "      <td>0</td>\n",
       "      <td>0</td>\n",
       "      <td>0.37</td>\n",
       "      <td>0</td>\n",
       "    </tr>\n",
       "    <tr>\n",
       "      <th>17493</th>\n",
       "      <td>628950317051971808</td>\n",
       "      <td>https://www.airbnb.com/rooms/628950317051971808</td>\n",
       "      <td>20220911230855</td>\n",
       "      <td>2022-09-12</td>\n",
       "      <td>city scrape</td>\n",
       "      <td>Habitación con baño privado en apto moderno</td>\n",
       "      <td>Este alojamiento único tiene personalidad prop...</td>\n",
       "      <td>NaN</td>\n",
       "      <td>https://a0.muscache.com/pictures/ae4b7730-1afd...</td>\n",
       "      <td>459585563</td>\n",
       "      <td>...</td>\n",
       "      <td>4.85</td>\n",
       "      <td>5.0</td>\n",
       "      <td>NaN</td>\n",
       "      <td>t</td>\n",
       "      <td>1</td>\n",
       "      <td>0</td>\n",
       "      <td>1</td>\n",
       "      <td>0</td>\n",
       "      <td>5.26</td>\n",
       "      <td>2</td>\n",
       "    </tr>\n",
       "  </tbody>\n",
       "</table>\n",
       "<p>5 rows × 76 columns</p>\n",
       "</div>"
      ],
      "text/plain": [
       "                       id                                      listing_url  \\\n",
       "14079            51477663            https://www.airbnb.com/rooms/51477663   \n",
       "7381             31559404            https://www.airbnb.com/rooms/31559404   \n",
       "13621            50416327            https://www.airbnb.com/rooms/50416327   \n",
       "14855            53126020            https://www.airbnb.com/rooms/53126020   \n",
       "17493  628950317051971808  https://www.airbnb.com/rooms/628950317051971808   \n",
       "\n",
       "            scrape_id last_scraped           source  \\\n",
       "14079  20220911230855   2022-09-12      city scrape   \n",
       "7381   20220911230855   2022-09-12      city scrape   \n",
       "13621  20220911230855   2022-09-12  previous scrape   \n",
       "14855  20220911230855   2022-09-12  previous scrape   \n",
       "17493  20220911230855   2022-09-12      city scrape   \n",
       "\n",
       "                                                    name  \\\n",
       "14079         Confortable Habitación en zona del Retiro.   \n",
       "7381   HABITACION  CON CAMA DOBLE. SILLA Y ESCRITORIO...   \n",
       "13621         Room for students girls until 30 years old   \n",
       "14855          NAKA - Two bedroom apartment in Velazquez   \n",
       "17493        Habitación con baño privado en apto moderno   \n",
       "\n",
       "                                             description  \\\n",
       "14079  Disfruta de la sencillez de este alojamiento t...   \n",
       "7381   Is a 2 bedroom, furnished, with maximum capaci...   \n",
       "13621  Shared house with students or recently graduat...   \n",
       "14855  Our mission is to empower individuals to immer...   \n",
       "17493  Este alojamiento único tiene personalidad prop...   \n",
       "\n",
       "                                   neighborhood_overview  \\\n",
       "14079  Barrio tranquilo y comunicado con supermercado...   \n",
       "7381                                                 NaN   \n",
       "13621  The neighbourhood of Moratalaz is one of the b...   \n",
       "14855                                                NaN   \n",
       "17493                                                NaN   \n",
       "\n",
       "                                             picture_url    host_id  ...  \\\n",
       "14079  https://a0.muscache.com/pictures/0ca7707f-38af...  111405751  ...   \n",
       "7381   https://a0.muscache.com/pictures/37497124/aee3...     498646  ...   \n",
       "13621  https://a0.muscache.com/pictures/4988d6e1-73d7...   16944831  ...   \n",
       "14855  https://a0.muscache.com/pictures/prohost-api/H...  346367515  ...   \n",
       "17493  https://a0.muscache.com/pictures/ae4b7730-1afd...  459585563  ...   \n",
       "\n",
       "      review_scores_location review_scores_value license instant_bookable  \\\n",
       "14079                   4.74                 4.6     NaN                f   \n",
       "7381                     NaN                 NaN     NaN                t   \n",
       "13621                    NaN                 NaN     NaN                f   \n",
       "14855                   5.00                 5.0     NaN                t   \n",
       "17493                   4.85                 5.0     NaN                t   \n",
       "\n",
       "      calculated_host_listings_count  \\\n",
       "14079                              2   \n",
       "7381                               4   \n",
       "13621                             17   \n",
       "14855                             95   \n",
       "17493                              1   \n",
       "\n",
       "      calculated_host_listings_count_entire_homes  \\\n",
       "14079                                           0   \n",
       "7381                                            1   \n",
       "13621                                           0   \n",
       "14855                                          95   \n",
       "17493                                           0   \n",
       "\n",
       "      calculated_host_listings_count_private_rooms  \\\n",
       "14079                                            2   \n",
       "7381                                             3   \n",
       "13621                                           17   \n",
       "14855                                            0   \n",
       "17493                                            1   \n",
       "\n",
       "      calculated_host_listings_count_shared_rooms reviews_per_month distancia  \n",
       "14079                                           0              8.02         2  \n",
       "7381                                            0               NaN         3  \n",
       "13621                                           0               NaN         3  \n",
       "14855                                           0              0.37         0  \n",
       "17493                                           0              5.26         2  \n",
       "\n",
       "[5 rows x 76 columns]"
      ]
     },
     "execution_count": 29,
     "metadata": {},
     "output_type": "execute_result"
    }
   ],
   "source": [
    "madrid.head()"
   ]
  },
  {
   "cell_type": "code",
   "execution_count": 31,
   "id": "e35b17e6",
   "metadata": {},
   "outputs": [],
   "source": [
    "k_vecinos = madrid[['description', 'accommodates', 'distancia', 'price']].sort_values('distancia').iloc[0:5] # k = 5"
   ]
  },
  {
   "cell_type": "code",
   "execution_count": 33,
   "id": "26a79a8d",
   "metadata": {},
   "outputs": [],
   "source": [
    "#k_vecinos['price'].mean()"
   ]
  },
  {
   "cell_type": "code",
   "execution_count": 37,
   "id": "a4764cdd",
   "metadata": {},
   "outputs": [
    {
     "data": {
      "text/plain": [
       "18318     $57.00\n",
       "5187      $84.00\n",
       "4030      $90.00\n",
       "7422     $175.00\n",
       "2877      $90.00\n",
       "Name: price, dtype: object"
      ]
     },
     "execution_count": 37,
     "metadata": {},
     "output_type": "execute_result"
    }
   ],
   "source": [
    "k_vecinos['price']"
   ]
  },
  {
   "cell_type": "markdown",
   "id": "a955f9bc",
   "metadata": {},
   "source": [
    "- Eliminar el $\n",
    "- Convertir a float"
   ]
  },
  {
   "cell_type": "code",
   "execution_count": 40,
   "id": "9160894c",
   "metadata": {},
   "outputs": [
    {
     "data": {
      "text/plain": [
       "18318     57.00\n",
       "5187      84.00\n",
       "4030      90.00\n",
       "7422     175.00\n",
       "2877      90.00\n",
       "Name: price, dtype: object"
      ]
     },
     "execution_count": 40,
     "metadata": {},
     "output_type": "execute_result"
    }
   ],
   "source": [
    "k_vecinos['price'].apply(lambda x: x.replace('$', '')) "
   ]
  },
  {
   "cell_type": "code",
   "execution_count": 42,
   "id": "6ff1d18e",
   "metadata": {},
   "outputs": [
    {
     "data": {
      "text/plain": [
       "18318     57.00\n",
       "5187      84.00\n",
       "4030      90.00\n",
       "7422     175.00\n",
       "2877      90.00\n",
       "Name: price, dtype: object"
      ]
     },
     "execution_count": 42,
     "metadata": {},
     "output_type": "execute_result"
    }
   ],
   "source": [
    "k_vecinos['price'].str.replace('$', '', regex= False)"
   ]
  },
  {
   "cell_type": "code",
   "execution_count": 43,
   "id": "321924b9",
   "metadata": {},
   "outputs": [],
   "source": [
    "k_vecinos['price'] = k_vecinos['price'].str.replace('$', '', regex= False)"
   ]
  },
  {
   "cell_type": "code",
   "execution_count": 44,
   "id": "7a70fc65",
   "metadata": {},
   "outputs": [
    {
     "data": {
      "text/html": [
       "<div>\n",
       "<style scoped>\n",
       "    .dataframe tbody tr th:only-of-type {\n",
       "        vertical-align: middle;\n",
       "    }\n",
       "\n",
       "    .dataframe tbody tr th {\n",
       "        vertical-align: top;\n",
       "    }\n",
       "\n",
       "    .dataframe thead th {\n",
       "        text-align: right;\n",
       "    }\n",
       "</style>\n",
       "<table border=\"1\" class=\"dataframe\">\n",
       "  <thead>\n",
       "    <tr style=\"text-align: right;\">\n",
       "      <th></th>\n",
       "      <th>description</th>\n",
       "      <th>accommodates</th>\n",
       "      <th>distancia</th>\n",
       "      <th>price</th>\n",
       "    </tr>\n",
       "  </thead>\n",
       "  <tbody>\n",
       "    <tr>\n",
       "      <th>18318</th>\n",
       "      <td>Clean, modern and recently renovated flat in M...</td>\n",
       "      <td>4</td>\n",
       "      <td>0</td>\n",
       "      <td>57.00</td>\n",
       "    </tr>\n",
       "    <tr>\n",
       "      <th>5187</th>\n",
       "      <td>Moderno apartamento con todo lujo de detalles ...</td>\n",
       "      <td>4</td>\n",
       "      <td>0</td>\n",
       "      <td>84.00</td>\n",
       "    </tr>\n",
       "    <tr>\n",
       "      <th>4030</th>\n",
       "      <td>Apartamento de 4 estancias independientes dorm...</td>\n",
       "      <td>4</td>\n",
       "      <td>0</td>\n",
       "      <td>90.00</td>\n",
       "    </tr>\n",
       "    <tr>\n",
       "      <th>7422</th>\n",
       "      <td>On the 5th floor of a representative building ...</td>\n",
       "      <td>4</td>\n",
       "      <td>0</td>\n",
       "      <td>175.00</td>\n",
       "    </tr>\n",
       "    <tr>\n",
       "      <th>2877</th>\n",
       "      <td>Zona segura y pintoresca en el elegante Distri...</td>\n",
       "      <td>4</td>\n",
       "      <td>0</td>\n",
       "      <td>90.00</td>\n",
       "    </tr>\n",
       "  </tbody>\n",
       "</table>\n",
       "</div>"
      ],
      "text/plain": [
       "                                             description  accommodates  \\\n",
       "18318  Clean, modern and recently renovated flat in M...             4   \n",
       "5187   Moderno apartamento con todo lujo de detalles ...             4   \n",
       "4030   Apartamento de 4 estancias independientes dorm...             4   \n",
       "7422   On the 5th floor of a representative building ...             4   \n",
       "2877   Zona segura y pintoresca en el elegante Distri...             4   \n",
       "\n",
       "       distancia   price  \n",
       "18318          0   57.00  \n",
       "5187           0   84.00  \n",
       "4030           0   90.00  \n",
       "7422           0  175.00  \n",
       "2877           0   90.00  "
      ]
     },
     "execution_count": 44,
     "metadata": {},
     "output_type": "execute_result"
    }
   ],
   "source": [
    "k_vecinos"
   ]
  },
  {
   "cell_type": "code",
   "execution_count": 46,
   "id": "6093ba61",
   "metadata": {},
   "outputs": [
    {
     "name": "stdout",
     "output_type": "stream",
     "text": [
      "<class 'pandas.core.frame.DataFrame'>\n",
      "Int64Index: 5 entries, 18318 to 2877\n",
      "Data columns (total 4 columns):\n",
      " #   Column        Non-Null Count  Dtype \n",
      "---  ------        --------------  ----- \n",
      " 0   description   5 non-null      object\n",
      " 1   accommodates  5 non-null      int64 \n",
      " 2   distancia     5 non-null      int64 \n",
      " 3   price         5 non-null      object\n",
      "dtypes: int64(2), object(2)\n",
      "memory usage: 200.0+ bytes\n"
     ]
    }
   ],
   "source": [
    "k_vecinos.info()"
   ]
  },
  {
   "cell_type": "code",
   "execution_count": 49,
   "id": "02864198",
   "metadata": {},
   "outputs": [],
   "source": [
    "k_vecinos['price'] =k_vecinos['price'].astype('float')"
   ]
  },
  {
   "cell_type": "code",
   "execution_count": 50,
   "id": "3c8ba70f",
   "metadata": {},
   "outputs": [
    {
     "data": {
      "text/plain": [
       "99.2"
      ]
     },
     "execution_count": 50,
     "metadata": {},
     "output_type": "execute_result"
    }
   ],
   "source": [
    "k_vecinos['price'].mean()"
   ]
  },
  {
   "cell_type": "markdown",
   "id": "7da30b0c",
   "metadata": {},
   "source": [
    "- K - elección del k ( en nuestro caso ha sido 5)\n",
    "- la distribución o cálculo con los vecinos - > media aritmética..."
   ]
  },
  {
   "cell_type": "code",
   "execution_count": 52,
   "id": "c94b0e20",
   "metadata": {},
   "outputs": [
    {
     "data": {
      "text/plain": [
       "14079     $30.00\n",
       "7381      $25.00\n",
       "13621     $17.00\n",
       "14855    $145.00\n",
       "17493     $45.00\n",
       "          ...   \n",
       "8119     $599.00\n",
       "14404     $91.00\n",
       "8549     $133.00\n",
       "11637    $171.00\n",
       "18318     $57.00\n",
       "Name: price, Length: 20681, dtype: object"
      ]
     },
     "execution_count": 52,
     "metadata": {},
     "output_type": "execute_result"
    }
   ],
   "source": [
    "madrid['price']"
   ]
  },
  {
   "cell_type": "code",
   "execution_count": null,
   "id": "44fc9efb",
   "metadata": {},
   "outputs": [],
   "source": []
  },
  {
   "cell_type": "code",
   "execution_count": null,
   "id": "2abcb328",
   "metadata": {},
   "outputs": [],
   "source": []
  },
  {
   "cell_type": "code",
   "execution_count": null,
   "id": "45d9f8fe",
   "metadata": {},
   "outputs": [],
   "source": []
  },
  {
   "cell_type": "code",
   "execution_count": null,
   "id": "69961e50",
   "metadata": {},
   "outputs": [],
   "source": []
  },
  {
   "cell_type": "code",
   "execution_count": null,
   "id": "2c0ec165",
   "metadata": {},
   "outputs": [],
   "source": []
  },
  {
   "cell_type": "code",
   "execution_count": null,
   "id": "6f9024ed",
   "metadata": {},
   "outputs": [],
   "source": []
  },
  {
   "cell_type": "code",
   "execution_count": null,
   "id": "61a5d11e",
   "metadata": {},
   "outputs": [],
   "source": []
  }
 ],
 "metadata": {
  "kernelspec": {
   "display_name": "Python 3 (ipykernel)",
   "language": "python",
   "name": "python3"
  },
  "language_info": {
   "codemirror_mode": {
    "name": "ipython",
    "version": 3
   },
   "file_extension": ".py",
   "mimetype": "text/x-python",
   "name": "python",
   "nbconvert_exporter": "python",
   "pygments_lexer": "ipython3",
   "version": "3.9.13"
  }
 },
 "nbformat": 4,
 "nbformat_minor": 5
}
