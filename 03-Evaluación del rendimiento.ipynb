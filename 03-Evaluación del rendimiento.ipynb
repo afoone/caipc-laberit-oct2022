{
 "cells": [
  {
   "cell_type": "markdown",
   "id": "9387d0bc",
   "metadata": {},
   "source": [
    "## Comprobar la calidad de la predicción\n",
    "\n",
    "Dividir el dataframe en dos particiones:\n",
    "\n",
    "    - El conjunto de entrenamiento (75-80%)\n",
    "    - El conjunto de test (el resto)\n",
    "    - La intersección entre test y entrenamiento es vacía\n",
    "    \n",
    "Buscaremos los k-vecinos de cada elemento de test en el conjunto de entrenamiento, y lo compararemos con el resultado real. \n",
    "Lo que vamos a hacer es poner los resultados en la columna 'predicted_price'"
   ]
  },
  {
   "cell_type": "code",
   "execution_count": 2,
   "id": "edab40d4",
   "metadata": {},
   "outputs": [],
   "source": [
    "import pandas as pd\n",
    "import numpy as np\n",
    "import math\n"
   ]
  },
  {
   "cell_type": "code",
   "execution_count": 3,
   "id": "0f325bb2",
   "metadata": {},
   "outputs": [],
   "source": [
    "madrid = pd.read_csv('data/airbnb-madrid.csv')"
   ]
  },
  {
   "cell_type": "code",
   "execution_count": 4,
   "id": "bc67755d",
   "metadata": {},
   "outputs": [],
   "source": [
    "# corrección de datos\n",
    "madrid['price'] = madrid['price'].apply(lambda x: x.replace('$', '').replace(',', '')).astype(float)"
   ]
  },
  {
   "cell_type": "code",
   "execution_count": 5,
   "id": "d286cdc4",
   "metadata": {},
   "outputs": [],
   "source": [
    "np.random.seed(3943)\n",
    "madrid = madrid.iloc[\n",
    "    np.random.permutation(madrid.shape[0])\n",
    "]"
   ]
  },
  {
   "cell_type": "code",
   "execution_count": 6,
   "id": "d9327f1a",
   "metadata": {},
   "outputs": [],
   "source": [
    "# corte ( al 80 % )\n",
    "corte = math.trunc(len(madrid)*0.8)"
   ]
  },
  {
   "cell_type": "code",
   "execution_count": 7,
   "id": "20686a98",
   "metadata": {},
   "outputs": [
    {
     "data": {
      "text/plain": [
       "16544"
      ]
     },
     "execution_count": 7,
     "metadata": {},
     "output_type": "execute_result"
    }
   ],
   "source": [
    "corte"
   ]
  },
  {
   "cell_type": "code",
   "execution_count": 9,
   "id": "1222babc",
   "metadata": {},
   "outputs": [],
   "source": [
    "train = madrid.iloc[:corte]\n",
    "test = madrid.iloc[corte:]"
   ]
  },
  {
   "cell_type": "code",
   "execution_count": 10,
   "id": "b7e91259",
   "metadata": {},
   "outputs": [
    {
     "data": {
      "text/plain": [
       "(16544, 75)"
      ]
     },
     "execution_count": 10,
     "metadata": {},
     "output_type": "execute_result"
    }
   ],
   "source": [
    "train.shape"
   ]
  },
  {
   "cell_type": "code",
   "execution_count": 12,
   "id": "a3b8e6e3",
   "metadata": {},
   "outputs": [
    {
     "data": {
      "text/plain": [
       "(4137, 75)"
      ]
     },
     "execution_count": 12,
     "metadata": {},
     "output_type": "execute_result"
    }
   ],
   "source": [
    "test.shape"
   ]
  },
  {
   "cell_type": "code",
   "execution_count": null,
   "id": "99621320",
   "metadata": {},
   "outputs": [],
   "source": []
  },
  {
   "cell_type": "code",
   "execution_count": null,
   "id": "884b2340",
   "metadata": {},
   "outputs": [],
   "source": []
  },
  {
   "cell_type": "code",
   "execution_count": null,
   "id": "c9b2f710",
   "metadata": {},
   "outputs": [],
   "source": []
  },
  {
   "cell_type": "code",
   "execution_count": null,
   "id": "4b13396a",
   "metadata": {},
   "outputs": [],
   "source": []
  }
 ],
 "metadata": {
  "kernelspec": {
   "display_name": "Python 3 (ipykernel)",
   "language": "python",
   "name": "python3"
  },
  "language_info": {
   "codemirror_mode": {
    "name": "ipython",
    "version": 3
   },
   "file_extension": ".py",
   "mimetype": "text/x-python",
   "name": "python",
   "nbconvert_exporter": "python",
   "pygments_lexer": "ipython3",
   "version": "3.9.13"
  }
 },
 "nbformat": 4,
 "nbformat_minor": 5
}
