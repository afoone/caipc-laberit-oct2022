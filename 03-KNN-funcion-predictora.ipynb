{
 "cells": [
  {
   "cell_type": "code",
   "execution_count": 1,
   "id": "34314cb0",
   "metadata": {},
   "outputs": [],
   "source": [
    "import pandas as pd\n",
    "import numpy as np"
   ]
  },
  {
   "cell_type": "code",
   "execution_count": 2,
   "id": "63789760",
   "metadata": {},
   "outputs": [],
   "source": [
    "madrid = pd.read_csv('data/airbnb-madrid.csv')"
   ]
  },
  {
   "cell_type": "code",
   "execution_count": 3,
   "id": "21d4d6df",
   "metadata": {},
   "outputs": [],
   "source": [
    "## limpiar datos\n",
    "\n",
    "# corregir price\n",
    "madrid['price']= madrid['price'].apply(lambda x:x.replace('$', '').replace(',','')).astype('float')"
   ]
  },
  {
   "cell_type": "code",
   "execution_count": 4,
   "id": "f615e3ba",
   "metadata": {},
   "outputs": [],
   "source": [
    "# barajar\n",
    "np.random.seed(33)\n",
    "madrid = madrid.iloc[\n",
    "    np.random.permutation(madrid.shape[0])\n",
    "]"
   ]
  },
  {
   "cell_type": "code",
   "execution_count": 5,
   "id": "cf68c4fd",
   "metadata": {},
   "outputs": [],
   "source": [
    "def predict_price(mi_capacidad, df , k = 5):\n",
    "    _df = df.copy()\n",
    "    _df['distance'] = _df['accommodates'].apply(\n",
    "            lambda x: np.abs(mi_capacidad-x)\n",
    "        )\n",
    "    return _df.sort_values('distance').iloc[0:k]['price'].mean()"
   ]
  },
  {
   "cell_type": "code",
   "execution_count": 6,
   "id": "426d4e78",
   "metadata": {},
   "outputs": [
    {
     "data": {
      "text/plain": [
       "34.2"
      ]
     },
     "execution_count": 6,
     "metadata": {},
     "output_type": "execute_result"
    }
   ],
   "source": [
    "predict_price(1, madrid, 5)"
   ]
  },
  {
   "cell_type": "code",
   "execution_count": 8,
   "id": "455e1acb",
   "metadata": {},
   "outputs": [
    {
     "data": {
      "text/plain": [
       "154.0"
      ]
     },
     "execution_count": 8,
     "metadata": {},
     "output_type": "execute_result"
    }
   ],
   "source": [
    "predict_price(4, madrid, 10)"
   ]
  },
  {
   "cell_type": "code",
   "execution_count": 9,
   "id": "425dd846",
   "metadata": {},
   "outputs": [
    {
     "data": {
      "text/plain": [
       "187.4"
      ]
     },
     "execution_count": 9,
     "metadata": {},
     "output_type": "execute_result"
    }
   ],
   "source": [
    "predict_price(4, madrid, 5)"
   ]
  },
  {
   "cell_type": "code",
   "execution_count": 10,
   "id": "2e7661b6",
   "metadata": {},
   "outputs": [
    {
     "data": {
      "text/plain": [
       "149.0"
      ]
     },
     "execution_count": 10,
     "metadata": {},
     "output_type": "execute_result"
    }
   ],
   "source": [
    "predict_price(4, madrid, 1)"
   ]
  },
  {
   "cell_type": "code",
   "execution_count": 11,
   "id": "fdf4b4ad",
   "metadata": {},
   "outputs": [
    {
     "data": {
      "text/plain": [
       "152.35766666666666"
      ]
     },
     "execution_count": 11,
     "metadata": {},
     "output_type": "execute_result"
    }
   ],
   "source": [
    "predict_price(4, madrid, 3000)"
   ]
  },
  {
   "cell_type": "code",
   "execution_count": 12,
   "id": "8b5110a2",
   "metadata": {},
   "outputs": [
    {
     "name": "stdout",
     "output_type": "stream",
     "text": [
      "capacidad  0 nan\n",
      "capacidad  1 149.0\n",
      "capacidad  2 117.0\n",
      "capacidad  3 244.66666666666666\n",
      "capacidad  4 209.25\n",
      "capacidad  5 187.4\n",
      "capacidad  6 179.5\n",
      "capacidad  7 163.57142857142858\n",
      "capacidad  8 165.5\n",
      "capacidad  9 162.11111111111111\n",
      "capacidad  10 154.0\n",
      "capacidad  11 159.45454545454547\n",
      "capacidad  12 159.75\n",
      "capacidad  13 155.3846153846154\n",
      "capacidad  14 155.5\n",
      "capacidad  15 148.13333333333333\n",
      "capacidad  16 148.1875\n",
      "capacidad  17 145.35294117647058\n",
      "capacidad  18 143.61111111111111\n",
      "capacidad  19 141.94736842105263\n"
     ]
    }
   ],
   "source": [
    "for i in range(20):\n",
    "    print ('capacidad ', i, predict_price(4, madrid, i))"
   ]
  },
  {
   "cell_type": "code",
   "execution_count": 13,
   "id": "a3834735",
   "metadata": {},
   "outputs": [
    {
     "name": "stdout",
     "output_type": "stream",
     "text": [
      "capacidad  0 24.0\n",
      "capacidad  1 34.2\n",
      "capacidad  2 66.4\n",
      "capacidad  3 72.0\n",
      "capacidad  4 187.4\n",
      "capacidad  5 302.2\n",
      "capacidad  6 200.4\n",
      "capacidad  7 410.6\n",
      "capacidad  8 168.4\n",
      "capacidad  9 630.0\n"
     ]
    }
   ],
   "source": [
    "for i in range(10):\n",
    "    print ('capacidad ', i, predict_price(i, madrid, 5))"
   ]
  },
  {
   "cell_type": "code",
   "execution_count": 14,
   "id": "60cfab79",
   "metadata": {},
   "outputs": [
    {
     "data": {
      "text/html": [
       "<div>\n",
       "<style scoped>\n",
       "    .dataframe tbody tr th:only-of-type {\n",
       "        vertical-align: middle;\n",
       "    }\n",
       "\n",
       "    .dataframe tbody tr th {\n",
       "        vertical-align: top;\n",
       "    }\n",
       "\n",
       "    .dataframe thead th {\n",
       "        text-align: right;\n",
       "    }\n",
       "</style>\n",
       "<table border=\"1\" class=\"dataframe\">\n",
       "  <thead>\n",
       "    <tr style=\"text-align: right;\">\n",
       "      <th></th>\n",
       "      <th>id</th>\n",
       "      <th>listing_url</th>\n",
       "      <th>scrape_id</th>\n",
       "      <th>last_scraped</th>\n",
       "      <th>source</th>\n",
       "      <th>name</th>\n",
       "      <th>description</th>\n",
       "      <th>neighborhood_overview</th>\n",
       "      <th>picture_url</th>\n",
       "      <th>host_id</th>\n",
       "      <th>...</th>\n",
       "      <th>review_scores_communication</th>\n",
       "      <th>review_scores_location</th>\n",
       "      <th>review_scores_value</th>\n",
       "      <th>license</th>\n",
       "      <th>instant_bookable</th>\n",
       "      <th>calculated_host_listings_count</th>\n",
       "      <th>calculated_host_listings_count_entire_homes</th>\n",
       "      <th>calculated_host_listings_count_private_rooms</th>\n",
       "      <th>calculated_host_listings_count_shared_rooms</th>\n",
       "      <th>reviews_per_month</th>\n",
       "    </tr>\n",
       "  </thead>\n",
       "  <tbody>\n",
       "    <tr>\n",
       "      <th>12060</th>\n",
       "      <td>45167108</td>\n",
       "      <td>https://www.airbnb.com/rooms/45167108</td>\n",
       "      <td>20220911230855</td>\n",
       "      <td>2022-09-12</td>\n",
       "      <td>city scrape</td>\n",
       "      <td>BLESS Hotel Madrid 5*</td>\n",
       "      <td>NaN</td>\n",
       "      <td>NaN</td>\n",
       "      <td>https://a0.muscache.com/pictures/miso/Hosting-...</td>\n",
       "      <td>364774870</td>\n",
       "      <td>...</td>\n",
       "      <td>NaN</td>\n",
       "      <td>NaN</td>\n",
       "      <td>NaN</td>\n",
       "      <td>NaN</td>\n",
       "      <td>f</td>\n",
       "      <td>1</td>\n",
       "      <td>0</td>\n",
       "      <td>0</td>\n",
       "      <td>0</td>\n",
       "      <td>NaN</td>\n",
       "    </tr>\n",
       "    <tr>\n",
       "      <th>11504</th>\n",
       "      <td>43078553</td>\n",
       "      <td>https://www.airbnb.com/rooms/43078553</td>\n",
       "      <td>20220911230855</td>\n",
       "      <td>2022-09-12</td>\n",
       "      <td>city scrape</td>\n",
       "      <td>NH Madrid Atocha</td>\n",
       "      <td>NaN</td>\n",
       "      <td>NaN</td>\n",
       "      <td>https://a0.muscache.com/pictures/cd46e28d-2480...</td>\n",
       "      <td>310825661</td>\n",
       "      <td>...</td>\n",
       "      <td>NaN</td>\n",
       "      <td>NaN</td>\n",
       "      <td>NaN</td>\n",
       "      <td>NaN</td>\n",
       "      <td>f</td>\n",
       "      <td>1</td>\n",
       "      <td>0</td>\n",
       "      <td>0</td>\n",
       "      <td>0</td>\n",
       "      <td>NaN</td>\n",
       "    </tr>\n",
       "  </tbody>\n",
       "</table>\n",
       "<p>2 rows × 75 columns</p>\n",
       "</div>"
      ],
      "text/plain": [
       "             id                            listing_url       scrape_id  \\\n",
       "12060  45167108  https://www.airbnb.com/rooms/45167108  20220911230855   \n",
       "11504  43078553  https://www.airbnb.com/rooms/43078553  20220911230855   \n",
       "\n",
       "      last_scraped       source                   name description  \\\n",
       "12060   2022-09-12  city scrape  BLESS Hotel Madrid 5*         NaN   \n",
       "11504   2022-09-12  city scrape       NH Madrid Atocha         NaN   \n",
       "\n",
       "      neighborhood_overview  \\\n",
       "12060                   NaN   \n",
       "11504                   NaN   \n",
       "\n",
       "                                             picture_url    host_id  ...  \\\n",
       "12060  https://a0.muscache.com/pictures/miso/Hosting-...  364774870  ...   \n",
       "11504  https://a0.muscache.com/pictures/cd46e28d-2480...  310825661  ...   \n",
       "\n",
       "      review_scores_communication review_scores_location review_scores_value  \\\n",
       "12060                         NaN                    NaN                 NaN   \n",
       "11504                         NaN                    NaN                 NaN   \n",
       "\n",
       "      license instant_bookable calculated_host_listings_count  \\\n",
       "12060     NaN                f                              1   \n",
       "11504     NaN                f                              1   \n",
       "\n",
       "      calculated_host_listings_count_entire_homes  \\\n",
       "12060                                           0   \n",
       "11504                                           0   \n",
       "\n",
       "      calculated_host_listings_count_private_rooms  \\\n",
       "12060                                            0   \n",
       "11504                                            0   \n",
       "\n",
       "      calculated_host_listings_count_shared_rooms reviews_per_month  \n",
       "12060                                           0               NaN  \n",
       "11504                                           0               NaN  \n",
       "\n",
       "[2 rows x 75 columns]"
      ]
     },
     "execution_count": 14,
     "metadata": {},
     "output_type": "execute_result"
    }
   ],
   "source": [
    "madrid[\n",
    "    madrid['accommodates'] == 0\n",
    "]"
   ]
  },
  {
   "cell_type": "code",
   "execution_count": 17,
   "id": "28a55d26",
   "metadata": {},
   "outputs": [
    {
     "data": {
      "text/plain": [
       "2     7284\n",
       "4     4631\n",
       "1     3393\n",
       "3     1983\n",
       "6     1588\n",
       "5      893\n",
       "8      370\n",
       "7      238\n",
       "10     117\n",
       "9       57\n",
       "12      41\n",
       "16      30\n",
       "11      21\n",
       "14      14\n",
       "13      11\n",
       "15       8\n",
       "0        2\n",
       "Name: accommodates, dtype: int64"
      ]
     },
     "execution_count": 17,
     "metadata": {},
     "output_type": "execute_result"
    }
   ],
   "source": [
    "# limpieza\n",
    "\n",
    "madrid['accommodates'].value_counts()\n",
    "\n"
   ]
  },
  {
   "cell_type": "code",
   "execution_count": 18,
   "id": "18d2f001",
   "metadata": {},
   "outputs": [],
   "source": [
    "madrid = madrid[\n",
    "    madrid['accommodates']>0\n",
    "]"
   ]
  },
  {
   "cell_type": "code",
   "execution_count": 19,
   "id": "f0ad26b1",
   "metadata": {},
   "outputs": [
    {
     "data": {
      "text/plain": [
       "2     7284\n",
       "4     4631\n",
       "1     3393\n",
       "3     1983\n",
       "6     1588\n",
       "5      893\n",
       "8      370\n",
       "7      238\n",
       "10     117\n",
       "9       57\n",
       "12      41\n",
       "16      30\n",
       "11      21\n",
       "14      14\n",
       "13      11\n",
       "15       8\n",
       "Name: accommodates, dtype: int64"
      ]
     },
     "execution_count": 19,
     "metadata": {},
     "output_type": "execute_result"
    }
   ],
   "source": [
    "madrid['accommodates'].value_counts()"
   ]
  },
  {
   "cell_type": "code",
   "execution_count": 20,
   "id": "e2ea8443",
   "metadata": {},
   "outputs": [
    {
     "data": {
      "text/plain": [
       "Index(['id', 'listing_url', 'scrape_id', 'last_scraped', 'source', 'name',\n",
       "       'description', 'neighborhood_overview', 'picture_url', 'host_id',\n",
       "       'host_url', 'host_name', 'host_since', 'host_location', 'host_about',\n",
       "       'host_response_time', 'host_response_rate', 'host_acceptance_rate',\n",
       "       'host_is_superhost', 'host_thumbnail_url', 'host_picture_url',\n",
       "       'host_neighbourhood', 'host_listings_count',\n",
       "       'host_total_listings_count', 'host_verifications',\n",
       "       'host_has_profile_pic', 'host_identity_verified', 'neighbourhood',\n",
       "       'neighbourhood_cleansed', 'neighbourhood_group_cleansed', 'latitude',\n",
       "       'longitude', 'property_type', 'room_type', 'accommodates', 'bathrooms',\n",
       "       'bathrooms_text', 'bedrooms', 'beds', 'amenities', 'price',\n",
       "       'minimum_nights', 'maximum_nights', 'minimum_minimum_nights',\n",
       "       'maximum_minimum_nights', 'minimum_maximum_nights',\n",
       "       'maximum_maximum_nights', 'minimum_nights_avg_ntm',\n",
       "       'maximum_nights_avg_ntm', 'calendar_updated', 'has_availability',\n",
       "       'availability_30', 'availability_60', 'availability_90',\n",
       "       'availability_365', 'calendar_last_scraped', 'number_of_reviews',\n",
       "       'number_of_reviews_ltm', 'number_of_reviews_l30d', 'first_review',\n",
       "       'last_review', 'review_scores_rating', 'review_scores_accuracy',\n",
       "       'review_scores_cleanliness', 'review_scores_checkin',\n",
       "       'review_scores_communication', 'review_scores_location',\n",
       "       'review_scores_value', 'license', 'instant_bookable',\n",
       "       'calculated_host_listings_count',\n",
       "       'calculated_host_listings_count_entire_homes',\n",
       "       'calculated_host_listings_count_private_rooms',\n",
       "       'calculated_host_listings_count_shared_rooms', 'reviews_per_month'],\n",
       "      dtype='object')"
      ]
     },
     "execution_count": 20,
     "metadata": {},
     "output_type": "execute_result"
    }
   ],
   "source": [
    "madrid.columns"
   ]
  },
  {
   "cell_type": "code",
   "execution_count": null,
   "id": "cda1f73b",
   "metadata": {},
   "outputs": [],
   "source": []
  },
  {
   "cell_type": "code",
   "execution_count": null,
   "id": "b67145fd",
   "metadata": {},
   "outputs": [],
   "source": []
  },
  {
   "cell_type": "code",
   "execution_count": null,
   "id": "01a5336e",
   "metadata": {},
   "outputs": [],
   "source": []
  },
  {
   "cell_type": "code",
   "execution_count": null,
   "id": "06392324",
   "metadata": {},
   "outputs": [],
   "source": []
  },
  {
   "cell_type": "code",
   "execution_count": null,
   "id": "2c6ee2d3",
   "metadata": {},
   "outputs": [],
   "source": []
  },
  {
   "cell_type": "code",
   "execution_count": null,
   "id": "cd91ebda",
   "metadata": {},
   "outputs": [],
   "source": []
  },
  {
   "cell_type": "code",
   "execution_count": null,
   "id": "b62d6124",
   "metadata": {},
   "outputs": [],
   "source": []
  },
  {
   "cell_type": "code",
   "execution_count": null,
   "id": "70c08056",
   "metadata": {},
   "outputs": [],
   "source": []
  },
  {
   "cell_type": "code",
   "execution_count": null,
   "id": "436701f7",
   "metadata": {},
   "outputs": [],
   "source": []
  }
 ],
 "metadata": {
  "kernelspec": {
   "display_name": "Python 3 (ipykernel)",
   "language": "python",
   "name": "python3"
  },
  "language_info": {
   "codemirror_mode": {
    "name": "ipython",
    "version": 3
   },
   "file_extension": ".py",
   "mimetype": "text/x-python",
   "name": "python",
   "nbconvert_exporter": "python",
   "pygments_lexer": "ipython3",
   "version": "3.9.13"
  }
 },
 "nbformat": 4,
 "nbformat_minor": 5
}
