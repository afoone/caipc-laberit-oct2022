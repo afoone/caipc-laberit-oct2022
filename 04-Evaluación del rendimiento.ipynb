{
 "cells": [
  {
   "cell_type": "markdown",
   "id": "9e69f478",
   "metadata": {},
   "source": [
    "## Comprobar la calidad de la predicción\n",
    "\n",
    "Dividir el dataframe en dos particiones:\n",
    "\n",
    "    - El conjunto de entrenamiento (75-80%)\n",
    "    - El conjunto de test (el resto)\n",
    "    - La intersección entre test y entrenamiento es vacía\n",
    "    \n",
    "Buscaremos los k-vecinos de cada elemento de test en el conjunto de entrenamiento, y lo compararemos con el resultado real. \n",
    "Lo que vamos a hacer es poner los resultados en la columna 'predicted_price'"
   ]
  },
  {
   "cell_type": "code",
   "execution_count": 1,
   "id": "34304d46",
   "metadata": {},
   "outputs": [],
   "source": [
    "import pandas as pd\n",
    "import numpy as np\n",
    "import math\n"
   ]
  },
  {
   "cell_type": "code",
   "execution_count": 2,
   "id": "e6629e22",
   "metadata": {},
   "outputs": [],
   "source": [
    "madrid = pd.read_csv('data/airbnb-madrid.csv')"
   ]
  },
  {
   "cell_type": "code",
   "execution_count": 3,
   "id": "fa14ab22",
   "metadata": {},
   "outputs": [],
   "source": [
    "# corrección de datos\n",
    "madrid['price'] = madrid['price'].apply(lambda x: x.replace('$', '').replace(',', '')).astype(float)\n"
   ]
  },
  {
   "cell_type": "code",
   "execution_count": 4,
   "id": "950400d8",
   "metadata": {},
   "outputs": [],
   "source": [
    "np.random.seed(3943)\n",
    "madrid = madrid.iloc[\n",
    "    np.random.permutation(madrid.shape[0])\n",
    "]"
   ]
  },
  {
   "cell_type": "code",
   "execution_count": 5,
   "id": "8e3f7217",
   "metadata": {},
   "outputs": [],
   "source": [
    "# corte ( al 80 % )\n",
    "corte = math.trunc(len(madrid)*0.8)"
   ]
  },
  {
   "cell_type": "code",
   "execution_count": 6,
   "id": "224b43f9",
   "metadata": {},
   "outputs": [
    {
     "data": {
      "text/plain": [
       "16544"
      ]
     },
     "execution_count": 6,
     "metadata": {},
     "output_type": "execute_result"
    }
   ],
   "source": [
    "corte"
   ]
  },
  {
   "cell_type": "code",
   "execution_count": 7,
   "id": "9d49d0ed",
   "metadata": {},
   "outputs": [],
   "source": [
    "train = madrid.iloc[:corte].copy()\n",
    "test = madrid.iloc[corte:].copy()"
   ]
  },
  {
   "cell_type": "code",
   "execution_count": null,
   "id": "23c28376",
   "metadata": {},
   "outputs": [],
   "source": []
  },
  {
   "cell_type": "code",
   "execution_count": 8,
   "id": "af994c58",
   "metadata": {},
   "outputs": [
    {
     "data": {
      "text/plain": [
       "(16544, 75)"
      ]
     },
     "execution_count": 8,
     "metadata": {},
     "output_type": "execute_result"
    }
   ],
   "source": [
    "train.shape"
   ]
  },
  {
   "cell_type": "code",
   "execution_count": 9,
   "id": "ca0731cf",
   "metadata": {},
   "outputs": [
    {
     "data": {
      "text/plain": [
       "(4137, 75)"
      ]
     },
     "execution_count": 9,
     "metadata": {},
     "output_type": "execute_result"
    }
   ],
   "source": [
    "test.shape"
   ]
  },
  {
   "cell_type": "code",
   "execution_count": 10,
   "id": "24f3d610",
   "metadata": {},
   "outputs": [],
   "source": [
    "def predict_price(mi_capacidad, train_df, k=5):\n",
    "    _df = train_df.copy()\n",
    "    _df['distance'] = _df['accommodates'].apply(lambda x: np.abs(mi_capacidad -x))\n",
    "    return _df.sort_values('distance').iloc[0:k]['price'].mean()\n",
    "    "
   ]
  },
  {
   "cell_type": "code",
   "execution_count": 11,
   "id": "91ce0478",
   "metadata": {},
   "outputs": [],
   "source": [
    "test['predicted_price'] = test['accommodates'].apply(\n",
    "    lambda x: predict_price(x, train, 5)\n",
    ")"
   ]
  },
  {
   "cell_type": "code",
   "execution_count": 12,
   "id": "27e746d4",
   "metadata": {},
   "outputs": [
    {
     "data": {
      "text/plain": [
       "68442528"
      ]
     },
     "execution_count": 12,
     "metadata": {},
     "output_type": "execute_result"
    }
   ],
   "source": [
    "train.shape[0]*test.shape[0]"
   ]
  },
  {
   "cell_type": "code",
   "execution_count": 14,
   "id": "fd7d885e",
   "metadata": {},
   "outputs": [
    {
     "data": {
      "text/html": [
       "<div>\n",
       "<style scoped>\n",
       "    .dataframe tbody tr th:only-of-type {\n",
       "        vertical-align: middle;\n",
       "    }\n",
       "\n",
       "    .dataframe tbody tr th {\n",
       "        vertical-align: top;\n",
       "    }\n",
       "\n",
       "    .dataframe thead th {\n",
       "        text-align: right;\n",
       "    }\n",
       "</style>\n",
       "<table border=\"1\" class=\"dataframe\">\n",
       "  <thead>\n",
       "    <tr style=\"text-align: right;\">\n",
       "      <th></th>\n",
       "      <th>price</th>\n",
       "      <th>predicted_price</th>\n",
       "    </tr>\n",
       "  </thead>\n",
       "  <tbody>\n",
       "    <tr>\n",
       "      <th>8870</th>\n",
       "      <td>300.0</td>\n",
       "      <td>34.8</td>\n",
       "    </tr>\n",
       "    <tr>\n",
       "      <th>4076</th>\n",
       "      <td>25.0</td>\n",
       "      <td>34.8</td>\n",
       "    </tr>\n",
       "    <tr>\n",
       "      <th>19649</th>\n",
       "      <td>181.0</td>\n",
       "      <td>95.6</td>\n",
       "    </tr>\n",
       "    <tr>\n",
       "      <th>7395</th>\n",
       "      <td>142.0</td>\n",
       "      <td>161.2</td>\n",
       "    </tr>\n",
       "    <tr>\n",
       "      <th>18364</th>\n",
       "      <td>315.0</td>\n",
       "      <td>193.8</td>\n",
       "    </tr>\n",
       "    <tr>\n",
       "      <th>...</th>\n",
       "      <td>...</td>\n",
       "      <td>...</td>\n",
       "    </tr>\n",
       "    <tr>\n",
       "      <th>3351</th>\n",
       "      <td>25.0</td>\n",
       "      <td>32.0</td>\n",
       "    </tr>\n",
       "    <tr>\n",
       "      <th>970</th>\n",
       "      <td>20.0</td>\n",
       "      <td>32.0</td>\n",
       "    </tr>\n",
       "    <tr>\n",
       "      <th>4766</th>\n",
       "      <td>20.0</td>\n",
       "      <td>34.8</td>\n",
       "    </tr>\n",
       "    <tr>\n",
       "      <th>4563</th>\n",
       "      <td>32.0</td>\n",
       "      <td>34.8</td>\n",
       "    </tr>\n",
       "    <tr>\n",
       "      <th>15043</th>\n",
       "      <td>29.0</td>\n",
       "      <td>34.8</td>\n",
       "    </tr>\n",
       "  </tbody>\n",
       "</table>\n",
       "<p>4137 rows × 2 columns</p>\n",
       "</div>"
      ],
      "text/plain": [
       "       price  predicted_price\n",
       "8870   300.0             34.8\n",
       "4076    25.0             34.8\n",
       "19649  181.0             95.6\n",
       "7395   142.0            161.2\n",
       "18364  315.0            193.8\n",
       "...      ...              ...\n",
       "3351    25.0             32.0\n",
       "970     20.0             32.0\n",
       "4766    20.0             34.8\n",
       "4563    32.0             34.8\n",
       "15043   29.0             34.8\n",
       "\n",
       "[4137 rows x 2 columns]"
      ]
     },
     "execution_count": 14,
     "metadata": {},
     "output_type": "execute_result"
    }
   ],
   "source": [
    "# compararé los precios con su predicción\n",
    "# si el valor predicho es 75$ y el real son 80$ -> la diferencia son 5 $\n",
    "test[['price','predicted_price']]"
   ]
  },
  {
   "cell_type": "code",
   "execution_count": 16,
   "id": "474aba48",
   "metadata": {},
   "outputs": [
    {
     "data": {
      "text/plain": [
       "69.43988397389413"
      ]
     },
     "execution_count": 16,
     "metadata": {},
     "output_type": "execute_result"
    }
   ],
   "source": [
    "(test['price']-test['predicted_price']).mean() # esta forma no vale porque se compensan negativos con positivos"
   ]
  },
  {
   "cell_type": "code",
   "execution_count": 17,
   "id": "b6bf6254",
   "metadata": {},
   "outputs": [
    {
     "data": {
      "text/plain": [
       "93.85022963500121"
      ]
     },
     "execution_count": 17,
     "metadata": {},
     "output_type": "execute_result"
    }
   ],
   "source": [
    "(np.abs(test['price']-test['predicted_price'])).mean() # MAE: MEDIUM ABSOLUTE ERROR - ERROR MEDIO ABSOLUTO"
   ]
  },
  {
   "cell_type": "code",
   "execution_count": 20,
   "id": "e2f0f5fb",
   "metadata": {},
   "outputs": [
    {
     "data": {
      "text/plain": [
       "(-40.68, 4067.92]       4130\n",
       "(4067.92, 8135.84]         4\n",
       "(8135.84, 12203.76]        2\n",
       "(36611.28, 40679.2]        1\n",
       "(12203.76, 16271.68]       0\n",
       "(16271.68, 20339.6]        0\n",
       "(20339.6, 24407.52]        0\n",
       "(24407.52, 28475.44]       0\n",
       "(28475.44, 32543.36]       0\n",
       "(32543.36, 36611.28]       0\n",
       "dtype: int64"
      ]
     },
     "execution_count": 20,
     "metadata": {},
     "output_type": "execute_result"
    }
   ],
   "source": [
    "(np.abs(test['price']-test['predicted_price'])).value_counts(bins=10)"
   ]
  },
  {
   "cell_type": "code",
   "execution_count": 21,
   "id": "5a1dd720",
   "metadata": {},
   "outputs": [],
   "source": [
    "mae_accommodates = (np.abs(test['price']-test['predicted_price'])).mean() # MAE: MEDIUM ABSOLUTE ERROR - ERROR MEDIO ABSOLUTO"
   ]
  },
  {
   "cell_type": "markdown",
   "id": "4d200ea2",
   "metadata": {},
   "source": [
    "Probar otra variable"
   ]
  },
  {
   "cell_type": "code",
   "execution_count": 22,
   "id": "b142a4b6",
   "metadata": {},
   "outputs": [
    {
     "name": "stdout",
     "output_type": "stream",
     "text": [
      "<class 'pandas.core.frame.DataFrame'>\n",
      "Int64Index: 20681 entries, 682 to 15043\n",
      "Data columns (total 75 columns):\n",
      " #   Column                                        Non-Null Count  Dtype  \n",
      "---  ------                                        --------------  -----  \n",
      " 0   id                                            20681 non-null  int64  \n",
      " 1   listing_url                                   20681 non-null  object \n",
      " 2   scrape_id                                     20681 non-null  int64  \n",
      " 3   last_scraped                                  20681 non-null  object \n",
      " 4   source                                        20681 non-null  object \n",
      " 5   name                                          20677 non-null  object \n",
      " 6   description                                   19971 non-null  object \n",
      " 7   neighborhood_overview                         11472 non-null  object \n",
      " 8   picture_url                                   20680 non-null  object \n",
      " 9   host_id                                       20681 non-null  int64  \n",
      " 10  host_url                                      20681 non-null  object \n",
      " 11  host_name                                     20678 non-null  object \n",
      " 12  host_since                                    20678 non-null  object \n",
      " 13  host_location                                 15376 non-null  object \n",
      " 14  host_about                                    9974 non-null   object \n",
      " 15  host_response_time                            15792 non-null  object \n",
      " 16  host_response_rate                            15792 non-null  object \n",
      " 17  host_acceptance_rate                          16280 non-null  object \n",
      " 18  host_is_superhost                             20676 non-null  object \n",
      " 19  host_thumbnail_url                            20678 non-null  object \n",
      " 20  host_picture_url                              20678 non-null  object \n",
      " 21  host_neighbourhood                            10596 non-null  object \n",
      " 22  host_listings_count                           20678 non-null  float64\n",
      " 23  host_total_listings_count                     20678 non-null  float64\n",
      " 24  host_verifications                            20681 non-null  object \n",
      " 25  host_has_profile_pic                          20678 non-null  object \n",
      " 26  host_identity_verified                        20678 non-null  object \n",
      " 27  neighbourhood                                 11472 non-null  object \n",
      " 28  neighbourhood_cleansed                        20681 non-null  object \n",
      " 29  neighbourhood_group_cleansed                  20681 non-null  object \n",
      " 30  latitude                                      20681 non-null  float64\n",
      " 31  longitude                                     20681 non-null  float64\n",
      " 32  property_type                                 20681 non-null  object \n",
      " 33  room_type                                     20681 non-null  object \n",
      " 34  accommodates                                  20681 non-null  int64  \n",
      " 35  bathrooms                                     0 non-null      float64\n",
      " 36  bathrooms_text                                20657 non-null  object \n",
      " 37  bedrooms                                      19227 non-null  float64\n",
      " 38  beds                                          20331 non-null  float64\n",
      " 39  amenities                                     20681 non-null  object \n",
      " 40  price                                         20681 non-null  float64\n",
      " 41  minimum_nights                                20681 non-null  int64  \n",
      " 42  maximum_nights                                20681 non-null  int64  \n",
      " 43  minimum_minimum_nights                        20681 non-null  int64  \n",
      " 44  maximum_minimum_nights                        20681 non-null  int64  \n",
      " 45  minimum_maximum_nights                        20681 non-null  int64  \n",
      " 46  maximum_maximum_nights                        20681 non-null  int64  \n",
      " 47  minimum_nights_avg_ntm                        20681 non-null  float64\n",
      " 48  maximum_nights_avg_ntm                        20681 non-null  float64\n",
      " 49  calendar_updated                              0 non-null      float64\n",
      " 50  has_availability                              20681 non-null  object \n",
      " 51  availability_30                               20681 non-null  int64  \n",
      " 52  availability_60                               20681 non-null  int64  \n",
      " 53  availability_90                               20681 non-null  int64  \n",
      " 54  availability_365                              20681 non-null  int64  \n",
      " 55  calendar_last_scraped                         20681 non-null  object \n",
      " 56  number_of_reviews                             20681 non-null  int64  \n",
      " 57  number_of_reviews_ltm                         20681 non-null  int64  \n",
      " 58  number_of_reviews_l30d                        20681 non-null  int64  \n",
      " 59  first_review                                  16219 non-null  object \n",
      " 60  last_review                                   16219 non-null  object \n",
      " 61  review_scores_rating                          16219 non-null  float64\n",
      " 62  review_scores_accuracy                        16069 non-null  float64\n",
      " 63  review_scores_cleanliness                     16071 non-null  float64\n",
      " 64  review_scores_checkin                         16070 non-null  float64\n",
      " 65  review_scores_communication                   16070 non-null  float64\n",
      " 66  review_scores_location                        16067 non-null  float64\n",
      " 67  review_scores_value                           16066 non-null  float64\n",
      " 68  license                                       2755 non-null   object \n",
      " 69  instant_bookable                              20681 non-null  object \n",
      " 70  calculated_host_listings_count                20681 non-null  int64  \n",
      " 71  calculated_host_listings_count_entire_homes   20681 non-null  int64  \n",
      " 72  calculated_host_listings_count_private_rooms  20681 non-null  int64  \n",
      " 73  calculated_host_listings_count_shared_rooms   20681 non-null  int64  \n",
      " 74  reviews_per_month                             16219 non-null  float64\n",
      "dtypes: float64(19), int64(21), object(35)\n",
      "memory usage: 12.0+ MB\n"
     ]
    }
   ],
   "source": [
    "madrid.info()"
   ]
  },
  {
   "cell_type": "code",
   "execution_count": null,
   "id": "bc927695",
   "metadata": {},
   "outputs": [],
   "source": []
  },
  {
   "cell_type": "code",
   "execution_count": 23,
   "id": "f9265ed9",
   "metadata": {},
   "outputs": [],
   "source": [
    "def predict_price_by_bedrooms(mi_capacidad, train_df, k=5):\n",
    "    _df = train_df.copy()\n",
    "    _df['distance'] = _df['bedrooms'].apply(lambda x: np.abs(mi_capacidad -x))\n",
    "    return _df.sort_values('distance').iloc[0:k]['price'].mean()"
   ]
  },
  {
   "cell_type": "code",
   "execution_count": 24,
   "id": "bcaf2844",
   "metadata": {},
   "outputs": [],
   "source": [
    "test['predicted_price_bedrooms'] = test['bedrooms'].apply(\n",
    "    lambda x: predict_price_by_bedrooms(x, train, 5)\n",
    ")"
   ]
  },
  {
   "cell_type": "code",
   "execution_count": null,
   "id": "35f65bec",
   "metadata": {},
   "outputs": [],
   "source": []
  },
  {
   "cell_type": "code",
   "execution_count": 25,
   "id": "6f2ed3ac",
   "metadata": {},
   "outputs": [],
   "source": [
    "mae_bedrooms = (np.abs(test['predicted_price_bedrooms']-test['price'])).mean()\n"
   ]
  },
  {
   "cell_type": "code",
   "execution_count": 26,
   "id": "8911dc66",
   "metadata": {},
   "outputs": [
    {
     "data": {
      "text/plain": [
       "104.30679236161471"
      ]
     },
     "execution_count": 26,
     "metadata": {},
     "output_type": "execute_result"
    }
   ],
   "source": [
    "mae_bedrooms"
   ]
  },
  {
   "cell_type": "code",
   "execution_count": 27,
   "id": "81135ae9",
   "metadata": {},
   "outputs": [
    {
     "data": {
      "text/html": [
       "<div>\n",
       "<style scoped>\n",
       "    .dataframe tbody tr th:only-of-type {\n",
       "        vertical-align: middle;\n",
       "    }\n",
       "\n",
       "    .dataframe tbody tr th {\n",
       "        vertical-align: top;\n",
       "    }\n",
       "\n",
       "    .dataframe thead th {\n",
       "        text-align: right;\n",
       "    }\n",
       "</style>\n",
       "<table border=\"1\" class=\"dataframe\">\n",
       "  <thead>\n",
       "    <tr style=\"text-align: right;\">\n",
       "      <th></th>\n",
       "      <th>predicted_price</th>\n",
       "      <th>predicted_price_bedrooms</th>\n",
       "      <th>price</th>\n",
       "    </tr>\n",
       "  </thead>\n",
       "  <tbody>\n",
       "    <tr>\n",
       "      <th>8870</th>\n",
       "      <td>34.8</td>\n",
       "      <td>63.6</td>\n",
       "      <td>300.0</td>\n",
       "    </tr>\n",
       "    <tr>\n",
       "      <th>4076</th>\n",
       "      <td>34.8</td>\n",
       "      <td>63.6</td>\n",
       "      <td>25.0</td>\n",
       "    </tr>\n",
       "    <tr>\n",
       "      <th>19649</th>\n",
       "      <td>95.6</td>\n",
       "      <td>221.4</td>\n",
       "      <td>181.0</td>\n",
       "    </tr>\n",
       "    <tr>\n",
       "      <th>7395</th>\n",
       "      <td>161.2</td>\n",
       "      <td>63.6</td>\n",
       "      <td>142.0</td>\n",
       "    </tr>\n",
       "    <tr>\n",
       "      <th>18364</th>\n",
       "      <td>193.8</td>\n",
       "      <td>221.4</td>\n",
       "      <td>315.0</td>\n",
       "    </tr>\n",
       "    <tr>\n",
       "      <th>...</th>\n",
       "      <td>...</td>\n",
       "      <td>...</td>\n",
       "      <td>...</td>\n",
       "    </tr>\n",
       "    <tr>\n",
       "      <th>3351</th>\n",
       "      <td>32.0</td>\n",
       "      <td>63.6</td>\n",
       "      <td>25.0</td>\n",
       "    </tr>\n",
       "    <tr>\n",
       "      <th>970</th>\n",
       "      <td>32.0</td>\n",
       "      <td>63.6</td>\n",
       "      <td>20.0</td>\n",
       "    </tr>\n",
       "    <tr>\n",
       "      <th>4766</th>\n",
       "      <td>34.8</td>\n",
       "      <td>63.6</td>\n",
       "      <td>20.0</td>\n",
       "    </tr>\n",
       "    <tr>\n",
       "      <th>4563</th>\n",
       "      <td>34.8</td>\n",
       "      <td>63.6</td>\n",
       "      <td>32.0</td>\n",
       "    </tr>\n",
       "    <tr>\n",
       "      <th>15043</th>\n",
       "      <td>34.8</td>\n",
       "      <td>63.6</td>\n",
       "      <td>29.0</td>\n",
       "    </tr>\n",
       "  </tbody>\n",
       "</table>\n",
       "<p>4137 rows × 3 columns</p>\n",
       "</div>"
      ],
      "text/plain": [
       "       predicted_price  predicted_price_bedrooms  price\n",
       "8870              34.8                      63.6  300.0\n",
       "4076              34.8                      63.6   25.0\n",
       "19649             95.6                     221.4  181.0\n",
       "7395             161.2                      63.6  142.0\n",
       "18364            193.8                     221.4  315.0\n",
       "...                ...                       ...    ...\n",
       "3351              32.0                      63.6   25.0\n",
       "970               32.0                      63.6   20.0\n",
       "4766              34.8                      63.6   20.0\n",
       "4563              34.8                      63.6   32.0\n",
       "15043             34.8                      63.6   29.0\n",
       "\n",
       "[4137 rows x 3 columns]"
      ]
     },
     "execution_count": 27,
     "metadata": {},
     "output_type": "execute_result"
    }
   ],
   "source": [
    "test[\n",
    "    ['predicted_price', 'predicted_price_bedrooms', 'price']\n",
    "]"
   ]
  },
  {
   "cell_type": "code",
   "execution_count": 28,
   "id": "05a91f1f",
   "metadata": {},
   "outputs": [
    {
     "data": {
      "text/plain": [
       "93.85022963500121"
      ]
     },
     "execution_count": 28,
     "metadata": {},
     "output_type": "execute_result"
    }
   ],
   "source": [
    "mae_accommodates"
   ]
  },
  {
   "cell_type": "markdown",
   "id": "2738990c",
   "metadata": {},
   "source": [
    "MSE - MEDIUM SQUARE ROOT - ERROR AL CUADRADO MEDIO"
   ]
  },
  {
   "cell_type": "code",
   "execution_count": 30,
   "id": "01c0c45b",
   "metadata": {},
   "outputs": [],
   "source": [
    "mse_bedrooms = ((test['predicted_price_bedrooms']-test['price'])**2).mean()"
   ]
  },
  {
   "cell_type": "code",
   "execution_count": 31,
   "id": "fea8d467",
   "metadata": {},
   "outputs": [
    {
     "data": {
      "text/plain": [
       "534826.5116364516"
      ]
     },
     "execution_count": 31,
     "metadata": {},
     "output_type": "execute_result"
    }
   ],
   "source": [
    "mse_bedrooms"
   ]
  },
  {
   "cell_type": "markdown",
   "id": "ced456e8",
   "metadata": {},
   "source": [
    "RMSE - ROOT OF MSE : RAIZ DEL MSE"
   ]
  },
  {
   "cell_type": "code",
   "execution_count": 32,
   "id": "bc435635",
   "metadata": {},
   "outputs": [],
   "source": [
    "rmse_bedrooms = mse_bedrooms**0.5"
   ]
  },
  {
   "cell_type": "code",
   "execution_count": 33,
   "id": "e4dccb8c",
   "metadata": {},
   "outputs": [
    {
     "data": {
      "text/plain": [
       "731.3183380966537"
      ]
     },
     "execution_count": 33,
     "metadata": {},
     "output_type": "execute_result"
    }
   ],
   "source": [
    "rmse_bedrooms"
   ]
  },
  {
   "cell_type": "code",
   "execution_count": 34,
   "id": "da7be990",
   "metadata": {},
   "outputs": [
    {
     "data": {
      "text/plain": [
       "535645.3508145998"
      ]
     },
     "execution_count": 34,
     "metadata": {},
     "output_type": "execute_result"
    }
   ],
   "source": [
    "mse_accommodates = ((test['predicted_price']-test['price'])**2).mean()\n",
    "mse_accommodates"
   ]
  },
  {
   "cell_type": "code",
   "execution_count": 41,
   "id": "3e48a7a9",
   "metadata": {},
   "outputs": [],
   "source": [
    "test['distancia'] = test['price'] - test['predicted_price']"
   ]
  },
  {
   "cell_type": "code",
   "execution_count": 43,
   "id": "d7b95309",
   "metadata": {},
   "outputs": [
    {
     "data": {
      "text/html": [
       "<div>\n",
       "<style scoped>\n",
       "    .dataframe tbody tr th:only-of-type {\n",
       "        vertical-align: middle;\n",
       "    }\n",
       "\n",
       "    .dataframe tbody tr th {\n",
       "        vertical-align: top;\n",
       "    }\n",
       "\n",
       "    .dataframe thead th {\n",
       "        text-align: right;\n",
       "    }\n",
       "</style>\n",
       "<table border=\"1\" class=\"dataframe\">\n",
       "  <thead>\n",
       "    <tr style=\"text-align: right;\">\n",
       "      <th></th>\n",
       "      <th>id</th>\n",
       "      <th>listing_url</th>\n",
       "      <th>scrape_id</th>\n",
       "      <th>last_scraped</th>\n",
       "      <th>source</th>\n",
       "      <th>name</th>\n",
       "      <th>description</th>\n",
       "      <th>neighborhood_overview</th>\n",
       "      <th>picture_url</th>\n",
       "      <th>host_id</th>\n",
       "      <th>...</th>\n",
       "      <th>license</th>\n",
       "      <th>instant_bookable</th>\n",
       "      <th>calculated_host_listings_count</th>\n",
       "      <th>calculated_host_listings_count_entire_homes</th>\n",
       "      <th>calculated_host_listings_count_private_rooms</th>\n",
       "      <th>calculated_host_listings_count_shared_rooms</th>\n",
       "      <th>reviews_per_month</th>\n",
       "      <th>predicted_price</th>\n",
       "      <th>predicted_price_bedrooms</th>\n",
       "      <th>distancia</th>\n",
       "    </tr>\n",
       "  </thead>\n",
       "  <tbody>\n",
       "    <tr>\n",
       "      <th>14223</th>\n",
       "      <td>51921321</td>\n",
       "      <td>https://www.airbnb.com/rooms/51921321</td>\n",
       "      <td>20220911230855</td>\n",
       "      <td>2022-09-12</td>\n",
       "      <td>city scrape</td>\n",
       "      <td>Apartamento</td>\n",
       "      <td>Habitación tranquila</td>\n",
       "      <td>NaN</td>\n",
       "      <td>https://a0.muscache.com/pictures/7cf526d7-e68d...</td>\n",
       "      <td>409616536</td>\n",
       "      <td>...</td>\n",
       "      <td>NaN</td>\n",
       "      <td>t</td>\n",
       "      <td>1</td>\n",
       "      <td>0</td>\n",
       "      <td>1</td>\n",
       "      <td>0</td>\n",
       "      <td>NaN</td>\n",
       "      <td>34.8</td>\n",
       "      <td>63.6</td>\n",
       "      <td>7965.2</td>\n",
       "    </tr>\n",
       "    <tr>\n",
       "      <th>11327</th>\n",
       "      <td>42524503</td>\n",
       "      <td>https://www.airbnb.com/rooms/42524503</td>\n",
       "      <td>20220911230855</td>\n",
       "      <td>2022-09-12</td>\n",
       "      <td>previous scrape</td>\n",
       "      <td>Apartamento único con vistas a la Gran Vía</td>\n",
       "      <td>Espectacular apartamento en la planta 11 del P...</td>\n",
       "      <td>NaN</td>\n",
       "      <td>https://a0.muscache.com/pictures/c2c1f4a4-5cb6...</td>\n",
       "      <td>179623389</td>\n",
       "      <td>...</td>\n",
       "      <td>VT-6567</td>\n",
       "      <td>t</td>\n",
       "      <td>1</td>\n",
       "      <td>1</td>\n",
       "      <td>0</td>\n",
       "      <td>0</td>\n",
       "      <td>NaN</td>\n",
       "      <td>34.8</td>\n",
       "      <td>63.6</td>\n",
       "      <td>7965.2</td>\n",
       "    </tr>\n",
       "    <tr>\n",
       "      <th>11940</th>\n",
       "      <td>44305807</td>\n",
       "      <td>https://www.airbnb.com/rooms/44305807</td>\n",
       "      <td>20220911230855</td>\n",
       "      <td>2022-09-12</td>\n",
       "      <td>city scrape</td>\n",
       "      <td>Alquilo Apartamento Centro</td>\n",
       "      <td>NaN</td>\n",
       "      <td>NaN</td>\n",
       "      <td>https://a0.muscache.com/pictures/e56fcee2-0071...</td>\n",
       "      <td>290977158</td>\n",
       "      <td>...</td>\n",
       "      <td>NaN</td>\n",
       "      <td>t</td>\n",
       "      <td>1</td>\n",
       "      <td>1</td>\n",
       "      <td>0</td>\n",
       "      <td>0</td>\n",
       "      <td>NaN</td>\n",
       "      <td>32.0</td>\n",
       "      <td>63.6</td>\n",
       "      <td>8437.0</td>\n",
       "    </tr>\n",
       "    <tr>\n",
       "      <th>10740</th>\n",
       "      <td>40887842</td>\n",
       "      <td>https://www.airbnb.com/rooms/40887842</td>\n",
       "      <td>20220911230855</td>\n",
       "      <td>2022-09-12</td>\n",
       "      <td>previous scrape</td>\n",
       "      <td>Great apartment in Chamberi Free WiFi</td>\n",
       "      <td>This exterior apartment of 1 bedroom could be ...</td>\n",
       "      <td>Is located in the touristic Madrid and with ex...</td>\n",
       "      <td>https://a0.muscache.com/pictures/76783e8b-2dfa...</td>\n",
       "      <td>4062786</td>\n",
       "      <td>...</td>\n",
       "      <td>VT-9885</td>\n",
       "      <td>t</td>\n",
       "      <td>4</td>\n",
       "      <td>4</td>\n",
       "      <td>0</td>\n",
       "      <td>0</td>\n",
       "      <td>0.16</td>\n",
       "      <td>95.6</td>\n",
       "      <td>63.6</td>\n",
       "      <td>9903.4</td>\n",
       "    </tr>\n",
       "    <tr>\n",
       "      <th>3831</th>\n",
       "      <td>19078457</td>\n",
       "      <td>https://www.airbnb.com/rooms/19078457</td>\n",
       "      <td>20220911230855</td>\n",
       "      <td>2022-09-12</td>\n",
       "      <td>city scrape</td>\n",
       "      <td>Double room with balcony in Atocha</td>\n",
       "      <td>IMPORTANT: In case you come 1 or 2 people you ...</td>\n",
       "      <td>It is a central neighborhood of Madrid, with t...</td>\n",
       "      <td>https://a0.muscache.com/pictures/9011bf26-6b18...</td>\n",
       "      <td>60469442</td>\n",
       "      <td>...</td>\n",
       "      <td>NaN</td>\n",
       "      <td>t</td>\n",
       "      <td>1</td>\n",
       "      <td>0</td>\n",
       "      <td>1</td>\n",
       "      <td>0</td>\n",
       "      <td>2.06</td>\n",
       "      <td>34.8</td>\n",
       "      <td>63.6</td>\n",
       "      <td>40679.2</td>\n",
       "    </tr>\n",
       "  </tbody>\n",
       "</table>\n",
       "<p>5 rows × 78 columns</p>\n",
       "</div>"
      ],
      "text/plain": [
       "             id                            listing_url       scrape_id  \\\n",
       "14223  51921321  https://www.airbnb.com/rooms/51921321  20220911230855   \n",
       "11327  42524503  https://www.airbnb.com/rooms/42524503  20220911230855   \n",
       "11940  44305807  https://www.airbnb.com/rooms/44305807  20220911230855   \n",
       "10740  40887842  https://www.airbnb.com/rooms/40887842  20220911230855   \n",
       "3831   19078457  https://www.airbnb.com/rooms/19078457  20220911230855   \n",
       "\n",
       "      last_scraped           source  \\\n",
       "14223   2022-09-12      city scrape   \n",
       "11327   2022-09-12  previous scrape   \n",
       "11940   2022-09-12      city scrape   \n",
       "10740   2022-09-12  previous scrape   \n",
       "3831    2022-09-12      city scrape   \n",
       "\n",
       "                                             name  \\\n",
       "14223                                 Apartamento   \n",
       "11327  Apartamento único con vistas a la Gran Vía   \n",
       "11940                  Alquilo Apartamento Centro   \n",
       "10740       Great apartment in Chamberi Free WiFi   \n",
       "3831           Double room with balcony in Atocha   \n",
       "\n",
       "                                             description  \\\n",
       "14223                               Habitación tranquila   \n",
       "11327  Espectacular apartamento en la planta 11 del P...   \n",
       "11940                                                NaN   \n",
       "10740  This exterior apartment of 1 bedroom could be ...   \n",
       "3831   IMPORTANT: In case you come 1 or 2 people you ...   \n",
       "\n",
       "                                   neighborhood_overview  \\\n",
       "14223                                                NaN   \n",
       "11327                                                NaN   \n",
       "11940                                                NaN   \n",
       "10740  Is located in the touristic Madrid and with ex...   \n",
       "3831   It is a central neighborhood of Madrid, with t...   \n",
       "\n",
       "                                             picture_url    host_id  ...  \\\n",
       "14223  https://a0.muscache.com/pictures/7cf526d7-e68d...  409616536  ...   \n",
       "11327  https://a0.muscache.com/pictures/c2c1f4a4-5cb6...  179623389  ...   \n",
       "11940  https://a0.muscache.com/pictures/e56fcee2-0071...  290977158  ...   \n",
       "10740  https://a0.muscache.com/pictures/76783e8b-2dfa...    4062786  ...   \n",
       "3831   https://a0.muscache.com/pictures/9011bf26-6b18...   60469442  ...   \n",
       "\n",
       "       license instant_bookable calculated_host_listings_count  \\\n",
       "14223      NaN                t                              1   \n",
       "11327  VT-6567                t                              1   \n",
       "11940      NaN                t                              1   \n",
       "10740  VT-9885                t                              4   \n",
       "3831       NaN                t                              1   \n",
       "\n",
       "      calculated_host_listings_count_entire_homes  \\\n",
       "14223                                           0   \n",
       "11327                                           1   \n",
       "11940                                           1   \n",
       "10740                                           4   \n",
       "3831                                            0   \n",
       "\n",
       "      calculated_host_listings_count_private_rooms  \\\n",
       "14223                                            1   \n",
       "11327                                            0   \n",
       "11940                                            0   \n",
       "10740                                            0   \n",
       "3831                                             1   \n",
       "\n",
       "      calculated_host_listings_count_shared_rooms reviews_per_month  \\\n",
       "14223                                           0               NaN   \n",
       "11327                                           0               NaN   \n",
       "11940                                           0               NaN   \n",
       "10740                                           0              0.16   \n",
       "3831                                            0              2.06   \n",
       "\n",
       "      predicted_price predicted_price_bedrooms distancia  \n",
       "14223            34.8                     63.6    7965.2  \n",
       "11327            34.8                     63.6    7965.2  \n",
       "11940            32.0                     63.6    8437.0  \n",
       "10740            95.6                     63.6    9903.4  \n",
       "3831             34.8                     63.6   40679.2  \n",
       "\n",
       "[5 rows x 78 columns]"
      ]
     },
     "execution_count": 43,
     "metadata": {},
     "output_type": "execute_result"
    }
   ],
   "source": [
    "test.sort_values('distancia').tail()"
   ]
  },
  {
   "cell_type": "markdown",
   "id": "53063e98",
   "metadata": {},
   "source": [
    "Por qué las diferencias entre MAE Y RMSE"
   ]
  },
  {
   "cell_type": "code",
   "execution_count": 45,
   "id": "e2b17124",
   "metadata": {},
   "outputs": [],
   "source": [
    "diferencias_uno = pd.Series(\n",
    "    [5, 10, 5, 10, 5, 10, 5, 10, 5, 10 , 5, 10 ]\n",
    ")\n",
    "diferencias_dos = pd.Series(\n",
    "    [5, 10, 5, 10, 5, 10, 5, 10, 5, 10 , 1000]\n",
    ")"
   ]
  },
  {
   "cell_type": "code",
   "execution_count": 46,
   "id": "88849d20",
   "metadata": {},
   "outputs": [
    {
     "data": {
      "text/plain": [
       "7.5"
      ]
     },
     "execution_count": 46,
     "metadata": {},
     "output_type": "execute_result"
    }
   ],
   "source": [
    "diferencias_uno.sum()/len(diferencias_uno) # mae uno"
   ]
  },
  {
   "cell_type": "code",
   "execution_count": 48,
   "id": "0c634e24",
   "metadata": {},
   "outputs": [
    {
     "data": {
      "text/plain": [
       "7.905694150420948"
      ]
     },
     "execution_count": 48,
     "metadata": {},
     "output_type": "execute_result"
    }
   ],
   "source": [
    "((diferencias_uno**2).sum()/len(diferencias_uno))**0.5 # rmse uno"
   ]
  },
  {
   "cell_type": "code",
   "execution_count": 49,
   "id": "647c3310",
   "metadata": {},
   "outputs": [
    {
     "data": {
      "text/plain": [
       "97.72727272727273"
      ]
     },
     "execution_count": 49,
     "metadata": {},
     "output_type": "execute_result"
    }
   ],
   "source": [
    "diferencias_dos.sum()/len(diferencias_dos) # mae dos"
   ]
  },
  {
   "cell_type": "code",
   "execution_count": 50,
   "id": "a895aa67",
   "metadata": {},
   "outputs": [
    {
     "data": {
      "text/plain": [
       "301.60555215530945"
      ]
     },
     "execution_count": 50,
     "metadata": {},
     "output_type": "execute_result"
    }
   ],
   "source": [
    "((diferencias_dos**2).sum()/len(diferencias_dos))**0.5 # rmse uno"
   ]
  },
  {
   "cell_type": "code",
   "execution_count": null,
   "id": "fb1c7b02",
   "metadata": {},
   "outputs": [],
   "source": []
  },
  {
   "cell_type": "code",
   "execution_count": null,
   "id": "106151e8",
   "metadata": {},
   "outputs": [],
   "source": []
  },
  {
   "cell_type": "code",
   "execution_count": null,
   "id": "f6392c64",
   "metadata": {},
   "outputs": [],
   "source": []
  },
  {
   "cell_type": "code",
   "execution_count": null,
   "id": "639a6b86",
   "metadata": {},
   "outputs": [],
   "source": []
  },
  {
   "cell_type": "code",
   "execution_count": null,
   "id": "c2f84c90",
   "metadata": {},
   "outputs": [],
   "source": []
  },
  {
   "cell_type": "code",
   "execution_count": null,
   "id": "4502cf22",
   "metadata": {},
   "outputs": [],
   "source": []
  },
  {
   "cell_type": "code",
   "execution_count": null,
   "id": "56f84f70",
   "metadata": {},
   "outputs": [],
   "source": []
  },
  {
   "cell_type": "code",
   "execution_count": null,
   "id": "a5051630",
   "metadata": {},
   "outputs": [],
   "source": []
  },
  {
   "cell_type": "code",
   "execution_count": null,
   "id": "f0aded2b",
   "metadata": {},
   "outputs": [],
   "source": []
  },
  {
   "cell_type": "code",
   "execution_count": null,
   "id": "25a6df8d",
   "metadata": {},
   "outputs": [],
   "source": []
  },
  {
   "cell_type": "code",
   "execution_count": null,
   "id": "aae8ea46",
   "metadata": {},
   "outputs": [],
   "source": []
  },
  {
   "cell_type": "code",
   "execution_count": null,
   "id": "e81ba246",
   "metadata": {},
   "outputs": [],
   "source": []
  }
 ],
 "metadata": {
  "kernelspec": {
   "display_name": "Python 3 (ipykernel)",
   "language": "python",
   "name": "python3"
  },
  "language_info": {
   "codemirror_mode": {
    "name": "ipython",
    "version": 3
   },
   "file_extension": ".py",
   "mimetype": "text/x-python",
   "name": "python",
   "nbconvert_exporter": "python",
   "pygments_lexer": "ipython3",
   "version": "3.9.13"
  }
 },
 "nbformat": 4,
 "nbformat_minor": 5
}
