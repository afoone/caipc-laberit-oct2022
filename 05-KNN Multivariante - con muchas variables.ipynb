{
 "cells": [
  {
   "cell_type": "markdown",
   "id": "f2506b93",
   "metadata": {},
   "source": [
    "hasta ahora hemos intentado predecir con una variable (`accommodates` y `bedrooms`)\n",
    "\n",
    "hay variables que influyen en el precio\n",
    "\n",
    "Hay varias formas de intentar mejorar la precisión\n",
    "1. Cambiar el valor de k\n",
    "2. Cambiar las variables (incrementar el número de atributos, p.ej, `accommodates`, `bedrooms`, `bathrooms`\n",
    "\n",
    "\n",
    "Ahora lo que vamos a hacer es añadir columnas al modelo. Tenemos que tener cuidados con las variables que no van a funcionar con la ecuación de distancia:\n",
    "\n",
    "- Valores no numéricos (categóricos) - la distancia quiere números\n",
    "- Valores nulos: la distancia no permite nulos\n",
    "- Valores no ordinales: numéricos pero que no representan un orden (ej.lat y la long) "
   ]
  },
  {
   "cell_type": "code",
   "execution_count": 1,
   "id": "dc4095dc",
   "metadata": {},
   "outputs": [],
   "source": [
    "import pandas as pd\n",
    "import numpy as np\n",
    "import math\n"
   ]
  },
  {
   "cell_type": "code",
   "execution_count": 2,
   "id": "a606ec66",
   "metadata": {},
   "outputs": [],
   "source": [
    "madrid = pd.read_csv('data/airbnb-madrid.csv')\n",
    "# corrección de datos\n",
    "madrid['price'] = madrid['price'].apply(lambda x: x.replace('$', '').replace(',', '')).astype(float)\n",
    "np.random.seed(3943)\n",
    "madrid = madrid.iloc[\n",
    "    np.random.permutation(madrid.shape[0])\n",
    "]\n"
   ]
  },
  {
   "cell_type": "code",
   "execution_count": 3,
   "id": "23e8623a",
   "metadata": {},
   "outputs": [
    {
     "name": "stdout",
     "output_type": "stream",
     "text": [
      "<class 'pandas.core.frame.DataFrame'>\n",
      "Int64Index: 20681 entries, 682 to 15043\n",
      "Data columns (total 75 columns):\n",
      " #   Column                                        Non-Null Count  Dtype  \n",
      "---  ------                                        --------------  -----  \n",
      " 0   id                                            20681 non-null  int64  \n",
      " 1   listing_url                                   20681 non-null  object \n",
      " 2   scrape_id                                     20681 non-null  int64  \n",
      " 3   last_scraped                                  20681 non-null  object \n",
      " 4   source                                        20681 non-null  object \n",
      " 5   name                                          20677 non-null  object \n",
      " 6   description                                   19971 non-null  object \n",
      " 7   neighborhood_overview                         11472 non-null  object \n",
      " 8   picture_url                                   20680 non-null  object \n",
      " 9   host_id                                       20681 non-null  int64  \n",
      " 10  host_url                                      20681 non-null  object \n",
      " 11  host_name                                     20678 non-null  object \n",
      " 12  host_since                                    20678 non-null  object \n",
      " 13  host_location                                 15376 non-null  object \n",
      " 14  host_about                                    9974 non-null   object \n",
      " 15  host_response_time                            15792 non-null  object \n",
      " 16  host_response_rate                            15792 non-null  object \n",
      " 17  host_acceptance_rate                          16280 non-null  object \n",
      " 18  host_is_superhost                             20676 non-null  object \n",
      " 19  host_thumbnail_url                            20678 non-null  object \n",
      " 20  host_picture_url                              20678 non-null  object \n",
      " 21  host_neighbourhood                            10596 non-null  object \n",
      " 22  host_listings_count                           20678 non-null  float64\n",
      " 23  host_total_listings_count                     20678 non-null  float64\n",
      " 24  host_verifications                            20681 non-null  object \n",
      " 25  host_has_profile_pic                          20678 non-null  object \n",
      " 26  host_identity_verified                        20678 non-null  object \n",
      " 27  neighbourhood                                 11472 non-null  object \n",
      " 28  neighbourhood_cleansed                        20681 non-null  object \n",
      " 29  neighbourhood_group_cleansed                  20681 non-null  object \n",
      " 30  latitude                                      20681 non-null  float64\n",
      " 31  longitude                                     20681 non-null  float64\n",
      " 32  property_type                                 20681 non-null  object \n",
      " 33  room_type                                     20681 non-null  object \n",
      " 34  accommodates                                  20681 non-null  int64  \n",
      " 35  bathrooms                                     0 non-null      float64\n",
      " 36  bathrooms_text                                20657 non-null  object \n",
      " 37  bedrooms                                      19227 non-null  float64\n",
      " 38  beds                                          20331 non-null  float64\n",
      " 39  amenities                                     20681 non-null  object \n",
      " 40  price                                         20681 non-null  float64\n",
      " 41  minimum_nights                                20681 non-null  int64  \n",
      " 42  maximum_nights                                20681 non-null  int64  \n",
      " 43  minimum_minimum_nights                        20681 non-null  int64  \n",
      " 44  maximum_minimum_nights                        20681 non-null  int64  \n",
      " 45  minimum_maximum_nights                        20681 non-null  int64  \n",
      " 46  maximum_maximum_nights                        20681 non-null  int64  \n",
      " 47  minimum_nights_avg_ntm                        20681 non-null  float64\n",
      " 48  maximum_nights_avg_ntm                        20681 non-null  float64\n",
      " 49  calendar_updated                              0 non-null      float64\n",
      " 50  has_availability                              20681 non-null  object \n",
      " 51  availability_30                               20681 non-null  int64  \n",
      " 52  availability_60                               20681 non-null  int64  \n",
      " 53  availability_90                               20681 non-null  int64  \n",
      " 54  availability_365                              20681 non-null  int64  \n",
      " 55  calendar_last_scraped                         20681 non-null  object \n",
      " 56  number_of_reviews                             20681 non-null  int64  \n",
      " 57  number_of_reviews_ltm                         20681 non-null  int64  \n",
      " 58  number_of_reviews_l30d                        20681 non-null  int64  \n",
      " 59  first_review                                  16219 non-null  object \n",
      " 60  last_review                                   16219 non-null  object \n",
      " 61  review_scores_rating                          16219 non-null  float64\n",
      " 62  review_scores_accuracy                        16069 non-null  float64\n",
      " 63  review_scores_cleanliness                     16071 non-null  float64\n",
      " 64  review_scores_checkin                         16070 non-null  float64\n",
      " 65  review_scores_communication                   16070 non-null  float64\n",
      " 66  review_scores_location                        16067 non-null  float64\n",
      " 67  review_scores_value                           16066 non-null  float64\n",
      " 68  license                                       2755 non-null   object \n",
      " 69  instant_bookable                              20681 non-null  object \n",
      " 70  calculated_host_listings_count                20681 non-null  int64  \n",
      " 71  calculated_host_listings_count_entire_homes   20681 non-null  int64  \n",
      " 72  calculated_host_listings_count_private_rooms  20681 non-null  int64  \n",
      " 73  calculated_host_listings_count_shared_rooms   20681 non-null  int64  \n",
      " 74  reviews_per_month                             16219 non-null  float64\n",
      "dtypes: float64(19), int64(21), object(35)\n",
      "memory usage: 12.0+ MB\n"
     ]
    }
   ],
   "source": [
    "madrid.info()"
   ]
  },
  {
   "cell_type": "code",
   "execution_count": 4,
   "id": "2429d70b",
   "metadata": {},
   "outputs": [
    {
     "data": {
      "text/html": [
       "<div>\n",
       "<style scoped>\n",
       "    .dataframe tbody tr th:only-of-type {\n",
       "        vertical-align: middle;\n",
       "    }\n",
       "\n",
       "    .dataframe tbody tr th {\n",
       "        vertical-align: top;\n",
       "    }\n",
       "\n",
       "    .dataframe thead th {\n",
       "        text-align: right;\n",
       "    }\n",
       "</style>\n",
       "<table border=\"1\" class=\"dataframe\">\n",
       "  <thead>\n",
       "    <tr style=\"text-align: right;\">\n",
       "      <th></th>\n",
       "      <th>bathrooms</th>\n",
       "      <th>bathrooms_text</th>\n",
       "    </tr>\n",
       "  </thead>\n",
       "  <tbody>\n",
       "    <tr>\n",
       "      <th>682</th>\n",
       "      <td>NaN</td>\n",
       "      <td>1 bath</td>\n",
       "    </tr>\n",
       "    <tr>\n",
       "      <th>11870</th>\n",
       "      <td>NaN</td>\n",
       "      <td>1 bath</td>\n",
       "    </tr>\n",
       "    <tr>\n",
       "      <th>3526</th>\n",
       "      <td>NaN</td>\n",
       "      <td>2 baths</td>\n",
       "    </tr>\n",
       "    <tr>\n",
       "      <th>13270</th>\n",
       "      <td>NaN</td>\n",
       "      <td>1 bath</td>\n",
       "    </tr>\n",
       "    <tr>\n",
       "      <th>15946</th>\n",
       "      <td>NaN</td>\n",
       "      <td>1 bath</td>\n",
       "    </tr>\n",
       "    <tr>\n",
       "      <th>...</th>\n",
       "      <td>...</td>\n",
       "      <td>...</td>\n",
       "    </tr>\n",
       "    <tr>\n",
       "      <th>3351</th>\n",
       "      <td>NaN</td>\n",
       "      <td>1 bath</td>\n",
       "    </tr>\n",
       "    <tr>\n",
       "      <th>970</th>\n",
       "      <td>NaN</td>\n",
       "      <td>1.5 shared baths</td>\n",
       "    </tr>\n",
       "    <tr>\n",
       "      <th>4766</th>\n",
       "      <td>NaN</td>\n",
       "      <td>1.5 shared baths</td>\n",
       "    </tr>\n",
       "    <tr>\n",
       "      <th>4563</th>\n",
       "      <td>NaN</td>\n",
       "      <td>1 shared bath</td>\n",
       "    </tr>\n",
       "    <tr>\n",
       "      <th>15043</th>\n",
       "      <td>NaN</td>\n",
       "      <td>3 shared baths</td>\n",
       "    </tr>\n",
       "  </tbody>\n",
       "</table>\n",
       "<p>20681 rows × 2 columns</p>\n",
       "</div>"
      ],
      "text/plain": [
       "       bathrooms    bathrooms_text\n",
       "682          NaN            1 bath\n",
       "11870        NaN            1 bath\n",
       "3526         NaN           2 baths\n",
       "13270        NaN            1 bath\n",
       "15946        NaN            1 bath\n",
       "...          ...               ...\n",
       "3351         NaN            1 bath\n",
       "970          NaN  1.5 shared baths\n",
       "4766         NaN  1.5 shared baths\n",
       "4563         NaN     1 shared bath\n",
       "15043        NaN    3 shared baths\n",
       "\n",
       "[20681 rows x 2 columns]"
      ]
     },
     "execution_count": 4,
     "metadata": {},
     "output_type": "execute_result"
    }
   ],
   "source": [
    "madrid[\n",
    "    ['bathrooms', 'bathrooms_text']\n",
    "]"
   ]
  },
  {
   "cell_type": "code",
   "execution_count": 13,
   "id": "1673f7ed",
   "metadata": {},
   "outputs": [
    {
     "name": "stdout",
     "output_type": "stream",
     "text": [
      "<class 'pandas.core.series.Series'>\n",
      "Int64Index: 20681 entries, 682 to 15043\n",
      "Series name: bathrooms_text\n",
      "Non-Null Count  Dtype \n",
      "--------------  ----- \n",
      "20657 non-null  object\n",
      "dtypes: object(1)\n",
      "memory usage: 323.1+ KB\n"
     ]
    }
   ],
   "source": [
    "madrid['bathrooms_text'].info()"
   ]
  },
  {
   "cell_type": "code",
   "execution_count": null,
   "id": "99dafe2c",
   "metadata": {},
   "outputs": [],
   "source": []
  },
  {
   "cell_type": "code",
   "execution_count": 17,
   "id": "7a0fcfb4",
   "metadata": {},
   "outputs": [
    {
     "data": {
      "text/plain": [
       "'single  batch'"
      ]
     },
     "execution_count": 17,
     "metadata": {},
     "output_type": "execute_result"
    }
   ],
   "source": [
    "def convert_half_in_number(x):\n",
    "    if ('half' in str(x).lower()):\n",
    "        return '0.5'\n",
    "    else:\n",
    "        return x\n",
    "    \n",
    "convert_half_in_number(\"single  batch\")"
   ]
  },
  {
   "cell_type": "code",
   "execution_count": 18,
   "id": "8084d653",
   "metadata": {},
   "outputs": [
    {
     "data": {
      "text/plain": [
       "1 bath              9620\n",
       "1 shared bath       3748\n",
       "2 baths             2585\n",
       "1 private bath      1401\n",
       "1.5 baths           1005\n",
       "1.5 shared baths     691\n",
       "2 shared baths       572\n",
       "3 baths              293\n",
       "2.5 baths            193\n",
       "3 shared baths        88\n",
       "4 shared baths        76\n",
       "2.5 shared baths      58\n",
       "4 baths               56\n",
       "0 shared baths        52\n",
       "3.5 baths             36\n",
       "0 baths               35\n",
       "0.5                   30\n",
       "8 shared baths        24\n",
       "5 baths               18\n",
       "4.5 baths             18\n",
       "5 shared baths        11\n",
       "4.5 shared baths       9\n",
       "6 baths                8\n",
       "3.5 shared baths       8\n",
       "6 shared baths         6\n",
       "5.5 baths              4\n",
       "7 baths                3\n",
       "10 baths               2\n",
       "6.5 baths              2\n",
       "7 shared baths         2\n",
       "8 baths                1\n",
       "20 shared baths        1\n",
       "5.5 shared baths       1\n",
       "Name: bathrooms_text, dtype: int64"
      ]
     },
     "execution_count": 18,
     "metadata": {},
     "output_type": "execute_result"
    }
   ],
   "source": [
    "madrid['bathrooms_text'].apply(\n",
    "    convert_half_in_number\n",
    ")"
   ]
  },
  {
   "cell_type": "code",
   "execution_count": 31,
   "id": "ccbfd676",
   "metadata": {},
   "outputs": [],
   "source": [
    "import re\n",
    "\n",
    "def extract_number(x):\n",
    "    return re.search(\"[0-9|.]*\", str(x)).group(0)"
   ]
  },
  {
   "cell_type": "code",
   "execution_count": 39,
   "id": "115df33b",
   "metadata": {},
   "outputs": [],
   "source": [
    "madrid['bathrooms'] = madrid['bathrooms_text'].apply(\n",
    "    convert_half_in_number\n",
    ").apply(extract_number).apply(lambda x: '0' if str(x) == '' else x).astype('float')"
   ]
  },
  {
   "cell_type": "code",
   "execution_count": 43,
   "id": "6d3d9505",
   "metadata": {},
   "outputs": [],
   "source": [
    "madrid = madrid.dropna(axis= 1)"
   ]
  },
  {
   "cell_type": "code",
   "execution_count": 44,
   "id": "9d5f63fa",
   "metadata": {},
   "outputs": [
    {
     "data": {
      "text/plain": [
       "count    20681.000000\n",
       "mean         1.293965\n",
       "std          0.648558\n",
       "min          0.000000\n",
       "25%          1.000000\n",
       "50%          1.000000\n",
       "75%          1.500000\n",
       "max         20.000000\n",
       "Name: bathrooms, dtype: float64"
      ]
     },
     "execution_count": 44,
     "metadata": {},
     "output_type": "execute_result"
    }
   ],
   "source": [
    "madrid['bathrooms'].describe()"
   ]
  },
  {
   "cell_type": "code",
   "execution_count": 46,
   "id": "05fc9312",
   "metadata": {},
   "outputs": [
    {
     "data": {
      "text/plain": [
       "count    20681.000000\n",
       "mean        38.609207\n",
       "std         73.588795\n",
       "min          0.000000\n",
       "25%          1.000000\n",
       "50%          8.000000\n",
       "75%         40.000000\n",
       "max        845.000000\n",
       "Name: number_of_reviews, dtype: float64"
      ]
     },
     "execution_count": 46,
     "metadata": {},
     "output_type": "execute_result"
    }
   ],
   "source": [
    "madrid['number_of_reviews'].describe()"
   ]
  },
  {
   "cell_type": "markdown",
   "id": "36dac71d",
   "metadata": {},
   "source": [
    "Distribución normal estándar : Media 0 y Desviación típica 1\n",
    "\n",
    "Normalizar es:\n",
    " - restar a cada valor la media de la columna\n",
    " - dividir cada valor por la desviación típica\n",
    " "
   ]
  },
  {
   "cell_type": "code",
   "execution_count": 47,
   "id": "c393f1e7",
   "metadata": {},
   "outputs": [
    {
     "data": {
      "text/plain": [
       "3.1138726367196945"
      ]
     },
     "execution_count": 47,
     "metadata": {},
     "output_type": "execute_result"
    }
   ],
   "source": [
    "madrid['accommodates'].mean()"
   ]
  },
  {
   "cell_type": "code",
   "execution_count": 48,
   "id": "d4951ded",
   "metadata": {},
   "outputs": [
    {
     "data": {
      "text/plain": [
       "1.937425732532119"
      ]
     },
     "execution_count": 48,
     "metadata": {},
     "output_type": "execute_result"
    }
   ],
   "source": [
    "madrid['accommodates'].std()"
   ]
  },
  {
   "cell_type": "code",
   "execution_count": 51,
   "id": "660c06ac",
   "metadata": {},
   "outputs": [],
   "source": [
    "accommodates_normalized = (madrid['accommodates']-madrid['accommodates'].mean())/madrid['accommodates'].std()"
   ]
  },
  {
   "cell_type": "code",
   "execution_count": 50,
   "id": "12a80f7d",
   "metadata": {},
   "outputs": [
    {
     "data": {
      "text/plain": [
       "682      4\n",
       "11870    4\n",
       "3526     4\n",
       "13270    4\n",
       "15946    4\n",
       "        ..\n",
       "3351     1\n",
       "970      1\n",
       "4766     2\n",
       "4563     2\n",
       "15043    2\n",
       "Name: accommodates, Length: 20681, dtype: int64"
      ]
     },
     "execution_count": 50,
     "metadata": {},
     "output_type": "execute_result"
    }
   ],
   "source": [
    "madrid['accommodates']"
   ]
  },
  {
   "cell_type": "code",
   "execution_count": 52,
   "id": "75e1f092",
   "metadata": {},
   "outputs": [
    {
     "data": {
      "text/plain": [
       "-2.88601082171309e-17"
      ]
     },
     "execution_count": 52,
     "metadata": {},
     "output_type": "execute_result"
    }
   ],
   "source": [
    "accommodates_normalized.mean()"
   ]
  },
  {
   "cell_type": "code",
   "execution_count": 53,
   "id": "8628b9d9",
   "metadata": {},
   "outputs": [
    {
     "data": {
      "text/plain": [
       "1.0"
      ]
     },
     "execution_count": 53,
     "metadata": {},
     "output_type": "execute_result"
    }
   ],
   "source": [
    "accommodates_normalized.std()\n"
   ]
  },
  {
   "cell_type": "code",
   "execution_count": null,
   "id": "de37216f",
   "metadata": {},
   "outputs": [],
   "source": []
  },
  {
   "cell_type": "code",
   "execution_count": null,
   "id": "bde9801c",
   "metadata": {},
   "outputs": [],
   "source": []
  },
  {
   "cell_type": "code",
   "execution_count": null,
   "id": "49020d07",
   "metadata": {},
   "outputs": [],
   "source": []
  },
  {
   "cell_type": "code",
   "execution_count": null,
   "id": "7a76e501",
   "metadata": {},
   "outputs": [],
   "source": []
  },
  {
   "cell_type": "code",
   "execution_count": null,
   "id": "7f9eb436",
   "metadata": {},
   "outputs": [],
   "source": []
  },
  {
   "cell_type": "code",
   "execution_count": null,
   "id": "75546df3",
   "metadata": {},
   "outputs": [],
   "source": []
  },
  {
   "cell_type": "code",
   "execution_count": null,
   "id": "9bd3af37",
   "metadata": {},
   "outputs": [],
   "source": []
  },
  {
   "cell_type": "code",
   "execution_count": null,
   "id": "d4ec5fd0",
   "metadata": {},
   "outputs": [],
   "source": []
  },
  {
   "cell_type": "code",
   "execution_count": null,
   "id": "a13f039d",
   "metadata": {},
   "outputs": [],
   "source": []
  },
  {
   "cell_type": "code",
   "execution_count": null,
   "id": "558330e8",
   "metadata": {},
   "outputs": [],
   "source": []
  },
  {
   "cell_type": "code",
   "execution_count": null,
   "id": "75f24793",
   "metadata": {},
   "outputs": [],
   "source": []
  },
  {
   "cell_type": "code",
   "execution_count": null,
   "id": "548b3bb7",
   "metadata": {},
   "outputs": [],
   "source": []
  }
 ],
 "metadata": {
  "kernelspec": {
   "display_name": "Python 3 (ipykernel)",
   "language": "python",
   "name": "python3"
  },
  "language_info": {
   "codemirror_mode": {
    "name": "ipython",
    "version": 3
   },
   "file_extension": ".py",
   "mimetype": "text/x-python",
   "name": "python",
   "nbconvert_exporter": "python",
   "pygments_lexer": "ipython3",
   "version": "3.9.13"
  }
 },
 "nbformat": 4,
 "nbformat_minor": 5
}
