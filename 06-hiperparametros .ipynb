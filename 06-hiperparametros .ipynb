{
 "cells": [
  {
   "cell_type": "code",
   "execution_count": 1,
   "id": "571c5ff6",
   "metadata": {},
   "outputs": [],
   "source": [
    "import pandas as pd\n",
    "import numpy as np\n",
    "import math\n"
   ]
  },
  {
   "cell_type": "code",
   "execution_count": 2,
   "id": "2e3368fb",
   "metadata": {},
   "outputs": [],
   "source": [
    "madrid = pd.read_csv(\n",
    "    'data/airbnb-madrid.csv'\n",
    ")\n",
    "# corrección de datos\n",
    "madrid['price'] = madrid['price'].apply(lambda x: x.replace('$', '').replace(',', '')).astype(float)\n",
    "np.random.seed(3943)\n",
    "madrid = madrid.iloc[\n",
    "    np.random.permutation(madrid.shape[0])\n",
    "]\n",
    "\n",
    "\n",
    "# elimino outliers (o los que no juegan en la misma liga)\n",
    "madrid = madrid[madrid['price']<300]"
   ]
  },
  {
   "cell_type": "code",
   "execution_count": 3,
   "id": "e9a08faa",
   "metadata": {},
   "outputs": [],
   "source": [
    "np.random.seed(39)\n",
    "madrid = madrid.iloc[np.random.permutation(len(madrid))]"
   ]
  },
  {
   "cell_type": "code",
   "execution_count": 4,
   "id": "5ab57bb7",
   "metadata": {},
   "outputs": [],
   "source": [
    "drop_columns = ['id', 'listing_url', 'scrape_id', 'last_scraped', 'description',\n",
    "       'neighborhood_overview', 'picture_url', 'host_id', 'host_url',\n",
    "       'host_name', 'host_since', 'host_location', 'host_about',\n",
    "       'host_response_time', 'host_response_rate', 'host_acceptance_rate',\n",
    "       'host_is_superhost', 'host_thumbnail_url', 'host_picture_url',\n",
    "       'host_neighbourhood', 'host_listings_count',\n",
    "       'host_total_listings_count', 'host_verifications',\n",
    "       'host_has_profile_pic', 'host_identity_verified', \n",
    "       'neighbourhood_cleansed', 'neighbourhood_group_cleansed', 'latitude',\n",
    "       'longitude', 'property_type', 'room_type',\n",
    "       'bathrooms_text',  'amenities', \n",
    "       'minimum_nights', 'maximum_nights', 'minimum_minimum_nights',\n",
    "       'maximum_minimum_nights', 'minimum_maximum_nights',\n",
    "       'maximum_maximum_nights', 'minimum_nights_avg_ntm',\n",
    "       'maximum_nights_avg_ntm', 'calendar_updated', 'has_availability',\n",
    "       'availability_30', 'availability_60', 'availability_90',\n",
    "       'availability_365', 'calendar_last_scraped', \n",
    "       'number_of_reviews_ltm', 'number_of_reviews_l30d', 'first_review',\n",
    "       'last_review', 'review_scores_rating', 'review_scores_accuracy',\n",
    "       'review_scores_cleanliness', \n",
    "       'review_scores_communication', 'review_scores_location',\n",
    "       'review_scores_value', 'license',\n",
    "       'calculated_host_listings_count',\n",
    "       'calculated_host_listings_count_entire_homes',\n",
    "       'calculated_host_listings_count_private_rooms','review_scores_checkin','source',\n",
    "       'calculated_host_listings_count_shared_rooms','bathrooms', 'name', \n",
    "       'neighbourhood', 'instant_bookable', 'reviews_per_month' ]\n"
   ]
  },
  {
   "cell_type": "code",
   "execution_count": 5,
   "id": "7d7aa61b",
   "metadata": {},
   "outputs": [],
   "source": [
    "madrid = madrid.drop(\n",
    "    drop_columns, \n",
    "    axis=1\n",
    ")"
   ]
  },
  {
   "cell_type": "code",
   "execution_count": 6,
   "id": "c6c7937c",
   "metadata": {},
   "outputs": [
    {
     "data": {
      "text/plain": [
       "Index(['accommodates', 'bedrooms', 'beds', 'price', 'number_of_reviews'], dtype='object')"
      ]
     },
     "execution_count": 6,
     "metadata": {},
     "output_type": "execute_result"
    }
   ],
   "source": [
    "madrid.columns"
   ]
  },
  {
   "cell_type": "code",
   "execution_count": 14,
   "id": "c2f9a828",
   "metadata": {},
   "outputs": [],
   "source": [
    "# creamos train y test\n",
    "split = math.trunc(len(madrid)*0.8)\n",
    "train = madrid.iloc[:split].copy()\n",
    "test = madrid.iloc[split:].copy()"
   ]
  },
  {
   "cell_type": "code",
   "execution_count": 15,
   "id": "cd320407",
   "metadata": {},
   "outputs": [
    {
     "data": {
      "text/html": [
       "<div>\n",
       "<style scoped>\n",
       "    .dataframe tbody tr th:only-of-type {\n",
       "        vertical-align: middle;\n",
       "    }\n",
       "\n",
       "    .dataframe tbody tr th {\n",
       "        vertical-align: top;\n",
       "    }\n",
       "\n",
       "    .dataframe thead th {\n",
       "        text-align: right;\n",
       "    }\n",
       "</style>\n",
       "<table border=\"1\" class=\"dataframe\">\n",
       "  <thead>\n",
       "    <tr style=\"text-align: right;\">\n",
       "      <th></th>\n",
       "      <th>accommodates</th>\n",
       "      <th>bedrooms</th>\n",
       "      <th>beds</th>\n",
       "      <th>price</th>\n",
       "      <th>number_of_reviews</th>\n",
       "    </tr>\n",
       "  </thead>\n",
       "  <tbody>\n",
       "    <tr>\n",
       "      <th>5558</th>\n",
       "      <td>4</td>\n",
       "      <td>2.0</td>\n",
       "      <td>2.0</td>\n",
       "      <td>125.0</td>\n",
       "      <td>100</td>\n",
       "    </tr>\n",
       "    <tr>\n",
       "      <th>7683</th>\n",
       "      <td>2</td>\n",
       "      <td>1.0</td>\n",
       "      <td>1.0</td>\n",
       "      <td>65.0</td>\n",
       "      <td>1</td>\n",
       "    </tr>\n",
       "    <tr>\n",
       "      <th>13789</th>\n",
       "      <td>3</td>\n",
       "      <td>1.0</td>\n",
       "      <td>2.0</td>\n",
       "      <td>108.0</td>\n",
       "      <td>50</td>\n",
       "    </tr>\n",
       "    <tr>\n",
       "      <th>2099</th>\n",
       "      <td>3</td>\n",
       "      <td>1.0</td>\n",
       "      <td>1.0</td>\n",
       "      <td>48.0</td>\n",
       "      <td>231</td>\n",
       "    </tr>\n",
       "    <tr>\n",
       "      <th>19930</th>\n",
       "      <td>2</td>\n",
       "      <td>1.0</td>\n",
       "      <td>1.0</td>\n",
       "      <td>43.0</td>\n",
       "      <td>4</td>\n",
       "    </tr>\n",
       "    <tr>\n",
       "      <th>...</th>\n",
       "      <td>...</td>\n",
       "      <td>...</td>\n",
       "      <td>...</td>\n",
       "      <td>...</td>\n",
       "      <td>...</td>\n",
       "    </tr>\n",
       "    <tr>\n",
       "      <th>19442</th>\n",
       "      <td>2</td>\n",
       "      <td>1.0</td>\n",
       "      <td>1.0</td>\n",
       "      <td>73.0</td>\n",
       "      <td>0</td>\n",
       "    </tr>\n",
       "    <tr>\n",
       "      <th>10132</th>\n",
       "      <td>2</td>\n",
       "      <td>1.0</td>\n",
       "      <td>2.0</td>\n",
       "      <td>100.0</td>\n",
       "      <td>5</td>\n",
       "    </tr>\n",
       "    <tr>\n",
       "      <th>15452</th>\n",
       "      <td>4</td>\n",
       "      <td>2.0</td>\n",
       "      <td>3.0</td>\n",
       "      <td>70.0</td>\n",
       "      <td>2</td>\n",
       "    </tr>\n",
       "    <tr>\n",
       "      <th>3291</th>\n",
       "      <td>4</td>\n",
       "      <td>2.0</td>\n",
       "      <td>2.0</td>\n",
       "      <td>119.0</td>\n",
       "      <td>0</td>\n",
       "    </tr>\n",
       "    <tr>\n",
       "      <th>19364</th>\n",
       "      <td>2</td>\n",
       "      <td>1.0</td>\n",
       "      <td>1.0</td>\n",
       "      <td>40.0</td>\n",
       "      <td>0</td>\n",
       "    </tr>\n",
       "  </tbody>\n",
       "</table>\n",
       "<p>15304 rows × 5 columns</p>\n",
       "</div>"
      ],
      "text/plain": [
       "       accommodates  bedrooms  beds  price  number_of_reviews\n",
       "5558              4       2.0   2.0  125.0                100\n",
       "7683              2       1.0   1.0   65.0                  1\n",
       "13789             3       1.0   2.0  108.0                 50\n",
       "2099              3       1.0   1.0   48.0                231\n",
       "19930             2       1.0   1.0   43.0                  4\n",
       "...             ...       ...   ...    ...                ...\n",
       "19442             2       1.0   1.0   73.0                  0\n",
       "10132             2       1.0   2.0  100.0                  5\n",
       "15452             4       2.0   3.0   70.0                  2\n",
       "3291              4       2.0   2.0  119.0                  0\n",
       "19364             2       1.0   1.0   40.0                  0\n",
       "\n",
       "[15304 rows x 5 columns]"
      ]
     },
     "execution_count": 15,
     "metadata": {},
     "output_type": "execute_result"
    }
   ],
   "source": [
    "train"
   ]
  },
  {
   "cell_type": "code",
   "execution_count": 16,
   "id": "1d644a95",
   "metadata": {},
   "outputs": [
    {
     "name": "stdout",
     "output_type": "stream",
     "text": [
      "<class 'pandas.core.frame.DataFrame'>\n",
      "Int64Index: 15304 entries, 5558 to 19364\n",
      "Data columns (total 5 columns):\n",
      " #   Column             Non-Null Count  Dtype  \n",
      "---  ------             --------------  -----  \n",
      " 0   accommodates       15304 non-null  int64  \n",
      " 1   bedrooms           14192 non-null  float64\n",
      " 2   beds               15041 non-null  float64\n",
      " 3   price              15304 non-null  float64\n",
      " 4   number_of_reviews  15304 non-null  int64  \n",
      "dtypes: float64(3), int64(2)\n",
      "memory usage: 717.4 KB\n"
     ]
    }
   ],
   "source": [
    "train.info()"
   ]
  },
  {
   "cell_type": "code",
   "execution_count": null,
   "id": "afa2d7c9",
   "metadata": {},
   "outputs": [],
   "source": []
  },
  {
   "cell_type": "code",
   "execution_count": 8,
   "id": "946a3d80",
   "metadata": {},
   "outputs": [
    {
     "name": "stdout",
     "output_type": "stream",
     "text": [
      "<class 'pandas.core.frame.DataFrame'>\n",
      "Int64Index: 19130 entries, 5558 to 15401\n",
      "Data columns (total 5 columns):\n",
      " #   Column             Non-Null Count  Dtype  \n",
      "---  ------             --------------  -----  \n",
      " 0   accommodates       19130 non-null  int64  \n",
      " 1   bedrooms           17742 non-null  float64\n",
      " 2   beds               18797 non-null  float64\n",
      " 3   price              19130 non-null  float64\n",
      " 4   number_of_reviews  19130 non-null  int64  \n",
      "dtypes: float64(3), int64(2)\n",
      "memory usage: 896.7 KB\n"
     ]
    }
   ],
   "source": [
    "madrid.info()"
   ]
  },
  {
   "cell_type": "code",
   "execution_count": 19,
   "id": "19898589",
   "metadata": {},
   "outputs": [
    {
     "name": "stdout",
     "output_type": "stream",
     "text": [
      "valores [53.833665236607374, 65.56820838134729, 76.0848381497334, 57.976320236635125, 62.97671239620394, 57.54048944270794, 56.21812720340811, 54.768157810939016, 52.90540738020307, 51.73126910121954, 50.54161528826175, 50.6665473736685, 52.032297902288526, 51.615965522581874, 52.57290744922805, 52.183532215953484, 51.80001908862492, 51.46074755617985, 52.34683995114849]\n"
     ]
    }
   ],
   "source": [
    "from sklearn.neighbors import KNeighborsRegressor\n",
    "from sklearn.metrics import mean_squared_error\n",
    "\n",
    "rmse_values = []\n",
    "\n",
    "for k in range(1,20):\n",
    "    knn = KNeighborsRegressor(n_neighbors=k, algorithm='brute')\n",
    "    knn.fit(train[['accommodates']], train['price'])\n",
    "    predictions = knn.predict(test[['accommodates']])\n",
    "    rmse = mean_squared_error(test['price'],  predictions)**0.5\n",
    "    rmse_values.append(rmse)\n",
    "    \n",
    "print (\"valores\", rmse_values)\n",
    "    \n",
    "plt.scatter(\n",
    "    range(1,20), \n",
    "    rmse_values\n",
    "    )"
   ]
  },
  {
   "cell_type": "code",
   "execution_count": 20,
   "id": "c45da911",
   "metadata": {},
   "outputs": [],
   "source": [
    "import matplotlib.pyplot as plt"
   ]
  },
  {
   "cell_type": "code",
   "execution_count": 21,
   "id": "3afa2861",
   "metadata": {},
   "outputs": [
    {
     "data": {
      "text/plain": [
       "<matplotlib.collections.PathCollection at 0x17ae65fd0>"
      ]
     },
     "execution_count": 21,
     "metadata": {},
     "output_type": "execute_result"
    },
    {
     "data": {
      "image/png": "[encoded data removed]",
      "text/plain": [
       "<Figure size 640x480 with 1 Axes>"
      ]
     },
     "metadata": {},
     "output_type": "display_data"
    }
   ],
   "source": [
    "plt.scatter(\n",
    "    range(1,20), \n",
    "    rmse_values\n",
    "    )"
   ]
  },
  {
   "cell_type": "code",
   "execution_count": 22,
   "id": "85c2ce0a",
   "metadata": {},
   "outputs": [
    {
     "name": "stdout",
     "output_type": "stream",
     "text": [
      "valores [53.833665236607374, 65.56820838134729, 76.0848381497334, 57.976320236635125, 62.97671239620394, 57.54048944270794, 56.21812720340811, 54.768157810939016, 52.90540738020307, 51.73126910121954, 50.54161528826175, 50.6665473736685, 52.032297902288526, 51.615965522581874, 52.57290744922805, 52.183532215953484, 51.80001908862492, 51.46074755617985, 52.34683995114849, 51.928426684841426, 52.539456747006454, 52.651763077554726, 52.156124742492175, 51.9665081501815, 51.599742074518375, 51.27928418956675, 50.98046163562051, 50.673485838072374, 50.62288760563636, 50.83636783404604, 51.023981159668374, 50.57663337087521, 50.152834350244945, 50.195350871012614, 50.04261367403141, 49.74454951479645, 49.3585381427093, 49.37799871918414, 49.34421233153575, 49.2411650640991, 49.17268337671407, 49.07490846508071, 48.92168523205557, 48.91177541736094, 48.84321787941576, 48.66241150721669, 48.52112161620574, 48.581113296884766, 48.454795886258516]\n"
     ]
    },
    {
     "ename": "ValueError",
     "evalue": "x and y must be the same size",
     "output_type": "error",
     "traceback": [
      "\u001b[0;31m---------------------------------------------------------------------------\u001b[0m",
      "\u001b[0;31mValueError\u001b[0m                                Traceback (most recent call last)",
      "Cell \u001b[0;32mIn [22], line 15\u001b[0m\n\u001b[1;32m     11\u001b[0m     rmse_values\u001b[38;5;241m.\u001b[39mappend(rmse)\n\u001b[1;32m     13\u001b[0m \u001b[38;5;28mprint\u001b[39m (\u001b[38;5;124m\"\u001b[39m\u001b[38;5;124mvalores\u001b[39m\u001b[38;5;124m\"\u001b[39m, rmse_values)\n\u001b[0;32m---> 15\u001b[0m plt\u001b[38;5;241m.\u001b[39mscatter(\n\u001b[1;32m     16\u001b[0m     \u001b[38;5;28mrange\u001b[39m(\u001b[38;5;241m1\u001b[39m,\u001b[38;5;241m20\u001b[39m), \n\u001b[1;32m     17\u001b[0m     rmse_values\n\u001b[1;32m     18\u001b[0m     )\n",
      "File \u001b[0;32m~/miniforge3/envs/caipcoctubre/lib/python3.9/site-packages/matplotlib/pyplot.py:2778\u001b[0m, in \u001b[0;36mscatter\u001b[0;34m(x, y, s, c, marker, cmap, norm, vmin, vmax, alpha, linewidths, edgecolors, plotnonfinite, data, **kwargs)\u001b[0m\n\u001b[1;32m   2773\u001b[0m \u001b[38;5;129m@_copy_docstring_and_deprecators\u001b[39m(Axes\u001b[38;5;241m.\u001b[39mscatter)\n\u001b[1;32m   2774\u001b[0m \u001b[38;5;28;01mdef\u001b[39;00m \u001b[38;5;21mscatter\u001b[39m(\n\u001b[1;32m   2775\u001b[0m         x, y, s\u001b[38;5;241m=\u001b[39m\u001b[38;5;28;01mNone\u001b[39;00m, c\u001b[38;5;241m=\u001b[39m\u001b[38;5;28;01mNone\u001b[39;00m, marker\u001b[38;5;241m=\u001b[39m\u001b[38;5;28;01mNone\u001b[39;00m, cmap\u001b[38;5;241m=\u001b[39m\u001b[38;5;28;01mNone\u001b[39;00m, norm\u001b[38;5;241m=\u001b[39m\u001b[38;5;28;01mNone\u001b[39;00m,\n\u001b[1;32m   2776\u001b[0m         vmin\u001b[38;5;241m=\u001b[39m\u001b[38;5;28;01mNone\u001b[39;00m, vmax\u001b[38;5;241m=\u001b[39m\u001b[38;5;28;01mNone\u001b[39;00m, alpha\u001b[38;5;241m=\u001b[39m\u001b[38;5;28;01mNone\u001b[39;00m, linewidths\u001b[38;5;241m=\u001b[39m\u001b[38;5;28;01mNone\u001b[39;00m, \u001b[38;5;241m*\u001b[39m,\n\u001b[1;32m   2777\u001b[0m         edgecolors\u001b[38;5;241m=\u001b[39m\u001b[38;5;28;01mNone\u001b[39;00m, plotnonfinite\u001b[38;5;241m=\u001b[39m\u001b[38;5;28;01mFalse\u001b[39;00m, data\u001b[38;5;241m=\u001b[39m\u001b[38;5;28;01mNone\u001b[39;00m, \u001b[38;5;241m*\u001b[39m\u001b[38;5;241m*\u001b[39mkwargs):\n\u001b[0;32m-> 2778\u001b[0m     __ret \u001b[38;5;241m=\u001b[39m \u001b[43mgca\u001b[49m\u001b[43m(\u001b[49m\u001b[43m)\u001b[49m\u001b[38;5;241;43m.\u001b[39;49m\u001b[43mscatter\u001b[49m\u001b[43m(\u001b[49m\n\u001b[1;32m   2779\u001b[0m \u001b[43m        \u001b[49m\u001b[43mx\u001b[49m\u001b[43m,\u001b[49m\u001b[43m \u001b[49m\u001b[43my\u001b[49m\u001b[43m,\u001b[49m\u001b[43m \u001b[49m\u001b[43ms\u001b[49m\u001b[38;5;241;43m=\u001b[39;49m\u001b[43ms\u001b[49m\u001b[43m,\u001b[49m\u001b[43m \u001b[49m\u001b[43mc\u001b[49m\u001b[38;5;241;43m=\u001b[39;49m\u001b[43mc\u001b[49m\u001b[43m,\u001b[49m\u001b[43m \u001b[49m\u001b[43mmarker\u001b[49m\u001b[38;5;241;43m=\u001b[39;49m\u001b[43mmarker\u001b[49m\u001b[43m,\u001b[49m\u001b[43m \u001b[49m\u001b[43mcmap\u001b[49m\u001b[38;5;241;43m=\u001b[39;49m\u001b[43mcmap\u001b[49m\u001b[43m,\u001b[49m\u001b[43m \u001b[49m\u001b[43mnorm\u001b[49m\u001b[38;5;241;43m=\u001b[39;49m\u001b[43mnorm\u001b[49m\u001b[43m,\u001b[49m\n\u001b[1;32m   2780\u001b[0m \u001b[43m        \u001b[49m\u001b[43mvmin\u001b[49m\u001b[38;5;241;43m=\u001b[39;49m\u001b[43mvmin\u001b[49m\u001b[43m,\u001b[49m\u001b[43m \u001b[49m\u001b[43mvmax\u001b[49m\u001b[38;5;241;43m=\u001b[39;49m\u001b[43mvmax\u001b[49m\u001b[43m,\u001b[49m\u001b[43m \u001b[49m\u001b[43malpha\u001b[49m\u001b[38;5;241;43m=\u001b[39;49m\u001b[43malpha\u001b[49m\u001b[43m,\u001b[49m\u001b[43m \u001b[49m\u001b[43mlinewidths\u001b[49m\u001b[38;5;241;43m=\u001b[39;49m\u001b[43mlinewidths\u001b[49m\u001b[43m,\u001b[49m\n\u001b[1;32m   2781\u001b[0m \u001b[43m        \u001b[49m\u001b[43medgecolors\u001b[49m\u001b[38;5;241;43m=\u001b[39;49m\u001b[43medgecolors\u001b[49m\u001b[43m,\u001b[49m\u001b[43m \u001b[49m\u001b[43mplotnonfinite\u001b[49m\u001b[38;5;241;43m=\u001b[39;49m\u001b[43mplotnonfinite\u001b[49m\u001b[43m,\u001b[49m\n\u001b[1;32m   2782\u001b[0m \u001b[43m        \u001b[49m\u001b[38;5;241;43m*\u001b[39;49m\u001b[38;5;241;43m*\u001b[39;49m\u001b[43m(\u001b[49m\u001b[43m{\u001b[49m\u001b[38;5;124;43m\"\u001b[39;49m\u001b[38;5;124;43mdata\u001b[39;49m\u001b[38;5;124;43m\"\u001b[39;49m\u001b[43m:\u001b[49m\u001b[43m \u001b[49m\u001b[43mdata\u001b[49m\u001b[43m}\u001b[49m\u001b[43m \u001b[49m\u001b[38;5;28;43;01mif\u001b[39;49;00m\u001b[43m \u001b[49m\u001b[43mdata\u001b[49m\u001b[43m \u001b[49m\u001b[38;5;129;43;01mis\u001b[39;49;00m\u001b[43m \u001b[49m\u001b[38;5;129;43;01mnot\u001b[39;49;00m\u001b[43m \u001b[49m\u001b[38;5;28;43;01mNone\u001b[39;49;00m\u001b[43m \u001b[49m\u001b[38;5;28;43;01melse\u001b[39;49;00m\u001b[43m \u001b[49m\u001b[43m{\u001b[49m\u001b[43m}\u001b[49m\u001b[43m)\u001b[49m\u001b[43m,\u001b[49m\u001b[43m \u001b[49m\u001b[38;5;241;43m*\u001b[39;49m\u001b[38;5;241;43m*\u001b[39;49m\u001b[43mkwargs\u001b[49m\u001b[43m)\u001b[49m\n\u001b[1;32m   2783\u001b[0m     sci(__ret)\n\u001b[1;32m   2784\u001b[0m     \u001b[38;5;28;01mreturn\u001b[39;00m __ret\n",
      "File \u001b[0;32m~/miniforge3/envs/caipcoctubre/lib/python3.9/site-packages/matplotlib/__init__.py:1423\u001b[0m, in \u001b[0;36m_preprocess_data.<locals>.inner\u001b[0;34m(ax, data, *args, **kwargs)\u001b[0m\n\u001b[1;32m   1420\u001b[0m \u001b[38;5;129m@functools\u001b[39m\u001b[38;5;241m.\u001b[39mwraps(func)\n\u001b[1;32m   1421\u001b[0m \u001b[38;5;28;01mdef\u001b[39;00m \u001b[38;5;21minner\u001b[39m(ax, \u001b[38;5;241m*\u001b[39margs, data\u001b[38;5;241m=\u001b[39m\u001b[38;5;28;01mNone\u001b[39;00m, \u001b[38;5;241m*\u001b[39m\u001b[38;5;241m*\u001b[39mkwargs):\n\u001b[1;32m   1422\u001b[0m     \u001b[38;5;28;01mif\u001b[39;00m data \u001b[38;5;129;01mis\u001b[39;00m \u001b[38;5;28;01mNone\u001b[39;00m:\n\u001b[0;32m-> 1423\u001b[0m         \u001b[38;5;28;01mreturn\u001b[39;00m \u001b[43mfunc\u001b[49m\u001b[43m(\u001b[49m\u001b[43max\u001b[49m\u001b[43m,\u001b[49m\u001b[43m \u001b[49m\u001b[38;5;241;43m*\u001b[39;49m\u001b[38;5;28;43mmap\u001b[39;49m\u001b[43m(\u001b[49m\u001b[43msanitize_sequence\u001b[49m\u001b[43m,\u001b[49m\u001b[43m \u001b[49m\u001b[43margs\u001b[49m\u001b[43m)\u001b[49m\u001b[43m,\u001b[49m\u001b[43m \u001b[49m\u001b[38;5;241;43m*\u001b[39;49m\u001b[38;5;241;43m*\u001b[39;49m\u001b[43mkwargs\u001b[49m\u001b[43m)\u001b[49m\n\u001b[1;32m   1425\u001b[0m     bound \u001b[38;5;241m=\u001b[39m new_sig\u001b[38;5;241m.\u001b[39mbind(ax, \u001b[38;5;241m*\u001b[39margs, \u001b[38;5;241m*\u001b[39m\u001b[38;5;241m*\u001b[39mkwargs)\n\u001b[1;32m   1426\u001b[0m     auto_label \u001b[38;5;241m=\u001b[39m (bound\u001b[38;5;241m.\u001b[39marguments\u001b[38;5;241m.\u001b[39mget(label_namer)\n\u001b[1;32m   1427\u001b[0m                   \u001b[38;5;129;01mor\u001b[39;00m bound\u001b[38;5;241m.\u001b[39mkwargs\u001b[38;5;241m.\u001b[39mget(label_namer))\n",
      "File \u001b[0;32m~/miniforge3/envs/caipcoctubre/lib/python3.9/site-packages/matplotlib/axes/_axes.py:4512\u001b[0m, in \u001b[0;36mAxes.scatter\u001b[0;34m(self, x, y, s, c, marker, cmap, norm, vmin, vmax, alpha, linewidths, edgecolors, plotnonfinite, **kwargs)\u001b[0m\n\u001b[1;32m   4510\u001b[0m y \u001b[38;5;241m=\u001b[39m np\u001b[38;5;241m.\u001b[39mma\u001b[38;5;241m.\u001b[39mravel(y)\n\u001b[1;32m   4511\u001b[0m \u001b[38;5;28;01mif\u001b[39;00m x\u001b[38;5;241m.\u001b[39msize \u001b[38;5;241m!=\u001b[39m y\u001b[38;5;241m.\u001b[39msize:\n\u001b[0;32m-> 4512\u001b[0m     \u001b[38;5;28;01mraise\u001b[39;00m \u001b[38;5;167;01mValueError\u001b[39;00m(\u001b[38;5;124m\"\u001b[39m\u001b[38;5;124mx and y must be the same size\u001b[39m\u001b[38;5;124m\"\u001b[39m)\n\u001b[1;32m   4514\u001b[0m \u001b[38;5;28;01mif\u001b[39;00m s \u001b[38;5;129;01mis\u001b[39;00m \u001b[38;5;28;01mNone\u001b[39;00m:\n\u001b[1;32m   4515\u001b[0m     s \u001b[38;5;241m=\u001b[39m (\u001b[38;5;241m20\u001b[39m \u001b[38;5;28;01mif\u001b[39;00m mpl\u001b[38;5;241m.\u001b[39mrcParams[\u001b[38;5;124m'\u001b[39m\u001b[38;5;124m_internal.classic_mode\u001b[39m\u001b[38;5;124m'\u001b[39m] \u001b[38;5;28;01melse\u001b[39;00m\n\u001b[1;32m   4516\u001b[0m          mpl\u001b[38;5;241m.\u001b[39mrcParams[\u001b[38;5;124m'\u001b[39m\u001b[38;5;124mlines.markersize\u001b[39m\u001b[38;5;124m'\u001b[39m] \u001b[38;5;241m*\u001b[39m\u001b[38;5;241m*\u001b[39m \u001b[38;5;241m2.0\u001b[39m)\n",
      "\u001b[0;31mValueError\u001b[0m: x and y must be the same size"
     ]
    },
    {
     "data": {
      "image/png": "[encoded data removed]",
      "text/plain": [
       "<Figure size 640x480 with 1 Axes>"
      ]
     },
     "metadata": {},
     "output_type": "display_data"
    }
   ],
   "source": [
    "from sklearn.neighbors import KNeighborsRegressor\n",
    "from sklearn.metrics import mean_squared_error\n",
    "\n",
    "rmse_values = []\n",
    "\n",
    "for k in range(1,50):\n",
    "    knn = KNeighborsRegressor(n_neighbors=k, algorithm='brute')\n",
    "    knn.fit(train[['accommodates']], train['price'])\n",
    "    predictions = knn.predict(test[['accommodates']])\n",
    "    rmse = mean_squared_error(test['price'],  predictions)**0.5\n",
    "    rmse_values.append(rmse)\n",
    "    \n",
    "print (\"valores\", rmse_values)\n",
    "    \n"
   ]
  },
  {
   "cell_type": "code",
   "execution_count": 23,
   "id": "5b75ef14",
   "metadata": {},
   "outputs": [
    {
     "data": {
      "text/plain": [
       "<matplotlib.collections.PathCollection at 0x17c5cdb80>"
      ]
     },
     "execution_count": 23,
     "metadata": {},
     "output_type": "execute_result"
    },
    {
     "data": {
      "image/png": "[encoded data removed]",
      "text/plain": [
       "<Figure size 640x480 with 1 Axes>"
      ]
     },
     "metadata": {},
     "output_type": "display_data"
    }
   ],
   "source": [
    "plt.scatter(\n",
    "    range(1,50), \n",
    "    rmse_values\n",
    "    )"
   ]
  },
  {
   "cell_type": "code",
   "execution_count": 25,
   "id": "609c52f4",
   "metadata": {},
   "outputs": [
    {
     "data": {
      "text/html": [
       "<div>\n",
       "<style scoped>\n",
       "    .dataframe tbody tr th:only-of-type {\n",
       "        vertical-align: middle;\n",
       "    }\n",
       "\n",
       "    .dataframe tbody tr th {\n",
       "        vertical-align: top;\n",
       "    }\n",
       "\n",
       "    .dataframe thead th {\n",
       "        text-align: right;\n",
       "    }\n",
       "</style>\n",
       "<table border=\"1\" class=\"dataframe\">\n",
       "  <thead>\n",
       "    <tr style=\"text-align: right;\">\n",
       "      <th></th>\n",
       "      <th>accommodates</th>\n",
       "      <th>bedrooms</th>\n",
       "      <th>beds</th>\n",
       "      <th>price</th>\n",
       "      <th>number_of_reviews</th>\n",
       "    </tr>\n",
       "  </thead>\n",
       "  <tbody>\n",
       "    <tr>\n",
       "      <th>5558</th>\n",
       "      <td>4</td>\n",
       "      <td>2.0</td>\n",
       "      <td>2.0</td>\n",
       "      <td>125.0</td>\n",
       "      <td>100</td>\n",
       "    </tr>\n",
       "    <tr>\n",
       "      <th>7683</th>\n",
       "      <td>2</td>\n",
       "      <td>1.0</td>\n",
       "      <td>1.0</td>\n",
       "      <td>65.0</td>\n",
       "      <td>1</td>\n",
       "    </tr>\n",
       "    <tr>\n",
       "      <th>13789</th>\n",
       "      <td>3</td>\n",
       "      <td>1.0</td>\n",
       "      <td>2.0</td>\n",
       "      <td>108.0</td>\n",
       "      <td>50</td>\n",
       "    </tr>\n",
       "    <tr>\n",
       "      <th>2099</th>\n",
       "      <td>3</td>\n",
       "      <td>1.0</td>\n",
       "      <td>1.0</td>\n",
       "      <td>48.0</td>\n",
       "      <td>231</td>\n",
       "    </tr>\n",
       "    <tr>\n",
       "      <th>19930</th>\n",
       "      <td>2</td>\n",
       "      <td>1.0</td>\n",
       "      <td>1.0</td>\n",
       "      <td>43.0</td>\n",
       "      <td>4</td>\n",
       "    </tr>\n",
       "  </tbody>\n",
       "</table>\n",
       "</div>"
      ],
      "text/plain": [
       "       accommodates  bedrooms  beds  price  number_of_reviews\n",
       "5558              4       2.0   2.0  125.0                100\n",
       "7683              2       1.0   1.0   65.0                  1\n",
       "13789             3       1.0   2.0  108.0                 50\n",
       "2099              3       1.0   1.0   48.0                231\n",
       "19930             2       1.0   1.0   43.0                  4"
      ]
     },
     "execution_count": 25,
     "metadata": {},
     "output_type": "execute_result"
    }
   ],
   "source": [
    "madrid.head()"
   ]
  },
  {
   "cell_type": "code",
   "execution_count": 28,
   "id": "e5a3bf38",
   "metadata": {},
   "outputs": [],
   "source": [
    "# normalizarlos \n",
    "\n",
    "target = madrid['price'].copy()\n",
    "madrid = (madrid-madrid.mean())/madrid.std()\n",
    "madrid['price'] = target"
   ]
  },
  {
   "cell_type": "code",
   "execution_count": 30,
   "id": "584d7fd0",
   "metadata": {},
   "outputs": [
    {
     "data": {
      "text/html": [
       "<div>\n",
       "<style scoped>\n",
       "    .dataframe tbody tr th:only-of-type {\n",
       "        vertical-align: middle;\n",
       "    }\n",
       "\n",
       "    .dataframe tbody tr th {\n",
       "        vertical-align: top;\n",
       "    }\n",
       "\n",
       "    .dataframe thead th {\n",
       "        text-align: right;\n",
       "    }\n",
       "</style>\n",
       "<table border=\"1\" class=\"dataframe\">\n",
       "  <thead>\n",
       "    <tr style=\"text-align: right;\">\n",
       "      <th></th>\n",
       "      <th>accommodates</th>\n",
       "      <th>bedrooms</th>\n",
       "      <th>beds</th>\n",
       "      <th>price</th>\n",
       "      <th>number_of_reviews</th>\n",
       "    </tr>\n",
       "  </thead>\n",
       "  <tbody>\n",
       "    <tr>\n",
       "      <th>5558</th>\n",
       "      <td>0.586284</td>\n",
       "      <td>0.713334</td>\n",
       "      <td>0.091289</td>\n",
       "      <td>125.0</td>\n",
       "      <td>0.792258</td>\n",
       "    </tr>\n",
       "    <tr>\n",
       "      <th>7683</th>\n",
       "      <td>-0.559979</td>\n",
       "      <td>-0.502651</td>\n",
       "      <td>-0.674423</td>\n",
       "      <td>65.0</td>\n",
       "      <td>-0.521442</td>\n",
       "    </tr>\n",
       "    <tr>\n",
       "      <th>13789</th>\n",
       "      <td>0.013152</td>\n",
       "      <td>-0.502651</td>\n",
       "      <td>0.091289</td>\n",
       "      <td>108.0</td>\n",
       "      <td>0.128774</td>\n",
       "    </tr>\n",
       "    <tr>\n",
       "      <th>2099</th>\n",
       "      <td>0.013152</td>\n",
       "      <td>-0.502651</td>\n",
       "      <td>-0.674423</td>\n",
       "      <td>48.0</td>\n",
       "      <td>2.530589</td>\n",
       "    </tr>\n",
       "    <tr>\n",
       "      <th>19930</th>\n",
       "      <td>-0.559979</td>\n",
       "      <td>-0.502651</td>\n",
       "      <td>-0.674423</td>\n",
       "      <td>43.0</td>\n",
       "      <td>-0.481632</td>\n",
       "    </tr>\n",
       "  </tbody>\n",
       "</table>\n",
       "</div>"
      ],
      "text/plain": [
       "       accommodates  bedrooms      beds  price  number_of_reviews\n",
       "5558       0.586284  0.713334  0.091289  125.0           0.792258\n",
       "7683      -0.559979 -0.502651 -0.674423   65.0          -0.521442\n",
       "13789      0.013152 -0.502651  0.091289  108.0           0.128774\n",
       "2099       0.013152 -0.502651 -0.674423   48.0           2.530589\n",
       "19930     -0.559979 -0.502651 -0.674423   43.0          -0.481632"
      ]
     },
     "execution_count": 30,
     "metadata": {},
     "output_type": "execute_result"
    }
   ],
   "source": [
    "madrid.head()"
   ]
  },
  {
   "cell_type": "markdown",
   "id": "85d4db2f",
   "metadata": {},
   "source": [
    "# holdout validation\n",
    " - divir el conjunto en dos particiones\n",
    " - usamos A como train y B como test\n",
    " - usamos B como train y A como test\n",
    " - promediamos los errores"
   ]
  },
  {
   "cell_type": "code",
   "execution_count": 33,
   "id": "37b999e0",
   "metadata": {},
   "outputs": [],
   "source": []
  },
  {
   "cell_type": "code",
   "execution_count": 40,
   "id": "b96fc703",
   "metadata": {},
   "outputs": [
    {
     "name": "stdout",
     "output_type": "stream",
     "text": [
      "<class 'pandas.core.frame.DataFrame'>\n",
      "Int64Index: 19130 entries, 5558 to 15401\n",
      "Data columns (total 5 columns):\n",
      " #   Column             Non-Null Count  Dtype  \n",
      "---  ------             --------------  -----  \n",
      " 0   accommodates       19130 non-null  float64\n",
      " 1   bedrooms           17742 non-null  float64\n",
      " 2   beds               18797 non-null  float64\n",
      " 3   price              19130 non-null  float64\n",
      " 4   number_of_reviews  19130 non-null  float64\n",
      "dtypes: float64(5)\n",
      "memory usage: 896.7 KB\n"
     ]
    }
   ],
   "source": [
    "madrid.info()"
   ]
  },
  {
   "cell_type": "code",
   "execution_count": 44,
   "id": "f774e087",
   "metadata": {},
   "outputs": [],
   "source": [
    "madrid = madrid.dropna()"
   ]
  },
  {
   "cell_type": "code",
   "execution_count": 46,
   "id": "065e49ac",
   "metadata": {},
   "outputs": [],
   "source": [
    "split = math.trunc(len(madrid)/2)"
   ]
  },
  {
   "cell_type": "code",
   "execution_count": null,
   "id": "19de97d0",
   "metadata": {},
   "outputs": [],
   "source": []
  },
  {
   "cell_type": "code",
   "execution_count": 47,
   "id": "985cb3a3",
   "metadata": {},
   "outputs": [
    {
     "data": {
      "text/plain": [
       "8730"
      ]
     },
     "execution_count": 47,
     "metadata": {},
     "output_type": "execute_result"
    }
   ],
   "source": [
    "split"
   ]
  },
  {
   "cell_type": "code",
   "execution_count": 48,
   "id": "e3ff2d58",
   "metadata": {},
   "outputs": [],
   "source": [
    "A = madrid.iloc[:split].copy()\n",
    "B = madrid.iloc[split:].copy()\n"
   ]
  },
  {
   "cell_type": "code",
   "execution_count": 49,
   "id": "eff3fdcb",
   "metadata": {},
   "outputs": [
    {
     "data": {
      "text/plain": [
       "(8730, 5)"
      ]
     },
     "execution_count": 49,
     "metadata": {},
     "output_type": "execute_result"
    }
   ],
   "source": [
    "A.shape"
   ]
  },
  {
   "cell_type": "code",
   "execution_count": 50,
   "id": "0a34f02b",
   "metadata": {},
   "outputs": [
    {
     "data": {
      "text/html": [
       "<style>#sk-container-id-1 {color: black;background-color: white;}#sk-container-id-1 pre{padding: 0;}#sk-container-id-1 div.sk-toggleable {background-color: white;}#sk-container-id-1 label.sk-toggleable__label {cursor: pointer;display: block;width: 100%;margin-bottom: 0;padding: 0.3em;box-sizing: border-box;text-align: center;}#sk-container-id-1 label.sk-toggleable__label-arrow:before {content: \"▸\";float: left;margin-right: 0.25em;color: #696969;}#sk-container-id-1 label.sk-toggleable__label-arrow:hover:before {color: black;}#sk-container-id-1 div.sk-estimator:hover label.sk-toggleable__label-arrow:before {color: black;}#sk-container-id-1 div.sk-toggleable__content {max-height: 0;max-width: 0;overflow: hidden;text-align: left;background-color: #f0f8ff;}#sk-container-id-1 div.sk-toggleable__content pre {margin: 0.2em;color: black;border-radius: 0.25em;background-color: #f0f8ff;}#sk-container-id-1 input.sk-toggleable__control:checked~div.sk-toggleable__content {max-height: 200px;max-width: 100%;overflow: auto;}#sk-container-id-1 input.sk-toggleable__control:checked~label.sk-toggleable__label-arrow:before {content: \"▾\";}#sk-container-id-1 div.sk-estimator input.sk-toggleable__control:checked~label.sk-toggleable__label {background-color: #d4ebff;}#sk-container-id-1 div.sk-label input.sk-toggleable__control:checked~label.sk-toggleable__label {background-color: #d4ebff;}#sk-container-id-1 input.sk-hidden--visually {border: 0;clip: rect(1px 1px 1px 1px);clip: rect(1px, 1px, 1px, 1px);height: 1px;margin: -1px;overflow: hidden;padding: 0;position: absolute;width: 1px;}#sk-container-id-1 div.sk-estimator {font-family: monospace;background-color: #f0f8ff;border: 1px dotted black;border-radius: 0.25em;box-sizing: border-box;margin-bottom: 0.5em;}#sk-container-id-1 div.sk-estimator:hover {background-color: #d4ebff;}#sk-container-id-1 div.sk-parallel-item::after {content: \"\";width: 100%;border-bottom: 1px solid gray;flex-grow: 1;}#sk-container-id-1 div.sk-label:hover label.sk-toggleable__label {background-color: #d4ebff;}#sk-container-id-1 div.sk-serial::before {content: \"\";position: absolute;border-left: 1px solid gray;box-sizing: border-box;top: 0;bottom: 0;left: 50%;z-index: 0;}#sk-container-id-1 div.sk-serial {display: flex;flex-direction: column;align-items: center;background-color: white;padding-right: 0.2em;padding-left: 0.2em;position: relative;}#sk-container-id-1 div.sk-item {position: relative;z-index: 1;}#sk-container-id-1 div.sk-parallel {display: flex;align-items: stretch;justify-content: center;background-color: white;position: relative;}#sk-container-id-1 div.sk-item::before, #sk-container-id-1 div.sk-parallel-item::before {content: \"\";position: absolute;border-left: 1px solid gray;box-sizing: border-box;top: 0;bottom: 0;left: 50%;z-index: -1;}#sk-container-id-1 div.sk-parallel-item {display: flex;flex-direction: column;z-index: 1;position: relative;background-color: white;}#sk-container-id-1 div.sk-parallel-item:first-child::after {align-self: flex-end;width: 50%;}#sk-container-id-1 div.sk-parallel-item:last-child::after {align-self: flex-start;width: 50%;}#sk-container-id-1 div.sk-parallel-item:only-child::after {width: 0;}#sk-container-id-1 div.sk-dashed-wrapped {border: 1px dashed gray;margin: 0 0.4em 0.5em 0.4em;box-sizing: border-box;padding-bottom: 0.4em;background-color: white;}#sk-container-id-1 div.sk-label label {font-family: monospace;font-weight: bold;display: inline-block;line-height: 1.2em;}#sk-container-id-1 div.sk-label-container {text-align: center;}#sk-container-id-1 div.sk-container {/* jupyter's `normalize.less` sets `[hidden] { display: none; }` but bootstrap.min.css set `[hidden] { display: none !important; }` so we also need the `!important` here to be able to override the default hidden behavior on the sphinx rendered scikit-learn.org. See: https://github.com/scikit-learn/scikit-learn/issues/21755 */display: inline-block !important;position: relative;}#sk-container-id-1 div.sk-text-repr-fallback {display: none;}</style><div id=\"sk-container-id-1\" class=\"sk-top-container\"><div class=\"sk-text-repr-fallback\"><pre>KNeighborsRegressor()</pre><b>In a Jupyter environment, please rerun this cell to show the HTML representation or trust the notebook. <br />On GitHub, the HTML representation is unable to render, please try loading this page with nbviewer.org.</b></div><div class=\"sk-container\" hidden><div class=\"sk-item\"><div class=\"sk-estimator sk-toggleable\"><input class=\"sk-toggleable__control sk-hidden--visually\" id=\"sk-estimator-id-1\" type=\"checkbox\" checked><label for=\"sk-estimator-id-1\" class=\"sk-toggleable__label sk-toggleable__label-arrow\">KNeighborsRegressor</label><div class=\"sk-toggleable__content\"><pre>KNeighborsRegressor()</pre></div></div></div></div></div>"
      ],
      "text/plain": [
       "KNeighborsRegressor()"
      ]
     },
     "execution_count": 50,
     "metadata": {},
     "output_type": "execute_result"
    }
   ],
   "source": [
    "knn1 = KNeighborsRegressor()\n",
    "knn1.fit(\n",
    "    A[['accommodates','bedrooms','beds','number_of_reviews']],\n",
    "    A['price']\n",
    ")"
   ]
  },
  {
   "cell_type": "code",
   "execution_count": 55,
   "id": "915b1e96",
   "metadata": {},
   "outputs": [],
   "source": [
    "pred1= knn1.predict(B[['accommodates','bedrooms','beds','number_of_reviews']])\n",
    "rmse1 = mean_squared_error(B['price'], pred1)**0.5"
   ]
  },
  {
   "cell_type": "code",
   "execution_count": 56,
   "id": "1d25072b",
   "metadata": {},
   "outputs": [
    {
     "data": {
      "text/plain": [
       "53.29043451859677"
      ]
     },
     "execution_count": 56,
     "metadata": {},
     "output_type": "execute_result"
    }
   ],
   "source": [
    "rmse1"
   ]
  },
  {
   "cell_type": "code",
   "execution_count": 61,
   "id": "8a71e3bc",
   "metadata": {},
   "outputs": [],
   "source": [
    "knn2 = KNeighborsRegressor()\n",
    "knn2.fit(\n",
    "    B[['accommodates','bedrooms','beds','number_of_reviews']],\n",
    "    B['price']\n",
    ")\n",
    "pred2= knn2.predict(A[['accommodates','bedrooms','beds','number_of_reviews']])\n",
    "rmse2 = mean_squared_error(A['price'], pred2)**0.5"
   ]
  },
  {
   "cell_type": "code",
   "execution_count": 62,
   "id": "70a5b778",
   "metadata": {},
   "outputs": [
    {
     "data": {
      "text/plain": [
       "51.44266180757755"
      ]
     },
     "execution_count": 62,
     "metadata": {},
     "output_type": "execute_result"
    }
   ],
   "source": [
    "rmse2"
   ]
  },
  {
   "cell_type": "code",
   "execution_count": 63,
   "id": "5b4a20ab",
   "metadata": {},
   "outputs": [],
   "source": [
    "rmse = (rmse1+rmse2)/2"
   ]
  },
  {
   "cell_type": "code",
   "execution_count": 64,
   "id": "0b852c5c",
   "metadata": {},
   "outputs": [
    {
     "data": {
      "text/plain": [
       "52.36654816308716"
      ]
     },
     "execution_count": 64,
     "metadata": {},
     "output_type": "execute_result"
    }
   ],
   "source": [
    "rmse"
   ]
  },
  {
   "cell_type": "markdown",
   "id": "21d5d1a5",
   "metadata": {},
   "source": [
    "# K-fold validation"
   ]
  },
  {
   "cell_type": "code",
   "execution_count": 67,
   "id": "f481fc2b",
   "metadata": {},
   "outputs": [],
   "source": [
    "k_split = math.trunc(len(madrid)/5)"
   ]
  },
  {
   "cell_type": "code",
   "execution_count": 68,
   "id": "29328d31",
   "metadata": {},
   "outputs": [
    {
     "data": {
      "text/plain": [
       "3492"
      ]
     },
     "execution_count": 68,
     "metadata": {},
     "output_type": "execute_result"
    }
   ],
   "source": [
    "k_split"
   ]
  },
  {
   "cell_type": "code",
   "execution_count": 69,
   "id": "4f96c24a",
   "metadata": {},
   "outputs": [],
   "source": [
    "# vamos a generar una nueva columna que indique a qué fold pertenece cada muestra"
   ]
  },
  {
   "cell_type": "code",
   "execution_count": 79,
   "id": "e3c2e99d",
   "metadata": {},
   "outputs": [],
   "source": [
    "for i in range(0,5):\n",
    "    madrid.loc[madrid.index[(k_split*i):(k_split*(i+1) if i<4 else len(madrid))], 'fold'] = i+1"
   ]
  },
  {
   "cell_type": "code",
   "execution_count": 78,
   "id": "f51cdb55",
   "metadata": {},
   "outputs": [
    {
     "data": {
      "text/html": [
       "<div>\n",
       "<style scoped>\n",
       "    .dataframe tbody tr th:only-of-type {\n",
       "        vertical-align: middle;\n",
       "    }\n",
       "\n",
       "    .dataframe tbody tr th {\n",
       "        vertical-align: top;\n",
       "    }\n",
       "\n",
       "    .dataframe thead th {\n",
       "        text-align: right;\n",
       "    }\n",
       "</style>\n",
       "<table border=\"1\" class=\"dataframe\">\n",
       "  <thead>\n",
       "    <tr style=\"text-align: right;\">\n",
       "      <th></th>\n",
       "      <th>accommodates</th>\n",
       "      <th>bedrooms</th>\n",
       "      <th>beds</th>\n",
       "      <th>price</th>\n",
       "      <th>number_of_reviews</th>\n",
       "      <th>fold</th>\n",
       "    </tr>\n",
       "  </thead>\n",
       "  <tbody>\n",
       "    <tr>\n",
       "      <th>10261</th>\n",
       "      <td>-1.133111</td>\n",
       "      <td>-0.502651</td>\n",
       "      <td>-0.674423</td>\n",
       "      <td>28.0</td>\n",
       "      <td>-0.136620</td>\n",
       "      <td>5.0</td>\n",
       "    </tr>\n",
       "    <tr>\n",
       "      <th>16628</th>\n",
       "      <td>0.586284</td>\n",
       "      <td>0.713334</td>\n",
       "      <td>0.091289</td>\n",
       "      <td>190.0</td>\n",
       "      <td>-0.521442</td>\n",
       "      <td>5.0</td>\n",
       "    </tr>\n",
       "    <tr>\n",
       "      <th>4421</th>\n",
       "      <td>-1.133111</td>\n",
       "      <td>-0.502651</td>\n",
       "      <td>-0.674423</td>\n",
       "      <td>18.0</td>\n",
       "      <td>0.088965</td>\n",
       "      <td>5.0</td>\n",
       "    </tr>\n",
       "    <tr>\n",
       "      <th>16444</th>\n",
       "      <td>0.586284</td>\n",
       "      <td>-0.502651</td>\n",
       "      <td>0.091289</td>\n",
       "      <td>59.0</td>\n",
       "      <td>-0.348935</td>\n",
       "      <td>5.0</td>\n",
       "    </tr>\n",
       "    <tr>\n",
       "      <th>15401</th>\n",
       "      <td>-0.559979</td>\n",
       "      <td>-0.502651</td>\n",
       "      <td>-0.674423</td>\n",
       "      <td>71.0</td>\n",
       "      <td>0.725910</td>\n",
       "      <td>5.0</td>\n",
       "    </tr>\n",
       "  </tbody>\n",
       "</table>\n",
       "</div>"
      ],
      "text/plain": [
       "       accommodates  bedrooms      beds  price  number_of_reviews  fold\n",
       "10261     -1.133111 -0.502651 -0.674423   28.0          -0.136620   5.0\n",
       "16628      0.586284  0.713334  0.091289  190.0          -0.521442   5.0\n",
       "4421      -1.133111 -0.502651 -0.674423   18.0           0.088965   5.0\n",
       "16444      0.586284 -0.502651  0.091289   59.0          -0.348935   5.0\n",
       "15401     -0.559979 -0.502651 -0.674423   71.0           0.725910   5.0"
      ]
     },
     "execution_count": 78,
     "metadata": {},
     "output_type": "execute_result"
    }
   ],
   "source": [
    "madrid.tail()"
   ]
  },
  {
   "cell_type": "code",
   "execution_count": 82,
   "id": "fb71ba31",
   "metadata": {},
   "outputs": [
    {
     "data": {
      "text/plain": [
       "3493"
      ]
     },
     "execution_count": 82,
     "metadata": {},
     "output_type": "execute_result"
    }
   ],
   "source": [
    "(madrid['fold'] == 5).sum()"
   ]
  },
  {
   "cell_type": "code",
   "execution_count": 83,
   "id": "f7bcd80e",
   "metadata": {},
   "outputs": [
    {
     "data": {
      "text/plain": [
       "5.0    3493\n",
       "1.0    3492\n",
       "2.0    3492\n",
       "3.0    3492\n",
       "4.0    3492\n",
       "Name: fold, dtype: int64"
      ]
     },
     "execution_count": 83,
     "metadata": {},
     "output_type": "execute_result"
    }
   ],
   "source": [
    "madrid['fold'].value_counts()"
   ]
  },
  {
   "cell_type": "markdown",
   "id": "39254354",
   "metadata": {},
   "source": [
    "Un modelo tiene dos tipos de errores:\n",
    "\n",
    "- Sesgo\n",
    "- Varianza\n",
    "\n",
    "El sesgo (*bias*) resulta de las malas suposiciones sobre el algoritmo de aprendizaje. O hemos tomado mal los datos o hemos elegido mal las variables\n",
    "\n",
    "Varianza: error que viene dado por la variabilidad de los valores predecidos de un modelo.\n",
    "\n",
    "Cuando hacemos un k-fold la desviación estandar del RMSE puede ser un indicador de varianza del modelo. LA media del RMSE es un indicador del sesgo.\n"
   ]
  },
  {
   "cell_type": "code",
   "execution_count": 85,
   "id": "817ed7cd",
   "metadata": {},
   "outputs": [
    {
     "data": {
      "text/html": [
       "<div>\n",
       "<style scoped>\n",
       "    .dataframe tbody tr th:only-of-type {\n",
       "        vertical-align: middle;\n",
       "    }\n",
       "\n",
       "    .dataframe tbody tr th {\n",
       "        vertical-align: top;\n",
       "    }\n",
       "\n",
       "    .dataframe thead th {\n",
       "        text-align: right;\n",
       "    }\n",
       "</style>\n",
       "<table border=\"1\" class=\"dataframe\">\n",
       "  <thead>\n",
       "    <tr style=\"text-align: right;\">\n",
       "      <th></th>\n",
       "      <th>accommodates</th>\n",
       "      <th>bedrooms</th>\n",
       "      <th>beds</th>\n",
       "      <th>price</th>\n",
       "      <th>number_of_reviews</th>\n",
       "      <th>fold</th>\n",
       "    </tr>\n",
       "  </thead>\n",
       "  <tbody>\n",
       "    <tr>\n",
       "      <th>5558</th>\n",
       "      <td>0.586284</td>\n",
       "      <td>0.713334</td>\n",
       "      <td>0.091289</td>\n",
       "      <td>125.0</td>\n",
       "      <td>0.792258</td>\n",
       "      <td>1.0</td>\n",
       "    </tr>\n",
       "    <tr>\n",
       "      <th>7683</th>\n",
       "      <td>-0.559979</td>\n",
       "      <td>-0.502651</td>\n",
       "      <td>-0.674423</td>\n",
       "      <td>65.0</td>\n",
       "      <td>-0.521442</td>\n",
       "      <td>1.0</td>\n",
       "    </tr>\n",
       "    <tr>\n",
       "      <th>13789</th>\n",
       "      <td>0.013152</td>\n",
       "      <td>-0.502651</td>\n",
       "      <td>0.091289</td>\n",
       "      <td>108.0</td>\n",
       "      <td>0.128774</td>\n",
       "      <td>1.0</td>\n",
       "    </tr>\n",
       "    <tr>\n",
       "      <th>2099</th>\n",
       "      <td>0.013152</td>\n",
       "      <td>-0.502651</td>\n",
       "      <td>-0.674423</td>\n",
       "      <td>48.0</td>\n",
       "      <td>2.530589</td>\n",
       "      <td>1.0</td>\n",
       "    </tr>\n",
       "    <tr>\n",
       "      <th>19930</th>\n",
       "      <td>-0.559979</td>\n",
       "      <td>-0.502651</td>\n",
       "      <td>-0.674423</td>\n",
       "      <td>43.0</td>\n",
       "      <td>-0.481632</td>\n",
       "      <td>1.0</td>\n",
       "    </tr>\n",
       "    <tr>\n",
       "      <th>...</th>\n",
       "      <td>...</td>\n",
       "      <td>...</td>\n",
       "      <td>...</td>\n",
       "      <td>...</td>\n",
       "      <td>...</td>\n",
       "      <td>...</td>\n",
       "    </tr>\n",
       "    <tr>\n",
       "      <th>7160</th>\n",
       "      <td>1.732547</td>\n",
       "      <td>-0.502651</td>\n",
       "      <td>0.857002</td>\n",
       "      <td>122.0</td>\n",
       "      <td>0.288010</td>\n",
       "      <td>1.0</td>\n",
       "    </tr>\n",
       "    <tr>\n",
       "      <th>17783</th>\n",
       "      <td>-0.559979</td>\n",
       "      <td>-0.502651</td>\n",
       "      <td>-0.674423</td>\n",
       "      <td>85.0</td>\n",
       "      <td>-0.521442</td>\n",
       "      <td>1.0</td>\n",
       "    </tr>\n",
       "    <tr>\n",
       "      <th>19710</th>\n",
       "      <td>0.586284</td>\n",
       "      <td>-0.502651</td>\n",
       "      <td>-0.674423</td>\n",
       "      <td>217.0</td>\n",
       "      <td>-0.534711</td>\n",
       "      <td>1.0</td>\n",
       "    </tr>\n",
       "    <tr>\n",
       "      <th>18751</th>\n",
       "      <td>0.586284</td>\n",
       "      <td>-0.502651</td>\n",
       "      <td>0.091289</td>\n",
       "      <td>74.0</td>\n",
       "      <td>-0.322396</td>\n",
       "      <td>1.0</td>\n",
       "    </tr>\n",
       "    <tr>\n",
       "      <th>235</th>\n",
       "      <td>0.586284</td>\n",
       "      <td>0.713334</td>\n",
       "      <td>0.857002</td>\n",
       "      <td>177.0</td>\n",
       "      <td>0.035886</td>\n",
       "      <td>1.0</td>\n",
       "    </tr>\n",
       "  </tbody>\n",
       "</table>\n",
       "<p>3492 rows × 6 columns</p>\n",
       "</div>"
      ],
      "text/plain": [
       "       accommodates  bedrooms      beds  price  number_of_reviews  fold\n",
       "5558       0.586284  0.713334  0.091289  125.0           0.792258   1.0\n",
       "7683      -0.559979 -0.502651 -0.674423   65.0          -0.521442   1.0\n",
       "13789      0.013152 -0.502651  0.091289  108.0           0.128774   1.0\n",
       "2099       0.013152 -0.502651 -0.674423   48.0           2.530589   1.0\n",
       "19930     -0.559979 -0.502651 -0.674423   43.0          -0.481632   1.0\n",
       "...             ...       ...       ...    ...                ...   ...\n",
       "7160       1.732547 -0.502651  0.857002  122.0           0.288010   1.0\n",
       "17783     -0.559979 -0.502651 -0.674423   85.0          -0.521442   1.0\n",
       "19710      0.586284 -0.502651 -0.674423  217.0          -0.534711   1.0\n",
       "18751      0.586284 -0.502651  0.091289   74.0          -0.322396   1.0\n",
       "235        0.586284  0.713334  0.857002  177.0           0.035886   1.0\n",
       "\n",
       "[3492 rows x 6 columns]"
      ]
     },
     "execution_count": 85,
     "metadata": {},
     "output_type": "execute_result"
    }
   ],
   "source": [
    "madrid[madrid['fold'] == 1]"
   ]
  },
  {
   "cell_type": "code",
   "execution_count": 86,
   "id": "dedd8e01",
   "metadata": {},
   "outputs": [
    {
     "data": {
      "text/html": [
       "<div>\n",
       "<style scoped>\n",
       "    .dataframe tbody tr th:only-of-type {\n",
       "        vertical-align: middle;\n",
       "    }\n",
       "\n",
       "    .dataframe tbody tr th {\n",
       "        vertical-align: top;\n",
       "    }\n",
       "\n",
       "    .dataframe thead th {\n",
       "        text-align: right;\n",
       "    }\n",
       "</style>\n",
       "<table border=\"1\" class=\"dataframe\">\n",
       "  <thead>\n",
       "    <tr style=\"text-align: right;\">\n",
       "      <th></th>\n",
       "      <th>accommodates</th>\n",
       "      <th>bedrooms</th>\n",
       "      <th>beds</th>\n",
       "      <th>price</th>\n",
       "      <th>number_of_reviews</th>\n",
       "      <th>fold</th>\n",
       "    </tr>\n",
       "  </thead>\n",
       "  <tbody>\n",
       "    <tr>\n",
       "      <th>10464</th>\n",
       "      <td>-0.559979</td>\n",
       "      <td>-0.502651</td>\n",
       "      <td>-0.674423</td>\n",
       "      <td>91.0</td>\n",
       "      <td>-0.534711</td>\n",
       "      <td>2.0</td>\n",
       "    </tr>\n",
       "    <tr>\n",
       "      <th>19093</th>\n",
       "      <td>-1.133111</td>\n",
       "      <td>-0.502651</td>\n",
       "      <td>-0.674423</td>\n",
       "      <td>35.0</td>\n",
       "      <td>-0.534711</td>\n",
       "      <td>2.0</td>\n",
       "    </tr>\n",
       "    <tr>\n",
       "      <th>16421</th>\n",
       "      <td>0.586284</td>\n",
       "      <td>-0.502651</td>\n",
       "      <td>0.091289</td>\n",
       "      <td>114.0</td>\n",
       "      <td>-0.269317</td>\n",
       "      <td>2.0</td>\n",
       "    </tr>\n",
       "    <tr>\n",
       "      <th>15576</th>\n",
       "      <td>0.586284</td>\n",
       "      <td>-0.502651</td>\n",
       "      <td>1.622714</td>\n",
       "      <td>69.0</td>\n",
       "      <td>-0.494902</td>\n",
       "      <td>2.0</td>\n",
       "    </tr>\n",
       "    <tr>\n",
       "      <th>8009</th>\n",
       "      <td>-0.559979</td>\n",
       "      <td>-0.502651</td>\n",
       "      <td>-0.674423</td>\n",
       "      <td>200.0</td>\n",
       "      <td>-0.428554</td>\n",
       "      <td>2.0</td>\n",
       "    </tr>\n",
       "    <tr>\n",
       "      <th>...</th>\n",
       "      <td>...</td>\n",
       "      <td>...</td>\n",
       "      <td>...</td>\n",
       "      <td>...</td>\n",
       "      <td>...</td>\n",
       "      <td>...</td>\n",
       "    </tr>\n",
       "    <tr>\n",
       "      <th>10261</th>\n",
       "      <td>-1.133111</td>\n",
       "      <td>-0.502651</td>\n",
       "      <td>-0.674423</td>\n",
       "      <td>28.0</td>\n",
       "      <td>-0.136620</td>\n",
       "      <td>5.0</td>\n",
       "    </tr>\n",
       "    <tr>\n",
       "      <th>16628</th>\n",
       "      <td>0.586284</td>\n",
       "      <td>0.713334</td>\n",
       "      <td>0.091289</td>\n",
       "      <td>190.0</td>\n",
       "      <td>-0.521442</td>\n",
       "      <td>5.0</td>\n",
       "    </tr>\n",
       "    <tr>\n",
       "      <th>4421</th>\n",
       "      <td>-1.133111</td>\n",
       "      <td>-0.502651</td>\n",
       "      <td>-0.674423</td>\n",
       "      <td>18.0</td>\n",
       "      <td>0.088965</td>\n",
       "      <td>5.0</td>\n",
       "    </tr>\n",
       "    <tr>\n",
       "      <th>16444</th>\n",
       "      <td>0.586284</td>\n",
       "      <td>-0.502651</td>\n",
       "      <td>0.091289</td>\n",
       "      <td>59.0</td>\n",
       "      <td>-0.348935</td>\n",
       "      <td>5.0</td>\n",
       "    </tr>\n",
       "    <tr>\n",
       "      <th>15401</th>\n",
       "      <td>-0.559979</td>\n",
       "      <td>-0.502651</td>\n",
       "      <td>-0.674423</td>\n",
       "      <td>71.0</td>\n",
       "      <td>0.725910</td>\n",
       "      <td>5.0</td>\n",
       "    </tr>\n",
       "  </tbody>\n",
       "</table>\n",
       "<p>13969 rows × 6 columns</p>\n",
       "</div>"
      ],
      "text/plain": [
       "       accommodates  bedrooms      beds  price  number_of_reviews  fold\n",
       "10464     -0.559979 -0.502651 -0.674423   91.0          -0.534711   2.0\n",
       "19093     -1.133111 -0.502651 -0.674423   35.0          -0.534711   2.0\n",
       "16421      0.586284 -0.502651  0.091289  114.0          -0.269317   2.0\n",
       "15576      0.586284 -0.502651  1.622714   69.0          -0.494902   2.0\n",
       "8009      -0.559979 -0.502651 -0.674423  200.0          -0.428554   2.0\n",
       "...             ...       ...       ...    ...                ...   ...\n",
       "10261     -1.133111 -0.502651 -0.674423   28.0          -0.136620   5.0\n",
       "16628      0.586284  0.713334  0.091289  190.0          -0.521442   5.0\n",
       "4421      -1.133111 -0.502651 -0.674423   18.0           0.088965   5.0\n",
       "16444      0.586284 -0.502651  0.091289   59.0          -0.348935   5.0\n",
       "15401     -0.559979 -0.502651 -0.674423   71.0           0.725910   5.0\n",
       "\n",
       "[13969 rows x 6 columns]"
      ]
     },
     "execution_count": 86,
     "metadata": {},
     "output_type": "execute_result"
    }
   ],
   "source": [
    "madrid[madrid['fold'] != 1]"
   ]
  },
  {
   "cell_type": "code",
   "execution_count": 89,
   "id": "331f0f4a",
   "metadata": {},
   "outputs": [],
   "source": [
    "rmse_list = []\n",
    "\n",
    "for i in range(1,6):\n",
    "    knn = KNeighborsRegressor()\n",
    "    knn.fit(madrid[madrid['fold'] != i][['accommodates', 'bedrooms']],madrid[madrid['fold'] != i]['price'])\n",
    "    pred = knn.predict(madrid[madrid['fold'] == i][['accommodates', 'bedrooms']])\n",
    "    rmse = mean_squared_error(madrid[madrid['fold'] == i]['price'], pred)**0.5\n",
    "    rmse_list.append(rmse)"
   ]
  },
  {
   "cell_type": "code",
   "execution_count": null,
   "id": "20e81d50",
   "metadata": {},
   "outputs": [],
   "source": []
  },
  {
   "cell_type": "code",
   "execution_count": 90,
   "id": "092f2aaf",
   "metadata": {},
   "outputs": [
    {
     "data": {
      "text/plain": [
       "[53.911238831936,\n",
       " 56.30739043561651,\n",
       " 58.69006269664077,\n",
       " 54.763858367321596,\n",
       " 57.46748632024839]"
      ]
     },
     "execution_count": 90,
     "metadata": {},
     "output_type": "execute_result"
    }
   ],
   "source": [
    "rmse_list"
   ]
  },
  {
   "cell_type": "code",
   "execution_count": 91,
   "id": "c07ca126",
   "metadata": {},
   "outputs": [
    {
     "data": {
      "text/plain": [
       "56.22800733035266"
      ]
     },
     "execution_count": 91,
     "metadata": {},
     "output_type": "execute_result"
    }
   ],
   "source": [
    "np.mean(rmse_list) # sesgo"
   ]
  },
  {
   "cell_type": "code",
   "execution_count": 93,
   "id": "d6045546",
   "metadata": {},
   "outputs": [
    {
     "data": {
      "text/plain": [
       "1.738704973919561"
      ]
     },
     "execution_count": 93,
     "metadata": {},
     "output_type": "execute_result"
    }
   ],
   "source": [
    "np.std(rmse_list) # varianza"
   ]
  },
  {
   "cell_type": "code",
   "execution_count": null,
   "id": "697c6128",
   "metadata": {},
   "outputs": [],
   "source": []
  },
  {
   "cell_type": "code",
   "execution_count": null,
   "id": "e667bc29",
   "metadata": {},
   "outputs": [],
   "source": []
  },
  {
   "cell_type": "code",
   "execution_count": null,
   "id": "e1909b4d",
   "metadata": {},
   "outputs": [],
   "source": []
  },
  {
   "cell_type": "code",
   "execution_count": null,
   "id": "66bc7597",
   "metadata": {},
   "outputs": [],
   "source": []
  },
  {
   "cell_type": "code",
   "execution_count": null,
   "id": "29e371da",
   "metadata": {},
   "outputs": [],
   "source": []
  },
  {
   "cell_type": "code",
   "execution_count": null,
   "id": "03c23043",
   "metadata": {},
   "outputs": [],
   "source": []
  },
  {
   "cell_type": "code",
   "execution_count": null,
   "id": "54fad796",
   "metadata": {},
   "outputs": [],
   "source": []
  },
  {
   "cell_type": "code",
   "execution_count": null,
   "id": "e9621d56",
   "metadata": {},
   "outputs": [],
   "source": []
  },
  {
   "cell_type": "code",
   "execution_count": null,
   "id": "2fa117d0",
   "metadata": {},
   "outputs": [],
   "source": []
  },
  {
   "cell_type": "code",
   "execution_count": null,
   "id": "817049d6",
   "metadata": {},
   "outputs": [],
   "source": []
  }
 ],
 "metadata": {
  "kernelspec": {
   "display_name": "Python 3 (ipykernel)",
   "language": "python",
   "name": "python3"
  },
  "language_info": {
   "codemirror_mode": {
    "name": "ipython",
    "version": 3
   },
   "file_extension": ".py",
   "mimetype": "text/x-python",
   "name": "python",
   "nbconvert_exporter": "python",
   "pygments_lexer": "ipython3",
   "version": "3.9.13"
  }
 },
 "nbformat": 4,
 "nbformat_minor": 5
}
