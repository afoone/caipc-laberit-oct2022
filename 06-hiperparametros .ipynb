{
 "cells": [
  {
   "cell_type": "code",
   "execution_count": 1,
   "id": "76450eeb",
   "metadata": {},
   "outputs": [],
   "source": [
    "import pandas as pd\n",
    "import numpy as np\n",
    "import math\n"
   ]
  },
  {
   "cell_type": "code",
   "execution_count": 2,
   "id": "a6650469",
   "metadata": {},
   "outputs": [],
   "source": [
    "madrid = pd.read_csv(\n",
    "    'data/airbnb-madrid.csv'\n",
    ")"
   ]
  },
  {
   "cell_type": "code",
   "execution_count": 3,
   "id": "6be486d7",
   "metadata": {},
   "outputs": [],
   "source": [
    "np.random.seed(39)\n",
    "madrid = madrid.iloc[np.random.permutation(len(madrid))]"
   ]
  },
  {
   "cell_type": "code",
   "execution_count": null,
   "id": "292acf95",
   "metadata": {},
   "outputs": [],
   "source": [
    "drop_columns. = ['id', 'listing_url', 'scrape_id', 'last_scraped', 'description',\n",
    "       'neighborhood_overview', 'picture_url', 'host_id', 'host_url',\n",
    "       'host_name', 'host_since', 'host_location', 'host_about',\n",
    "       'host_response_time', 'host_response_rate', 'host_acceptance_rate',\n",
    "       'host_is_superhost', 'host_thumbnail_url', 'host_picture_url',\n",
    "       'host_neighbourhood', 'host_listings_count',\n",
    "       'host_total_listings_count', 'host_verifications',\n",
    "       'host_has_profile_pic', 'host_identity_verified', \n",
    "       'neighbourhood_cleansed', 'neighbourhood_group_cleansed', 'latitude',\n",
    "       'longitude', 'property_type', 'room_type',\n",
    "       'bathrooms_text',  'amenities', \n",
    "       'minimum_nights', 'maximum_nights', 'minimum_minimum_nights',\n",
    "       'maximum_minimum_nights', 'minimum_maximum_nights',\n",
    "       'maximum_maximum_nights', 'minimum_nights_avg_ntm',\n",
    "       'maximum_nights_avg_ntm', 'calendar_updated', 'has_availability',\n",
    "       'availability_30', 'availability_60', 'availability_90',\n",
    "       'availability_365', 'calendar_last_scraped', \n",
    "       'number_of_reviews_ltm', 'number_of_reviews_l30d', 'first_review',\n",
    "       'last_review', 'review_scores_rating', 'review_scores_accuracy',\n",
    "       'review_scores_cleanliness', 'review_scores_check in',\n",
    "       'review_scores_communication', 'review_scores_location',\n",
    "       'review_scores_value', 'license',\n",
    "       'calculated_host_listings_count',\n",
    "       'calculated_host_listings_count_entire_homes',\n",
    "       'calculated_host_listings_count_private_rooms',\n",
    "       'calculated_host_listings_count_shared_rooms','bathrooms', 'name', \n",
    "       'neighbourhood', 'instant_bookable', 'reviews_per_month' ]\n"
   ]
  }
 ],
 "metadata": {
  "kernelspec": {
   "display_name": "Python 3 (ipykernel)",
   "language": "python",
   "name": "python3"
  },
  "language_info": {
   "codemirror_mode": {
    "name": "ipython",
    "version": 3
   },
   "file_extension": ".py",
   "mimetype": "text/x-python",
   "name": "python",
   "nbconvert_exporter": "python",
   "pygments_lexer": "ipython3",
   "version": "3.9.13"
  }
 },
 "nbformat": 4,
 "nbformat_minor": 5
}
