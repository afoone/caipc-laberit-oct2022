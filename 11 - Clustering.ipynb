{
 "cells": [
  {
   "cell_type": "markdown",
   "id": "c4d3f6fd",
   "metadata": {},
   "source": [
    "Algoritmo no supervisado - no va etiquetado - no necesita datos históricos"
   ]
  },
  {
   "cell_type": "code",
   "execution_count": 1,
   "id": "22040e84",
   "metadata": {},
   "outputs": [],
   "source": [
    "import pandas as pd\n"
   ]
  },
  {
   "cell_type": "code",
   "execution_count": null,
   "id": "481df235",
   "metadata": {},
   "outputs": [],
   "source": []
  }
 ],
 "metadata": {
  "kernelspec": {
   "display_name": "Python 3 (ipykernel)",
   "language": "python",
   "name": "python3"
  },
  "language_info": {
   "codemirror_mode": {
    "name": "ipython",
    "version": 3
   },
   "file_extension": ".py",
   "mimetype": "text/x-python",
   "name": "python",
   "nbconvert_exporter": "python",
   "pygments_lexer": "ipython3",
   "version": "3.9.13"
  }
 },
 "nbformat": 4,
 "nbformat_minor": 5
}
